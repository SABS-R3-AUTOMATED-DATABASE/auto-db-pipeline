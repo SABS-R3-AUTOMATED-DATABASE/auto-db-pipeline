{
 "cells": [
  {
   "cell_type": "code",
   "execution_count": 1,
   "metadata": {},
   "outputs": [
    {
     "name": "stdout",
     "output_type": "stream",
     "text": [
      "WARNING:paperscraper.load_dumps: No dump found for biorxiv. Skipping entry.\n",
      "WARNING:paperscraper.load_dumps: No dump found for chemrxiv. Skipping entry.\n",
      "WARNING:paperscraper.load_dumps: No dump found for medrxiv. Skipping entry.\n",
      "WARNING:paperscraper.load_dumps: No dumps found for either biorxiv or medrxiv. Consider using paperscraper.get_dumps.* to fetch the dumps.\n"
     ]
    }
   ],
   "source": [
    "from paperscraper.pubmed import get_query_from_keywords_and_date\n",
    "from paperscraper.pubmed import get_pubmed_papers"
   ]
  },
  {
   "cell_type": "code",
   "execution_count": 2,
   "metadata": {},
   "outputs": [],
   "source": [
    "\n",
    "KEYWORDS = [\n",
    "            ['antibody', 'antibodies', 'nanobody', 'immunoglobulin', 'MAb', 'nanobodies'],\n",
    "            ['neutralizing', 'neutralize', 'neutralization', 'bind', 'binding',\n",
    "                'inhibit', 'targeting'],\n",
    "            ['heavy chain', 'complementarity determining region', 'gene',\n",
    "                'epitope', 'receptor-binding domain', 'rbd', 'spike protein', 'VHH']\n",
    "            ]\n",
    "disease_keywords = ['SARS-CoV-2', 'COVID-19', 'coronavirus', 'SARS-CoV', 'MERS-CoV', 'SARS']\n",
    "KEYWORDS.insert(0, disease_keywords)\n",
    "\n",
    "\n",
    "DATEFORMAT = \"%Y_%m_%d\"\n",
    "FIELDS = [\"title\", \"authors\", \"date\", \"abstract\", \"journal\", \"doi\"]\n",
    "START_DATE = \"None\"\n",
    "END_DATE = \"None\""
   ]
  },
  {
   "cell_type": "code",
   "execution_count": 4,
   "metadata": {},
   "outputs": [
    {
     "data": {
      "text/plain": [
       "[['SARS-CoV-2', 'COVID-19', 'coronavirus', 'SARS-CoV', 'MERS-CoV', 'SARS'],\n",
       " ['antibody', 'antibodies', 'nanobody', 'immunoglobulin', 'MAb', 'nanobodies'],\n",
       " ['neutralizing',\n",
       "  'neutralize',\n",
       "  'neutralization',\n",
       "  'bind',\n",
       "  'binding',\n",
       "  'inhibit',\n",
       "  'targeting'],\n",
       " ['heavy chain',\n",
       "  'complementarity determining region',\n",
       "  'gene',\n",
       "  'epitope',\n",
       "  'receptor-binding domain',\n",
       "  'rbd',\n",
       "  'spike protein',\n",
       "  'VHH']]"
      ]
     },
     "execution_count": 4,
     "metadata": {},
     "output_type": "execute_result"
    }
   ],
   "source": [
    "KEYWORDS"
   ]
  },
  {
   "cell_type": "code",
   "execution_count": 5,
   "metadata": {},
   "outputs": [],
   "source": [
    "query = get_query_from_keywords_and_date(keywords=KEYWORDS, start_date=START_DATE,\n",
    "                                                end_date=END_DATE)"
   ]
  },
  {
   "cell_type": "code",
   "execution_count": 6,
   "metadata": {},
   "outputs": [
    {
     "data": {
      "text/plain": [
       "'((SARS-CoV-2) OR (COVID-19) OR (coronavirus) OR (SARS-CoV) OR (MERS-CoV) OR (SARS)) AND ((antibody) OR (antibodies) OR (nanobody) OR (immunoglobulin) OR (MAb) OR (nanobodies)) AND ((neutralizing) OR (neutralize) OR (neutralization) OR (bind) OR (binding) OR (inhibit) OR (targeting)) AND ((heavy chain) OR (complementarity determining region) OR (gene) OR (epitope) OR (receptor-binding domain) OR (rbd) OR (spike protein) OR (VHH))'"
      ]
     },
     "execution_count": 6,
     "metadata": {},
     "output_type": "execute_result"
    }
   ],
   "source": [
    "query"
   ]
  },
  {
   "cell_type": "code",
   "execution_count": 9,
   "metadata": {},
   "outputs": [
    {
     "ename": "HTTPError",
     "evalue": "400 Client Error: Bad Request for url: https://eutils.ncbi.nlm.nih.gov/entrez/eutils/efetch.fcgi?tool=MyTool&email=abc%40def.gh&db=pubmed&id=35069504&id=35068405&id=35067959&id=35067489&id=35066447&id=35066438&id=35065260&id=35064154&id=35063482&id=35062789&id=35062762&id=35062757&id=35062730&id=35062663&id=35062348&id=35062329&id=35062289&id=35062283&id=35062265&id=35062211&id=35062210&id=35062205&id=35062015&id=35061975&id=35061973&id=35061843&id=35061357&id=35061293&id=35060840&id=35059896&id=35059073&id=35058959&id=35058926&id=35057798&id=35056533&id=35055386&id=35054372&id=35052849&id=35051990&id=35051851&id=35050643&id=35050360&id=35049680&id=35049635&id=35047966&id=35047936&id=35047649&id=35047106&id=35046939&id=35046573&id=35046572&id=35046518&id=35046385&id=35045787&id=35045362&id=35045269&id=35045226&id=35044832&id=35044205&id=35043552&id=35043120&id=35043108&id=35043093&id=35042653&id=35042229&id=35042228&id=35041755&id=35041700&id=35040862&id=35040667&id=35040666&id=35040456&id=35038344&id=35036026&id=35036025&id=35035515&id=35034583&id=35034582&id=35033881&id=35033389&id=35032961&id=35032057&id=35031959&id=35030983&id=35030101&id=35028901&id=35027731&id=35027583&id=35026151&id=35025936&id=35025672&id=35024918&id=35022764&id=35022478&id=35021068&id=35020778&id=35020754&id=35019861&id=35018416&id=35018386&id=35018383&id=35018381&id=35018380&id=35018379&id=35018376&id=35018299&id=35017716&id=35016901&id=35016199&id=35016198&id=35016197&id=35016196&id=35016195&id=35016194&id=35016032&id=35013235&id=35013229&id=35013206&id=35013191&id=35013189&id=35012610&id=35012339&id=35011708&id=35010301&id=35008446&id=35007661&id=35007431&id=35006256&id=35005708&id=35005601&id=35004764&id=35003140&id=35003131&id=35003130&id=35003104&id=35003088&id=35003058&id=35002513&id=35000597&id=35000580&id=35000296&id=35000058&id=35000004&id=34999961&id=34999210&id=34998467&id=34998405&id=34998208&id=34997962&id=34997611&id=34996045&id=34995482&id=34995117&id=34994776&id=34994386&id=34994337&id=34994081&id=34992610&id=34992281&id=34992275&id=34991929&id=34991928&id=34990810&id=34990583&id=34990570&id=34990214&id=34989454&id=34989238&id=34988889&id=34987630&id=34987509&id=34987505&id=34986501&id=34986328&id=34986327&id=34985974&id=34985331&id=34984802&id=34983951&id=34983950&id=34983926&id=34983583&id=34983527&id=34983523&id=34982967&id=34982935&id=34982806&id=34981075&id=34981072&id=34981070&id=34981067&id=34981066&id=34981065&id=34981060&id=34981059&id=34981057&id=34981056&id=34981053&id=34981044&id=34981042&id=34980798&id=34979030&id=34979019&id=34978050&id=34977602&id=34977572&id=34976499&id=34975908&id=34975897&id=34973510&id=34973474&id=34973165&id=34971970&id=34971849&id=34971839&id=34971573&id=34970746&id=34970509&id=34969960&id=34969393&id=34968782&id=34968415&id=34967699&id=34966387&id=34966362&id=34965382&id=34964428&id=34963131&id=34963099&id=34963008&id=34962970&id=34962360&id=34962357&id=34962259&id=34961853&id=34961636&id=34961488&id=34960813&id=34960806&id=34960755&id=34960752&id=34960695&id=34960605&id=34960239&id=34960238&id=34960224&id=34960216&id=34960204&id=34960165&id=34960163&retmode=xml",
     "output_type": "error",
     "traceback": [
      "\u001b[0;31m---------------------------------------------------------------------------\u001b[0m",
      "\u001b[0;31mHTTPError\u001b[0m                                 Traceback (most recent call last)",
      "\u001b[1;32m/homes/spoendli/Projects/auto-db-pipeline/notebooks/test.ipynb Cell 6\u001b[0m in \u001b[0;36m<cell line: 1>\u001b[0;34m()\u001b[0m\n\u001b[0;32m----> <a href='vscode-notebook-cell://ssh-remote%2Bpegasus.stats.ox.ac.uk/homes/spoendli/Projects/auto-db-pipeline/notebooks/test.ipynb#W3sdnNjb2RlLXJlbW90ZQ%3D%3D?line=0'>1</a>\u001b[0m output \u001b[39m=\u001b[39m get_pubmed_papers(query, FIELDS)\n",
      "File \u001b[0;32m/data/localhost/not-backed-up/spoendli/miniconda3/envs/auto_abdab/lib/python3.10/site-packages/paperscraper/pubmed/pubmed.py:51\u001b[0m, in \u001b[0;36mget_pubmed_papers\u001b[0;34m(query, fields, max_results, *args, **kwargs)\u001b[0m\n\u001b[1;32m     28\u001b[0m \u001b[39mdef\u001b[39;00m \u001b[39mget_pubmed_papers\u001b[39m(\n\u001b[1;32m     29\u001b[0m     query: \u001b[39mstr\u001b[39m,\n\u001b[1;32m     30\u001b[0m     fields: List \u001b[39m=\u001b[39m [\u001b[39m\"\u001b[39m\u001b[39mtitle\u001b[39m\u001b[39m\"\u001b[39m, \u001b[39m\"\u001b[39m\u001b[39mauthors\u001b[39m\u001b[39m\"\u001b[39m, \u001b[39m\"\u001b[39m\u001b[39mdate\u001b[39m\u001b[39m\"\u001b[39m, \u001b[39m\"\u001b[39m\u001b[39mabstract\u001b[39m\u001b[39m\"\u001b[39m, \u001b[39m\"\u001b[39m\u001b[39mjournal\u001b[39m\u001b[39m\"\u001b[39m, \u001b[39m\"\u001b[39m\u001b[39mdoi\u001b[39m\u001b[39m\"\u001b[39m],\n\u001b[0;32m   (...)\u001b[0m\n\u001b[1;32m     33\u001b[0m     \u001b[39m*\u001b[39m\u001b[39m*\u001b[39mkwargs\n\u001b[1;32m     34\u001b[0m ) \u001b[39m-\u001b[39m\u001b[39m>\u001b[39m pd\u001b[39m.\u001b[39mDataFrame:\n\u001b[1;32m     35\u001b[0m     \u001b[39m\"\"\"\u001b[39;00m\n\u001b[1;32m     36\u001b[0m \u001b[39m    Performs PubMed API request of a query and returns list of papers with\u001b[39;00m\n\u001b[1;32m     37\u001b[0m \u001b[39m    fields as desired.\u001b[39;00m\n\u001b[0;32m   (...)\u001b[0m\n\u001b[1;32m     49\u001b[0m \n\u001b[1;32m     50\u001b[0m \u001b[39m    \"\"\"\u001b[39;00m\n\u001b[0;32m---> 51\u001b[0m     raw \u001b[39m=\u001b[39m \u001b[39mlist\u001b[39;49m(PUBMED\u001b[39m.\u001b[39;49mquery(query, max_results\u001b[39m=\u001b[39;49mmax_results, \u001b[39m*\u001b[39;49margs, \u001b[39m*\u001b[39;49m\u001b[39m*\u001b[39;49mkwargs))\n\u001b[1;32m     53\u001b[0m     get_mails \u001b[39m=\u001b[39m \u001b[39m\"\u001b[39m\u001b[39memails\u001b[39m\u001b[39m\"\u001b[39m \u001b[39min\u001b[39;00m fields\n\u001b[1;32m     54\u001b[0m     \u001b[39mif\u001b[39;00m get_mails:\n",
      "File \u001b[0;32m/data/localhost/not-backed-up/spoendli/miniconda3/envs/auto_abdab/lib/python3.10/site-packages/pymed/api.py:169\u001b[0m, in \u001b[0;36mPubMed._getArticles\u001b[0;34m(self, article_ids)\u001b[0m\n\u001b[1;32m    166\u001b[0m parameters[\u001b[39m\"\u001b[39m\u001b[39mid\u001b[39m\u001b[39m\"\u001b[39m] \u001b[39m=\u001b[39m article_ids\n\u001b[1;32m    168\u001b[0m \u001b[39m# Make the request\u001b[39;00m\n\u001b[0;32m--> 169\u001b[0m response \u001b[39m=\u001b[39m \u001b[39mself\u001b[39;49m\u001b[39m.\u001b[39;49m_get(\n\u001b[1;32m    170\u001b[0m     url\u001b[39m=\u001b[39;49m\u001b[39m\"\u001b[39;49m\u001b[39m/entrez/eutils/efetch.fcgi\u001b[39;49m\u001b[39m\"\u001b[39;49m, parameters\u001b[39m=\u001b[39;49mparameters, output\u001b[39m=\u001b[39;49m\u001b[39m\"\u001b[39;49m\u001b[39mxml\u001b[39;49m\u001b[39m\"\u001b[39;49m\n\u001b[1;32m    171\u001b[0m )\n\u001b[1;32m    173\u001b[0m \u001b[39m# Parse as XML\u001b[39;00m\n\u001b[1;32m    174\u001b[0m root \u001b[39m=\u001b[39m xml\u001b[39m.\u001b[39mfromstring(response)\n",
      "File \u001b[0;32m/data/localhost/not-backed-up/spoendli/miniconda3/envs/auto_abdab/lib/python3.10/site-packages/pymed/api.py:143\u001b[0m, in \u001b[0;36mPubMed._get\u001b[0;34m(self, url, parameters, output)\u001b[0m\n\u001b[1;32m    140\u001b[0m response \u001b[39m=\u001b[39m requests\u001b[39m.\u001b[39mget(\u001b[39mf\u001b[39m\u001b[39m\"\u001b[39m\u001b[39m{\u001b[39;00mBASE_URL\u001b[39m}\u001b[39;00m\u001b[39m{\u001b[39;00murl\u001b[39m}\u001b[39;00m\u001b[39m\"\u001b[39m, params\u001b[39m=\u001b[39mparameters)\n\u001b[1;32m    142\u001b[0m \u001b[39m# Check for any errors\u001b[39;00m\n\u001b[0;32m--> 143\u001b[0m response\u001b[39m.\u001b[39;49mraise_for_status()\n\u001b[1;32m    145\u001b[0m \u001b[39m# Add this request to the list of requests made\u001b[39;00m\n\u001b[1;32m    146\u001b[0m \u001b[39mself\u001b[39m\u001b[39m.\u001b[39m_requestsMade\u001b[39m.\u001b[39mappend(datetime\u001b[39m.\u001b[39mdatetime\u001b[39m.\u001b[39mnow())\n",
      "File \u001b[0;32m/data/localhost/not-backed-up/spoendli/miniconda3/envs/auto_abdab/lib/python3.10/site-packages/requests/models.py:1021\u001b[0m, in \u001b[0;36mResponse.raise_for_status\u001b[0;34m(self)\u001b[0m\n\u001b[1;32m   1016\u001b[0m     http_error_msg \u001b[39m=\u001b[39m (\n\u001b[1;32m   1017\u001b[0m         \u001b[39mf\u001b[39m\u001b[39m\"\u001b[39m\u001b[39m{\u001b[39;00m\u001b[39mself\u001b[39m\u001b[39m.\u001b[39mstatus_code\u001b[39m}\u001b[39;00m\u001b[39m Server Error: \u001b[39m\u001b[39m{\u001b[39;00mreason\u001b[39m}\u001b[39;00m\u001b[39m for url: \u001b[39m\u001b[39m{\u001b[39;00m\u001b[39mself\u001b[39m\u001b[39m.\u001b[39murl\u001b[39m}\u001b[39;00m\u001b[39m\"\u001b[39m\n\u001b[1;32m   1018\u001b[0m     )\n\u001b[1;32m   1020\u001b[0m \u001b[39mif\u001b[39;00m http_error_msg:\n\u001b[0;32m-> 1021\u001b[0m     \u001b[39mraise\u001b[39;00m HTTPError(http_error_msg, response\u001b[39m=\u001b[39m\u001b[39mself\u001b[39m)\n",
      "\u001b[0;31mHTTPError\u001b[0m: 400 Client Error: Bad Request for url: https://eutils.ncbi.nlm.nih.gov/entrez/eutils/efetch.fcgi?tool=MyTool&email=abc%40def.gh&db=pubmed&id=35069504&id=35068405&id=35067959&id=35067489&id=35066447&id=35066438&id=35065260&id=35064154&id=35063482&id=35062789&id=35062762&id=35062757&id=35062730&id=35062663&id=35062348&id=35062329&id=35062289&id=35062283&id=35062265&id=35062211&id=35062210&id=35062205&id=35062015&id=35061975&id=35061973&id=35061843&id=35061357&id=35061293&id=35060840&id=35059896&id=35059073&id=35058959&id=35058926&id=35057798&id=35056533&id=35055386&id=35054372&id=35052849&id=35051990&id=35051851&id=35050643&id=35050360&id=35049680&id=35049635&id=35047966&id=35047936&id=35047649&id=35047106&id=35046939&id=35046573&id=35046572&id=35046518&id=35046385&id=35045787&id=35045362&id=35045269&id=35045226&id=35044832&id=35044205&id=35043552&id=35043120&id=35043108&id=35043093&id=35042653&id=35042229&id=35042228&id=35041755&id=35041700&id=35040862&id=35040667&id=35040666&id=35040456&id=35038344&id=35036026&id=35036025&id=35035515&id=35034583&id=35034582&id=35033881&id=35033389&id=35032961&id=35032057&id=35031959&id=35030983&id=35030101&id=35028901&id=35027731&id=35027583&id=35026151&id=35025936&id=35025672&id=35024918&id=35022764&id=35022478&id=35021068&id=35020778&id=35020754&id=35019861&id=35018416&id=35018386&id=35018383&id=35018381&id=35018380&id=35018379&id=35018376&id=35018299&id=35017716&id=35016901&id=35016199&id=35016198&id=35016197&id=35016196&id=35016195&id=35016194&id=35016032&id=35013235&id=35013229&id=35013206&id=35013191&id=35013189&id=35012610&id=35012339&id=35011708&id=35010301&id=35008446&id=35007661&id=35007431&id=35006256&id=35005708&id=35005601&id=35004764&id=35003140&id=35003131&id=35003130&id=35003104&id=35003088&id=35003058&id=35002513&id=35000597&id=35000580&id=35000296&id=35000058&id=35000004&id=34999961&id=34999210&id=34998467&id=34998405&id=34998208&id=34997962&id=34997611&id=34996045&id=34995482&id=34995117&id=34994776&id=34994386&id=34994337&id=34994081&id=34992610&id=34992281&id=34992275&id=34991929&id=34991928&id=34990810&id=34990583&id=34990570&id=34990214&id=34989454&id=34989238&id=34988889&id=34987630&id=34987509&id=34987505&id=34986501&id=34986328&id=34986327&id=34985974&id=34985331&id=34984802&id=34983951&id=34983950&id=34983926&id=34983583&id=34983527&id=34983523&id=34982967&id=34982935&id=34982806&id=34981075&id=34981072&id=34981070&id=34981067&id=34981066&id=34981065&id=34981060&id=34981059&id=34981057&id=34981056&id=34981053&id=34981044&id=34981042&id=34980798&id=34979030&id=34979019&id=34978050&id=34977602&id=34977572&id=34976499&id=34975908&id=34975897&id=34973510&id=34973474&id=34973165&id=34971970&id=34971849&id=34971839&id=34971573&id=34970746&id=34970509&id=34969960&id=34969393&id=34968782&id=34968415&id=34967699&id=34966387&id=34966362&id=34965382&id=34964428&id=34963131&id=34963099&id=34963008&id=34962970&id=34962360&id=34962357&id=34962259&id=34961853&id=34961636&id=34961488&id=34960813&id=34960806&id=34960755&id=34960752&id=34960695&id=34960605&id=34960239&id=34960238&id=34960224&id=34960216&id=34960204&id=34960165&id=34960163&retmode=xml"
     ]
    }
   ],
   "source": [
    "output = get_pubmed_papers(query, FIELDS)#, max_results=10)"
   ]
  },
  {
   "cell_type": "code",
   "execution_count": null,
   "metadata": {},
   "outputs": [],
   "source": []
  }
 ],
 "metadata": {
  "kernelspec": {
   "display_name": "Python 3.10.6 ('auto_abdab')",
   "language": "python",
   "name": "python3"
  },
  "language_info": {
   "codemirror_mode": {
    "name": "ipython",
    "version": 3
   },
   "file_extension": ".py",
   "mimetype": "text/x-python",
   "name": "python",
   "nbconvert_exporter": "python",
   "pygments_lexer": "ipython3",
   "version": "3.10.6"
  },
  "orig_nbformat": 4,
  "vscode": {
   "interpreter": {
    "hash": "e08ea38614103bbcf610a42a84c1bd73cedcb6728728df75519c87a992c5bff0"
   }
  }
 },
 "nbformat": 4,
 "nbformat_minor": 2
}
