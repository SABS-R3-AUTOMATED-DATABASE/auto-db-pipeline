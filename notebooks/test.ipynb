{
 "cells": [
  {
   "cell_type": "code",
   "execution_count": 1,
   "metadata": {},
   "outputs": [
    {
     "name": "stdout",
     "output_type": "stream",
     "text": [
      "WARNING:paperscraper.load_dumps: No dump found for biorxiv. Skipping entry.\n",
      "WARNING:paperscraper.load_dumps: No dump found for chemrxiv. Skipping entry.\n",
      "WARNING:paperscraper.load_dumps: No dump found for medrxiv. Skipping entry.\n",
      "WARNING:paperscraper.load_dumps: No dumps found for either biorxiv or medrxiv. Consider using paperscraper.get_dumps.* to fetch the dumps.\n"
     ]
    }
   ],
   "source": [
    "from paperscraper.pubmed import get_query_from_keywords_and_date\n",
    "from paperscraper.pubmed import get_pubmed_papers"
   ]
  },
  {
   "cell_type": "code",
   "execution_count": 8,
   "metadata": {},
   "outputs": [],
   "source": [
    "KEYWORDS = [\n",
    "            ['antibody', 'antibodies', 'nanobody', 'immunoglobulin', 'MAb', 'nanobodies'],\n",
    "            ['neutralizing', 'neutralize', 'neutralization', 'bind', 'binding',\n",
    "                'inhibit', 'targeting'],\n",
    "            ['heavy chain', 'complementarity determining region', 'gene',\n",
    "                'epitope', 'receptor-binding domain', 'rbd', 'spike protein', 'VHH']\n",
    "            ]\n",
    "disease_keywords = ['COVID-19', 'CORONAVIRUS', 'SARS-COV', 'MERS-COV', 'SARS',\n",
    "                    'SARS-COV-2', 'SPIKE PROTEIN', 'RBD', 'RECEPTOR-BINDING DOMAIN',\n",
    "                    'MERS', 'MIDDLE EAST RESPIRATORY SYNDROME', 'SEVERE ACUTE RESPIRATORY SYNDROME']\n",
    "KEYWORDS.insert(0, disease_keywords)\n",
    "\n",
    "\n",
    "DATEFORMAT = \"%Y_%m_%d\"\n",
    "FIELDS = [\"title\", \"authors\", \"date\", \"abstract\", \"journal\", \"doi\"]\n",
    "START_DATE = \"None\"\n",
    "END_DATE = \"None\""
   ]
  },
  {
   "cell_type": "code",
   "execution_count": 9,
   "metadata": {},
   "outputs": [
    {
     "data": {
      "text/plain": [
       "[['COVID-19',\n",
       "  'CORONAVIRUS',\n",
       "  'SARS-COV',\n",
       "  'MERS-COV',\n",
       "  'SARS',\n",
       "  'SARS-COV-2',\n",
       "  'SPIKE PROTEIN',\n",
       "  'RBD',\n",
       "  'RECEPTOR-BINDING DOMAIN',\n",
       "  'MERS',\n",
       "  'MIDDLE EAST RESPIRATORY SYNDROME',\n",
       "  'SEVERE ACUTE RESPIRATORY SYNDROME'],\n",
       " ['antibody', 'antibodies', 'nanobody', 'immunoglobulin', 'MAb', 'nanobodies'],\n",
       " ['neutralizing',\n",
       "  'neutralize',\n",
       "  'neutralization',\n",
       "  'bind',\n",
       "  'binding',\n",
       "  'inhibit',\n",
       "  'targeting'],\n",
       " ['heavy chain',\n",
       "  'complementarity determining region',\n",
       "  'gene',\n",
       "  'epitope',\n",
       "  'receptor-binding domain',\n",
       "  'rbd',\n",
       "  'spike protein',\n",
       "  'VHH']]"
      ]
     },
     "execution_count": 9,
     "metadata": {},
     "output_type": "execute_result"
    }
   ],
   "source": [
    "KEYWORDS"
   ]
  },
  {
   "cell_type": "code",
   "execution_count": 10,
   "metadata": {},
   "outputs": [],
   "source": [
    "query = get_query_from_keywords_and_date(keywords=KEYWORDS, start_date=START_DATE,\n",
    "                                                end_date=END_DATE)"
   ]
  },
  {
   "cell_type": "code",
   "execution_count": 11,
   "metadata": {},
   "outputs": [
    {
     "data": {
      "text/plain": [
       "'((COVID-19) OR (CORONAVIRUS) OR (SARS-COV) OR (MERS-COV) OR (SARS) OR (SARS-COV-2) OR (SPIKE PROTEIN) OR (RBD) OR (RECEPTOR-BINDING DOMAIN) OR (MERS) OR (MIDDLE EAST RESPIRATORY SYNDROME) OR (SEVERE ACUTE RESPIRATORY SYNDROME)) AND ((antibody) OR (antibodies) OR (nanobody) OR (immunoglobulin) OR (MAb) OR (nanobodies)) AND ((neutralizing) OR (neutralize) OR (neutralization) OR (bind) OR (binding) OR (inhibit) OR (targeting)) AND ((heavy chain) OR (complementarity determining region) OR (gene) OR (epitope) OR (receptor-binding domain) OR (rbd) OR (spike protein) OR (VHH))'"
      ]
     },
     "execution_count": 11,
     "metadata": {},
     "output_type": "execute_result"
    }
   ],
   "source": [
    "query"
   ]
  },
  {
   "cell_type": "code",
   "execution_count": 12,
   "metadata": {},
   "outputs": [],
   "source": [
    "output = get_pubmed_papers(query, FIELDS)#, max_results=10)"
   ]
  },
  {
   "cell_type": "code",
   "execution_count": 13,
   "metadata": {},
   "outputs": [
    {
     "data": {
      "text/html": [
       "<div>\n",
       "<style scoped>\n",
       "    .dataframe tbody tr th:only-of-type {\n",
       "        vertical-align: middle;\n",
       "    }\n",
       "\n",
       "    .dataframe tbody tr th {\n",
       "        vertical-align: top;\n",
       "    }\n",
       "\n",
       "    .dataframe thead th {\n",
       "        text-align: right;\n",
       "    }\n",
       "</style>\n",
       "<table border=\"1\" class=\"dataframe\">\n",
       "  <thead>\n",
       "    <tr style=\"text-align: right;\">\n",
       "      <th></th>\n",
       "      <th>title</th>\n",
       "      <th>abstract</th>\n",
       "      <th>journal</th>\n",
       "      <th>date</th>\n",
       "      <th>authors</th>\n",
       "      <th>doi</th>\n",
       "    </tr>\n",
       "  </thead>\n",
       "  <tbody>\n",
       "    <tr>\n",
       "      <th>0</th>\n",
       "      <td>Reduced B cell antigenicity of Omicron lowers ...</td>\n",
       "      <td>The SARS-CoV-2 Omicron variant evades most neu...</td>\n",
       "      <td>Cell reports</td>\n",
       "      <td>2022-10-13</td>\n",
       "      <td>[JérômeTubiana, YufeiXiang, LiFan, Haim JWolfs...</td>\n",
       "      <td>10.1016/j.celrep.2022.111512</td>\n",
       "    </tr>\n",
       "    <tr>\n",
       "      <th>1</th>\n",
       "      <td>Longitudinal COVID-19 immune trajectories in p...</td>\n",
       "      <td>During the COVID-19 pandemic, B cell depleting...</td>\n",
       "      <td>Multiple sclerosis and related disorders</td>\n",
       "      <td>2022-10-13</td>\n",
       "      <td>[Sam ABazzi, ColeMaguire, NishaHolay, JanelleG...</td>\n",
       "      <td>10.1016/j.msard.2022.104195</td>\n",
       "    </tr>\n",
       "    <tr>\n",
       "      <th>2</th>\n",
       "      <td>Artificial Cell Membrane Polymersome-Based Int...</td>\n",
       "      <td>Current parenteral coronavirus disease 2019 (C...</td>\n",
       "      <td>ACS nano</td>\n",
       "      <td>2022-10-13</td>\n",
       "      <td>[Jian HangLam, DevendraShivhare, Teck WanChia,...</td>\n",
       "      <td>10.1021/acsnano.2c06350</td>\n",
       "    </tr>\n",
       "    <tr>\n",
       "      <th>3</th>\n",
       "      <td>One-Year Follow-Up of COVID-19 Patients Indica...</td>\n",
       "      <td>Determination of antibody levels against the n...</td>\n",
       "      <td>Microbiology spectrum</td>\n",
       "      <td>2022-10-13</td>\n",
       "      <td>[Alexander EEgger, SabinaSahanic, AndreasGleis...</td>\n",
       "      <td>10.1128/spectrum.00597-22</td>\n",
       "    </tr>\n",
       "    <tr>\n",
       "      <th>4</th>\n",
       "      <td>A triple-RBD-based mucosal vaccine provides br...</td>\n",
       "      <td>The rapid mutation and spread of SARS-CoV-2 va...</td>\n",
       "      <td>Cellular &amp; molecular immunology</td>\n",
       "      <td>2022-10-12</td>\n",
       "      <td>[JingyiYang, Mei-QinLiu, LinLiu, XianLi, Mengx...</td>\n",
       "      <td>10.1038/s41423-022-00929-3\\n10.1080/22221751.2...</td>\n",
       "    </tr>\n",
       "    <tr>\n",
       "      <th>...</th>\n",
       "      <td>...</td>\n",
       "      <td>...</td>\n",
       "      <td>...</td>\n",
       "      <td>...</td>\n",
       "      <td>...</td>\n",
       "      <td>...</td>\n",
       "    </tr>\n",
       "    <tr>\n",
       "      <th>8655</th>\n",
       "      <td>The role of viral glycoproteins in mumps-virus...</td>\n",
       "      <td>Human peripheral blood lymphocytes (PBL) from ...</td>\n",
       "      <td>Scandinavian journal of immunology</td>\n",
       "      <td>1980-01-01</td>\n",
       "      <td>[BHärfast, COrvell, AAlsheikhly, TAndersson, P...</td>\n",
       "      <td>10.1111/j.1365-3083.1980.tb00005.x</td>\n",
       "    </tr>\n",
       "    <tr>\n",
       "      <th>8656</th>\n",
       "      <td>Serological relation between calf diarrhea cor...</td>\n",
       "      <td>Neutralizing (NT) and hemagglutination-inhibit...</td>\n",
       "      <td>Archives of virology</td>\n",
       "      <td>1980-01-01</td>\n",
       "      <td>[KSato, YInaba, MMatumoto]</td>\n",
       "      <td>10.1007/BF01314983</td>\n",
       "    </tr>\n",
       "    <tr>\n",
       "      <th>8657</th>\n",
       "      <td>Integration of a virus membrane protein into t...</td>\n",
       "      <td>Structural requirements for membrane antigens ...</td>\n",
       "      <td>The Journal of experimental medicine</td>\n",
       "      <td>1979-12-01</td>\n",
       "      <td>[BMorein, DBarz, UKoszinowski, VSchirrmacher]</td>\n",
       "      <td>10.1084/jem.150.6.1383</td>\n",
       "    </tr>\n",
       "    <tr>\n",
       "      <th>8658</th>\n",
       "      <td>Human (HLA-A and HLA-B) and murine (H-2K and H...</td>\n",
       "      <td>The proteins coded for by the HLA-A and HLA-B ...</td>\n",
       "      <td>Proceedings of the National Academy of Science...</td>\n",
       "      <td>1978-08-01</td>\n",
       "      <td>[AHelenius, BMorein, EFries, KSimons, PRobinso...</td>\n",
       "      <td>10.1073/pnas.75.8.3846</td>\n",
       "    </tr>\n",
       "    <tr>\n",
       "      <th>8659</th>\n",
       "      <td>Antigenic relationship between human coronavir...</td>\n",
       "      <td>Hemagglutinating encephalomyelitis virus of sw...</td>\n",
       "      <td>The Journal of infectious diseases</td>\n",
       "      <td>1977-02-01</td>\n",
       "      <td>[H SKaye, W BYarbrough, C JReed, A KHarrison]</td>\n",
       "      <td>10.1093/infdis/135.2.201</td>\n",
       "    </tr>\n",
       "  </tbody>\n",
       "</table>\n",
       "<p>8660 rows × 6 columns</p>\n",
       "</div>"
      ],
      "text/plain": [
       "                                                  title  \\\n",
       "0     Reduced B cell antigenicity of Omicron lowers ...   \n",
       "1     Longitudinal COVID-19 immune trajectories in p...   \n",
       "2     Artificial Cell Membrane Polymersome-Based Int...   \n",
       "3     One-Year Follow-Up of COVID-19 Patients Indica...   \n",
       "4     A triple-RBD-based mucosal vaccine provides br...   \n",
       "...                                                 ...   \n",
       "8655  The role of viral glycoproteins in mumps-virus...   \n",
       "8656  Serological relation between calf diarrhea cor...   \n",
       "8657  Integration of a virus membrane protein into t...   \n",
       "8658  Human (HLA-A and HLA-B) and murine (H-2K and H...   \n",
       "8659  Antigenic relationship between human coronavir...   \n",
       "\n",
       "                                               abstract  \\\n",
       "0     The SARS-CoV-2 Omicron variant evades most neu...   \n",
       "1     During the COVID-19 pandemic, B cell depleting...   \n",
       "2     Current parenteral coronavirus disease 2019 (C...   \n",
       "3     Determination of antibody levels against the n...   \n",
       "4     The rapid mutation and spread of SARS-CoV-2 va...   \n",
       "...                                                 ...   \n",
       "8655  Human peripheral blood lymphocytes (PBL) from ...   \n",
       "8656  Neutralizing (NT) and hemagglutination-inhibit...   \n",
       "8657  Structural requirements for membrane antigens ...   \n",
       "8658  The proteins coded for by the HLA-A and HLA-B ...   \n",
       "8659  Hemagglutinating encephalomyelitis virus of sw...   \n",
       "\n",
       "                                                journal        date  \\\n",
       "0                                          Cell reports  2022-10-13   \n",
       "1              Multiple sclerosis and related disorders  2022-10-13   \n",
       "2                                              ACS nano  2022-10-13   \n",
       "3                                 Microbiology spectrum  2022-10-13   \n",
       "4                       Cellular & molecular immunology  2022-10-12   \n",
       "...                                                 ...         ...   \n",
       "8655                 Scandinavian journal of immunology  1980-01-01   \n",
       "8656                               Archives of virology  1980-01-01   \n",
       "8657               The Journal of experimental medicine  1979-12-01   \n",
       "8658  Proceedings of the National Academy of Science...  1978-08-01   \n",
       "8659                 The Journal of infectious diseases  1977-02-01   \n",
       "\n",
       "                                                authors  \\\n",
       "0     [JérômeTubiana, YufeiXiang, LiFan, Haim JWolfs...   \n",
       "1     [Sam ABazzi, ColeMaguire, NishaHolay, JanelleG...   \n",
       "2     [Jian HangLam, DevendraShivhare, Teck WanChia,...   \n",
       "3     [Alexander EEgger, SabinaSahanic, AndreasGleis...   \n",
       "4     [JingyiYang, Mei-QinLiu, LinLiu, XianLi, Mengx...   \n",
       "...                                                 ...   \n",
       "8655  [BHärfast, COrvell, AAlsheikhly, TAndersson, P...   \n",
       "8656                         [KSato, YInaba, MMatumoto]   \n",
       "8657      [BMorein, DBarz, UKoszinowski, VSchirrmacher]   \n",
       "8658  [AHelenius, BMorein, EFries, KSimons, PRobinso...   \n",
       "8659      [H SKaye, W BYarbrough, C JReed, A KHarrison]   \n",
       "\n",
       "                                                    doi  \n",
       "0                          10.1016/j.celrep.2022.111512  \n",
       "1                           10.1016/j.msard.2022.104195  \n",
       "2                               10.1021/acsnano.2c06350  \n",
       "3                             10.1128/spectrum.00597-22  \n",
       "4     10.1038/s41423-022-00929-3\\n10.1080/22221751.2...  \n",
       "...                                                 ...  \n",
       "8655                 10.1111/j.1365-3083.1980.tb00005.x  \n",
       "8656                                 10.1007/BF01314983  \n",
       "8657                             10.1084/jem.150.6.1383  \n",
       "8658                             10.1073/pnas.75.8.3846  \n",
       "8659                           10.1093/infdis/135.2.201  \n",
       "\n",
       "[8660 rows x 6 columns]"
      ]
     },
     "execution_count": 13,
     "metadata": {},
     "output_type": "execute_result"
    }
   ],
   "source": [
    "output"
   ]
  },
  {
   "cell_type": "code",
   "execution_count": null,
   "metadata": {},
   "outputs": [],
   "source": []
  }
 ],
 "metadata": {
  "kernelspec": {
   "display_name": "Python 3.10.6 ('auto_abdab')",
   "language": "python",
   "name": "python3"
  },
  "language_info": {
   "codemirror_mode": {
    "name": "ipython",
    "version": 3
   },
   "file_extension": ".py",
   "mimetype": "text/x-python",
   "name": "python",
   "nbconvert_exporter": "python",
   "pygments_lexer": "ipython3",
   "version": "3.10.6"
  },
  "orig_nbformat": 4,
  "vscode": {
   "interpreter": {
    "hash": "e08ea38614103bbcf610a42a84c1bd73cedcb6728728df75519c87a992c5bff0"
   }
  }
 },
 "nbformat": 4,
 "nbformat_minor": 2
}
