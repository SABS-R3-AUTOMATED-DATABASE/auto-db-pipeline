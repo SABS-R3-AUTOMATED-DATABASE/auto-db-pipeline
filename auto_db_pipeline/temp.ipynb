{
 "cells": [
  {
   "cell_type": "code",
   "execution_count": 2,
   "metadata": {},
   "outputs": [],
   "source": [
    "%load_ext autoreload\n",
    "%autoreload 2"
   ]
  },
  {
   "cell_type": "code",
   "execution_count": 3,
   "metadata": {},
   "outputs": [
    {
     "name": "stdout",
     "output_type": "stream",
     "text": [
      "WARNING:paperscraper.load_dumps: No dump found for biorxiv. Skipping entry.\n",
      "WARNING:paperscraper.load_dumps: No dump found for chemrxiv. Skipping entry.\n",
      "WARNING:paperscraper.load_dumps: No dump found for medrxiv. Skipping entry.\n",
      "WARNING:paperscraper.load_dumps: No dumps found for either biorxiv or medrxiv. Consider using paperscraper.get_dumps.* to fetch the dumps.\n"
     ]
    }
   ],
   "source": [
    "from keywords2papers import Keywords2Papers"
   ]
  },
  {
   "cell_type": "code",
   "execution_count": 4,
   "metadata": {},
   "outputs": [],
   "source": [
    "k2p = Keywords2Papers()"
   ]
  },
  {
   "cell_type": "code",
   "execution_count": 4,
   "metadata": {},
   "outputs": [],
   "source": [
    "%%time\n",
    "\n",
    "# Lasted 50 seconds\n",
    "\n",
    "k2p.get_pubmed()"
   ]
  },
  {
   "cell_type": "code",
   "execution_count": 28,
   "metadata": {},
   "outputs": [
    {
     "name": "stdout",
     "output_type": "stream",
     "text": [
      "CPU times: user 120 ms, sys: 35.7 ms, total: 156 ms\n",
      "Wall time: 155 ms\n"
     ]
    }
   ],
   "source": [
    "%%time\n",
    "pubmed_results = k2p.get_pubmed()"
   ]
  },
  {
   "cell_type": "code",
   "execution_count": 27,
   "metadata": {},
   "outputs": [],
   "source": [
    "# k2p.get_biorxiv()\n",
    "## Interrupted"
   ]
  },
  {
   "cell_type": "code",
   "execution_count": 30,
   "metadata": {},
   "outputs": [
    {
     "name": "stdout",
     "output_type": "stream",
     "text": [
      "CPU times: user 1.31 s, sys: 42.7 ms, total: 1.35 s\n",
      "Wall time: 1.39 s\n"
     ]
    }
   ],
   "source": [
    "%%time\n",
    "## Only all exists, so fetches local from all\n",
    "biorxiv_results = k2p.get_biorxiv()"
   ]
  },
  {
   "cell_type": "code",
   "execution_count": 31,
   "metadata": {},
   "outputs": [
    {
     "data": {
      "text/plain": [
       "[]"
      ]
     },
     "execution_count": 31,
     "metadata": {},
     "output_type": "execute_result"
    }
   ],
   "source": [
    "# None cuse we didnt wait long enough``\n",
    "biorxiv_results"
   ]
  },
  {
   "cell_type": "code",
   "execution_count": null,
   "metadata": {},
   "outputs": [],
   "source": []
  },
  {
   "cell_type": "code",
   "execution_count": null,
   "metadata": {},
   "outputs": [],
   "source": []
  },
  {
   "cell_type": "code",
   "execution_count": null,
   "metadata": {},
   "outputs": [],
   "source": [
    "# checker = PDBChecker()\n",
    "# data[0]\n",
    "# paper = Paper(data[0])\n",
    "# data[498]\n",
    "# checker = PDBChecker()\n",
    "# checker.get_top_authors(\"7KUU\")\n",
    "# paper.url_pmid\n"
   ]
  },
  {
   "cell_type": "code",
   "execution_count": null,
   "metadata": {},
   "outputs": [],
   "source": [
    "\n",
    "\n",
    "\n",
    "\n",
    "# df = pd.read_csv(\"pubmed_results.csv\")\n",
    "# print(\"Number of entries with this field empty\")\n",
    "# print(dict(filter(lambda elem: elem[1] > 0, {field: sum([paper_data[field] is None if field in paper_data else False for paper_data in data]) for field in fields}.items())))\n",
    "# print(len(data))\n",
    "# n=80\n",
    "# df.loc[df.doi.isnull()].journal.tolist()[n:n+20]\n",
    "\n",
    "# # ## Testing out the pubmed library \n",
    "\n",
    "# # paper_data = data[400]\n",
    "\n",
    "# # doi = data[5]['doi']\n",
    "# # \"https://www.ncbi.nlm.nih.gov/pmc/articles/doi/10.14744/nci.2021.99075\"\n",
    "# # \"https://www.ncbi.nlm.nih.gov/pmc/articles/doi/10.14744/nci.2021.99075\"\n",
    "# # # Another way to get PMID\n",
    "# # \"https://pubmed.ncbi.nlm.nih.gov/?term=\" + doi\n",
    "# # # Then query the html. \n",
    "\n",
    "# # doi = \"10.1515/cclm-2021-1287\"\n",
    "# # fetch = PubMedFetcher()\n",
    "\n",
    "# # doi2pmc = \"https://www.ncbi.nlm.nih.gov/pmc/articles/doi/\" + doi\n",
    "# # article = fetch.article_by_doi(doi)\n",
    "# # print(article.doi)\n",
    "# # print(article.pmid)\n",
    "# # print(article.pmc)\n",
    "\n",
    "# checker = PDBChecker()\n",
    "# checker.get_top_authors(\"7KUU\")\n",
    "# len(data)\n"
   ]
  }
 ],
 "metadata": {
  "interpreter": {
   "hash": "949777d72b0d2535278d3dc13498b2535136f6dfe0678499012e853ee9abcab1"
  },
  "kernelspec": {
   "display_name": "Python 3.10.1 64-bit",
   "language": "python",
   "name": "python3"
  },
  "language_info": {
   "codemirror_mode": {
    "name": "ipython",
    "version": 3
   },
   "file_extension": ".py",
   "mimetype": "text/x-python",
   "name": "python",
   "nbconvert_exporter": "python",
   "pygments_lexer": "ipython3",
   "version": "3.10.1"
  },
  "orig_nbformat": 4
 },
 "nbformat": 4,
 "nbformat_minor": 2
}
