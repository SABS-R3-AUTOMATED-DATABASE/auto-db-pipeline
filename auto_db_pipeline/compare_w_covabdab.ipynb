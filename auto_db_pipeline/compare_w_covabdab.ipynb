{
 "cells": [
  {
   "cell_type": "code",
   "execution_count": 2,
   "metadata": {},
   "outputs": [
    {
     "name": "stderr",
     "output_type": "stream",
     "text": [
      "/usr/local/Caskroom/miniconda/base/lib/python3.9/site-packages/Bio/SubsMat/__init__.py:126: BiopythonDeprecationWarning: Bio.SubsMat has been deprecated, and we intend to remove it in a future release of Biopython. As an alternative, please consider using Bio.Align.substitution_matrices as a replacement, and contact the Biopython developers if you still need the Bio.SubsMat module.\n",
      "  warnings.warn(\n"
     ]
    },
    {
     "name": "stdout",
     "output_type": "stream",
     "text": [
      "WARNING:paperscraper.load_dumps: No dump found for biorxiv. Skipping entry.\n",
      "WARNING:paperscraper.load_dumps: No dump found for chemrxiv. Skipping entry.\n",
      "WARNING:paperscraper.load_dumps: No dump found for medrxiv. Skipping entry.\n",
      "WARNING:paperscraper.load_dumps: No dumps found for either biorxiv or medrxiv. Consider using paperscraper.get_dumps.* to fetch the dumps.\n"
     ]
    },
    {
     "name": "stderr",
     "output_type": "stream",
     "text": [
      "2022-03-15 09:52:38 Jesses-MacBook-Pro.local metapub.config[84344] WARNING NCBI_API_KEY was not set.\n"
     ]
    }
   ],
   "source": [
    "#Import libraries\n",
    "from matplotlib_venn import venn2, venn2_circles, venn2_unweighted\n",
    "from matplotlib_venn import venn3, venn3_circles\n",
    "from matplotlib import pyplot as plt\n",
    "from pdbs2info import PdbsLoader\n",
    "loader = PdbsLoader(selected_date=\"2022_03_08\")\n",
    "loader(save=False)"
   ]
  },
  {
   "cell_type": "code",
   "execution_count": 1,
   "metadata": {},
   "outputs": [
    {
     "name": "stderr",
     "output_type": "stream",
     "text": [
      "/usr/local/Caskroom/miniconda/base/lib/python3.9/site-packages/Bio/SubsMat/__init__.py:126: BiopythonDeprecationWarning: Bio.SubsMat has been deprecated, and we intend to remove it in a future release of Biopython. As an alternative, please consider using Bio.Align.substitution_matrices as a replacement, and contact the Biopython developers if you still need the Bio.SubsMat module.\n",
      "  warnings.warn(\n"
     ]
    }
   ],
   "source": [
    "from ABDB import database as db"
   ]
  },
  {
   "cell_type": "code",
   "execution_count": 7,
   "metadata": {},
   "outputs": [],
   "source": [
    "# lowercase pdb \n",
    "summary = db.db_summary[\"7r98\"]"
   ]
  },
  {
   "cell_type": "code",
   "execution_count": 8,
   "metadata": {},
   "outputs": [
    {
     "data": {
      "text/plain": [
       "dict_keys(['pdb', 'short_header', 'date', 'compound', 'organism', 'authors', 'resolution', 'method', 'r_free', 'r_factor', 'affinity', 'temperature', 'affinity_method', 'delta_g', 'pmid', 'fabs', 'inhouse'])"
      ]
     },
     "execution_count": 8,
     "metadata": {},
     "output_type": "execute_result"
    }
   ],
   "source": [
    "summary.keys()"
   ]
  },
  {
   "cell_type": "code",
   "execution_count": 11,
   "metadata": {},
   "outputs": [
    {
     "data": {
      "text/plain": [
       "('VIRAL PROTEIN/IMMUNE SYSTEM',\n",
       " 'Structure of the SARS-CoV-2 N protein RNA-binding domain bound to single-domain antibody B6')"
      ]
     },
     "execution_count": 11,
     "metadata": {},
     "output_type": "execute_result"
    }
   ],
   "source": [
    "summary['short_header'], summary['compound']"
   ]
  },
  {
   "cell_type": "code",
   "execution_count": 12,
   "metadata": {},
   "outputs": [],
   "source": [
    "from protein_scrape.pdb_scrape import PdbID"
   ]
  },
  {
   "cell_type": "code",
   "execution_count": 14,
   "metadata": {},
   "outputs": [],
   "source": [
    "pdb = PdbID(\"7R98\")\n",
    "pdb()"
   ]
  },
  {
   "cell_type": "code",
   "execution_count": 15,
   "metadata": {},
   "outputs": [
    {
     "data": {
      "text/plain": [
       "{'audit_author': [{'identifier_orcid': '0000-0001-5854-2388',\n",
       "   'name': 'Corbett, K.D.',\n",
       "   'pdbx_ordinal': 1},\n",
       "  {'name': 'Ye, Q.', 'pdbx_ordinal': 2}],\n",
       " 'cell': {'angle_alpha': 90.0,\n",
       "  'angle_beta': 90.0,\n",
       "  'angle_gamma': 90.0,\n",
       "  'length_a': 99.613,\n",
       "  'length_b': 175.061,\n",
       "  'length_c': 111.964,\n",
       "  'volume': 1952467.575,\n",
       "  'zpdb': 24},\n",
       " 'citation': [{'country': 'CH',\n",
       "   'id': 'primary',\n",
       "   'journal_abbrev': 'Front Immunol',\n",
       "   'journal_id_issn': '1664-3224',\n",
       "   'journal_volume': '12',\n",
       "   'page_first': '719037',\n",
       "   'page_last': '719037',\n",
       "   'pdbx_database_id_doi': '10.3389/fimmu.2021.719037',\n",
       "   'pdbx_database_id_pub_med': 34381460,\n",
       "   'rcsb_authors': ['Ye, Q.', 'Lu, S.', 'Corbett, K.D.'],\n",
       "   'rcsb_is_primary': 'Y',\n",
       "   'rcsb_journal_abbrev': 'Front Immunol',\n",
       "   'title': 'Structural Basis for SARS-CoV-2 Nucleocapsid Protein Recognition by Single-Domain Antibodies.',\n",
       "   'year': 2021},\n",
       "  {'country': 'US',\n",
       "   'id': '1',\n",
       "   'journal_abbrev': 'Biorxiv',\n",
       "   'pdbx_database_id_doi': '10.1101/2021.06.01.446591',\n",
       "   'pdbx_database_id_pub_med': 34100017,\n",
       "   'rcsb_authors': ['Ye, Q.', 'Lu, S.', 'Corbett, K.D.'],\n",
       "   'rcsb_is_primary': 'N',\n",
       "   'rcsb_journal_abbrev': 'Biorxiv',\n",
       "   'title': 'Structural basis for SARS-CoV-2 Nucleocapsid protein recognition by single-domain antibodies.',\n",
       "   'year': 2021}],\n",
       " 'diffrn': [{'ambient_temp': 100.0,\n",
       "   'crystal_id': '1',\n",
       "   'id': '1',\n",
       "   'pdbx_serial_crystal_experiment': 'N'}],\n",
       " 'diffrn_detector': [{'detector': 'PIXEL',\n",
       "   'diffrn_id': '1',\n",
       "   'pdbx_collection_date': '2021-03-24T00:00:00+0000',\n",
       "   'type': 'DECTRIS EIGER2 X 16M'}],\n",
       " 'diffrn_radiation': [{'diffrn_id': '1',\n",
       "   'pdbx_diffrn_protocol': 'SINGLE WAVELENGTH',\n",
       "   'pdbx_monochromatic_or_laue_ml': 'M',\n",
       "   'pdbx_scattering_type': 'x-ray',\n",
       "   'wavelength_id': '1'}],\n",
       " 'diffrn_source': [{'diffrn_id': '1',\n",
       "   'pdbx_synchrotron_beamline': '24-ID-C',\n",
       "   'pdbx_synchrotron_site': 'APS',\n",
       "   'pdbx_wavelength_list': '0.97918',\n",
       "   'source': 'SYNCHROTRON',\n",
       "   'type': 'APS BEAMLINE 24-ID-C'}],\n",
       " 'entry': {'id': '7R98'},\n",
       " 'exptl': [{'crystals_number': 1, 'method': 'X-RAY DIFFRACTION'}],\n",
       " 'exptl_crystal': [{'density_matthews': 2.81,\n",
       "   'density_percent_sol': 56.23,\n",
       "   'id': '1'}],\n",
       " 'exptl_crystal_grow': [{'crystal_id': '1',\n",
       "   'method': 'VAPOR DIFFUSION, HANGING DROP',\n",
       "   'pdbx_details': '0.1 M sodium citrate pH 5.6, 0.1 M sodium-potassium tartrate, and 19% PEG 3350',\n",
       "   'temp': 293.0}],\n",
       " 'pdbx_audit_revision_category': [{'category': 'citation',\n",
       "   'data_content_type': 'Structure model',\n",
       "   'ordinal': 1,\n",
       "   'revision_ordinal': 2},\n",
       "  {'category': 'database_2',\n",
       "   'data_content_type': 'Structure model',\n",
       "   'ordinal': 2,\n",
       "   'revision_ordinal': 2},\n",
       "  {'category': 'citation',\n",
       "   'data_content_type': 'Structure model',\n",
       "   'ordinal': 3,\n",
       "   'revision_ordinal': 3},\n",
       "  {'category': 'citation_author',\n",
       "   'data_content_type': 'Structure model',\n",
       "   'ordinal': 4,\n",
       "   'revision_ordinal': 3}],\n",
       " 'pdbx_audit_revision_details': [{'data_content_type': 'Structure model',\n",
       "   'ordinal': 1,\n",
       "   'provider': 'repository',\n",
       "   'revision_ordinal': 1,\n",
       "   'type': 'Initial release'}],\n",
       " 'pdbx_audit_revision_group': [{'data_content_type': 'Structure model',\n",
       "   'group': 'Database references',\n",
       "   'ordinal': 1,\n",
       "   'revision_ordinal': 2},\n",
       "  {'data_content_type': 'Structure model',\n",
       "   'group': 'Database references',\n",
       "   'ordinal': 2,\n",
       "   'revision_ordinal': 3}],\n",
       " 'pdbx_audit_revision_history': [{'data_content_type': 'Structure model',\n",
       "   'major_revision': 1,\n",
       "   'minor_revision': 0,\n",
       "   'ordinal': 1,\n",
       "   'revision_date': '2021-07-07T00:00:00+0000'},\n",
       "  {'data_content_type': 'Structure model',\n",
       "   'major_revision': 1,\n",
       "   'minor_revision': 1,\n",
       "   'ordinal': 2,\n",
       "   'revision_date': '2021-12-01T00:00:00+0000'},\n",
       "  {'data_content_type': 'Structure model',\n",
       "   'major_revision': 1,\n",
       "   'minor_revision': 2,\n",
       "   'ordinal': 3,\n",
       "   'revision_date': '2022-02-09T00:00:00+0000'}],\n",
       " 'pdbx_audit_revision_item': [{'data_content_type': 'Structure model',\n",
       "   'item': '_citation.country',\n",
       "   'ordinal': 1,\n",
       "   'revision_ordinal': 2},\n",
       "  {'data_content_type': 'Structure model',\n",
       "   'item': '_citation.journal_abbrev',\n",
       "   'ordinal': 2,\n",
       "   'revision_ordinal': 2},\n",
       "  {'data_content_type': 'Structure model',\n",
       "   'item': '_citation.journal_id_CSD',\n",
       "   'ordinal': 3,\n",
       "   'revision_ordinal': 2},\n",
       "  {'data_content_type': 'Structure model',\n",
       "   'item': '_citation.pdbx_database_id_DOI',\n",
       "   'ordinal': 4,\n",
       "   'revision_ordinal': 2},\n",
       "  {'data_content_type': 'Structure model',\n",
       "   'item': '_citation.pdbx_database_id_PubMed',\n",
       "   'ordinal': 5,\n",
       "   'revision_ordinal': 2},\n",
       "  {'data_content_type': 'Structure model',\n",
       "   'item': '_citation.title',\n",
       "   'ordinal': 6,\n",
       "   'revision_ordinal': 2},\n",
       "  {'data_content_type': 'Structure model',\n",
       "   'item': '_citation.year',\n",
       "   'ordinal': 7,\n",
       "   'revision_ordinal': 2},\n",
       "  {'data_content_type': 'Structure model',\n",
       "   'item': '_database_2.pdbx_DOI',\n",
       "   'ordinal': 8,\n",
       "   'revision_ordinal': 2},\n",
       "  {'data_content_type': 'Structure model',\n",
       "   'item': '_database_2.pdbx_database_accession',\n",
       "   'ordinal': 9,\n",
       "   'revision_ordinal': 2}],\n",
       " 'pdbx_audit_support': [{'country': 'United States',\n",
       "   'funding_organization': 'National Institutes of Health/National Institute of General Medical Sciences (NIH/NIGMS)',\n",
       "   'grant_number': 'R01GM128464',\n",
       "   'ordinal': 1}],\n",
       " 'pdbx_database_pdbobs_spr': [{'date': '2021-07-07T00:00:00+0000',\n",
       "   'id': 'SPRSDE',\n",
       "   'pdb_id': '7R98',\n",
       "   'replace_pdb_id': '7N0S'}],\n",
       " 'pdbx_database_status': {'deposit_site': 'RCSB',\n",
       "  'pdb_format_compatible': 'Y',\n",
       "  'process_site': 'RCSB',\n",
       "  'recvd_initial_deposition_date': '2021-06-28T00:00:00+0000',\n",
       "  'status_code': 'REL',\n",
       "  'status_code_sf': 'REL',\n",
       "  'sgentry': 'N'},\n",
       " 'pdbx_related_exp_data_set': [{'data_reference': '10.15785/SBGRID/837',\n",
       "   'data_set_type': 'diffraction image data'}],\n",
       " 'pdbx_vrpt_summary': {'babinet_b': 117.278,\n",
       "  'babinet_k': 0.191,\n",
       "  'dcc_r': 0.22,\n",
       "  'eds_r': 0.24,\n",
       "  'fo_fc_correlation': 0.94,\n",
       "  'pdb_r': 0.23,\n",
       "  'wilson_baniso': '[64.010,56.180,83.186,0.000,0.000,0.000]',\n",
       "  'wilson_bestimate': 67.512,\n",
       "  'absolute_percentile_dccrfree': 27.1,\n",
       "  'absolute_percentile_clashscore': 44.7,\n",
       "  'absolute_percentile_percent_rsrzoutliers': 11.6,\n",
       "  'absolute_percentile_percent_ramachandran_outliers': 100.0,\n",
       "  'absolute_percentile_percent_rotamer_outliers': 53.1,\n",
       "  'acentric_outliers': 1,\n",
       "  'angles_rmsz': 0.87,\n",
       "  'attempted_validation_steps': 'molprobity,validation-pack,xtriage,eds,mogul,buster-report,percentiles,writexml',\n",
       "  'bonds_rmsz': 0.79,\n",
       "  'bulk_solvent_b': 57.061,\n",
       "  'bulk_solvent_k': 0.385,\n",
       "  'ccp4version': '7.0.044 (Gargrove)',\n",
       "  'centric_outliers': 0.0,\n",
       "  'clashscore': 6.49,\n",
       "  'data_anisotropy': 0.398,\n",
       "  'data_completeness': 99.22,\n",
       "  'high_resol_relative_percentile_dccrfree': 2.5,\n",
       "  'high_resol_relative_percentile_clashscore': 2.5,\n",
       "  'high_resol_relative_percentile_percent_rsrzoutliers': 2.5,\n",
       "  'high_resol_relative_percentile_percent_ramachandran_outliers': 2.5,\n",
       "  'high_resol_relative_percentile_percent_rotamer_outliers': 2.5,\n",
       "  'low_resol_relative_percentile_dccrfree': 2.5,\n",
       "  'low_resol_relative_percentile_clashscore': 2.5,\n",
       "  'low_resol_relative_percentile_percent_rsrzoutliers': 2.5,\n",
       "  'low_resol_relative_percentile_percent_ramachandran_outliers': 2.5,\n",
       "  'low_resol_relative_percentile_percent_rotamer_outliers': 2.5,\n",
       "  'no_ligands_for_buster_report': 'yes',\n",
       "  'no_ligands_for_mogul': 'yes',\n",
       "  'num_hreduce': 5337.0,\n",
       "  'num_pdbids_absolute_percentile_dccrfree': 130704,\n",
       "  'num_pdbids_absolute_percentile_clashscore': 141614,\n",
       "  'num_pdbids_absolute_percentile_percent_rsrzoutliers': 127900,\n",
       "  'num_pdbids_absolute_percentile_percent_ramachandran_outliers': 138981,\n",
       "  'num_pdbids_absolute_percentile_percent_rotamer_outliers': 138945,\n",
       "  'num_pdbids_relative_percentile_dccrfree': 4661,\n",
       "  'num_pdbids_relative_percentile_clashscore': 5346,\n",
       "  'num_pdbids_relative_percentile_percent_rsrzoutliers': 4559,\n",
       "  'num_pdbids_relative_percentile_percent_ramachandran_outliers': 5231,\n",
       "  'num_pdbids_relative_percentile_percent_rotamer_outliers': 5233,\n",
       "  'num_angles_rmsz': 7822,\n",
       "  'num_bonds_rmsz': 5754,\n",
       "  'num_free_reflections': 1596,\n",
       "  'num_miller_indices': 33553,\n",
       "  'percent_rsrzoutliers': 8.11,\n",
       "  'percent_free_reflections': 4.76,\n",
       "  'percent_ramachandran_outliers': 0.0,\n",
       "  'percent_rotamer_outliers': 2.12,\n",
       "  'percentilebins': ['all', '2.51', 'xray'],\n",
       "  'protein_dnarnaentities': '1,2',\n",
       "  'refmac_version': '5.8.0158',\n",
       "  'relative_percentile_dccrfree': 46.2,\n",
       "  'relative_percentile_clashscore': 64.3,\n",
       "  'relative_percentile_percent_rsrzoutliers': 11.6,\n",
       "  'relative_percentile_percent_ramachandran_outliers': 100.0,\n",
       "  'relative_percentile_percent_rotamer_outliers': 77.7,\n",
       "  'report_creation_date': 'Nov 22, 2021 -- 12:38 PM EST',\n",
       "  'trans_nsc': 'The largest off-origin peak in the Patterson function is 4.25% of the height of the origin peak. No significant pseudotranslation is detected.',\n",
       "  'twin_l': 0.493,\n",
       "  'twin_l2': 0.324,\n",
       "  'twin_fraction': '1/2*h-1/2*k,-3/2*h-1/2*k,-l:0.069;1/2*h+1/2*k,3/2*h-1/2*k,-l:0.083',\n",
       "  'xtriage_input_columns': 'F_meas_au,F_meas_sigma_au',\n",
       "  'bfactor_type': 'FULL',\n",
       "  'dccrfree': 0.26,\n",
       "  'dccrefinement_program': 'PHENIX',\n",
       "  'edsresolution': 2.51,\n",
       "  'edsresolution_low': 87.53,\n",
       "  'iover_sigma': '1.46(2.51A)',\n",
       "  'pdbrfree': 0.27,\n",
       "  'pdbdeposition_date': '2021-06-28T00:00:00+0000',\n",
       "  'pdbresolution': 2.51,\n",
       "  'pdbresolution_low': 87.53,\n",
       "  'pdbrevision_date': '2021-12-01T00:00:00+0000',\n",
       "  'pdbrevision_number': 2.0},\n",
       " 'rcsb_accession_info': {'deposit_date': '2021-06-28T00:00:00+0000',\n",
       "  'has_released_experimental_data': 'Y',\n",
       "  'initial_release_date': '2021-07-07T00:00:00+0000',\n",
       "  'major_revision': 1,\n",
       "  'minor_revision': 2,\n",
       "  'revision_date': '2022-02-09T00:00:00+0000',\n",
       "  'status_code': 'REL'},\n",
       " 'rcsb_entry_container_identifiers': {'assembly_ids': ['1', '2', '3'],\n",
       "  'entity_ids': ['1', '2'],\n",
       "  'entry_id': '7R98',\n",
       "  'model_ids': [1],\n",
       "  'polymer_entity_ids': ['1', '2'],\n",
       "  'rcsb_id': '7R98',\n",
       "  'pubmed_id': 34381460},\n",
       " 'rcsb_entry_info': {'assembly_count': 3,\n",
       "  'branched_entity_count': 0,\n",
       "  'cis_peptide_count': 3,\n",
       "  'deposited_atom_count': 5599,\n",
       "  'deposited_hydrogen_atom_count': 5340,\n",
       "  'deposited_model_count': 1,\n",
       "  'deposited_modeled_polymer_monomer_count': 740,\n",
       "  'deposited_nonpolymer_entity_instance_count': 0,\n",
       "  'deposited_polymer_entity_instance_count': 6,\n",
       "  'deposited_polymer_monomer_count': 801,\n",
       "  'deposited_solvent_atom_count': 0,\n",
       "  'deposited_unmodeled_polymer_monomer_count': 61,\n",
       "  'diffrn_radiation_wavelength_maximum': 0.9792,\n",
       "  'diffrn_radiation_wavelength_minimum': 0.9792,\n",
       "  'disulfide_bond_count': 3,\n",
       "  'entity_count': 2,\n",
       "  'experimental_method': 'X-ray',\n",
       "  'experimental_method_count': 1,\n",
       "  'inter_mol_covalent_bond_count': 0,\n",
       "  'inter_mol_metalic_bond_count': 0,\n",
       "  'molecular_weight': 86.93,\n",
       "  'na_polymer_entity_types': 'Other',\n",
       "  'nonpolymer_entity_count': 0,\n",
       "  'polymer_composition': 'heteromeric protein',\n",
       "  'polymer_entity_count': 2,\n",
       "  'polymer_entity_count_dna': 0,\n",
       "  'polymer_entity_count_rna': 0,\n",
       "  'polymer_entity_count_nucleic_acid': 0,\n",
       "  'polymer_entity_count_nucleic_acid_hybrid': 0,\n",
       "  'polymer_entity_count_protein': 2,\n",
       "  'polymer_entity_taxonomy_count': 2,\n",
       "  'polymer_molecular_weight_maximum': 15.03,\n",
       "  'polymer_molecular_weight_minimum': 13.94,\n",
       "  'polymer_monomer_count_maximum': 140,\n",
       "  'polymer_monomer_count_minimum': 127,\n",
       "  'resolution_combined': [2.51],\n",
       "  'selected_polymer_entity_types': 'Protein (only)',\n",
       "  'software_programs_combined': ['AIMLESS', 'PHASER', 'PHENIX', 'XDS'],\n",
       "  'solvent_entity_count': 0,\n",
       "  'diffrn_resolution_high': {'provenance_source': 'Depositor assigned',\n",
       "   'value': 2.51}},\n",
       " 'rcsb_primary_citation': {'country': 'CH',\n",
       "  'id': 'primary',\n",
       "  'journal_abbrev': 'Front Immunol',\n",
       "  'journal_id_issn': '1664-3224',\n",
       "  'journal_volume': '12',\n",
       "  'page_first': '719037',\n",
       "  'page_last': '719037',\n",
       "  'pdbx_database_id_doi': '10.3389/fimmu.2021.719037',\n",
       "  'pdbx_database_id_pub_med': 34381460,\n",
       "  'rcsb_orcididentifiers': ['?', '?', '?'],\n",
       "  'rcsb_authors': ['Ye, Q.', 'Lu, S.', 'Corbett, K.D.'],\n",
       "  'rcsb_journal_abbrev': 'Front Immunol',\n",
       "  'title': 'Structural Basis for SARS-CoV-2 Nucleocapsid Protein Recognition by Single-Domain Antibodies.',\n",
       "  'year': 2021},\n",
       " 'refine': [{'ls_rfactor_rfree': 0.2732,\n",
       "   'ls_rfactor_rwork': 0.2264,\n",
       "   'ls_rfactor_obs': 0.2285,\n",
       "   'ls_dres_high': 2.51,\n",
       "   'ls_dres_low': 87.53,\n",
       "   'ls_number_reflns_rfree': 1596,\n",
       "   'ls_number_reflns_rwork': 31948,\n",
       "   'ls_number_reflns_obs': 33544,\n",
       "   'ls_percent_reflns_rfree': 4.76,\n",
       "   'ls_percent_reflns_obs': 99.2,\n",
       "   'overall_suml': 0.482,\n",
       "   'pdbx_diffrn_id': ['1'],\n",
       "   'pdbx_ls_cross_valid_method': 'FREE R-VALUE',\n",
       "   'pdbx_ls_sigma_f': 0.32,\n",
       "   'pdbx_method_to_determine_struct': 'MOLECULAR REPLACEMENT',\n",
       "   'pdbx_overall_phase_error': 31.1553,\n",
       "   'pdbx_refine_id': 'X-RAY DIFFRACTION',\n",
       "   'pdbx_solvent_shrinkage_radii': 0.9,\n",
       "   'pdbx_solvent_vdw_probe_radii': 1.11,\n",
       "   'pdbx_starting_model': '7CDZ',\n",
       "   'pdbx_stereochemistry_target_values': 'GeoStd + Monomer Library + CDL v1.2',\n",
       "   'solvent_model_details': 'FLAT BULK SOLVENT MODEL',\n",
       "   'biso_mean': 82.89}],\n",
       " 'refine_hist': [{'cycle_id': 'LAST',\n",
       "   'd_res_high': 2.51,\n",
       "   'd_res_low': 87.53,\n",
       "   'number_atoms_solvent': 0,\n",
       "   'number_atoms_total': 5599,\n",
       "   'pdbx_number_atoms_ligand': 0,\n",
       "   'pdbx_number_atoms_nucleic_acid': 0,\n",
       "   'pdbx_number_atoms_protein': 5599,\n",
       "   'pdbx_refine_id': 'X-RAY DIFFRACTION'}],\n",
       " 'refine_ls_restr': [{'dev_ideal': 0.0157,\n",
       "   'number': 5740,\n",
       "   'pdbx_refine_id': 'X-RAY DIFFRACTION',\n",
       "   'type': 'f_bond_d'},\n",
       "  {'dev_ideal': 1.4934,\n",
       "   'number': 7808,\n",
       "   'pdbx_refine_id': 'X-RAY DIFFRACTION',\n",
       "   'type': 'f_angle_d'},\n",
       "  {'dev_ideal': 0.0776,\n",
       "   'number': 826,\n",
       "   'pdbx_refine_id': 'X-RAY DIFFRACTION',\n",
       "   'type': 'f_chiral_restr'},\n",
       "  {'dev_ideal': 0.0122,\n",
       "   'number': 1026,\n",
       "   'pdbx_refine_id': 'X-RAY DIFFRACTION',\n",
       "   'type': 'f_plane_restr'},\n",
       "  {'dev_ideal': 12.4458,\n",
       "   'number': 2018,\n",
       "   'pdbx_refine_id': 'X-RAY DIFFRACTION',\n",
       "   'type': 'f_dihedral_angle_d'}],\n",
       " 'reflns': [{'d_resolution_high': 2.51,\n",
       "   'd_resolution_low': 112.0,\n",
       "   'number_obs': 33832,\n",
       "   'pdbx_cchalf': 0.996,\n",
       "   'pdbx_rmerge_iobs': 0.214,\n",
       "   'pdbx_rpim_iall': 0.06,\n",
       "   'pdbx_diffrn_id': ['1'],\n",
       "   'pdbx_net_iover_sigma_i': 9.7,\n",
       "   'pdbx_ordinal': 1,\n",
       "   'pdbx_redundancy': 13.7,\n",
       "   'percent_possible_obs': 100.0,\n",
       "   'biso_wilson_estimate': 67.54}],\n",
       " 'reflns_shell': [{'d_res_high': 2.51,\n",
       "   'd_res_low': 2.61,\n",
       "   'mean_iover_sig_iobs': 0.7,\n",
       "   'number_unique_obs': 3761,\n",
       "   'pdbx_cchalf': 0.387,\n",
       "   'pdbx_rpim_iall': 1.161,\n",
       "   'pdbx_diffrn_id': ['1'],\n",
       "   'pdbx_ordinal': 1,\n",
       "   'percent_possible_all': 100.0}],\n",
       " 'software': [{'classification': 'refinement',\n",
       "   'name': 'PHENIX',\n",
       "   'pdbx_ordinal': 1,\n",
       "   'version': '1.19.1_4122'},\n",
       "  {'classification': 'data reduction', 'name': 'XDS', 'pdbx_ordinal': 2},\n",
       "  {'classification': 'data scaling', 'name': 'Aimless', 'pdbx_ordinal': 3},\n",
       "  {'classification': 'phasing', 'name': 'PHASER', 'pdbx_ordinal': 4}],\n",
       " 'struct': {'pdbx_caspflag': 'N',\n",
       "  'title': 'Structure of the SARS-CoV-2 N protein RNA-binding domain bound to single-domain antibody B6'},\n",
       " 'struct_keywords': {'pdbx_keywords': 'VIRAL PROTEIN/IMMUNE SYSTEM',\n",
       "  'text': 'SARS-CoV-2, nanobody, nucleocapsid, VIRUS, VIRAL PROTEIN-IMMUNE SYSTEM complex, RNA BINDING PROTEIN'},\n",
       " 'symmetry': {'int_tables_number': 20,\n",
       "  'space_group_name_hm': 'C 2 2 21',\n",
       "  'space_group_name_hall': 'C 2c 2'},\n",
       " 'rcsb_id': '7R98',\n",
       " 'rcsb_external_references': [{'id': '10.15785/SBGRID/837',\n",
       "   'type': 'SB GRID',\n",
       "   'link': 'https://dx.doi.org/10.15785/SBGRID/837'}]}"
      ]
     },
     "execution_count": 15,
     "metadata": {},
     "output_type": "execute_result"
    }
   ],
   "source": [
    "pdb.handle"
   ]
  },
  {
   "cell_type": "code",
   "execution_count": null,
   "metadata": {},
   "outputs": [],
   "source": []
  },
  {
   "cell_type": "code",
   "execution_count": null,
   "metadata": {},
   "outputs": [],
   "source": []
  },
  {
   "cell_type": "code",
   "execution_count": null,
   "metadata": {},
   "outputs": [],
   "source": []
  },
  {
   "cell_type": "code",
   "execution_count": null,
   "metadata": {},
   "outputs": [],
   "source": []
  },
  {
   "cell_type": "code",
   "execution_count": null,
   "metadata": {},
   "outputs": [],
   "source": []
  },
  {
   "cell_type": "code",
   "execution_count": null,
   "metadata": {},
   "outputs": [],
   "source": []
  },
  {
   "cell_type": "code",
   "execution_count": null,
   "metadata": {},
   "outputs": [],
   "source": []
  },
  {
   "cell_type": "code",
   "execution_count": null,
   "metadata": {},
   "outputs": [],
   "source": []
  },
  {
   "cell_type": "code",
   "execution_count": null,
   "metadata": {},
   "outputs": [],
   "source": []
  },
  {
   "cell_type": "code",
   "execution_count": null,
   "metadata": {},
   "outputs": [],
   "source": []
  },
  {
   "cell_type": "code",
   "execution_count": 3,
   "metadata": {},
   "outputs": [],
   "source": [
    "df = loader.df_output"
   ]
  },
  {
   "cell_type": "code",
   "execution_count": 4,
   "metadata": {},
   "outputs": [],
   "source": [
    "covabdab = ['7mdw_imgt.pdb', '7b18_imgt.pdb', '7r98_imgt.pdb', '7e8c_imgt.pdb', '7sjs_imgt.pdb', '7o9w_imgt.pdb', '7k8s_imgt.pdb', '7k8r_imgt.pdb', '7l0n_imgt.pdb', '7b27_imgt.pdb', '7mzh_imgt.pdb', '7mzi_imgt.pdb', '6zdh_imgt.pdb', '2ghw_imgt.pdb', '4zpt_imgt.pdb', '7cws_imgt.pdb', '7my3_imgt.pdb', '7my2_imgt.pdb', '7vnd_imgt.pdb', '7vne_imgt.pdb', '7e86_imgt.pdb', '7jmx_imgt.pdb', '7m3i_imgt.pdb', '7nd9_imgt.pdb', '7nd8_imgt.pdb', '7czx_imgt.pdb', '7czy_imgt.pdb', '7ora_imgt.pdb', '6war_imgt.pdb', '7ezv_imgt.pdb', '7k8y_imgt.pdb', '7k8x_imgt.pdb', '7f7e_imgt.pdb', '7k45_imgt.pdb', '6zlr_imgt.pdb', '7n9t_imgt.pdb', '7vyr_imgt.pdb', '7klh_imgt.pdb', '7czr_imgt.pdb', '7czs_imgt.pdb', '7soc_imgt.pdb', '7sob_imgt.pdb', '7jw0_imgt.pdb', '7k9j_imgt.pdb', '7k9k_imgt.pdb', '7lxw_imgt.pdb', '7ly0_imgt.pdb', '5vzr_imgt.pdb', '6pxg_imgt.pdb', '7oau_imgt.pdb', '7d4g_imgt.pdb', '7wcr_imgt.pdb', '7a29_imgt.pdb', '7bnv_imgt.pdb', '7q0a_imgt.pdb', '7bei_imgt.pdb', '7beh_imgt.pdb', '7dpm_imgt.pdb', '7cah_imgt.pdb', '7cai_imgt.pdb', '7n3f_imgt.pdb', '7n3g_imgt.pdb', '7nab_imgt.pdb', '7sc1_imgt.pdb', '7tat_imgt.pdb', '7ps1_imgt.pdb', '7ps0_imgt.pdb', '4f2m_imgt.pdb', '6zhd_imgt.pdb', '7l2f_imgt.pdb', '5w9i_imgt.pdb', '5w9h_imgt.pdb', '6ym0_imgt.pdb', '6zcz_imgt.pdb', '7w9f_imgt.pdb', '7rr0_imgt.pdb', '7ldj_imgt.pdb', '7n0h_imgt.pdb', '7n0i_imgt.pdb', '7dcx_imgt.pdb', '7pqy_imgt.pdb', '7m6f_imgt.pdb', '7eam_imgt.pdb', '7m6g_imgt.pdb', '7djz_imgt.pdb', '7ntc_imgt.pdb', '7klw_imgt.pdb', '6xc7_imgt.pdb', '7jx3_imgt.pdb', '7cwm_imgt.pdb', '7cwl_imgt.pdb', '7kn5_imgt.pdb', '7b3o_imgt.pdb', '7d0d_imgt.pdb', '7cac_imgt.pdb', '7mjl_imgt.pdb', '7q9i_imgt.pdb', '7sn1_imgt.pdb', '7jvb_imgt.pdb', '7jvc_imgt.pdb', '7mfu_imgt.pdb', '7ch5_imgt.pdb', '7ch4_imgt.pdb', '6w41_imgt.pdb', '7n9a_imgt.pdb', '7e3b_imgt.pdb', '7e3c_imgt.pdb', '7dk7_imgt.pdb', '7dk6_imgt.pdb', '7d00_imgt.pdb', '7vmu_imgt.pdb', '7qnw_imgt.pdb', '7k8m_imgt.pdb', '7n4j_imgt.pdb', '7jv6_imgt.pdb', '7cyh_imgt.pdb', '6j11_imgt.pdb', '7q0g_imgt.pdb', '7eya_imgt.pdb', '7ben_imgt.pdb', '7beo_imgt.pdb', '4rgn_imgt.pdb', '7tly_imgt.pdb', '7tas_imgt.pdb', '7ps6_imgt.pdb', '7ps7_imgt.pdb', '7can_imgt.pdb', '7c01_imgt.pdb', '7ey4_imgt.pdb', '7ey5_imgt.pdb', '7phg_imgt.pdb', '7ns6_imgt.pdb', '7tn0_imgt.pdb', '7tow_imgt.pdb', '5w9n_imgt.pdb', '5w9o_imgt.pdb', '6xcn_imgt.pdb', '7r8l_imgt.pdb', '7r8m_imgt.pdb', '7kfv_imgt.pdb', '7kfw_imgt.pdb', '7d0c_imgt.pdb', '7d0b_imgt.pdb', '7p77_imgt.pdb', '7n01_imgt.pdb', '7kmi_imgt.pdb', '2dd8_imgt.pdb', '7kmh_imgt.pdb', '7prz_imgt.pdb', '7chf_imgt.pdb', '4zs6_imgt.pdb', '7mjj_imgt.pdb', '7mjk_imgt.pdb', '7neg_imgt.pdb', '7a25_imgt.pdb', '7sg4_imgt.pdb', '6c6y_imgt.pdb', '6c6x_imgt.pdb', '7l58_imgt.pdb', '7m51_imgt.pdb', '6nb6_imgt.pdb', '6nb7_imgt.pdb', '7dk0_imgt.pdb', '7n4l_imgt.pdb', '7n4m_imgt.pdb', '2g75_imgt.pdb', '7rxd_imgt.pdb', '7rnj_imgt.pdb', '7c2l_imgt.pdb', '7wdf_imgt.pdb', '7me7_imgt.pdb', '7pr0_imgt.pdb', '7r7n_imgt.pdb', '7fae_imgt.pdb', '7cyp_imgt.pdb', '7dd8_imgt.pdb', '7e5o_imgt.pdb', '7akd_imgt.pdb', '7k8t_imgt.pdb', '7k8u_imgt.pdb', '7the_imgt.pdb', '7ej5_imgt.pdb', '7vnc_imgt.pdb', '7vnb_imgt.pdb', '7ej4_imgt.pdb', '7lxz_imgt.pdb', '7mzn_imgt.pdb', '7oay_imgt.pdb', '7cwt_imgt.pdb', '7cwu_imgt.pdb', '7or9_imgt.pdb', '7d6i_imgt.pdb', '7lab_imgt.pdb', '7q9p_imgt.pdb', '7v26_imgt.pdb', '7e7x_imgt.pdb', '7e7y_imgt.pdb', '7byr_imgt.pdb', '7dd2_imgt.pdb', '7det_imgt.pdb', '7dzy_imgt.pdb', '7deu_imgt.pdb', '7dzx_imgt.pdb', '7nx7_imgt.pdb', '5w9p_imgt.pdb', '7mkm_imgt.pdb', '7nx6_imgt.pdb', '7cdj_imgt.pdb', '7mkl_imgt.pdb', '7jwb_imgt.pdb', '7nda_imgt.pdb', '7b14_imgt.pdb', '6w7y_imgt.pdb', '7k43_imgt.pdb', '7kza_imgt.pdb', '7bep_imgt.pdb', '6xe1_imgt.pdb', '6zbp_imgt.pdb', '7czu_imgt.pdb', '7nxb_imgt.pdb', '7czt_imgt.pdb', '6yz5_imgt.pdb', '7nd4_imgt.pdb', '7sod_imgt.pdb', '7nd5_imgt.pdb', '7l06_imgt.pdb', '7r6w_imgt.pdb', '7chs_imgt.pdb', '5gmq_imgt.pdb', '7rw2_imgt.pdb', '7l7d_imgt.pdb', '7a5s_imgt.pdb', '7wd8_imgt.pdb', '7a5r_imgt.pdb', '7wd9_imgt.pdb', '7l7e_imgt.pdb', '7kn6_imgt.pdb', '7kn7_imgt.pdb', '6xc4_imgt.pdb', '7kml_imgt.pdb', '7cwn_imgt.pdb', '7chc_imgt.pdb', '7cwo_imgt.pdb', '7chb_imgt.pdb', '6xkq_imgt.pdb', '6xkp_imgt.pdb', '7d2z_imgt.pdb', '6ws6_imgt.pdb', '7mlz_imgt.pdb', '7q0i_imgt.pdb', '7q0h_imgt.pdb', '6xdg_imgt.pdb', '7sn2_imgt.pdb', '7sn3_imgt.pdb', '7jva_imgt.pdb', '7wcz_imgt.pdb', '7tm0_imgt.pdb', '7m8j_imgt.pdb', '7q9k_imgt.pdb', '6zh9_imgt.pdb', '7q9j_imgt.pdb', '6pz8_imgt.pdb', '6nb3_imgt.pdb', '7dk4_imgt.pdb', '7dk5_imgt.pdb', '7mfv_imgt.pdb', '7jxd_imgt.pdb', '7n9c_imgt.pdb', '7m55_imgt.pdb', '6xca_imgt.pdb', '7b0b_imgt.pdb', '7n9b_imgt.pdb', '7jxe_imgt.pdb', '7lx5_imgt.pdb', '7d03_imgt.pdb', '7k8n_imgt.pdb', '7coe_imgt.pdb', '7k8o_imgt.pdb', '7jv4_imgt.pdb', '5do2_imgt.pdb', '7n4i_imgt.pdb', '7k3q_imgt.pdb', '7neh_imgt.pdb', '7lcn_imgt.pdb', '7bej_imgt.pdb', '7bek_imgt.pdb', '7n3e_imgt.pdb', '7jmo_imgt.pdb', '7kfx_imgt.pdb', '7l5b_imgt.pdb', '7kfy_imgt.pdb', '7n3d_imgt.pdb', '7p79_imgt.pdb', '7tht_imgt.pdb', '7jn5_imgt.pdb', '7p78_imgt.pdb', '7cak_imgt.pdb', '7kmg_imgt.pdb', '7ps2_imgt.pdb', '7chh_imgt.pdb', '7ps3_imgt.pdb', '7m7w_imgt.pdb', '7l2d_imgt.pdb', '7l2e_imgt.pdb', '7deo_imgt.pdb', '5w9j_imgt.pdb', '5w9k_imgt.pdb', '7wka_imgt.pdb', '7w9e_imgt.pdb', '7ey0_imgt.pdb', '7l56_imgt.pdb', '7kgk_imgt.pdb', '7l57_imgt.pdb', '7kgj_imgt.pdb', '7pqz_imgt.pdb', '6z43_imgt.pdb', '6nb8_imgt.pdb', '7m6e_imgt.pdb', '7ean_imgt.pdb', '7m6d_imgt.pdb', '7kqe_imgt.pdb', '7ndd_imgt.pdb', '7on5_imgt.pdb', '7orb_imgt.pdb', '7akj_imgt.pdb', '6waq_imgt.pdb', '7k8z_imgt.pdb', '7lka_imgt.pdb', '7ral_imgt.pdb', '7e23_imgt.pdb', '7ksg_imgt.pdb', '6zer_imgt.pdb', '7soa_imgt.pdb', '7tp4_imgt.pdb', '7l02_imgt.pdb', '7n64_imgt.pdb', '7czq_imgt.pdb', '7czp_imgt.pdb', '7cr5_imgt.pdb', '6z2m_imgt.pdb', '7k9i_imgt.pdb', '7ljr_imgt.pdb', '7k9h_imgt.pdb', '7kkl_imgt.pdb', '7jmp_imgt.pdb', '7ly2_imgt.pdb', '7ra8_imgt.pdb', '7ly3_imgt.pdb', '7lqv_imgt.pdb', '7lqw_imgt.pdb', '7m42_imgt.pdb', '7lrs_imgt.pdb', '7k8p_imgt.pdb', '7k8q_imgt.pdb', '6yla_imgt.pdb', '7nx9_imgt.pdb', '7nx8_imgt.pdb', '4zpv_imgt.pdb', '7ks9_imgt.pdb', '7s0e_imgt.pdb', '7m7b_imgt.pdb', '7s0d_imgt.pdb', '7mzk_imgt.pdb', '7mzj_imgt.pdb', '6wps_imgt.pdb', '7wd7_imgt.pdb', '7czz_imgt.pdb', '7l09_imgt.pdb', '7r6x_imgt.pdb', '7ndb_imgt.pdb', '7ndc_imgt.pdb', '7cdi_imgt.pdb', '7ls9_imgt.pdb', '7nkt_imgt.pdb', '7b17_imgt.pdb', '7e8m_imgt.pdb', '7n0r_imgt.pdb', '7kzb_imgt.pdb', '7kzc_imgt.pdb', '7n0s_imgt.pdb', '7dcc_imgt.pdb', '7kkj_imgt.pdb', '7kkk_imgt.pdb', '7nd7_imgt.pdb', '7nd6_imgt.pdb', '7tp3_imgt.pdb', '5yy5_imgt.pdb', '7n62_imgt.pdb', '7czv_imgt.pdb', '7nxa_imgt.pdb', '7olz_imgt.pdb', '7czw_imgt.pdb', '7n5h_imgt.pdb', '7l3n_imgt.pdb', '6yz7_imgt.pdb', '7mzf_imgt.pdb', '7mej_imgt.pdb', '7mzg_imgt.pdb', '6zdg_imgt.pdb', '7chp_imgt.pdb', '7oap_imgt.pdb', '7mf1_imgt.pdb', '7oaq_imgt.pdb', '7e88_imgt.pdb', '7jmw_imgt.pdb', '7e8f_imgt.pdb', '4xak_imgt.pdb', '7lrt_imgt.pdb', '7klg_imgt.pdb', '7m71_imgt.pdb', '6zxn_imgt.pdb', '7faf_imgt.pdb', '7so9_imgt.pdb', '7k8w_imgt.pdb', '7v2a_imgt.pdb', '7k8v_imgt.pdb', '7k90_imgt.pdb', '7lxy_imgt.pdb', '7lxx_imgt.pdb', '7k4n_imgt.pdb', '6wpt_imgt.pdb', '7wd0_imgt.pdb', '7n8i_imgt.pdb', '7n8h_imgt.pdb', '6pxh_imgt.pdb', '7s0b_imgt.pdb', '7s0c_imgt.pdb', '7q6e_imgt.pdb', '7mzl_imgt.pdb', '7mzm_imgt.pdb', '7cjf_imgt.pdb', '7laa_imgt.pdb', '7lk9_imgt.pdb', '7cm4_imgt.pdb', '7ld1_imgt.pdb', '7eh5_imgt.pdb', '7n3h_imgt.pdb', '7n3i_imgt.pdb', '7msq_imgt.pdb', '6zfo_imgt.pdb', '3bgf_imgt.pdb', '6xc2_imgt.pdb', '6xc3_imgt.pdb', '7kmk_imgt.pdb', '7pry_imgt.pdb', '7che_imgt.pdb', '7mji_imgt.pdb', '7q9m_imgt.pdb', '7np1_imgt.pdb', '7k9z_imgt.pdb', '7wk9_imgt.pdb', '6c6z_imgt.pdb', '7wk8_imgt.pdb', '7p7a_imgt.pdb', '7n0g_imgt.pdb', '7f63_imgt.pdb', '7f62_imgt.pdb', '7mmo_imgt.pdb', '7kxk_imgt.pdb', '7kxj_imgt.pdb', '6nb5_imgt.pdb', '6nb4_imgt.pdb', '7m6h_imgt.pdb', '7dk2_imgt.pdb', '7m6i_imgt.pdb', '7m53_imgt.pdb', '7jxc_imgt.pdb', '7m52_imgt.pdb', '7n9e_imgt.pdb', '7jv2_imgt.pdb', '7e5r_imgt.pdb', '7e5s_imgt.pdb', '7bem_imgt.pdb', '7bel_imgt.pdb', '7nll_imgt.pdb', '7q9f_imgt.pdb', '7q9g_imgt.pdb', '7tlz_imgt.pdb', '7lm9_imgt.pdb', '7oan_imgt.pdb', '7ps5_imgt.pdb', '7lm8_imgt.pdb', '7ps4_imgt.pdb', '7cho_imgt.pdb', '7lss_imgt.pdb', '7oao_imgt.pdb', '5zxv_imgt.pdb', '7c8w_imgt.pdb', '7c8v_imgt.pdb', '7e39_imgt.pdb', '7n3c_imgt.pdb', '7mm0_imgt.pdb', '7bwj_imgt.pdb', '7fg3_imgt.pdb', '7fg2_imgt.pdb', '7d30_imgt.pdb', '6xey_imgt.pdb', '7bz5_imgt.pdb', '7e5y_imgt.pdb', '7l2c_imgt.pdb', '5w9m_imgt.pdb', '5w9l_imgt.pdb', '7r8o_imgt.pdb', '7km5_imgt.pdb', '6xcm_imgt.pdb', '7r8n_imgt.pdb', '7lop_imgt.pdb', '7kqb_imgt.pdb', '7kgl_imgt.pdb', '7qnx_imgt.pdb', '7qny_imgt.pdb']"
   ]
  },
  {
   "cell_type": "code",
   "execution_count": 5,
   "metadata": {},
   "outputs": [],
   "source": [
    "covabdab = ['7mdw_imgt.pdb', '7b18_imgt.pdb', '7r98_imgt.pdb', '7e8c_imgt.pdb', '7sjs_imgt.pdb', '7o9w_imgt.pdb', '7k8s_imgt.pdb', '7k8r_imgt.pdb', '7l0n_imgt.pdb', '7b27_imgt.pdb', '7mzh_imgt.pdb', '7mzi_imgt.pdb', '6zdh_imgt.pdb', '2ghw_imgt.pdb', '4zpt_imgt.pdb', '7cws_imgt.pdb', '7my3_imgt.pdb', '7my2_imgt.pdb', '7vnd_imgt.pdb', '7vne_imgt.pdb', '7e86_imgt.pdb', '7jmx_imgt.pdb', '7m3i_imgt.pdb', '7nd9_imgt.pdb', '7nd8_imgt.pdb', '7czx_imgt.pdb', '7czy_imgt.pdb', '7ora_imgt.pdb', '6war_imgt.pdb', '7ezv_imgt.pdb', '7k8y_imgt.pdb', '7k8x_imgt.pdb', '7f7e_imgt.pdb', '7k45_imgt.pdb', '6zlr_imgt.pdb', '7n9t_imgt.pdb', '7vyr_imgt.pdb', '7klh_imgt.pdb', '7czr_imgt.pdb', '7czs_imgt.pdb', '7soc_imgt.pdb', '7sob_imgt.pdb', '7jw0_imgt.pdb', '7k9j_imgt.pdb', '7k9k_imgt.pdb', '7lxw_imgt.pdb', '7ly0_imgt.pdb', '5vzr_imgt.pdb', '6pxg_imgt.pdb', '7oau_imgt.pdb', '7d4g_imgt.pdb', '7wcr_imgt.pdb', '7a29_imgt.pdb', '7bnv_imgt.pdb', '7q0a_imgt.pdb', '7bei_imgt.pdb', '7beh_imgt.pdb', '7dpm_imgt.pdb', '7cah_imgt.pdb', '7cai_imgt.pdb', '7n3f_imgt.pdb', '7n3g_imgt.pdb', '7nab_imgt.pdb', '7sc1_imgt.pdb', '7tat_imgt.pdb', '7ps1_imgt.pdb', '7ps0_imgt.pdb', '4f2m_imgt.pdb', '6zhd_imgt.pdb', '7l2f_imgt.pdb', '5w9i_imgt.pdb', '5w9h_imgt.pdb', '6ym0_imgt.pdb', '6zcz_imgt.pdb', '7w9f_imgt.pdb', '7rr0_imgt.pdb', '7ldj_imgt.pdb', '7n0h_imgt.pdb', '7n0i_imgt.pdb', '7dcx_imgt.pdb', '7pqy_imgt.pdb', '7m6f_imgt.pdb', '7eam_imgt.pdb', '7m6g_imgt.pdb', '7djz_imgt.pdb', '7ntc_imgt.pdb', '7klw_imgt.pdb', '6xc7_imgt.pdb', '7jx3_imgt.pdb', '7cwm_imgt.pdb', '7cwl_imgt.pdb', '7kn5_imgt.pdb', '7b3o_imgt.pdb', '7d0d_imgt.pdb', '7cac_imgt.pdb', '7mjl_imgt.pdb', '7q9i_imgt.pdb', '7sn1_imgt.pdb', '7jvb_imgt.pdb', '7jvc_imgt.pdb', '7mfu_imgt.pdb', '7ch5_imgt.pdb', '7ch4_imgt.pdb', '6w41_imgt.pdb', '7n9a_imgt.pdb', '7e3b_imgt.pdb', '7e3c_imgt.pdb', '7dk7_imgt.pdb', '7dk6_imgt.pdb', '7d00_imgt.pdb', '7vmu_imgt.pdb', '7qnw_imgt.pdb', '7k8m_imgt.pdb', '7n4j_imgt.pdb', '7jv6_imgt.pdb', '7cyh_imgt.pdb', '6j11_imgt.pdb', '7q0g_imgt.pdb', '7eya_imgt.pdb', '7ben_imgt.pdb', '7beo_imgt.pdb', '4rgn_imgt.pdb', '7tly_imgt.pdb', '7tas_imgt.pdb', '7ps6_imgt.pdb', '7ps7_imgt.pdb', '7can_imgt.pdb', '7c01_imgt.pdb', '7ey4_imgt.pdb', '7ey5_imgt.pdb', '7phg_imgt.pdb', '7ns6_imgt.pdb', '7tn0_imgt.pdb', '7tow_imgt.pdb', '5w9n_imgt.pdb', '5w9o_imgt.pdb', '6xcn_imgt.pdb', '7r8l_imgt.pdb', '7r8m_imgt.pdb', '7kfv_imgt.pdb', '7kfw_imgt.pdb', '7d0c_imgt.pdb', '7d0b_imgt.pdb', '7p77_imgt.pdb', '7n01_imgt.pdb', '7kmi_imgt.pdb', '2dd8_imgt.pdb', '7kmh_imgt.pdb', '7prz_imgt.pdb', '7chf_imgt.pdb', '4zs6_imgt.pdb', '7mjj_imgt.pdb', '7mjk_imgt.pdb', '7neg_imgt.pdb', '7a25_imgt.pdb', '7sg4_imgt.pdb', '6c6y_imgt.pdb', '6c6x_imgt.pdb', '7l58_imgt.pdb', '7m51_imgt.pdb', '6nb6_imgt.pdb', '6nb7_imgt.pdb', '7dk0_imgt.pdb', '7n4l_imgt.pdb', '7n4m_imgt.pdb', '2g75_imgt.pdb', '7rxd_imgt.pdb', '7rnj_imgt.pdb', '7c2l_imgt.pdb', '7wdf_imgt.pdb', '7me7_imgt.pdb', '7pr0_imgt.pdb', '7r7n_imgt.pdb', '7fae_imgt.pdb', '7cyp_imgt.pdb', '7dd8_imgt.pdb', '7e5o_imgt.pdb', '7akd_imgt.pdb', '7k8t_imgt.pdb', '7k8u_imgt.pdb', '7the_imgt.pdb', '7ej5_imgt.pdb', '7vnc_imgt.pdb', '7vnb_imgt.pdb', '7ej4_imgt.pdb', '7lxz_imgt.pdb', '7mzn_imgt.pdb', '7oay_imgt.pdb', '7cwt_imgt.pdb', '7cwu_imgt.pdb', '7or9_imgt.pdb', '7d6i_imgt.pdb', '7lab_imgt.pdb', '7q9p_imgt.pdb', '7v26_imgt.pdb', '7e7x_imgt.pdb', '7e7y_imgt.pdb', '7byr_imgt.pdb', '7dd2_imgt.pdb', '7det_imgt.pdb', '7dzy_imgt.pdb', '7deu_imgt.pdb', '7dzx_imgt.pdb', '7nx7_imgt.pdb', '5w9p_imgt.pdb', '7mkm_imgt.pdb', '7nx6_imgt.pdb', '7cdj_imgt.pdb', '7mkl_imgt.pdb', '7jwb_imgt.pdb', '7nda_imgt.pdb', '7b14_imgt.pdb', '6w7y_imgt.pdb', '7k43_imgt.pdb', '7kza_imgt.pdb', '7bep_imgt.pdb', '6xe1_imgt.pdb', '6zbp_imgt.pdb', '7czu_imgt.pdb', '7nxb_imgt.pdb', '7czt_imgt.pdb', '6yz5_imgt.pdb', '7nd4_imgt.pdb', '7sod_imgt.pdb', '7nd5_imgt.pdb', '7l06_imgt.pdb', '7r6w_imgt.pdb', '7chs_imgt.pdb', '5gmq_imgt.pdb', '7rw2_imgt.pdb', '7l7d_imgt.pdb', '7a5s_imgt.pdb', '7wd8_imgt.pdb', '7a5r_imgt.pdb', '7wd9_imgt.pdb', '7l7e_imgt.pdb', '7kn6_imgt.pdb', '7kn7_imgt.pdb', '6xc4_imgt.pdb', '7kml_imgt.pdb', '7cwn_imgt.pdb', '7chc_imgt.pdb', '7cwo_imgt.pdb', '7chb_imgt.pdb', '6xkq_imgt.pdb', '6xkp_imgt.pdb', '7d2z_imgt.pdb', '6ws6_imgt.pdb', '7mlz_imgt.pdb', '7q0i_imgt.pdb', '7q0h_imgt.pdb', '6xdg_imgt.pdb', '7sn2_imgt.pdb', '7sn3_imgt.pdb', '7jva_imgt.pdb', '7wcz_imgt.pdb', '7tm0_imgt.pdb', '7m8j_imgt.pdb', '7q9k_imgt.pdb', '6zh9_imgt.pdb', '7q9j_imgt.pdb', '6pz8_imgt.pdb', '6nb3_imgt.pdb', '7dk4_imgt.pdb', '7dk5_imgt.pdb', '7mfv_imgt.pdb', '7jxd_imgt.pdb', '7n9c_imgt.pdb', '7m55_imgt.pdb', '6xca_imgt.pdb', '7b0b_imgt.pdb', '7n9b_imgt.pdb', '7jxe_imgt.pdb', '7lx5_imgt.pdb', '7d03_imgt.pdb', '7k8n_imgt.pdb', '7coe_imgt.pdb', '7k8o_imgt.pdb', '7jv4_imgt.pdb', '5do2_imgt.pdb', '7n4i_imgt.pdb', '7k3q_imgt.pdb', '7neh_imgt.pdb', '7lcn_imgt.pdb', '7bej_imgt.pdb', '7bek_imgt.pdb', '7n3e_imgt.pdb', '7jmo_imgt.pdb', '7kfx_imgt.pdb', '7l5b_imgt.pdb', '7kfy_imgt.pdb', '7n3d_imgt.pdb', '7p79_imgt.pdb', '7tht_imgt.pdb', '7jn5_imgt.pdb', '7p78_imgt.pdb', '7cak_imgt.pdb', '7kmg_imgt.pdb', '7ps2_imgt.pdb', '7chh_imgt.pdb', '7ps3_imgt.pdb', '7m7w_imgt.pdb', '7l2d_imgt.pdb', '7l2e_imgt.pdb', '7deo_imgt.pdb', '5w9j_imgt.pdb', '5w9k_imgt.pdb', '7wka_imgt.pdb', '7w9e_imgt.pdb', '7ey0_imgt.pdb', '7l56_imgt.pdb', '7kgk_imgt.pdb', '7l57_imgt.pdb', '7kgj_imgt.pdb', '7pqz_imgt.pdb', '6z43_imgt.pdb', '6nb8_imgt.pdb', '7m6e_imgt.pdb', '7ean_imgt.pdb', '7m6d_imgt.pdb', '7kqe_imgt.pdb', '7ndd_imgt.pdb', '7on5_imgt.pdb', '7orb_imgt.pdb', '7akj_imgt.pdb', '6waq_imgt.pdb', '7k8z_imgt.pdb', '7lka_imgt.pdb', '7ral_imgt.pdb', '7e23_imgt.pdb', '7ksg_imgt.pdb', '6zer_imgt.pdb', '7soa_imgt.pdb', '7tp4_imgt.pdb', '7l02_imgt.pdb', '7n64_imgt.pdb', '7czq_imgt.pdb', '7czp_imgt.pdb', '7cr5_imgt.pdb', '6z2m_imgt.pdb', '7k9i_imgt.pdb', '7ljr_imgt.pdb', '7k9h_imgt.pdb', '7kkl_imgt.pdb', '7jmp_imgt.pdb', '7ly2_imgt.pdb', '7ra8_imgt.pdb', '7ly3_imgt.pdb', '7lqv_imgt.pdb', '7lqw_imgt.pdb', '7m42_imgt.pdb', '7lrs_imgt.pdb', '7k8p_imgt.pdb', '7k8q_imgt.pdb', '6yla_imgt.pdb', '7nx9_imgt.pdb', '7nx8_imgt.pdb', '4zpv_imgt.pdb', '7ks9_imgt.pdb', '7s0e_imgt.pdb', '7m7b_imgt.pdb', '7s0d_imgt.pdb', '7mzk_imgt.pdb', '7mzj_imgt.pdb', '6wps_imgt.pdb', '7wd7_imgt.pdb', '7czz_imgt.pdb', '7l09_imgt.pdb', '7r6x_imgt.pdb', '7ndb_imgt.pdb', '7ndc_imgt.pdb', '7cdi_imgt.pdb', '7ls9_imgt.pdb', '7nkt_imgt.pdb', '7b17_imgt.pdb', '7e8m_imgt.pdb', '7n0r_imgt.pdb', '7kzb_imgt.pdb', '7kzc_imgt.pdb', '7n0s_imgt.pdb', '7dcc_imgt.pdb', '7kkj_imgt.pdb', '7kkk_imgt.pdb', '7nd7_imgt.pdb', '7nd6_imgt.pdb', '7tp3_imgt.pdb', '5yy5_imgt.pdb', '7n62_imgt.pdb', '7czv_imgt.pdb', '7nxa_imgt.pdb', '7olz_imgt.pdb', '7czw_imgt.pdb', '7n5h_imgt.pdb', '7l3n_imgt.pdb', '6yz7_imgt.pdb', '7mzf_imgt.pdb', '7mej_imgt.pdb', '7mzg_imgt.pdb', '6zdg_imgt.pdb', '7chp_imgt.pdb', '7oap_imgt.pdb', '7mf1_imgt.pdb', '7oaq_imgt.pdb', '7e88_imgt.pdb', '7jmw_imgt.pdb', '7e8f_imgt.pdb', '4xak_imgt.pdb', '7lrt_imgt.pdb', '7klg_imgt.pdb', '7m71_imgt.pdb', '6zxn_imgt.pdb', '7faf_imgt.pdb', '7so9_imgt.pdb', '7k8w_imgt.pdb', '7v2a_imgt.pdb', '7k8v_imgt.pdb', '7k90_imgt.pdb', '7lxy_imgt.pdb', '7lxx_imgt.pdb', '7k4n_imgt.pdb', '6wpt_imgt.pdb', '7wd0_imgt.pdb', '7n8i_imgt.pdb', '7n8h_imgt.pdb', '6pxh_imgt.pdb', '7s0b_imgt.pdb', '7s0c_imgt.pdb', '7q6e_imgt.pdb', '7mzl_imgt.pdb', '7mzm_imgt.pdb', '7cjf_imgt.pdb', '7laa_imgt.pdb', '7lk9_imgt.pdb', '7cm4_imgt.pdb', '7ld1_imgt.pdb', '7eh5_imgt.pdb', '7n3h_imgt.pdb', '7n3i_imgt.pdb', '7msq_imgt.pdb', '6zfo_imgt.pdb', '3bgf_imgt.pdb', '6xc2_imgt.pdb', '6xc3_imgt.pdb', '7kmk_imgt.pdb', '7pry_imgt.pdb', '7che_imgt.pdb', '7mji_imgt.pdb', '7q9m_imgt.pdb', '7np1_imgt.pdb', '7k9z_imgt.pdb', '7wk9_imgt.pdb', '6c6z_imgt.pdb', '7wk8_imgt.pdb', '7p7a_imgt.pdb', '7n0g_imgt.pdb', '7f63_imgt.pdb', '7f62_imgt.pdb', '7mmo_imgt.pdb', '7kxk_imgt.pdb', '7kxj_imgt.pdb', '6nb5_imgt.pdb', '6nb4_imgt.pdb', '7m6h_imgt.pdb', '7dk2_imgt.pdb', '7m6i_imgt.pdb', '7m53_imgt.pdb', '7jxc_imgt.pdb', '7m52_imgt.pdb', '7n9e_imgt.pdb', '7jv2_imgt.pdb', '7e5r_imgt.pdb', '7e5s_imgt.pdb', '7bem_imgt.pdb', '7bel_imgt.pdb', '7nll_imgt.pdb', '7q9f_imgt.pdb', '7q9g_imgt.pdb', '7tlz_imgt.pdb', '7lm9_imgt.pdb', '7oan_imgt.pdb', '7ps5_imgt.pdb', '7lm8_imgt.pdb', '7ps4_imgt.pdb', '7cho_imgt.pdb', '7lss_imgt.pdb', '7oao_imgt.pdb', '5zxv_imgt.pdb', '7c8w_imgt.pdb', '7c8v_imgt.pdb', '7e39_imgt.pdb', '7n3c_imgt.pdb', '7mm0_imgt.pdb', '7bwj_imgt.pdb', '7fg3_imgt.pdb', '7fg2_imgt.pdb', '7d30_imgt.pdb', '6xey_imgt.pdb', '7bz5_imgt.pdb', '7e5y_imgt.pdb', '7l2c_imgt.pdb', '5w9m_imgt.pdb', '5w9l_imgt.pdb', '7r8o_imgt.pdb', '7km5_imgt.pdb', '6xcm_imgt.pdb', '7r8n_imgt.pdb', '7lop_imgt.pdb', '7kqb_imgt.pdb', '7kgl_imgt.pdb', '7qnx_imgt.pdb', '7qny_imgt.pdb']\n",
    "covabdab = [c.replace('_imgt.pdb', '').upper() for c in covabdab]\n",
    "covabdab = set(covabdab)\n",
    "scrape = set(df.pdb_id.tolist())\n",
    "in_both = scrape.intersection(covabdab)\n",
    "just_scrape = scrape.difference(covabdab)\n",
    "just_covabdab = covabdab.difference(scrape)"
   ]
  },
  {
   "cell_type": "code",
   "execution_count": 6,
   "metadata": {},
   "outputs": [
    {
     "data": {
      "image/png": "[encoded data removed]",
      "text/plain": [
       "<Figure size 432x288 with 1 Axes>"
      ]
     },
     "metadata": {},
     "output_type": "display_data"
    }
   ],
   "source": [
    "plt.title(\"Antibody PDBs\")\n",
    "venn2(subsets = (len(just_scrape), len(just_covabdab), len(in_both)), \n",
    "            set_labels = ('Scrape', 'CoV-AbDab'))\n",
    "plt.savefig('venn.png', dpi=300)\n",
    "plt.show()\n"
   ]
  },
  {
   "cell_type": "code",
   "execution_count": 7,
   "metadata": {},
   "outputs": [
    {
     "name": "stdout",
     "output_type": "stream",
     "text": [
      "n_cov 511\n",
      "n_scrape 887\n",
      "n_both 436\n"
     ]
    }
   ],
   "source": [
    "print('n_cov', len(covabdab))\n",
    "print('n_scrape', len(scrape))\n",
    "print('n_both', len(in_both))"
   ]
  },
  {
   "cell_type": "code",
   "execution_count": 25,
   "metadata": {},
   "outputs": [
    {
     "data": {
      "text/html": [
       "<div>\n",
       "<style scoped>\n",
       "    .dataframe tbody tr th:only-of-type {\n",
       "        vertical-align: middle;\n",
       "    }\n",
       "\n",
       "    .dataframe tbody tr th {\n",
       "        vertical-align: top;\n",
       "    }\n",
       "\n",
       "    .dataframe thead th {\n",
       "        text-align: right;\n",
       "    }\n",
       "</style>\n",
       "<table border=\"1\" class=\"dataframe\">\n",
       "  <thead>\n",
       "    <tr style=\"text-align: right;\">\n",
       "      <th></th>\n",
       "      <th>pdb_id</th>\n",
       "      <th>VH</th>\n",
       "      <th>VL</th>\n",
       "      <th>CDRH1</th>\n",
       "      <th>CDRH2</th>\n",
       "      <th>CDRH3</th>\n",
       "      <th>CDRL1</th>\n",
       "      <th>CDRL2</th>\n",
       "      <th>CDRL3</th>\n",
       "      <th>VA</th>\n",
       "      <th>VB</th>\n",
       "      <th>VD</th>\n",
       "      <th>chain_id</th>\n",
       "      <th>used_sabdab</th>\n",
       "    </tr>\n",
       "  </thead>\n",
       "  <tbody>\n",
       "    <tr>\n",
       "      <th>833</th>\n",
       "      <td>5TP3</td>\n",
       "      <td>VQLQESGGGLVQPGGSLRLSCAASGFTLDYYYIGWFRQAPGKEREA...</td>\n",
       "      <td>None</td>\n",
       "      <td>GFTLDYY</td>\n",
       "      <td>SGSSGS</td>\n",
       "      <td>IRSSSWGGCVHYGMDY</td>\n",
       "      <td>NaN</td>\n",
       "      <td>NaN</td>\n",
       "      <td>NaN</td>\n",
       "      <td>NaN</td>\n",
       "      <td>NaN</td>\n",
       "      <td>NaN</td>\n",
       "      <td>NaN</td>\n",
       "      <td>True</td>\n",
       "    </tr>\n",
       "  </tbody>\n",
       "</table>\n",
       "</div>"
      ],
      "text/plain": [
       "    pdb_id                                                 VH    VL    CDRH1  \\\n",
       "833   5TP3  VQLQESGGGLVQPGGSLRLSCAASGFTLDYYYIGWFRQAPGKEREA...  None  GFTLDYY   \n",
       "\n",
       "      CDRH2             CDRH3 CDRL1 CDRL2 CDRL3   VA   VB   VD chain_id  \\\n",
       "833  SGSSGS  IRSSSWGGCVHYGMDY   NaN   NaN   NaN  NaN  NaN  NaN      NaN   \n",
       "\n",
       "     used_sabdab  \n",
       "833         True  "
      ]
     },
     "execution_count": 25,
     "metadata": {},
     "output_type": "execute_result"
    }
   ],
   "source": [
    "df.loc[df.pdb_id == \"5TP3\"]"
   ]
  },
  {
   "cell_type": "code",
   "execution_count": 20,
   "metadata": {},
   "outputs": [],
   "source": [
    "import numpy as np\n",
    "selection = list(just_scrape)\n",
    "np.random.shuffle(selection)\n",
    "selection = selection[:20]"
   ]
  },
  {
   "cell_type": "code",
   "execution_count": 21,
   "metadata": {},
   "outputs": [
    {
     "data": {
      "text/plain": [
       "['5TP3',\n",
       " '7P5W',\n",
       " '7JKT',\n",
       " '5YUP',\n",
       " '5GGU',\n",
       " '5E9D',\n",
       " '4JAN',\n",
       " '5K8A',\n",
       " '3N9G',\n",
       " '7RXC',\n",
       " '6O3B',\n",
       " '4KRO',\n",
       " '1IGC',\n",
       " '3TYG',\n",
       " '5F3H',\n",
       " '4DN3',\n",
       " '4JHW',\n",
       " '7S5P',\n",
       " '3VXR',\n",
       " '2FD6']"
      ]
     },
     "execution_count": 21,
     "metadata": {},
     "output_type": "execute_result"
    }
   ],
   "source": [
    "selection"
   ]
  },
  {
   "cell_type": "code",
   "execution_count": null,
   "metadata": {},
   "outputs": [],
   "source": []
  },
  {
   "cell_type": "code",
   "execution_count": null,
   "metadata": {},
   "outputs": [],
   "source": []
  },
  {
   "cell_type": "code",
   "execution_count": null,
   "metadata": {},
   "outputs": [],
   "source": []
  },
  {
   "cell_type": "code",
   "execution_count": null,
   "metadata": {},
   "outputs": [],
   "source": []
  },
  {
   "cell_type": "code",
   "execution_count": null,
   "metadata": {},
   "outputs": [],
   "source": []
  },
  {
   "cell_type": "code",
   "execution_count": 8,
   "metadata": {},
   "outputs": [],
   "source": [
    "from papers2ids import Papers"
   ]
  },
  {
   "cell_type": "code",
   "execution_count": 44,
   "metadata": {},
   "outputs": [
    {
     "name": "stdout",
     "output_type": "stream",
     "text": [
      "getting pubmed\n",
      "exists\n",
      "getting biorxiv\n",
      "exists\n",
      "exists\n"
     ]
    }
   ],
   "source": [
    "papers = Papers(\"2022_03_08\")\n",
    "papers.get_input_data()"
   ]
  },
  {
   "cell_type": "code",
   "execution_count": 46,
   "metadata": {},
   "outputs": [
    {
     "data": {
      "text/plain": [
       "5626"
      ]
     },
     "execution_count": 46,
     "metadata": {},
     "output_type": "execute_result"
    }
   ],
   "source": [
    "len(papers.input_data)"
   ]
  },
  {
   "cell_type": "code",
   "execution_count": 56,
   "metadata": {},
   "outputs": [
    {
     "data": {
      "text/plain": [
       "887 antibodies of 8945 PDBs"
      ]
     },
     "execution_count": 56,
     "metadata": {},
     "output_type": "execute_result"
    }
   ],
   "source": [
    "loader"
   ]
  },
  {
   "cell_type": "code",
   "execution_count": 1,
   "metadata": {},
   "outputs": [
    {
     "ename": "NameError",
     "evalue": "name 'just_scrape' is not defined",
     "output_type": "error",
     "traceback": [
      "\u001b[0;31m---------------------------------------------------------------------------\u001b[0m",
      "\u001b[0;31mNameError\u001b[0m                                 Traceback (most recent call last)",
      "\u001b[1;32m/Users/jessemurray/Desktop/Main/ADB/auto-db-pipeline/auto_db_pipeline/temp-load_pdbs.ipynb Cell 11'\u001b[0m in \u001b[0;36m<module>\u001b[0;34m\u001b[0m\n\u001b[0;32m----> <a href='vscode-notebook-cell:/Users/jessemurray/Desktop/Main/ADB/auto-db-pipeline/auto_db_pipeline/temp-load_pdbs.ipynb#ch0000010?line=0'>1</a>\u001b[0m just_scrape\n",
      "\u001b[0;31mNameError\u001b[0m: name 'just_scrape' is not defined"
     ]
    }
   ],
   "source": [
    "just_scrape"
   ]
  },
  {
   "cell_type": "code",
   "execution_count": 52,
   "metadata": {},
   "outputs": [],
   "source": [
    "from papers2ids import IDsLoader\n",
    "loader_papers = IDsLoader(\"2022_03_08\")"
   ]
  },
  {
   "cell_type": "code",
   "execution_count": 53,
   "metadata": {},
   "outputs": [],
   "source": [
    "loader_papers()"
   ]
  },
  {
   "cell_type": "code",
   "execution_count": 55,
   "metadata": {},
   "outputs": [
    {
     "data": {
      "text/plain": [
       "30049"
      ]
     },
     "execution_count": 55,
     "metadata": {},
     "output_type": "execute_result"
    }
   ],
   "source": [
    "len(loader_papers.ids_possible['pdb_id'].keys())"
   ]
  },
  {
   "cell_type": "code",
   "execution_count": null,
   "metadata": {},
   "outputs": [],
   "source": []
  },
  {
   "cell_type": "code",
   "execution_count": null,
   "metadata": {},
   "outputs": [],
   "source": []
  },
  {
   "cell_type": "code",
   "execution_count": 49,
   "metadata": {},
   "outputs": [
    {
     "data": {
      "text/plain": [
       "887 antibodies of 8945 PDBs"
      ]
     },
     "execution_count": 49,
     "metadata": {},
     "output_type": "execute_result"
    }
   ],
   "source": [
    "loader"
   ]
  },
  {
   "cell_type": "code",
   "execution_count": null,
   "metadata": {},
   "outputs": [],
   "source": []
  },
  {
   "cell_type": "code",
   "execution_count": null,
   "metadata": {},
   "outputs": [],
   "source": []
  },
  {
   "cell_type": "markdown",
   "metadata": {},
   "source": [
    "1. Remove duplicate fabs it's hashable so fab == fab can return True\n",
    "2. Throw away chains of the PDB\n"
   ]
  },
  {
   "cell_type": "code",
   "execution_count": null,
   "metadata": {},
   "outputs": [],
   "source": []
  },
  {
   "cell_type": "code",
   "execution_count": null,
   "metadata": {},
   "outputs": [],
   "source": []
  },
  {
   "cell_type": "code",
   "execution_count": null,
   "metadata": {},
   "outputs": [],
   "source": []
  },
  {
   "cell_type": "code",
   "execution_count": null,
   "metadata": {},
   "outputs": [],
   "source": []
  },
  {
   "cell_type": "code",
   "execution_count": null,
   "metadata": {},
   "outputs": [],
   "source": []
  },
  {
   "cell_type": "code",
   "execution_count": null,
   "metadata": {},
   "outputs": [],
   "source": []
  }
 ],
 "metadata": {
  "interpreter": {
   "hash": "c30f2af5f468e7f5b45bcc30fca5f4886c90d54777aed916ed5f6294dfb24bf2"
  },
  "kernelspec": {
   "display_name": "Python 3.9.5 ('base')",
   "language": "python",
   "name": "python3"
  },
  "language_info": {
   "codemirror_mode": {
    "name": "ipython",
    "version": 3
   },
   "file_extension": ".py",
   "mimetype": "text/x-python",
   "name": "python",
   "nbconvert_exporter": "python",
   "pygments_lexer": "ipython3",
   "version": "3.9.5"
  },
  "orig_nbformat": 4
 },
 "nbformat": 4,
 "nbformat_minor": 2
}
