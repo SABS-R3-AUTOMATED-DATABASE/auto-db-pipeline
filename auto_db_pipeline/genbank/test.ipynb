{
 "cells": [
  {
   "cell_type": "code",
   "execution_count": 3,
   "metadata": {},
   "outputs": [
    {
     "name": "stderr",
     "output_type": "stream",
     "text": [
      "/Users/fabian/miniconda3/envs/auto-db-pipeline/lib/python3.8/site-packages/Bio/SubsMat/__init__.py:126: BiopythonDeprecationWarning: Bio.SubsMat has been deprecated, and we intend to remove it in a future release of Biopython. As an alternative, please consider using Bio.Align.substitution_matrices as a replacement, and contact the Biopython developers if you still need the Bio.SubsMat module.\n",
      "  warnings.warn(\n",
      "Database path /Volumes/LaCie/sabdab-sabpred/data/ABDB was not found.\n",
      "Warning: ABDB file system was not found. Database access not available\n"
     ]
    }
   ],
   "source": [
    "from proteins2info import InfoRetrieval"
   ]
  },
  {
   "cell_type": "code",
   "execution_count": 10,
   "metadata": {},
   "outputs": [
    {
     "data": {
      "text/plain": [
       "11493"
      ]
     },
     "execution_count": 10,
     "metadata": {},
     "output_type": "execute_result"
    }
   ],
   "source": [
    "genbank = InfoRetrieval()\n",
    "len(genbank.entries)"
   ]
  },
  {
   "cell_type": "code",
   "execution_count": 11,
   "metadata": {},
   "outputs": [
    {
     "name": "stdout",
     "output_type": "stream",
     "text": [
      "Number of entires removed by antibody filter: 5166\n",
      "Number of entires after antibody filter: 6327\n",
      "----------\n"
     ]
    }
   ],
   "source": [
    "genbank.filter_AB_entries()"
   ]
  },
  {
   "cell_type": "code",
   "execution_count": 12,
   "metadata": {},
   "outputs": [],
   "source": [
    "genbank.classify_vh_vl_anarci()"
   ]
  },
  {
   "cell_type": "code",
   "execution_count": 16,
   "metadata": {},
   "outputs": [
    {
     "name": "stdout",
     "output_type": "stream",
     "text": [
      "Number of entries where antigen was determined: 0\n",
      "Number of entries where antigen was not determined: 6327\n",
      "----------\n"
     ]
    }
   ],
   "source": [
    "genbank.find_antigen({})"
   ]
  },
  {
   "cell_type": "code",
   "execution_count": 17,
   "metadata": {},
   "outputs": [
    {
     "name": "stdout",
     "output_type": "stream",
     "text": [
      "Number of entries where fragement name was determined: 1733\n",
      "Number of entries where fragment name was not determined: 4594\n",
      "----------\n"
     ]
    }
   ],
   "source": [
    "genbank.find_fragment_id()"
   ]
  },
  {
   "cell_type": "code",
   "execution_count": 18,
   "metadata": {},
   "outputs": [],
   "source": [
    "genbank.find_nanobodies()"
   ]
  },
  {
   "cell_type": "code",
   "execution_count": 19,
   "metadata": {},
   "outputs": [
    {
     "name": "stdout",
     "output_type": "stream",
     "text": [
      "Number of nanobodies: 155\n",
      "Number of antibodies: 6172\n",
      "----------\n"
     ]
    }
   ],
   "source": [
    "genbank.seperate_nanobodies()"
   ]
  },
  {
   "cell_type": "code",
   "execution_count": 20,
   "metadata": {},
   "outputs": [],
   "source": [
    "genbank.group_by_publication()"
   ]
  },
  {
   "cell_type": "code",
   "execution_count": 21,
   "metadata": {},
   "outputs": [
    {
     "name": "stdout",
     "output_type": "stream",
     "text": [
      "Number of sequence pairs: 766\n",
      "Number of sequences that could not be paired in attempt 1: 4640\n",
      "----------\n"
     ]
    }
   ],
   "source": [
    "genbank.pair_vh_vl()"
   ]
  },
  {
   "cell_type": "code",
   "execution_count": 24,
   "metadata": {},
   "outputs": [
    {
     "data": {
      "text/plain": [
       "{'GBSeq_locus': 'UGO91527',\n",
       " 'GBSeq_moltype': 'AA',\n",
       " 'GBSeq_update-date': '15-DEC-2021',\n",
       " 'GBSeq_create-date': '15-DEC-2021',\n",
       " 'GBSeq_definition': 'immunoglobulin heavy chain variable region, partial [Homo sapiens]',\n",
       " 'GBSeq_accession-version': 'UGO91527.1',\n",
       " 'GBSeq_source': 'Homo sapiens (human)',\n",
       " 'GBSeq_sequence': 'qvqlqesgpglvkpsetlsltctvsggsissyywswirqppgkglewigyiyysgstnynpslksrvtisvdtsknqfslklssvtaadtavyycardirdssgwanwfdpwgqgtlvtvss',\n",
       " 'GBSeq_references': [{'GBReference_authors': ['Cho,H.',\n",
       "    'Gonzales-Wartz,K.K.',\n",
       "    'Huang,D.',\n",
       "    'Yuan,M.',\n",
       "    'Peterson,M.',\n",
       "    'Liang,J.',\n",
       "    'Beutler,N.',\n",
       "    'Torres,J.L.',\n",
       "    'Cong,Y.',\n",
       "    'Postnikova,E.',\n",
       "    'Bangaru,S.',\n",
       "    'Talana,C.A.',\n",
       "    'Shi,W.',\n",
       "    'Yang,E.S.',\n",
       "    'Zhang,Y.',\n",
       "    'Leung,K.',\n",
       "    'Wang,L.',\n",
       "    'Peng,L.',\n",
       "    'Skinner,J.',\n",
       "    'Li,S.',\n",
       "    'Wu,N.C.',\n",
       "    'Liu,H.',\n",
       "    'Dacon,C.',\n",
       "    'Moyer,T.',\n",
       "    'Cohen,M.',\n",
       "    'Zhao,M.',\n",
       "    'Lee,F.E.',\n",
       "    'Weinberg,R.S.',\n",
       "    'Douagi,I.',\n",
       "    'Gross,R.',\n",
       "    'Schmaljohn,C.',\n",
       "    'Pegu,A.',\n",
       "    'Mascola,J.R.',\n",
       "    'Holbrook,M.',\n",
       "    'Nemazee,D.',\n",
       "    'Rogers,T.F.',\n",
       "    'Ward,A.B.',\n",
       "    'Wilson,I.A.',\n",
       "    'Crompton,P.D.',\n",
       "    'Tan,J.'],\n",
       "   'GBReference_title': 'Bispecific antibodies targeting distinct regions of the spike protein potently neutralize SARS-CoV-2 variants of concern',\n",
       "   'GBReference_journal': 'Sci Transl Med 13 (616), eabj5413 (2021)',\n",
       "   'GBReference_xref': [{'GBXref_dbname': 'doi',\n",
       "     'GBXref_id': '10.1126/scitranslmed.abj5413'}]}],\n",
       " 'chain': 'H',\n",
       " 'antigen': 'unknown',\n",
       " 'antibody_type': 'antibody'}"
      ]
     },
     "execution_count": 24,
     "metadata": {},
     "output_type": "execute_result"
    }
   ],
   "source": [
    "genbank.unpaired_entries[0][0]"
   ]
  },
  {
   "cell_type": "code",
   "execution_count": 25,
   "metadata": {},
   "outputs": [],
   "source": [
    "import pandas as pd\n",
    "df = pd.read_csv('sabdab_summary_all.tsv', sep='\\t')"
   ]
  },
  {
   "cell_type": "code",
   "execution_count": 26,
   "metadata": {},
   "outputs": [
    {
     "data": {
      "text/html": [
       "<div>\n",
       "<style scoped>\n",
       "    .dataframe tbody tr th:only-of-type {\n",
       "        vertical-align: middle;\n",
       "    }\n",
       "\n",
       "    .dataframe tbody tr th {\n",
       "        vertical-align: top;\n",
       "    }\n",
       "\n",
       "    .dataframe thead th {\n",
       "        text-align: right;\n",
       "    }\n",
       "</style>\n",
       "<table border=\"1\" class=\"dataframe\">\n",
       "  <thead>\n",
       "    <tr style=\"text-align: right;\">\n",
       "      <th></th>\n",
       "      <th>pdb</th>\n",
       "      <th>Hchain</th>\n",
       "      <th>Lchain</th>\n",
       "      <th>model</th>\n",
       "      <th>antigen_chain</th>\n",
       "      <th>antigen_type</th>\n",
       "      <th>antigen_het_name</th>\n",
       "      <th>antigen_name</th>\n",
       "      <th>short_header</th>\n",
       "      <th>date</th>\n",
       "      <th>...</th>\n",
       "      <th>scfv</th>\n",
       "      <th>engineered</th>\n",
       "      <th>heavy_subclass</th>\n",
       "      <th>light_subclass</th>\n",
       "      <th>light_ctype</th>\n",
       "      <th>affinity</th>\n",
       "      <th>delta_g</th>\n",
       "      <th>affinity_method</th>\n",
       "      <th>temperature</th>\n",
       "      <th>pmid</th>\n",
       "    </tr>\n",
       "  </thead>\n",
       "  <tbody>\n",
       "    <tr>\n",
       "      <th>0</th>\n",
       "      <td>7srr</td>\n",
       "      <td>E</td>\n",
       "      <td>e</td>\n",
       "      <td>0</td>\n",
       "      <td>B | C</td>\n",
       "      <td>protein | protein</td>\n",
       "      <td>NA | NA</td>\n",
       "      <td>g protein subunit q (gi2-mini-gq chimera) | gu...</td>\n",
       "      <td>MEMBRANE PROTEIN</td>\n",
       "      <td>09/21/22</td>\n",
       "      <td>...</td>\n",
       "      <td>True</td>\n",
       "      <td>True</td>\n",
       "      <td>unknown</td>\n",
       "      <td>unknown</td>\n",
       "      <td>unknown</td>\n",
       "      <td>None</td>\n",
       "      <td>None</td>\n",
       "      <td>None</td>\n",
       "      <td>None</td>\n",
       "      <td>None</td>\n",
       "    </tr>\n",
       "    <tr>\n",
       "      <th>1</th>\n",
       "      <td>7srs</td>\n",
       "      <td>Q</td>\n",
       "      <td>P</td>\n",
       "      <td>0</td>\n",
       "      <td>R</td>\n",
       "      <td>protein</td>\n",
       "      <td>NaN</td>\n",
       "      <td>5-hydroxytryptamine receptor 2b</td>\n",
       "      <td>MEMBRANE PROTEIN</td>\n",
       "      <td>09/21/22</td>\n",
       "      <td>...</td>\n",
       "      <td>False</td>\n",
       "      <td>True</td>\n",
       "      <td>IGHV1</td>\n",
       "      <td>IGKV4</td>\n",
       "      <td>Kappa</td>\n",
       "      <td>None</td>\n",
       "      <td>None</td>\n",
       "      <td>None</td>\n",
       "      <td>None</td>\n",
       "      <td>None</td>\n",
       "    </tr>\n",
       "    <tr>\n",
       "      <th>2</th>\n",
       "      <td>7srs</td>\n",
       "      <td>H</td>\n",
       "      <td>L</td>\n",
       "      <td>0</td>\n",
       "      <td>C</td>\n",
       "      <td>protein</td>\n",
       "      <td>NaN</td>\n",
       "      <td>isoform 1b of beta-arrestin-1</td>\n",
       "      <td>MEMBRANE PROTEIN</td>\n",
       "      <td>09/21/22</td>\n",
       "      <td>...</td>\n",
       "      <td>False</td>\n",
       "      <td>True</td>\n",
       "      <td>IGHV3</td>\n",
       "      <td>IGKV1</td>\n",
       "      <td>Kappa</td>\n",
       "      <td>None</td>\n",
       "      <td>None</td>\n",
       "      <td>None</td>\n",
       "      <td>None</td>\n",
       "      <td>None</td>\n",
       "    </tr>\n",
       "    <tr>\n",
       "      <th>3</th>\n",
       "      <td>7ut3</td>\n",
       "      <td>H</td>\n",
       "      <td>L</td>\n",
       "      <td>0</td>\n",
       "      <td>L</td>\n",
       "      <td>Hapten</td>\n",
       "      <td>TI0</td>\n",
       "      <td>4-nitrophenyl 2-acetamido-2-deoxy-alpha-D-gala...</td>\n",
       "      <td>IMMUNE SYSTEM</td>\n",
       "      <td>09/21/22</td>\n",
       "      <td>...</td>\n",
       "      <td>False</td>\n",
       "      <td>True</td>\n",
       "      <td>IGHV5</td>\n",
       "      <td>IGKV4</td>\n",
       "      <td>Kappa</td>\n",
       "      <td>None</td>\n",
       "      <td>None</td>\n",
       "      <td>None</td>\n",
       "      <td>None</td>\n",
       "      <td>None</td>\n",
       "    </tr>\n",
       "    <tr>\n",
       "      <th>4</th>\n",
       "      <td>7v5j</td>\n",
       "      <td>E</td>\n",
       "      <td>D</td>\n",
       "      <td>0</td>\n",
       "      <td>A</td>\n",
       "      <td>protein</td>\n",
       "      <td>NaN</td>\n",
       "      <td>spike glycoprotein</td>\n",
       "      <td>PROTEIN BINDING</td>\n",
       "      <td>09/21/22</td>\n",
       "      <td>...</td>\n",
       "      <td>False</td>\n",
       "      <td>True</td>\n",
       "      <td>IGHV1</td>\n",
       "      <td>IGKV1</td>\n",
       "      <td>Kappa</td>\n",
       "      <td>None</td>\n",
       "      <td>None</td>\n",
       "      <td>None</td>\n",
       "      <td>None</td>\n",
       "      <td>None</td>\n",
       "    </tr>\n",
       "  </tbody>\n",
       "</table>\n",
       "<p>5 rows × 30 columns</p>\n",
       "</div>"
      ],
      "text/plain": [
       "    pdb Hchain Lchain  model antigen_chain       antigen_type  \\\n",
       "0  7srr      E      e      0         B | C  protein | protein   \n",
       "1  7srs      Q      P      0             R            protein   \n",
       "2  7srs      H      L      0             C            protein   \n",
       "3  7ut3      H      L      0             L             Hapten   \n",
       "4  7v5j      E      D      0             A            protein   \n",
       "\n",
       "  antigen_het_name                                       antigen_name  \\\n",
       "0          NA | NA  g protein subunit q (gi2-mini-gq chimera) | gu...   \n",
       "1              NaN                    5-hydroxytryptamine receptor 2b   \n",
       "2              NaN                      isoform 1b of beta-arrestin-1   \n",
       "3              TI0  4-nitrophenyl 2-acetamido-2-deoxy-alpha-D-gala...   \n",
       "4              NaN                                 spike glycoprotein   \n",
       "\n",
       "       short_header      date  ...   scfv engineered heavy_subclass  \\\n",
       "0  MEMBRANE PROTEIN  09/21/22  ...   True       True        unknown   \n",
       "1  MEMBRANE PROTEIN  09/21/22  ...  False       True          IGHV1   \n",
       "2  MEMBRANE PROTEIN  09/21/22  ...  False       True          IGHV3   \n",
       "3     IMMUNE SYSTEM  09/21/22  ...  False       True          IGHV5   \n",
       "4   PROTEIN BINDING  09/21/22  ...  False       True          IGHV1   \n",
       "\n",
       "  light_subclass light_ctype affinity delta_g affinity_method temperature  \\\n",
       "0        unknown     unknown     None    None            None        None   \n",
       "1          IGKV4       Kappa     None    None            None        None   \n",
       "2          IGKV1       Kappa     None    None            None        None   \n",
       "3          IGKV4       Kappa     None    None            None        None   \n",
       "4          IGKV1       Kappa     None    None            None        None   \n",
       "\n",
       "   pmid  \n",
       "0  None  \n",
       "1  None  \n",
       "2  None  \n",
       "3  None  \n",
       "4  None  \n",
       "\n",
       "[5 rows x 30 columns]"
      ]
     },
     "execution_count": 26,
     "metadata": {},
     "output_type": "execute_result"
    }
   ],
   "source": [
    "df.head()"
   ]
  },
  {
   "cell_type": "code",
   "execution_count": 16,
   "metadata": {},
   "outputs": [],
   "source": [
    "with open('../../src/covid_known_antigens.txt', 'r') as antigens_file:\n",
    "    antigens_text = antigens_file.readlines()[1:]"
   ]
  },
  {
   "cell_type": "code",
   "execution_count": 12,
   "metadata": {},
   "outputs": [
    {
     "data": {
      "text/plain": [
       "['antigen',\n",
       " 'possible names/abbreviations\\nCOVID',\n",
       " 'coronavirus, sars-cov, sars\\nMERS',\n",
       " 'mers-cov, mers\\nSARS-COV-2',\n",
       " 'sars-cov-2, covid-19\\nSARS-COV-1',\n",
       " 'sars-cov-1\\nSpike protein',\n",
       " 'spike, spike protein\\nRBD',\n",
       " 'receptor binding domain, rbd']"
      ]
     },
     "execution_count": 12,
     "metadata": {},
     "output_type": "execute_result"
    }
   ],
   "source": [
    "antigens.split(': ')"
   ]
  },
  {
   "cell_type": "code",
   "execution_count": 24,
   "metadata": {},
   "outputs": [],
   "source": [
    "known_antigens = dict()\n",
    "for line in antigens_text:\n",
    "    antigen = line.strip().split(': ')[0]\n",
    "    names = line.strip().split(': ')[1].split(', ')\n",
    "    known_antigens[antigen] = names"
   ]
  },
  {
   "cell_type": "code",
   "execution_count": 25,
   "metadata": {},
   "outputs": [
    {
     "data": {
      "text/plain": [
       "{'COVID': ['coronavirus', 'sars-cov', 'sars'],\n",
       " 'MERS': ['mers-cov', 'mers'],\n",
       " 'SARS-COV-2': ['sars-cov-2', 'covid-19'],\n",
       " 'SARS-COV-1': ['sars-cov-1'],\n",
       " 'Spike protein': ['spike', 'spike protein'],\n",
       " 'RBD': ['receptor binding domain', 'rbd']}"
      ]
     },
     "execution_count": 25,
     "metadata": {},
     "output_type": "execute_result"
    }
   ],
   "source": [
    "known_antigens"
   ]
  },
  {
   "cell_type": "code",
   "execution_count": null,
   "metadata": {},
   "outputs": [],
   "source": []
  }
 ],
 "metadata": {
  "kernelspec": {
   "display_name": "Python 3.8.13 ('auto-db-pipeline')",
   "language": "python",
   "name": "python3"
  },
  "language_info": {
   "codemirror_mode": {
    "name": "ipython",
    "version": 3
   },
   "file_extension": ".py",
   "mimetype": "text/x-python",
   "name": "python",
   "nbconvert_exporter": "python",
   "pygments_lexer": "ipython3",
   "version": "3.8.13"
  },
  "orig_nbformat": 4,
  "vscode": {
   "interpreter": {
    "hash": "f5cb82b301b87eef88325f480de257324ba8b611cc1a51609875e0120daba8a9"
   }
  }
 },
 "nbformat": 4,
 "nbformat_minor": 2
}
