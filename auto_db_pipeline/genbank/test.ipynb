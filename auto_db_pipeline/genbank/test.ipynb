{
 "cells": [
  {
   "cell_type": "code",
   "execution_count": 1,
   "metadata": {},
   "outputs": [
    {
     "name": "stderr",
     "output_type": "stream",
     "text": [
      "/Users/fabian/miniconda3/envs/auto-db-pipeline/lib/python3.8/site-packages/Bio/SubsMat/__init__.py:126: BiopythonDeprecationWarning: Bio.SubsMat has been deprecated, and we intend to remove it in a future release of Biopython. As an alternative, please consider using Bio.Align.substitution_matrices as a replacement, and contact the Biopython developers if you still need the Bio.SubsMat module.\n",
      "  warnings.warn(\n"
     ]
    }
   ],
   "source": [
    "from proteins2info import InfoRetrieval"
   ]
  },
  {
   "cell_type": "code",
   "execution_count": 2,
   "metadata": {},
   "outputs": [
    {
     "data": {
      "text/plain": [
       "11493"
      ]
     },
     "execution_count": 2,
     "metadata": {},
     "output_type": "execute_result"
    }
   ],
   "source": [
    "genbank = InfoRetrieval()\n",
    "len(genbank.entries)"
   ]
  },
  {
   "cell_type": "code",
   "execution_count": 3,
   "metadata": {},
   "outputs": [
    {
     "name": "stdout",
     "output_type": "stream",
     "text": [
      "Number of entires removed by antibody filter: 5166\n",
      "Number of entires after antibody filter: 6327\n",
      "----------\n"
     ]
    }
   ],
   "source": [
    "genbank.filter_AB_entries()"
   ]
  },
  {
   "cell_type": "code",
   "execution_count": 4,
   "metadata": {},
   "outputs": [],
   "source": [
    "genbank.classify_vh_vl_anarci()"
   ]
  },
  {
   "cell_type": "code",
   "execution_count": 5,
   "metadata": {},
   "outputs": [
    {
     "name": "stdout",
     "output_type": "stream",
     "text": [
      "Number of entries where antigen was determined: 0\n",
      "Number of entries where antigen was not determined: 6327\n",
      "----------\n"
     ]
    }
   ],
   "source": [
    "genbank.find_antigen({})"
   ]
  },
  {
   "cell_type": "code",
   "execution_count": 6,
   "metadata": {},
   "outputs": [
    {
     "name": "stdout",
     "output_type": "stream",
     "text": [
      "Number of entries where fragement name was determined: 1733\n",
      "Number of entries where fragment name was not determined: 4594\n",
      "----------\n"
     ]
    }
   ],
   "source": [
    "genbank.find_fragment_id()"
   ]
  },
  {
   "cell_type": "code",
   "execution_count": 7,
   "metadata": {},
   "outputs": [],
   "source": [
    "genbank.find_nanobodies()"
   ]
  },
  {
   "cell_type": "code",
   "execution_count": 8,
   "metadata": {},
   "outputs": [
    {
     "name": "stdout",
     "output_type": "stream",
     "text": [
      "Number of nanobodies: 155\n",
      "Number of antibodies: 6172\n",
      "----------\n"
     ]
    }
   ],
   "source": [
    "genbank.seperate_nanobodies()"
   ]
  },
  {
   "cell_type": "code",
   "execution_count": 9,
   "metadata": {},
   "outputs": [],
   "source": [
    "genbank.group_by_publication()"
   ]
  },
  {
   "cell_type": "code",
   "execution_count": 10,
   "metadata": {},
   "outputs": [
    {
     "name": "stdout",
     "output_type": "stream",
     "text": [
      "Number of sequence pairs: 766\n",
      "Number of sequences that could not be paired in attempt 1: 4640\n",
      "----------\n"
     ]
    }
   ],
   "source": [
    "genbank.pair_vh_vl()"
   ]
  },
  {
   "cell_type": "code",
   "execution_count": 11,
   "metadata": {},
   "outputs": [
    {
     "name": "stdout",
     "output_type": "stream",
     "text": [
      "Number of entries attempted to pair with SAbDab: 164\n",
      "Number of entries not pairable with SAbDab: 4476\n",
      "----------\n"
     ]
    }
   ],
   "source": [
    "genbank.get_pairable_sequences_from_sabdab()"
   ]
  },
  {
   "cell_type": "code",
   "execution_count": 12,
   "metadata": {},
   "outputs": [
    {
     "name": "stdout",
     "output_type": "stream",
     "text": [
      "Number of pairs found with SAbDab: 82\n",
      "Number of sequences not paired but sequence from PDB added: 0\n"
     ]
    }
   ],
   "source": [
    "genbank.pair_vh_vl_pdb()"
   ]
  },
  {
   "cell_type": "code",
   "execution_count": 13,
   "metadata": {},
   "outputs": [
    {
     "data": {
      "text/plain": [
       "61"
      ]
     },
     "execution_count": 13,
     "metadata": {},
     "output_type": "execute_result"
    }
   ],
   "source": [
    "len(genbank.unpaired_entries)"
   ]
  },
  {
   "cell_type": "code",
   "execution_count": 64,
   "metadata": {},
   "outputs": [
    {
     "data": {
      "text/plain": [
       "{'GBSeq_locus': 'UGO91527',\n",
       " 'GBSeq_moltype': 'AA',\n",
       " 'GBSeq_update-date': '15-DEC-2021',\n",
       " 'GBSeq_create-date': '15-DEC-2021',\n",
       " 'GBSeq_definition': 'immunoglobulin heavy chain variable region, partial [Homo sapiens]',\n",
       " 'GBSeq_accession-version': 'UGO91527.1',\n",
       " 'GBSeq_source': 'Homo sapiens (human)',\n",
       " 'GBSeq_sequence': 'qvqlqesgpglvkpsetlsltctvsggsissyywswirqppgkglewigyiyysgstnynpslksrvtisvdtsknqfslklssvtaadtavyycardirdssgwanwfdpwgqgtlvtvss',\n",
       " 'GBSeq_references': [{'GBReference_authors': ['Cho,H.',\n",
       "    'Gonzales-Wartz,K.K.',\n",
       "    'Huang,D.',\n",
       "    'Yuan,M.',\n",
       "    'Peterson,M.',\n",
       "    'Liang,J.',\n",
       "    'Beutler,N.',\n",
       "    'Torres,J.L.',\n",
       "    'Cong,Y.',\n",
       "    'Postnikova,E.',\n",
       "    'Bangaru,S.',\n",
       "    'Talana,C.A.',\n",
       "    'Shi,W.',\n",
       "    'Yang,E.S.',\n",
       "    'Zhang,Y.',\n",
       "    'Leung,K.',\n",
       "    'Wang,L.',\n",
       "    'Peng,L.',\n",
       "    'Skinner,J.',\n",
       "    'Li,S.',\n",
       "    'Wu,N.C.',\n",
       "    'Liu,H.',\n",
       "    'Dacon,C.',\n",
       "    'Moyer,T.',\n",
       "    'Cohen,M.',\n",
       "    'Zhao,M.',\n",
       "    'Lee,F.E.',\n",
       "    'Weinberg,R.S.',\n",
       "    'Douagi,I.',\n",
       "    'Gross,R.',\n",
       "    'Schmaljohn,C.',\n",
       "    'Pegu,A.',\n",
       "    'Mascola,J.R.',\n",
       "    'Holbrook,M.',\n",
       "    'Nemazee,D.',\n",
       "    'Rogers,T.F.',\n",
       "    'Ward,A.B.',\n",
       "    'Wilson,I.A.',\n",
       "    'Crompton,P.D.',\n",
       "    'Tan,J.'],\n",
       "   'GBReference_title': 'Bispecific antibodies targeting distinct regions of the spike protein potently neutralize SARS-CoV-2 variants of concern',\n",
       "   'GBReference_journal': 'Sci Transl Med 13 (616), eabj5413 (2021)',\n",
       "   'GBReference_xref': [{'GBXref_dbname': 'doi',\n",
       "     'GBXref_id': '10.1126/scitranslmed.abj5413'}]}],\n",
       " 'chain': 'H',\n",
       " 'antigen': 'unknown',\n",
       " 'antibody_type': 'antibody'}"
      ]
     },
     "execution_count": 64,
     "metadata": {},
     "output_type": "execute_result"
    }
   ],
   "source": [
    "genbank.unpaired_entries[0][0]"
   ]
  },
  {
   "cell_type": "code",
   "execution_count": 96,
   "metadata": {},
   "outputs": [],
   "source": [
    "import pandas as pd\n",
    "df = pd.read_csv('sabdab_summary_all.tsv', sep='\\t')\n",
    "df[df.pdb == '7srs']"
   ]
  },
  {
   "cell_type": "code",
   "execution_count": 97,
   "metadata": {},
   "outputs": [
    {
     "data": {
      "text/html": [
       "<div>\n",
       "<style scoped>\n",
       "    .dataframe tbody tr th:only-of-type {\n",
       "        vertical-align: middle;\n",
       "    }\n",
       "\n",
       "    .dataframe tbody tr th {\n",
       "        vertical-align: top;\n",
       "    }\n",
       "\n",
       "    .dataframe thead th {\n",
       "        text-align: right;\n",
       "    }\n",
       "</style>\n",
       "<table border=\"1\" class=\"dataframe\">\n",
       "  <thead>\n",
       "    <tr style=\"text-align: right;\">\n",
       "      <th></th>\n",
       "      <th>pdb</th>\n",
       "      <th>Hchain</th>\n",
       "      <th>Lchain</th>\n",
       "      <th>model</th>\n",
       "      <th>antigen_chain</th>\n",
       "      <th>antigen_type</th>\n",
       "      <th>antigen_het_name</th>\n",
       "      <th>antigen_name</th>\n",
       "      <th>short_header</th>\n",
       "      <th>date</th>\n",
       "      <th>...</th>\n",
       "      <th>scfv</th>\n",
       "      <th>engineered</th>\n",
       "      <th>heavy_subclass</th>\n",
       "      <th>light_subclass</th>\n",
       "      <th>light_ctype</th>\n",
       "      <th>affinity</th>\n",
       "      <th>delta_g</th>\n",
       "      <th>affinity_method</th>\n",
       "      <th>temperature</th>\n",
       "      <th>pmid</th>\n",
       "    </tr>\n",
       "  </thead>\n",
       "  <tbody>\n",
       "    <tr>\n",
       "      <th>0</th>\n",
       "      <td>7srr</td>\n",
       "      <td>E</td>\n",
       "      <td>e</td>\n",
       "      <td>0</td>\n",
       "      <td>B | C</td>\n",
       "      <td>protein | protein</td>\n",
       "      <td>NA | NA</td>\n",
       "      <td>g protein subunit q (gi2-mini-gq chimera) | gu...</td>\n",
       "      <td>MEMBRANE PROTEIN</td>\n",
       "      <td>09/21/22</td>\n",
       "      <td>...</td>\n",
       "      <td>True</td>\n",
       "      <td>True</td>\n",
       "      <td>unknown</td>\n",
       "      <td>unknown</td>\n",
       "      <td>unknown</td>\n",
       "      <td>None</td>\n",
       "      <td>None</td>\n",
       "      <td>None</td>\n",
       "      <td>None</td>\n",
       "      <td>None</td>\n",
       "    </tr>\n",
       "    <tr>\n",
       "      <th>1</th>\n",
       "      <td>7srs</td>\n",
       "      <td>Q</td>\n",
       "      <td>P</td>\n",
       "      <td>0</td>\n",
       "      <td>R</td>\n",
       "      <td>protein</td>\n",
       "      <td>NaN</td>\n",
       "      <td>5-hydroxytryptamine receptor 2b</td>\n",
       "      <td>MEMBRANE PROTEIN</td>\n",
       "      <td>09/21/22</td>\n",
       "      <td>...</td>\n",
       "      <td>False</td>\n",
       "      <td>True</td>\n",
       "      <td>IGHV1</td>\n",
       "      <td>IGKV4</td>\n",
       "      <td>Kappa</td>\n",
       "      <td>None</td>\n",
       "      <td>None</td>\n",
       "      <td>None</td>\n",
       "      <td>None</td>\n",
       "      <td>None</td>\n",
       "    </tr>\n",
       "    <tr>\n",
       "      <th>2</th>\n",
       "      <td>7srs</td>\n",
       "      <td>H</td>\n",
       "      <td>L</td>\n",
       "      <td>0</td>\n",
       "      <td>C</td>\n",
       "      <td>protein</td>\n",
       "      <td>NaN</td>\n",
       "      <td>isoform 1b of beta-arrestin-1</td>\n",
       "      <td>MEMBRANE PROTEIN</td>\n",
       "      <td>09/21/22</td>\n",
       "      <td>...</td>\n",
       "      <td>False</td>\n",
       "      <td>True</td>\n",
       "      <td>IGHV3</td>\n",
       "      <td>IGKV1</td>\n",
       "      <td>Kappa</td>\n",
       "      <td>None</td>\n",
       "      <td>None</td>\n",
       "      <td>None</td>\n",
       "      <td>None</td>\n",
       "      <td>None</td>\n",
       "    </tr>\n",
       "    <tr>\n",
       "      <th>3</th>\n",
       "      <td>7ut3</td>\n",
       "      <td>H</td>\n",
       "      <td>L</td>\n",
       "      <td>0</td>\n",
       "      <td>L</td>\n",
       "      <td>Hapten</td>\n",
       "      <td>TI0</td>\n",
       "      <td>4-nitrophenyl 2-acetamido-2-deoxy-alpha-D-gala...</td>\n",
       "      <td>IMMUNE SYSTEM</td>\n",
       "      <td>09/21/22</td>\n",
       "      <td>...</td>\n",
       "      <td>False</td>\n",
       "      <td>True</td>\n",
       "      <td>IGHV5</td>\n",
       "      <td>IGKV4</td>\n",
       "      <td>Kappa</td>\n",
       "      <td>None</td>\n",
       "      <td>None</td>\n",
       "      <td>None</td>\n",
       "      <td>None</td>\n",
       "      <td>None</td>\n",
       "    </tr>\n",
       "    <tr>\n",
       "      <th>4</th>\n",
       "      <td>7v5j</td>\n",
       "      <td>E</td>\n",
       "      <td>D</td>\n",
       "      <td>0</td>\n",
       "      <td>A</td>\n",
       "      <td>protein</td>\n",
       "      <td>NaN</td>\n",
       "      <td>spike glycoprotein</td>\n",
       "      <td>PROTEIN BINDING</td>\n",
       "      <td>09/21/22</td>\n",
       "      <td>...</td>\n",
       "      <td>False</td>\n",
       "      <td>True</td>\n",
       "      <td>IGHV1</td>\n",
       "      <td>IGKV1</td>\n",
       "      <td>Kappa</td>\n",
       "      <td>None</td>\n",
       "      <td>None</td>\n",
       "      <td>None</td>\n",
       "      <td>None</td>\n",
       "      <td>None</td>\n",
       "    </tr>\n",
       "  </tbody>\n",
       "</table>\n",
       "<p>5 rows × 30 columns</p>\n",
       "</div>"
      ],
      "text/plain": [
       "    pdb Hchain Lchain  model antigen_chain       antigen_type  \\\n",
       "0  7srr      E      e      0         B | C  protein | protein   \n",
       "1  7srs      Q      P      0             R            protein   \n",
       "2  7srs      H      L      0             C            protein   \n",
       "3  7ut3      H      L      0             L             Hapten   \n",
       "4  7v5j      E      D      0             A            protein   \n",
       "\n",
       "  antigen_het_name                                       antigen_name  \\\n",
       "0          NA | NA  g protein subunit q (gi2-mini-gq chimera) | gu...   \n",
       "1              NaN                    5-hydroxytryptamine receptor 2b   \n",
       "2              NaN                      isoform 1b of beta-arrestin-1   \n",
       "3              TI0  4-nitrophenyl 2-acetamido-2-deoxy-alpha-D-gala...   \n",
       "4              NaN                                 spike glycoprotein   \n",
       "\n",
       "       short_header      date  ...   scfv engineered heavy_subclass  \\\n",
       "0  MEMBRANE PROTEIN  09/21/22  ...   True       True        unknown   \n",
       "1  MEMBRANE PROTEIN  09/21/22  ...  False       True          IGHV1   \n",
       "2  MEMBRANE PROTEIN  09/21/22  ...  False       True          IGHV3   \n",
       "3     IMMUNE SYSTEM  09/21/22  ...  False       True          IGHV5   \n",
       "4   PROTEIN BINDING  09/21/22  ...  False       True          IGHV1   \n",
       "\n",
       "  light_subclass light_ctype affinity delta_g affinity_method temperature  \\\n",
       "0        unknown     unknown     None    None            None        None   \n",
       "1          IGKV4       Kappa     None    None            None        None   \n",
       "2          IGKV1       Kappa     None    None            None        None   \n",
       "3          IGKV4       Kappa     None    None            None        None   \n",
       "4          IGKV1       Kappa     None    None            None        None   \n",
       "\n",
       "   pmid  \n",
       "0  None  \n",
       "1  None  \n",
       "2  None  \n",
       "3  None  \n",
       "4  None  \n",
       "\n",
       "[5 rows x 30 columns]"
      ]
     },
     "execution_count": 97,
     "metadata": {},
     "output_type": "execute_result"
    }
   ],
   "source": [
    "df.head()"
   ]
  },
  {
   "cell_type": "code",
   "execution_count": 105,
   "metadata": {},
   "outputs": [
    {
     "data": {
      "text/html": [
       "<div>\n",
       "<style scoped>\n",
       "    .dataframe tbody tr th:only-of-type {\n",
       "        vertical-align: middle;\n",
       "    }\n",
       "\n",
       "    .dataframe tbody tr th {\n",
       "        vertical-align: top;\n",
       "    }\n",
       "\n",
       "    .dataframe thead th {\n",
       "        text-align: right;\n",
       "    }\n",
       "</style>\n",
       "<table border=\"1\" class=\"dataframe\">\n",
       "  <thead>\n",
       "    <tr style=\"text-align: right;\">\n",
       "      <th></th>\n",
       "      <th>pdb</th>\n",
       "      <th>Hchain</th>\n",
       "      <th>Lchain</th>\n",
       "      <th>model</th>\n",
       "      <th>antigen_chain</th>\n",
       "      <th>antigen_type</th>\n",
       "      <th>antigen_het_name</th>\n",
       "      <th>antigen_name</th>\n",
       "      <th>short_header</th>\n",
       "      <th>date</th>\n",
       "      <th>...</th>\n",
       "      <th>scfv</th>\n",
       "      <th>engineered</th>\n",
       "      <th>heavy_subclass</th>\n",
       "      <th>light_subclass</th>\n",
       "      <th>light_ctype</th>\n",
       "      <th>affinity</th>\n",
       "      <th>delta_g</th>\n",
       "      <th>affinity_method</th>\n",
       "      <th>temperature</th>\n",
       "      <th>pmid</th>\n",
       "    </tr>\n",
       "  </thead>\n",
       "  <tbody>\n",
       "  </tbody>\n",
       "</table>\n",
       "<p>0 rows × 30 columns</p>\n",
       "</div>"
      ],
      "text/plain": [
       "Empty DataFrame\n",
       "Columns: [pdb, Hchain, Lchain, model, antigen_chain, antigen_type, antigen_het_name, antigen_name, short_header, date, compound, organism, heavy_species, light_species, antigen_species, authors, resolution, method, r_free, r_factor, scfv, engineered, heavy_subclass, light_subclass, light_ctype, affinity, delta_g, affinity_method, temperature, pmid]\n",
       "Index: []\n",
       "\n",
       "[0 rows x 30 columns]"
      ]
     },
     "execution_count": 105,
     "metadata": {},
     "output_type": "execute_result"
    }
   ],
   "source": [
    "df[df.pdb == 'abcd']"
   ]
  },
  {
   "cell_type": "code",
   "execution_count": 86,
   "metadata": {},
   "outputs": [],
   "source": [
    "from Bio.PDB import PDBList, PDBParser, MMCIFParser\n",
    "from Bio.SeqUtils import seq1\n",
    "import re"
   ]
  },
  {
   "cell_type": "code",
   "execution_count": 66,
   "metadata": {},
   "outputs": [],
   "source": [
    "pdb = PDBList(pdb='./pdbs/')"
   ]
  },
  {
   "cell_type": "code",
   "execution_count": 75,
   "metadata": {},
   "outputs": [
    {
     "name": "stderr",
     "output_type": "stream",
     "text": [
      "WARNING: The default download format has changed from PDB to PDBx/mmCif\n"
     ]
    },
    {
     "name": "stdout",
     "output_type": "stream",
     "text": [
      "Downloading PDB structure '7srs'...\n"
     ]
    },
    {
     "data": {
      "text/plain": [
       "'./pdbs/7srs.cif'"
      ]
     },
     "execution_count": 75,
     "metadata": {},
     "output_type": "execute_result"
    }
   ],
   "source": [
    "pdb = PDBList(pdb='./pdbs/')\n",
    "pdb.retrieve_pdb_file('7srs', pdir='./pdbs')"
   ]
  },
  {
   "cell_type": "code",
   "execution_count": 76,
   "metadata": {},
   "outputs": [
    {
     "name": "stderr",
     "output_type": "stream",
     "text": [
      "/Users/fabian/miniconda3/envs/auto-db-pipeline/lib/python3.8/site-packages/Bio/PDB/StructureBuilder.py:89: PDBConstructionWarning: WARNING: Chain R is discontinuous at line 8323.\n",
      "  warnings.warn(\n"
     ]
    }
   ],
   "source": [
    "parser = MMCIFParser()\n",
    "structure = parser.get_structure('7srs', \"./pdbs/7srs.cif\")"
   ]
  },
  {
   "cell_type": "code",
   "execution_count": 47,
   "metadata": {},
   "outputs": [
    {
     "name": "stdout",
     "output_type": "stream",
     "text": [
      "P\n",
      "Q\n",
      "R\n",
      "C\n",
      "H\n",
      "L\n"
     ]
    }
   ],
   "source": [
    "for model in structure:\n",
    "    for chain in model:\n",
    "        print(chain.id)"
   ]
  },
  {
   "cell_type": "code",
   "execution_count": 77,
   "metadata": {},
   "outputs": [],
   "source": [
    "chains = {chain.id:seq1(''.join(residue.resname for residue in chain)) for chain in structure.get_chains()}"
   ]
  },
  {
   "cell_type": "code",
   "execution_count": 78,
   "metadata": {},
   "outputs": [
    {
     "data": {
      "text/plain": [
       "'DIVLIQSPAIMSASPGEKVTITCSASSSVSYMHWFQQKPGTSPKLWIYSTSNLASGVPARFSGSGSGTSYSLTISRMEAEDAATYYCQQRSSYPLTFGAGTKLEIKR'"
      ]
     },
     "execution_count": 78,
     "metadata": {},
     "output_type": "execute_result"
    }
   ],
   "source": [
    "chains['P']"
   ]
  },
  {
   "cell_type": "code",
   "execution_count": 74,
   "metadata": {},
   "outputs": [
    {
     "data": {
      "text/plain": [
       "{'B': 'VSAEDKAAAERSKMIDKNLREDGEKARRTLRLLLLGADNSGKSTIVKQGIFETKFQVDKVNFHMFDVGRDERRKWIQCFNDVTAIIFVVDSSDYNRLQEALNDFKSIWNNRWLRTISVILFLNKQDLLAEKVLAGKSKIEDYFPEFARYTTPEDATPEPGEDPRVTRAKYFIRKEFVDISTASGDGRHICYPHFTCAVDTENARRIFNDCKDIILQMNLREYNLV',\n",
       " 'C': 'ELDQLRQEAEQLKNQIRDARKACADATLSQITNNIDPVGRIQMRTRRTLRGHLAKIYAMHWGTDSRLLVSASQDGKLIIWDSYTTNKVHAIPLRSSWVMTCAYAPSGNYVACGGLDNICSIYNLKTREGNVRVSRELAGHTGYLSCCRFLDDNQIVTSSGDTTCALWDIETGQQTTTFTGHTGDVMSLSLAPDTRLFVSGACDASAKLWDVREGMCRQTFTGHESDINAICFFPNGNAFATGSDDATCRLFDLRADQELMTYSHDNIICGITSVSFSKSGRLLLAGYDDFNCNVWDALKADRAGVLAGHDNRVSCLGVTDDGMAVATGSWDSFLKIWN',\n",
       " 'D': 'IAQARKLVEQLKMEANIDRIKVSKAAADLMAYCEAHAKEDPLLTPVPASENPF',\n",
       " 'E': 'VQLVESGGGLVQPGGSRKLSCSASGFAFSSFGMHWVRQAPEKGLEWVAYISSGSGTIYYADTVKGRFTISRDDPKNTLFLQMTSLRSEDTAMYYCVRSIYYYGSSPFDFWGQGTTLTVDIVMTQATSSVPVTPGESVSISCRSSKSLLHSNGNTYLYWFLQRPGQSPQLLIYRMSNLASGVPDRFSGSGSGTAFTLTISRLEAEDVGVYYCMQHLEYPLTFGAGTKLEL',\n",
       " 'R': 'WAALLILMVIIPTIGGNTLVILAVSLEKKLQYATNYFLMSLAVADLLVGLFVMPIALLTIMFEAMWPLPLVLCPAWLFLDVLFSTASIWHLCAISVDRYIAIKKPIQANQYNSRATAFIKITVVWLISIGIAIPVPIKGIETDVDNPNNITCVLTKERFGDFMLFGSLAAFFTPLAIMIVTYFLTIHALQKKATISNEQRASKVLGIVFFLFLLMWCPFFITNITLVLCDSCNQTTLQMLLEIFVWIGYVSSGVNPLVYTLFNKTFRDAFGRYIX'}"
      ]
     },
     "execution_count": 74,
     "metadata": {},
     "output_type": "execute_result"
    }
   ],
   "source": [
    "chains"
   ]
  },
  {
   "cell_type": "code",
   "execution_count": 196,
   "metadata": {},
   "outputs": [],
   "source": [
    "def get_chains_from_sabdab(entry):\n",
    "    '''\n",
    "    Returns the heavy-light chain pairing of a protein entry with a\n",
    "    corresponding PDB entry.\n",
    "\n",
    "    Checks the genbank locus if it corresponds to a PDB id, then\n",
    "    returns the heavy and light chain sequences for the PDB id\n",
    "    from SAbDab.\n",
    "\n",
    "    param entry: genbank protein entry\n",
    "    returns (H, L): heavy and light chain sequence from SAbDab\n",
    "                    if PDB entry cannot be found returns None\n",
    "    '''\n",
    "    seq = entry['GBSeq_sequence']\n",
    "    chain = entry['chain']\n",
    "    id = entry['GBSeq_locus']\n",
    "\n",
    "    pdb_id_regex = r\"\"\"\n",
    "            (\n",
    "                [1-9]  # first character of PDB is 1-9\n",
    "                [A-Z0-9]{3}  # remaining 3 characters of PDB are alphanumeric\n",
    "            )\n",
    "            [^A-Z0-9]  # no alphanumeric character after, but possibly _\n",
    "            \"\"\"\n",
    "    pattern = re.compile(pdb_id_regex, flags=re.IGNORECASE | re.VERBOSE)\n",
    "    df = pd.read_csv('sabdab_summary_all.tsv', sep='\\t')\n",
    "\n",
    "    if pattern.match(id):\n",
    "\n",
    "        pdb_id = id.split('_')[0].lower()\n",
    "\n",
    "        p = df[df.pdb == pdb_id]\n",
    "\n",
    "        if len(p) > 0:\n",
    "\n",
    "\n",
    "            # get chain sequences from pdb\n",
    "            pdb = PDBList(pdb='./pdbs/')\n",
    "            pdb.retrieve_pdb_file(pdb_id, pdir='./pdbs', overwrite=True)\n",
    "            parser = MMCIFParser()\n",
    "            structure = parser.get_structure(pdb_id, f'./pdbs/{pdb_id}.cif')\n",
    "            chains = {chain.id:seq1(''.join(residue.resname for residue in chain)) for chain in structure.get_chains()}\n",
    "\n",
    "\n",
    "            if chain == 'H':\n",
    "                for index, row in p.iterrows():\n",
    "        \n",
    "                    try: # sometimes chains names are wrong in sabdab ignore these cases\n",
    "                        if chains[row.Hchain] in seq.upper(): #This line causes it to fail sometimes\n",
    "                            try:\n",
    "                    \n",
    "                                return (chains[row.Hchain], chains[row.Lchain])\n",
    "                            except KeyError:\n",
    "                    \n",
    "                                return None\n",
    "                    except KeyError:\n",
    "                        continue\n",
    "            \n",
    "            elif chain == 'L':\n",
    "                for index, row in p.iterrows():\n",
    "                    try: # sometimes chains names are wrong in sabdab ignore these cases\n",
    "                        if chains[row.Lchain] in seq.upper(): \n",
    "                            try:\n",
    "                                print('g')\n",
    "                                return (chains[row.Hchain], chains[row.Lchain])\n",
    "                            except KeyError:\n",
    "                    \n",
    "                                return None\n",
    "                    except KeyError:\n",
    "                        continue\n",
    "        else:\n",
    "            return None\n",
    "    else:\n",
    "        return None"
   ]
  },
  {
   "cell_type": "code",
   "execution_count": 197,
   "metadata": {},
   "outputs": [
    {
     "name": "stdout",
     "output_type": "stream",
     "text": [
      "b\n",
      "7k9z\n",
      "d\n",
      "Downloading PDB structure '7k9z'...\n"
     ]
    },
    {
     "name": "stderr",
     "output_type": "stream",
     "text": [
      "WARNING: The default download format has changed from PDB to PDBx/mmCif\n"
     ]
    },
    {
     "name": "stdout",
     "output_type": "stream",
     "text": [
      "d\n",
      "1\n",
      "1\n"
     ]
    }
   ],
   "source": [
    "get_chains_from_sabdab(genbank.unpaired_entries[16][0])"
   ]
  },
  {
   "cell_type": "code",
   "execution_count": 179,
   "metadata": {},
   "outputs": [
    {
     "data": {
      "text/plain": [
       "{'GBSeq_locus': '7K9Z_B',\n",
       " 'GBSeq_moltype': 'AA',\n",
       " 'GBSeq_update-date': '28-JUL-2021',\n",
       " 'GBSeq_create-date': '29-DEC-2020',\n",
       " 'GBSeq_definition': 'Chain B, Fab Heavy Chain',\n",
       " 'GBSeq_accession-version': '7K9Z_B',\n",
       " 'GBSeq_source': 'Homo sapiens (human)',\n",
       " 'GBSeq_sequence': 'qvqlvqsgaevkkpgasvkvsckasggtfstygiswvrqapgqglewmgwispnsggtdlaqkfqgrvtmtrdtststvymelsslrsedtavyycasdprddiaggywgqgtlvtvssastkgpsvfplapsskstsggtaalgclvkdyfpepvtvswnsgaltsgvhtfpavlqssglyslssvvtvpssslgtqtyicnvnhkpsntkvdkkvepksc',\n",
       " 'GBSeq_references': [{'GBReference_authors': ['Rujas,E.',\n",
       "    'Kucharska,I.',\n",
       "    'Tan,Y.Z.',\n",
       "    'Benlekbir,S.',\n",
       "    'Cui,H.',\n",
       "    'Zhao,T.',\n",
       "    'Wasney,G.',\n",
       "    'Budylowski,P.',\n",
       "    'Guvenc,F.',\n",
       "    'Newton,J.C.',\n",
       "    'Sicard,T.',\n",
       "    'Semesi,A.',\n",
       "    'Muthuraman,K.',\n",
       "    'Nouanesengsy,A.',\n",
       "    'Prieto,K.',\n",
       "    'Bueler,S.A.',\n",
       "    'Youssef,S.',\n",
       "    'Liao-Chan,S.',\n",
       "    'Glanville,J.',\n",
       "    'Christie-Holmes,N.',\n",
       "    'Mubareka,S.',\n",
       "    'Gray-Owen,S.D.',\n",
       "    'Rubinstein,J.L.',\n",
       "    'Treanor,B.',\n",
       "    'Julien,J.P.'],\n",
       "   'GBReference_title': 'Multivalency transforms SARS-CoV-2 antibodies into broad and ultrapotent neutralizers',\n",
       "   'GBReference_journal': 'Biorxiv (2020)'}],\n",
       " 'chain': 'H',\n",
       " 'antigen': 'unknown',\n",
       " 'antibody_type': 'antibody'}"
      ]
     },
     "execution_count": 179,
     "metadata": {},
     "output_type": "execute_result"
    }
   ],
   "source": [
    "genbank.unpaired_entries[16][0]"
   ]
  },
  {
   "cell_type": "code",
   "execution_count": 198,
   "metadata": {},
   "outputs": [
    {
     "data": {
      "text/plain": [
       "{'H': 'QVQLVQSGAEVKKPGSSVKVSCKASGYTFTSYGISWVRQAPGQGLEWMGGIIPMFGTTNYAQKFQGRVTITADKSTSTAYMELSSLRSEDTAVYYCARDRGDTIDYWGQGTLVTVSSASTKGPSVFPLAPSSGTAALGCLVKDYFPEPVTVSWNSGALTSGVHTFPAVLQSSGLYSLSSVVTVPSSSLGTQTYICNVNHKPSNTKVDKKVEP',\n",
       " 'L': 'SDIQMTQSPSSLSASVGDRVTITCRASQGISNNLNWYQQKPGKAPKLLIYAASSLESGVPSRFSGSGSGTDFTLTISSLQPEDFATYYCQQGNGFPLTFGPGTKVDIKRTVAAPSVFIFPPSDEQLKSGTASVVCLLNNFYPREAKVQWKVDNALQSGNSQESVTEQDSKDSTYSLSSTLTLSKADYEKHKVYACEVTHQGLSSPVTKSFNR',\n",
       " 'A': 'DIVMTQSPDSLAVSLGERATINCKSSQSVLYSSNNKNYLAWYQQKPGQPPKLLIYWASTRESGVPDRFSGSGSGTDFTLTISSLQAEDVAVYYCQQYYSTPPTFGQGTKLEIKRTVAAPSVFIFPPSDEQLKSGTASVVCLLNNFYPREAKVQWKVDNALQSGNSQESVTEQDSKDSTYSLSSTLTLSKADYEKHKVYACEVTHQGLSSPVTKSFNRGEC',\n",
       " 'B': 'VQLVQSGAEVKKPGASVKVSCKASGGTFSTYGISWVRQAPGQGLEWMGWISPNSGGTDLAQKFQGRVTMTRDTSTSTVYMELSSLRSEDTAVYYCASDPRDDIAGGYWGQGTLVTVSSASTKGPSVFPLAPSSKSTTAALGCLVKDYFPEPVTVSWNSGALTSGVHTFPAVLQSSGLYSLSSVVTVPSSSLGTQTYICNVNHKPSNTKVDKKVEPKSC',\n",
       " 'E': 'TNLCPFGEVFNATRFASVYAWNRKRISNCVADYSVLYNSASFSTFKCYGVSPTKLNDLCFTNVYADSFVIRGDEVRQIAPGQTGKIADYNYKLPDDFTGCVIAWNSNNLDSKVGGNYNYLYRLFRKSNLKPFERDISTEIYQAGSTPCNGVEGFNCYFPLQSYGFQPTNGVGYQPYRVVVLSFELLHAPATVCGPX'}"
      ]
     },
     "execution_count": 198,
     "metadata": {},
     "output_type": "execute_result"
    }
   ],
   "source": [
    "chains"
   ]
  },
  {
   "cell_type": "code",
   "execution_count": 199,
   "metadata": {},
   "outputs": [],
   "source": [
    "a = 'qvqlvqsgaevkkpgasvkvsckasggtfstygiswvrqapgqglewmgwispnsggtdlaqkfqgrvtmtrdtststvymelsslrsedtavyycasdprddiaggywgqgtlvtvssastkgpsvfplapsskstsggtaalgclvkdyfpepvtvswnsgaltsgvhtfpavlqssglyslssvvtvpssslgtqtyicnvnhkpsntkvdkkvepksc'\n",
    "b = 'VQLVQSGAEVKKPGASVKVSCKASGGTFSTYGISWVRQAPGQGLEWMGWISPNSGGTDLAQKFQGRVTMTRDTSTSTVYMELSSLRSEDTAVYYCASDPRDDIAGGYWGQGTLVTVSSASTKGPSVFPLAPSSKSTTAALGCLVKDYFPEPVTVSWNSGALTSGVHTFPAVLQSSGLYSLSSVVTVPSSSLGTQTYICNVNHKPSNTKVDKKVEPKSC'"
   ]
  },
  {
   "cell_type": "code",
   "execution_count": 204,
   "metadata": {},
   "outputs": [
    {
     "data": {
      "text/plain": [
       "False"
      ]
     },
     "execution_count": 204,
     "metadata": {},
     "output_type": "execute_result"
    }
   ],
   "source": [
    "b in a.upper()"
   ]
  },
  {
   "cell_type": "code",
   "execution_count": 184,
   "metadata": {},
   "outputs": [
    {
     "name": "stderr",
     "output_type": "stream",
     "text": [
      "WARNING: The default download format has changed from PDB to PDBx/mmCif\n"
     ]
    },
    {
     "name": "stdout",
     "output_type": "stream",
     "text": [
      "Downloading PDB structure '7k9z'...\n"
     ]
    }
   ],
   "source": [
    "pdb = PDBList(pdb='./pdbs/')\n",
    "pdb.retrieve_pdb_file('7k9z', pdir='./pdbs', overwrite=True)\n",
    "parser = MMCIFParser()\n",
    "structure = parser.get_structure('7k9z', f'./pdbs/7k9z.cif')\n",
    "chains = {chain.id:seq1(''.join(residue.resname for residue in chain)) for chain in structure.get_chains()}\n"
   ]
  },
  {
   "cell_type": "code",
   "execution_count": 185,
   "metadata": {},
   "outputs": [
    {
     "data": {
      "text/plain": [
       "{'H': 'QVQLVQSGAEVKKPGSSVKVSCKASGYTFTSYGISWVRQAPGQGLEWMGGIIPMFGTTNYAQKFQGRVTITADKSTSTAYMELSSLRSEDTAVYYCARDRGDTIDYWGQGTLVTVSSASTKGPSVFPLAPSSGTAALGCLVKDYFPEPVTVSWNSGALTSGVHTFPAVLQSSGLYSLSSVVTVPSSSLGTQTYICNVNHKPSNTKVDKKVEP',\n",
       " 'L': 'SDIQMTQSPSSLSASVGDRVTITCRASQGISNNLNWYQQKPGKAPKLLIYAASSLESGVPSRFSGSGSGTDFTLTISSLQPEDFATYYCQQGNGFPLTFGPGTKVDIKRTVAAPSVFIFPPSDEQLKSGTASVVCLLNNFYPREAKVQWKVDNALQSGNSQESVTEQDSKDSTYSLSSTLTLSKADYEKHKVYACEVTHQGLSSPVTKSFNR',\n",
       " 'A': 'DIVMTQSPDSLAVSLGERATINCKSSQSVLYSSNNKNYLAWYQQKPGQPPKLLIYWASTRESGVPDRFSGSGSGTDFTLTISSLQAEDVAVYYCQQYYSTPPTFGQGTKLEIKRTVAAPSVFIFPPSDEQLKSGTASVVCLLNNFYPREAKVQWKVDNALQSGNSQESVTEQDSKDSTYSLSSTLTLSKADYEKHKVYACEVTHQGLSSPVTKSFNRGEC',\n",
       " 'B': 'VQLVQSGAEVKKPGASVKVSCKASGGTFSTYGISWVRQAPGQGLEWMGWISPNSGGTDLAQKFQGRVTMTRDTSTSTVYMELSSLRSEDTAVYYCASDPRDDIAGGYWGQGTLVTVSSASTKGPSVFPLAPSSKSTTAALGCLVKDYFPEPVTVSWNSGALTSGVHTFPAVLQSSGLYSLSSVVTVPSSSLGTQTYICNVNHKPSNTKVDKKVEPKSC',\n",
       " 'E': 'TNLCPFGEVFNATRFASVYAWNRKRISNCVADYSVLYNSASFSTFKCYGVSPTKLNDLCFTNVYADSFVIRGDEVRQIAPGQTGKIADYNYKLPDDFTGCVIAWNSNNLDSKVGGNYNYLYRLFRKSNLKPFERDISTEIYQAGSTPCNGVEGFNCYFPLQSYGFQPTNGVGYQPYRVVVLSFELLHAPATVCGPX'}"
      ]
     },
     "execution_count": 185,
     "metadata": {},
     "output_type": "execute_result"
    }
   ],
   "source": [
    "chains"
   ]
  },
  {
   "cell_type": "code",
   "execution_count": null,
   "metadata": {},
   "outputs": [],
   "source": []
  }
 ],
 "metadata": {
  "kernelspec": {
   "display_name": "Python 3.8.13 ('auto-db-pipeline')",
   "language": "python",
   "name": "python3"
  },
  "language_info": {
   "codemirror_mode": {
    "name": "ipython",
    "version": 3
   },
   "file_extension": ".py",
   "mimetype": "text/x-python",
   "name": "python",
   "nbconvert_exporter": "python",
   "pygments_lexer": "ipython3",
   "version": "3.8.13"
  },
  "orig_nbformat": 4,
  "vscode": {
   "interpreter": {
    "hash": "f5cb82b301b87eef88325f480de257324ba8b611cc1a51609875e0120daba8a9"
   }
  }
 },
 "nbformat": 4,
 "nbformat_minor": 2
}
