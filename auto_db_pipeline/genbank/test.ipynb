{
 "cells": [
  {
   "cell_type": "code",
   "execution_count": 3,
   "metadata": {},
   "outputs": [],
   "source": [
    "a = {'a': [1,2,3], 'b': '2'}"
   ]
  },
  {
   "cell_type": "code",
   "execution_count": 2,
   "metadata": {},
   "outputs": [
    {
     "name": "stdout",
     "output_type": "stream",
     "text": [
      "a 1\n",
      "b 2\n"
     ]
    }
   ],
   "source": [
    "for k, v in a.items():\n",
    "    print(k, v)"
   ]
  },
  {
   "cell_type": "code",
   "execution_count": 6,
   "metadata": {},
   "outputs": [
    {
     "ename": "KeyError",
     "evalue": "'c'",
     "output_type": "error",
     "traceback": [
      "\u001b[0;31m---------------------------------------------------------------------------\u001b[0m",
      "\u001b[0;31mKeyError\u001b[0m                                  Traceback (most recent call last)",
      "\u001b[1;32m/Users/fabian/Desktop/SABS/Antibody project/code/auto-db-pipeline/auto_db_pipeline/genbank/test.ipynb Cell 3\u001b[0m in \u001b[0;36m<cell line: 1>\u001b[0;34m()\u001b[0m\n\u001b[0;32m----> <a href='vscode-notebook-cell:/Users/fabian/Desktop/SABS/Antibody%20project/code/auto-db-pipeline/auto_db_pipeline/genbank/test.ipynb#W2sZmlsZQ%3D%3D?line=0'>1</a>\u001b[0m a[\u001b[39m'\u001b[39;49m\u001b[39mc\u001b[39;49m\u001b[39m'\u001b[39;49m]\u001b[39m.\u001b[39mappend(\u001b[39m4\u001b[39m)\n",
      "\u001b[0;31mKeyError\u001b[0m: 'c'"
     ]
    }
   ],
   "source": [
    "a['c'].append(4)"
   ]
  },
  {
   "cell_type": "code",
   "execution_count": 7,
   "metadata": {},
   "outputs": [
    {
     "data": {
      "text/plain": [
       "{'a': [1, 2, 3, 4], 'b': '2'}"
      ]
     },
     "execution_count": 7,
     "metadata": {},
     "output_type": "execute_result"
    }
   ],
   "source": [
    "a"
   ]
  },
  {
   "cell_type": "code",
   "execution_count": 8,
   "metadata": {},
   "outputs": [],
   "source": [
    "a = []"
   ]
  },
  {
   "cell_type": "code",
   "execution_count": 10,
   "metadata": {},
   "outputs": [
    {
     "name": "stdout",
     "output_type": "stream",
     "text": [
      "a\n"
     ]
    }
   ],
   "source": [
    "if not a:\n",
    "    print('a')"
   ]
  },
  {
   "cell_type": "code",
   "execution_count": 11,
   "metadata": {},
   "outputs": [],
   "source": [
    "known_antigens = {'COVID': ['coronavirus', 'sars-cov', 'sars'],\n",
    "                  'MERS': ['mers-cov', 'mers'],\n",
    "                  'SARS-COV-2': ['sars-cov-2', 'covid-19'],\n",
    "                  'SARS-COV-1': ['sars-cov-1'],\n",
    "                  'Spike protein': ['spike', 'spike protein'],\n",
    "                  'RBD': ['receptor binding domain', 'rbd']}"
   ]
  },
  {
   "cell_type": "code",
   "execution_count": 16,
   "metadata": {},
   "outputs": [],
   "source": [
    "known_antigens = {}"
   ]
  },
  {
   "cell_type": "code",
   "execution_count": 12,
   "metadata": {},
   "outputs": [],
   "source": [
    "entries = [\n",
    "    {'GBReference_title': 'abc', 'GBSeq_definition': 'RBD of Spike protein of SARS-COV-2'},\n",
    "    {'GBReference_title': 'Spike protein of SARS-COV-1', 'GBSeq_definition': 'abc'},\n",
    "    {'GBReference_title': 'abc', 'GBSeq_definition': 'abc'},\n",
    "]"
   ]
  },
  {
   "cell_type": "code",
   "execution_count": 17,
   "metadata": {},
   "outputs": [],
   "source": [
    "def find_antigen2(entries, known_antigens):\n",
    "    '''\n",
    "    Finds the antigen the antibody binds to. Searches defintions of\n",
    "    genbank entries for keywords and labels them accordingly.\n",
    "    '''\n",
    "    n_antigen_not_found = 0\n",
    "    for entry in entries:\n",
    "        definition = entry['GBSeq_definition'].lower()\n",
    "        title = entry['GBReference_title'].lower()\n",
    "        entry['antigen'] = []\n",
    "        for antigen, words in known_antigens.items():\n",
    "            if any(word in definition for word in words):\n",
    "                entry['antigen'].append(antigen)\n",
    "            elif any(word in title for word in words):\n",
    "                entry['antigen'].append(antigen)\n",
    "        \n",
    "        # if no antigen was found\n",
    "        if not entry['antigen']:\n",
    "            entry['antigen'] = 'unknown'\n",
    "            n_antigen_not_found += 1\n",
    "    print('Number of entries where antigen was determined:',\n",
    "          len(entries) - n_antigen_not_found)\n",
    "    print('Number of entries where antigen was not determined:',\n",
    "          n_antigen_not_found)\n",
    "    print('----------')"
   ]
  },
  {
   "cell_type": "code",
   "execution_count": 18,
   "metadata": {},
   "outputs": [
    {
     "name": "stdout",
     "output_type": "stream",
     "text": [
      "Number of entries where antigen was determined: 0\n",
      "Number of entries where antigen was not determined: 3\n",
      "----------\n"
     ]
    }
   ],
   "source": [
    "find_antigen2(entries, known_antigens)"
   ]
  },
  {
   "cell_type": "code",
   "execution_count": 19,
   "metadata": {},
   "outputs": [
    {
     "data": {
      "text/plain": [
       "[{'GBReference_title': 'abc',\n",
       "  'GBSeq_definition': 'RBD of Spike protein of SARS-COV-2',\n",
       "  'antigen': 'unknown'},\n",
       " {'GBReference_title': 'Spike protein of SARS-COV-1',\n",
       "  'GBSeq_definition': 'abc',\n",
       "  'antigen': 'unknown'},\n",
       " {'GBReference_title': 'abc', 'GBSeq_definition': 'abc', 'antigen': 'unknown'}]"
      ]
     },
     "execution_count": 19,
     "metadata": {},
     "output_type": "execute_result"
    }
   ],
   "source": [
    "entries"
   ]
  },
  {
   "cell_type": "code",
   "execution_count": null,
   "metadata": {},
   "outputs": [],
   "source": []
  }
 ],
 "metadata": {
  "kernelspec": {
   "display_name": "Python 3.8.13 ('auto-db-pipeline')",
   "language": "python",
   "name": "python3"
  },
  "language_info": {
   "codemirror_mode": {
    "name": "ipython",
    "version": 3
   },
   "file_extension": ".py",
   "mimetype": "text/x-python",
   "name": "python",
   "nbconvert_exporter": "python",
   "pygments_lexer": "ipython3",
   "version": "3.8.13"
  },
  "orig_nbformat": 4,
  "vscode": {
   "interpreter": {
    "hash": "f5cb82b301b87eef88325f480de257324ba8b611cc1a51609875e0120daba8a9"
   }
  }
 },
 "nbformat": 4,
 "nbformat_minor": 2
}
