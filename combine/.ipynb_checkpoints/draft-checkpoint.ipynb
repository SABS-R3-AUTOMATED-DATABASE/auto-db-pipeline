{
 "cells": [
  {
   "cell_type": "code",
   "execution_count": 1,
   "metadata": {},
   "outputs": [
    {
     "name": "stdout",
     "output_type": "stream",
     "text": [
      "WARNING:paperscraper.load_dumps: No dump found for biorxiv. Skipping entry.\n",
      "WARNING:paperscraper.load_dumps: No dump found for chemrxiv. Skipping entry.\n",
      "WARNING:paperscraper.load_dumps: No dump found for medrxiv. Skipping entry.\n",
      "WARNING:paperscraper.load_dumps: No dumps found for either biorxiv or medrxiv. Consider using paperscraper.get_dumps.* to fetch the dumps.\n"
     ]
    }
   ],
   "source": [
    "import get_doi_from_pubmed as gd\n",
    "import pandas as pd"
   ]
  },
  {
   "cell_type": "code",
   "execution_count": 2,
   "metadata": {},
   "outputs": [],
   "source": [
    "covid = ['SARS-CoV-2', 'COVID-19', 'coronavirus', 'SARS-CoV', 'MERS-CoV',\n",
    "        'SARS']\n",
    "antibody = ['antibody', 'antibodies', 'nanobody', 'MAb', 'immunoglobulin',\n",
    "            'nanobodies']\n",
    "interaction = ['neutralizing', 'neutralize', 'neutralization', 'bind',\n",
    "               'binding', 'inhibit', 'targeting']\n",
    "extra = ['heavy chain',  'complementarity determining region',\n",
    "        'gene', 'epitope', 'receptor-binding domain', 'rbd',\n",
    "        'spike protein', 'VHH']"
   ]
  },
  {
   "cell_type": "code",
   "execution_count": 11,
   "metadata": {},
   "outputs": [],
   "source": [
    "papers_and_preprints = gd.pubmed_papers_and_pt(txt=False, jsonl=False, csv=True)"
   ]
  },
  {
   "cell_type": "markdown",
   "metadata": {},
   "source": [
    "### Retrieve author from paper"
   ]
  },
  {
   "cell_type": "code",
   "execution_count": null,
   "metadata": {},
   "outputs": [],
   "source": [
    "from Bio.PDB.PDBList import PDBList\n",
    "import tempfile"
   ]
  },
  {
   "cell_type": "code",
   "execution_count": null,
   "metadata": {},
   "outputs": [],
   "source": [
    "\"\"\"\n",
    "First we store all the existing pdb IDs as a dictionary for O(1) lookup. \n",
    "There are 184,929 IDs as of 2021-12-8 and the retrieval using biopython takes about 7 seconds.\n",
    "For some reason, calling PDBList() creates an empty folder in the directory called \"obsolete\", \n",
    "but this goes away by setting the `obsolte_pdb` parameter to some random string, which I made \"None\".\n",
    "\n",
    "\"\"\"\n",
    "\n",
    "pdbl = PDBList(verbose=False, obsolete_pdb=\"None\")\n",
    "existing_pdbs = {pdb_id: True for pdb_id in pdbl.get_all_entries()}  # takes 7 secs"
   ]
  },
  {
   "cell_type": "code",
   "execution_count": null,
   "metadata": {},
   "outputs": [],
   "source": [
    "class PDBChecker:\n",
    "    def __init__(self):\n",
    "        "
   ]
  },
  {
   "cell_type": "code",
   "execution_count": null,
   "metadata": {},
   "outputs": [],
   "source": []
  },
  {
   "cell_type": "code",
   "execution_count": null,
   "metadata": {},
   "outputs": [],
   "source": []
  },
  {
   "cell_type": "code",
   "execution_count": null,
   "metadata": {},
   "outputs": [],
   "source": []
  },
  {
   "cell_type": "code",
   "execution_count": null,
   "metadata": {},
   "outputs": [],
   "source": []
  }
 ],
 "metadata": {
  "interpreter": {
   "hash": "949777d72b0d2535278d3dc13498b2535136f6dfe0678499012e853ee9abcab1"
  },
  "kernelspec": {
   "display_name": "Python 3",
   "language": "python",
   "name": "python3"
  },
  "language_info": {
   "codemirror_mode": {
    "name": "ipython",
    "version": 3
   },
   "file_extension": ".py",
   "mimetype": "text/x-python",
   "name": "python",
   "nbconvert_exporter": "python",
   "pygments_lexer": "ipython3",
   "version": "3.8.3"
  }
 },
 "nbformat": 4,
 "nbformat_minor": 2
}
