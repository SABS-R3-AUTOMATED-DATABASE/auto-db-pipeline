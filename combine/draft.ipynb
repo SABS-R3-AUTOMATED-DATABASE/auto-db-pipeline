{
 "cells": [
  {
   "cell_type": "markdown",
   "metadata": {},
   "source": [
    "\n",
    "The reason we should not the bio and medarchive by doing something like \n",
    "\n",
    "```\n",
    "url = \"https://www.biorxiv.org/content/\" + doi + \"v1\"\n",
    "```\n",
    "\n",
    "is that version number increases, and sometimes version 1 remains active after version 2 is uploaded. \n",
    "\n",
    "For a bioarchive and medarchive papers, if there is only a pdf, the url with the suffix \".full\" will work but will just show the original page with just the Abstract. Weirdly, both \".full-text\" and \".full\" seem to work with medarchive papers. The \".full-text\" results when you click on the Full Text hyperlink, but \".full-text\" always redirects to \".full\". \n",
    "\n",
    "Note that the `doi_pubmed` method can be an invalid article.\n",
    "\n",
    "We can also try accessing articles this way: \"https://pubmed.ncbi.nlm.nih.gov/\".\n",
    "\n",
    "\n",
    "### Redirecting (not used)\n",
    "The following approach:\n",
    "\n",
    "``` url_pmc = \"https://www.ncbi.nlm.nih.gov/pmc/articles/doi/\" + self.doi\"```\n",
    "\n",
    "redirects to the PMC link to the paper. I've found cases were the \"doi.org\" approach does not get the full text but this does. I've also found cases where the \"doi.org\" approach gets the full text but this does not. Clearly, we need to run both. This approach is replicated by using the `metapub` package, with the advantage being that we avoid unecessary html queries when the paper is not on pubmed and this approach would fail anyways. \n",
    "\n",
    "\n",
    "### PMC full text for open access papers\n",
    "We may want to check in the PMCID full text retrieval system for open access papers. Information on this is [here](https://ftp.ncbi.nlm.nih.gov/pub/pmc/) and [here](https://www.ncbi.nlm.nih.gov/pmc/tools/get-full-text/). One advantage of this approach is that the XML text should be much cleaner and avoid html gobble that happens to be PDBs. Another advantage of this approach is that source files like supplementary data and images are in the open access subset. It seems like there may be a better approach than simply inserting the PMCID in the link like in the code below, such as using a library for direct queries of the database, like [pymed/article.py](https://github.com/gijswobben/pymed/blob/master/pymed/article.py). But this approach is more complicated and requries writing much more code. Also it doesn't seem like the xml text much noise/gobble, so direct queries may not provide much advantage. Some papers like [https://doi.org/10.1515/cclm-2021-1287](10.1515/cclm-2021-1287) are technically on pubmed, it has a PMID, but either aren't on pubmed central and thus don't have a PMCID or aren't open access. This paper doesn't even appear on the `metapub` fetch. When searched by doi, but when searched by its PMID, it's found. \n",
    "\n",
    "```\n",
    "pmc_oa_xml = \"https://eutils.ncbi.nlm.nih.gov/entrez/eutils/efetch.fcgi?db=pmc&id=\" + self.pmc\n",
    "```\n",
    "\n",
    "We should write a checker to see if this approach fails. The xml page has a standard error messsage when a paper does not exist I think.\n",
    "\n",
    "\n",
    "### Scraping PMIDs and PMCIDs\n",
    "\n",
    "* [Variable length of PMID](https://libguides.library.arizona.edu/c.php?g=406096&p=2779570#:~:text=PMID,to%20all%20records%20in%20PubMed.) (From 1 to 8 digits.)\n",
    "* [Fixed length of PMC](https://en.wikipedia.org/wiki/PubMed_Central#:~:text=The%20two%20identifiers%20are%20distinct%20however.%20It%20consists%20of%20%22PMC%22%20followed%20by%20a%20string%20of%20seven%20numbers) (7 digits.)"
   ]
  },
  {
   "cell_type": "markdown",
   "metadata": {},
   "source": []
  },
  {
   "cell_type": "code",
   "execution_count": 1,
   "metadata": {},
   "outputs": [
    {
     "name": "stdout",
     "output_type": "stream",
     "text": [
      "WARNING:paperscraper.load_dumps: No dump found for biorxiv. Skipping entry.\n",
      "WARNING:paperscraper.load_dumps: No dump found for chemrxiv. Skipping entry.\n",
      "WARNING:paperscraper.load_dumps: No dump found for medrxiv. Skipping entry.\n",
      "WARNING:paperscraper.load_dumps: No dumps found for either biorxiv or medrxiv. Consider using paperscraper.get_dumps.* to fetch the dumps.\n"
     ]
    },
    {
     "name": "stderr",
     "output_type": "stream",
     "text": [
      "2021-12-17 14:35:48 Jesses-MacBook-Pro.local metapub.config[89094] WARNING NCBI_API_KEY was not set.\n"
     ]
    }
   ],
   "source": [
    "import get_poss_pdbs as gp\n",
    "import get_doi_from_pubmed as gd\n",
    "import pandas as pd\n",
    "from metapub import PubMedFetcher"
   ]
  },
  {
   "cell_type": "code",
   "execution_count": 63,
   "metadata": {},
   "outputs": [],
   "source": [
    "fields = [\"title\", \"authors\", \"date\", \"abstract\", \"journal\", \"doi\"]"
   ]
  },
  {
   "cell_type": "code",
   "execution_count": 120,
   "metadata": {},
   "outputs": [],
   "source": [
    "data = gd.pubmed_papers_and_pt(txt=False, jsonl=False, csv=True)"
   ]
  },
  {
   "cell_type": "code",
   "execution_count": 128,
   "metadata": {},
   "outputs": [],
   "source": [
    "paper_data = data[0]"
   ]
  },
  {
   "cell_type": "code",
   "execution_count": 127,
   "metadata": {},
   "outputs": [
    {
     "data": {
      "text/plain": [
       "['title', 'authors', 'date', 'abstract', 'journal', 'doi']"
      ]
     },
     "execution_count": 127,
     "metadata": {},
     "output_type": "execute_result"
    }
   ],
   "source": [
    "fields"
   ]
  },
  {
   "cell_type": "code",
   "execution_count": 286,
   "metadata": {},
   "outputs": [],
   "source": [
    "doi = data[5]['doi']"
   ]
  },
  {
   "cell_type": "code",
   "execution_count": 237,
   "metadata": {},
   "outputs": [
    {
     "data": {
      "text/plain": [
       "'https://www.ncbi.nlm.nih.gov/pmc/articles/doi/10.14744/nci.2021.99075'"
      ]
     },
     "execution_count": 237,
     "metadata": {},
     "output_type": "execute_result"
    }
   ],
   "source": [
    "\"https://www.ncbi.nlm.nih.gov/pmc/articles/doi/10.14744/nci.2021.99075\""
   ]
  },
  {
   "cell_type": "code",
   "execution_count": null,
   "metadata": {},
   "outputs": [],
   "source": [
    "\"https://www.ncbi.nlm.nih.gov/pmc/articles/doi/10.14744/nci.2021.99075\""
   ]
  },
  {
   "cell_type": "code",
   "execution_count": 285,
   "metadata": {},
   "outputs": [
    {
     "data": {
      "text/plain": [
       "'https://pubmed.ncbi.nlm.nih.gov/?term=10.1101/2021.12.06.21267328'"
      ]
     },
     "execution_count": 285,
     "metadata": {},
     "output_type": "execute_result"
    }
   ],
   "source": [
    "# Another way to get PMID\n",
    "\"https://pubmed.ncbi.nlm.nih.gov/?term=\" + doi\n",
    "# Then query the html. "
   ]
  },
  {
   "cell_type": "code",
   "execution_count": null,
   "metadata": {},
   "outputs": [],
   "source": []
  },
  {
   "cell_type": "code",
   "execution_count": 264,
   "metadata": {},
   "outputs": [],
   "source": [
    "doi = \"10.1515/cclm-2021-1287\"\n",
    "fetch = PubMedFetcher()\n"
   ]
  },
  {
   "cell_type": "code",
   "execution_count": 265,
   "metadata": {},
   "outputs": [],
   "source": [
    "doi2pmc = \"https://www.ncbi.nlm.nih.gov/pmc/articles/doi/\" + doi"
   ]
  },
  {
   "cell_type": "code",
   "execution_count": 266,
   "metadata": {},
   "outputs": [
    {
     "data": {
      "text/plain": [
       "'https://www.ncbi.nlm.nih.gov/pmc/articles/doi/10.1515/cclm-2021-1287'"
      ]
     },
     "execution_count": 266,
     "metadata": {},
     "output_type": "execute_result"
    }
   ],
   "source": [
    "doi2pmc"
   ]
  },
  {
   "cell_type": "code",
   "execution_count": 287,
   "metadata": {},
   "outputs": [],
   "source": []
  },
  {
   "cell_type": "code",
   "execution_count": 269,
   "metadata": {},
   "outputs": [],
   "source": [
    "article.content"
   ]
  },
  {
   "cell_type": "code",
   "execution_count": 290,
   "metadata": {},
   "outputs": [
    {
     "name": "stdout",
     "output_type": "stream",
     "text": [
      "10.1101/2021.12.01.470697\n",
      "34909774\n",
      "8669841\n"
     ]
    }
   ],
   "source": [
    "article = fetch.article_by_doi(doi)\n",
    "print(article.doi)\n",
    "print(article.pmid)\n",
    "print(article.pmc)\n"
   ]
  },
  {
   "cell_type": "code",
   "execution_count": null,
   "metadata": {},
   "outputs": [],
   "source": []
  },
  {
   "cell_type": "code",
   "execution_count": null,
   "metadata": {},
   "outputs": [],
   "source": []
  },
  {
   "cell_type": "code",
   "execution_count": 17,
   "metadata": {},
   "outputs": [],
   "source": [
    "class PDBChecker:\n",
    "    def __init__(self):\n",
    "        from Bio.PDB.PDBList import PDBList\n",
    "        \"\"\"\n",
    "        First we store all the existing pdb IDs as a dictionary for O(1) lookup. \n",
    "        There are 184,929 IDs as of 2021-12-8 and the retrieval using biopython takes about 7 seconds.\n",
    "        For some reason, calling PDBList() creates an empty folder in the directory called \"obsolete\", \n",
    "        but this goes away by setting the `obsolte_pdb` parameter to some random string, which I made \"None\".\n",
    "\n",
    "        \"\"\"\n",
    "\n",
    "        self.pdbl = PDBList(verbose=False, obsolete_pdb=\"None\")\n",
    "        self.existing_pdbs = {pdb_id: True for pdb_id in self.pdbl.get_all_entries()}  # takes 7 secs\n",
    "\n",
    "    def get_actual(self, possible_pdbs: list, verbose=True) -> list:\n",
    "        \"\"\"\n",
    "        Takes a list of possible PDB IDs as input. \n",
    "        Returns a list of the actual PDB IDs, i.e. the ones from the input list that exist on the PDB database.\n",
    "        \n",
    "        \n",
    "        Warning: Please remember that html gobble can include actual PDB IDs by chance. So just because a possible\n",
    "        PDB ID from the paper url html turns out to be an actual PDB ID (is actually on the database), does not \n",
    "        mean it was meant to be written in the text of the paper. \n",
    "        \"\"\"\n",
    "        actual_pdbs = [pdb_id for pdb_id in possible_pdbs if self.existing_pdbs.get(pdb_id, False)]\n",
    "        if verbose: \n",
    "            print(\"Out of the\", len(possible_pdbs), 'possible PDB IDs scraped', len(actual_pdbs), 'are actual PDB IDs.')\n",
    "        return actual_pdbs\n",
    "\n",
    "\n",
    "    def get_top_authors(self, pdb_id: str, top_num=3, verbose=True) -> list:\n",
    "        \"\"\"\n",
    "        Takes an actual PDB ID as input.\n",
    "        Returns (hopefully) the last names of the top authors for that paper, as retrieved from the PDB database. \n",
    "        \n",
    "        Misc notes:\n",
    "        If an author has essentially two last names, like \"von Kuegelgen\", the function will treat those\n",
    "        as two separate last names. Though this shouldn't matter for practical purposes. \n",
    "\n",
    "        The logic of returning only the top authors is that sometimes institutions are named as authors, \n",
    "        for example \"Seattle Structural Genomics Center for Infectious Disease (SSGCID), McGuire, A.T., Veesler, D.\"\n",
    "        or \"Midwest Center for Structural Genomics\". \n",
    "        If there are less than `top_num` authors on the paper, it will return all the authors\n",
    "        of the paper. \n",
    "        \"\"\"\n",
    "        \n",
    "        import tempfile\n",
    "        import re\n",
    "\n",
    "        temp_dir = tempfile.TemporaryDirectory()\n",
    "        pdb_file = self.pdbl.retrieve_pdb_file(pdb_id, file_format=\"pdb\", pdir=temp_dir.name)\n",
    "        author_txt = ' '.join(filter(lambda line: line.split()[0] == \"AUTHOR\", open(pdb_file).read().splitlines()))\n",
    "        temp_dir.cleanup()\n",
    "        top_authors = list(filter(lambda word: len(word) > 1 and word != \"AUTHOR\", re.findall(r\"[\\w']+\", author_txt)))[:top_num]\n",
    "        if verbose:\n",
    "            print(\"Top Authors scraped from PDB Database:\", top_authors)\n",
    "        return top_authors\n",
    "    \n",
    "        "
   ]
  },
  {
   "cell_type": "code",
   "execution_count": 11,
   "metadata": {},
   "outputs": [],
   "source": [
    "import requests\n",
    "from metapub import PubMedFetcher\n",
    "import get_poss_pdbs as gp\n",
    "import re\n",
    "\n",
    "class Paper:\n",
    "    def __init__(self, paper_data: dict, verbose=True):\n",
    "\n",
    "        self.fields = (\"title\", \"authors\", \"date\", \"abstract\", \"journal\", \"doi\")\n",
    "        self.title, self.authors, self.date, self.abstract, self.journal, self.doi = (paper_data[field] for field in self.fields)\n",
    "        self.url_doi, self.url_pmc, self.url_pmid = None, None, None\n",
    "        \n",
    "        if self.doi:\n",
    "            if verbose:\n",
    "                print(\"DOI exists. Attempting to retrieve...\", end='\\n\\n')\n",
    "            self.retrieve_from_doi()\n",
    "        else:\n",
    "            if verbose:\n",
    "                print(\"DOI does not exist. Catastrophic failure.\", end='\\n\\n')\n",
    "                self.pmid, self.pmc = None, None\n",
    "\n",
    "        if verbose:\n",
    "            print(\"DOI:\", self.doi)\n",
    "            print(\"PMID:\", self.pmid)\n",
    "            print(\"PMC:\", self.pmc)\n",
    "\n",
    "        self.get_pdbs()\n",
    "\n",
    "\n",
    "    def get_pdbs(self, verbose=True):\n",
    "        if self.url_doi:\n",
    "            if verbose:\n",
    "                print(\"Retrieving pdbs from DOI...\")\n",
    "            doi_poss_pdbs = gp.get_poss_pdbs(self.url_doi)\n",
    "            self.doi_actual_pdbs = checker.get_actual(doi_poss_pdbs)\n",
    "            if verbose:\n",
    "                print(self.doi_actual_pdbs, end=\"\\n\\n\")\n",
    "\n",
    "\n",
    "        if self.url_pmid:\n",
    "            if verbose:\n",
    "                print(\"Retrieving pdbs from PMC...\")\n",
    "            pmid_poss_pdbs = gp.get_poss_pdbs(self.url_pmid)\n",
    "            self.pmid_actual_pdbs = checker.get_actual(pmid_poss_pdbs)\n",
    "            if verbose:\n",
    "                print(self.pmid_actual_pdbs, end=\"\\n\\n\")\n",
    "\n",
    "        \n",
    "        if self.url_pmc:\n",
    "            if verbose:\n",
    "                print(\"Retrieving pdbs from PMC...\")\n",
    "            pmc_poss_pdbs = gp.get_poss_pdbs(self.url_pmc)\n",
    "            self.pmc_actual_pdbs = checker.get_actual(pmc_poss_pdbs)\n",
    "            if verbose:\n",
    "                print(self.pmc_actual_pdbs, end=\"\\n\\n\")\n",
    "\n",
    "\n",
    "\n",
    "    def retrieve_from_doi(self, verbose=True):\n",
    "        if verbose:\n",
    "            print(\"Scraping from doi...\", end=\"\\n\\n\")\n",
    "        self.get_url_doi()\n",
    "\n",
    "        if verbose:\n",
    "            print(\"Trying metapub fetch...\")\n",
    "        self.try_metapub()\n",
    "\n",
    "        if not self.found_metapub:\n",
    "            # We only try the pubmed search `try_pubmed` if metapub fails. \n",
    "            # Therefore we are assuming that if metapub succeeds, it will always\n",
    "            # find the PMID and PMC if they exist. \n",
    "            if verbose:\n",
    "                print(\"Trying pubmed webscrape...\")\n",
    "            self.try_pubmed()\n",
    "\n",
    "        if self.pmid:\n",
    "            self.get_url_pmid() \n",
    "        if self.pmc:\n",
    "            self.get_url_pmc()\n",
    "\n",
    "            \n",
    "\n",
    "    def try_metapub(self, verbose=True):\n",
    "            try:\n",
    "                self.article_fetch = PubMedFetcher().article_by_doi(self.doi)\n",
    "                self.found_metapub = True\n",
    "                self.pmid = self.article_fetch.pmid\n",
    "                self.pmc = self.article_fetch.pmc\n",
    "\n",
    "                if verbose:\n",
    "                    print(\"Metapub fetch succeeded. PMID and PMC found.\", end='\\n\\n')\n",
    "            except:\n",
    "                self.found_metapub = False\n",
    "                self.pmid, self.pmc = None, None\n",
    "                if verbose:\n",
    "                    print(\"Metapub fetch failed.\", end='\\n\\n')\n",
    "\n",
    "            \n",
    "\n",
    "    def try_pubmed(self, verbose=True):\n",
    "        import get_poss_pdbs as gp\n",
    "\n",
    "        url_search_pubmed = \"https://pubmed.ncbi.nlm.nih.gov/?term=\" + self.doi\n",
    "            \n",
    "        pubmed_txt = gp.get_txt(url_search_pubmed)\n",
    "\n",
    "        try:\n",
    "            start_idx = pubmed_txt.index(\"pmid:\")\n",
    "            # Length of \"mid:\" plus max length of PMID plus 1\n",
    "            end_idx = start_idx + 4 + 8 + 1\n",
    "            pmid_match = pubmed_txt[start_idx:end_idx]\n",
    "            if verbose:\n",
    "                print(\"PMID Match:\", pmid_match)  # if verbose\n",
    "            self.pmid = pmid_match.split(':')[1].split(',')[0]\n",
    "        except ValueError:  # substring not found\n",
    "            if verbose:\n",
    "                print(\"PMID not found via pubmed webscrape.\")\n",
    "            self.pmid = None\n",
    "\n",
    "        try:\n",
    "            self.pmc = re.findall(r\"PMC\\d{7}\", pubmed_txt)[0][3:]\n",
    "        except IndexError:  # list index out of range\n",
    "            if verbose:\n",
    "                print(\"PMC not found via pubmed webscrape.\")\n",
    "            self.pmc = None\n",
    "\n",
    "        if (not self.pmid) and not (self.pmc):\n",
    "            self.found_pubmed = False\n",
    "        else:\n",
    "            self.found_pubmed = True\n",
    "         \n",
    "        if not self.found_pubmed:\n",
    "            if verbose:\n",
    "                print(\"Pubmed webscrape failed. No PMID or PMC available.\", end='\\n\\n')\n",
    "        else:\n",
    "            if verbose:\n",
    "                print(\"Pubmed webscrape succceeded.\", end='\\n\\n')\n",
    "\n",
    "\n",
    "\n",
    "    def get_url_doi(self):  \n",
    "        # Get the url that results from the doi.org approach\n",
    "        self.url_doi = 'https://doi.org/' + self.doi\n",
    "        self.url_doi = requests.get(self.url_doi, allow_redirects=True).url\n",
    "        \n",
    "        if (\"medRxiv\" in self.journal) or (\"bioRxiv\" in self.journal):\n",
    "            suffix = \".full\"\n",
    "        else:  # room to add more alterations\n",
    "            suffix = \"\"\n",
    "        self.url_doi += suffix\n",
    "\n",
    "\n",
    "    def get_url_pmid(self):\n",
    "        # Add \"/\" to check for redirects later\n",
    "        self.url_pmid = \"https://pubmed.ncbi.nlm.nih.gov/\" + self.pmid + \"/\"  \n",
    "\n",
    "\n",
    "    def get_url_pmc(self):\n",
    "        # Add \"/\" to check for redirects later\n",
    "        self.url_pmc = \"https://www.ncbi.nlm.nih.gov/pmc/articles/PMC\" + self.pmc + \"/\"\n",
    "\n"
   ]
  },
  {
   "cell_type": "code",
   "execution_count": 2,
   "metadata": {},
   "outputs": [],
   "source": [
    "data = gd.pubmed_papers_and_pt(txt=False, jsonl=False, csv=True)"
   ]
  },
  {
   "cell_type": "code",
   "execution_count": 4,
   "metadata": {},
   "outputs": [],
   "source": [
    "checker = PDBChecker()"
   ]
  },
  {
   "cell_type": "code",
   "execution_count": 5,
   "metadata": {},
   "outputs": [
    {
     "data": {
      "text/plain": [
       "{'title': 'Immunofluorescence studies on the expression of the SARS-CoV-2 receptors in human term placenta.',\n",
       " 'authors': 'JürgenBecker-DannyQiu-WalterBaron-JörgWilting',\n",
       " 'date': '2021-12-17',\n",
       " 'abstract': 'Until September 2021, the Severe Acute Respiratory Syndrome Coronavirus-2 (SARS-CoV-2; COVID-19) pandemic caused over 217 million infections and over 4.5 million deaths. In pregnant women the risk factors for the need of intensive care treatment are generally the same as in the overall population. Of note, COVID-19+ women deliver earlier than COVID-19- women, and the risk for severe neonatal and perinatal morbidity and mortality is significantly higher. The probability and pathways of vertical transmission of the virus from the pregnant woman to the fetus are highly controversial. Recent data have shown that 54 (13%) of 416 neonates born to COVID-19-positive women were infected. Here, we investigated term placentas collected before the SARS-CoV-2 pandemic and studied the main COVID-19 receptors ACE2, TMPRSS2, as well as NRP1. We performed qPCR and immunofluorescence on cryosections in combination with markers for syncytiotrophoblast, endothelial cells, macrophages and stromal cells. The qPCR studies showed expression of both the truncated delta form of ACE2, which does not bind the COVID-19 spike protein, and the long form. The ACE2 antibody used does not distinguish between the two forms. We did not observe expression of the canonical SARS-CoV-2 entry machinery on syncytio- and cytotrophoblast. ACE2 and TMPRSS2 are co-expressed in a subpopulation of stromal cells, which in part are CD68-positive macrophages. NRP1 is localized to endothelial cells. In sum, the term placenta is not an organ that directly favors vertical transmission of COVID-19, however, microtraumas and placentitis may weaken its barrier function.',\n",
       " 'journal': 'Cells, tissues, organs',\n",
       " 'doi': '10.1159/000521436'}"
      ]
     },
     "execution_count": 5,
     "metadata": {},
     "output_type": "execute_result"
    }
   ],
   "source": [
    "data[0]"
   ]
  },
  {
   "cell_type": "code",
   "execution_count": 15,
   "metadata": {},
   "outputs": [
    {
     "name": "stdout",
     "output_type": "stream",
     "text": [
      "DOI exists. Attempting to retrieve...\n",
      "\n",
      "Scraping from doi...\n",
      "\n",
      "Trying metapub fetch...\n",
      "Metapub fetch failed.\n",
      "\n",
      "Trying pubmed webscrape...\n",
      "PMID Match: pmid:34915475\n",
      "PMC not found via pubmed webscrape.\n",
      "Pubmed webscrape succceeded.\n",
      "\n",
      "DOI: 10.1159/000521436\n",
      "PMID: 34915475\n",
      "PMC: None\n",
      "Retrieving pdbs from DOI...\n",
      "Out of the 0 possible PDB IDs scraped 11 are actual PDB IDs.\n",
      "[]\n",
      "\n",
      "Retrieving pdbs from PMC...\n",
      "Out of the 14 possible PDB IDs scraped 69 are actual PDB IDs.\n",
      "['1A14', '1A23', '1C10', '1ZM9', '2H16', '3A19', '3A79', '3D38', '4F7D', '5A39', '5C12', '5C51', '5H16', '5H21']\n",
      "\n"
     ]
    }
   ],
   "source": [
    "paper = Paper(data[0])"
   ]
  },
  {
   "cell_type": "code",
   "execution_count": 13,
   "metadata": {},
   "outputs": [
    {
     "name": "stdout",
     "output_type": "stream",
     "text": [
      "DOI exists. Attempting to retrieve...\n",
      "\n",
      "Scraping from doi...\n",
      "\n",
      "Trying metapub fetch...\n",
      "Metapub fetch succeeded. PMID and PMC found.\n",
      "\n",
      "DOI: 10.1016/j.intimp.2021.108424\n",
      "PMID: 34915409\n",
      "PMC: None\n",
      "Retrieving pdbs from DOI...\n",
      "Out of the 0 possible PDB IDs scraped 1 are actual PDB IDs.\n",
      "[]\n",
      "\n",
      "Retrieving pdbs from PMC...\n",
      "Out of the 14 possible PDB IDs scraped 66 are actual PDB IDs.\n",
      "['1A14', '1A23', '1C10', '1ZM9', '2H16', '3A19', '3A79', '3D38', '4F7D', '5A39', '5C12', '5C51', '5H16', '5H21']\n",
      "\n"
     ]
    }
   ],
   "source": [
    "paper = Paper(data[2])"
   ]
  },
  {
   "cell_type": "code",
   "execution_count": null,
   "metadata": {},
   "outputs": [],
   "source": []
  },
  {
   "cell_type": "code",
   "execution_count": null,
   "metadata": {},
   "outputs": [],
   "source": []
  },
  {
   "cell_type": "code",
   "execution_count": null,
   "metadata": {},
   "outputs": [],
   "source": []
  },
  {
   "cell_type": "code",
   "execution_count": 16,
   "metadata": {},
   "outputs": [
    {
     "name": "stdout",
     "output_type": "stream",
     "text": [
      "DOI does not exist. Catastrophic failure.\n",
      "\n",
      "DOI: None\n",
      "PMID: None\n",
      "PMC: None\n"
     ]
    }
   ],
   "source": [
    "paper = Paper(data[498])"
   ]
  },
  {
   "cell_type": "code",
   "execution_count": null,
   "metadata": {},
   "outputs": [],
   "source": []
  },
  {
   "cell_type": "code",
   "execution_count": null,
   "metadata": {},
   "outputs": [],
   "source": []
  },
  {
   "cell_type": "code",
   "execution_count": null,
   "metadata": {},
   "outputs": [],
   "source": []
  },
  {
   "cell_type": "code",
   "execution_count": null,
   "metadata": {},
   "outputs": [],
   "source": []
  },
  {
   "cell_type": "code",
   "execution_count": 402,
   "metadata": {},
   "outputs": [],
   "source": []
  },
  {
   "cell_type": "code",
   "execution_count": null,
   "metadata": {},
   "outputs": [],
   "source": []
  },
  {
   "cell_type": "code",
   "execution_count": null,
   "metadata": {},
   "outputs": [],
   "source": []
  },
  {
   "cell_type": "code",
   "execution_count": 387,
   "metadata": {},
   "outputs": [],
   "source": [
    "a = True\n",
    "b = None"
   ]
  },
  {
   "cell_type": "code",
   "execution_count": 388,
   "metadata": {},
   "outputs": [],
   "source": [
    "if (not a) and (not b):\n",
    "    print('hi')"
   ]
  },
  {
   "cell_type": "code",
   "execution_count": null,
   "metadata": {},
   "outputs": [],
   "source": []
  },
  {
   "cell_type": "code",
   "execution_count": null,
   "metadata": {},
   "outputs": [],
   "source": []
  },
  {
   "cell_type": "code",
   "execution_count": 13,
   "metadata": {},
   "outputs": [],
   "source": [
    "df = pd.read_csv(\"pubmed_results.csv\")"
   ]
  },
  {
   "cell_type": "code",
   "execution_count": 126,
   "metadata": {},
   "outputs": [
    {
     "name": "stdout",
     "output_type": "stream",
     "text": [
      "Number of entries with this field empty\n",
      "{'abstract': 124, 'journal': 5, 'doi': 85}\n"
     ]
    }
   ],
   "source": [
    "print(\"Number of entries with this field empty\")\n",
    "print(dict(filter(lambda elem: elem[1] > 0, {field: sum([paper_data[field] is None if field in paper_data else False for paper_data in data]) for field in fields}.items())))"
   ]
  },
  {
   "cell_type": "code",
   "execution_count": 383,
   "metadata": {},
   "outputs": [
    {
     "name": "stdout",
     "output_type": "stream",
     "text": [
      "4414\n"
     ]
    }
   ],
   "source": [
    "print(len(data))"
   ]
  },
  {
   "cell_type": "code",
   "execution_count": null,
   "metadata": {},
   "outputs": [],
   "source": []
  },
  {
   "cell_type": "code",
   "execution_count": null,
   "metadata": {},
   "outputs": [],
   "source": []
  },
  {
   "cell_type": "code",
   "execution_count": null,
   "metadata": {},
   "outputs": [],
   "source": []
  },
  {
   "cell_type": "code",
   "execution_count": null,
   "metadata": {},
   "outputs": [],
   "source": [
    "checker = PDBChecker()\n",
    "checker.get_top_authors(\"7KUU\")"
   ]
  },
  {
   "cell_type": "code",
   "execution_count": 443,
   "metadata": {},
   "outputs": [
    {
     "data": {
      "text/plain": [
       "4414"
      ]
     },
     "execution_count": 443,
     "metadata": {},
     "output_type": "execute_result"
    }
   ],
   "source": [
    "len(data)"
   ]
  },
  {
   "cell_type": "code",
   "execution_count": null,
   "metadata": {},
   "outputs": [],
   "source": [
    "class PaperData:\n",
    "    def __init__(self, data: list):\n"
   ]
  },
  {
   "cell_type": "markdown",
   "metadata": {},
   "source": [
    "Interesting case study:\n",
    "\n",
    "* No doi\n",
    "* [PMID method](https://pubmed.ncbi.nlm.nih.gov/34873578/)\n",
    "* [PMCID method](https://www.ncbi.nlm.nih.gov/pmc/articles/PMC8647651/)\n",
    "* [Weird PMCID requests method](https://eutils.ncbi.nlm.nih.gov/entrez/eutils/efetch.fcgi?db=pmc&id=8647651&tool=my_tool&email=my_email@example.com)\n"
   ]
  }
 ],
 "metadata": {
  "interpreter": {
   "hash": "949777d72b0d2535278d3dc13498b2535136f6dfe0678499012e853ee9abcab1"
  },
  "kernelspec": {
   "display_name": "Python 3",
   "language": "python",
   "name": "python3"
  },
  "language_info": {
   "codemirror_mode": {
    "name": "ipython",
    "version": 3
   },
   "file_extension": ".py",
   "mimetype": "text/x-python",
   "name": "python",
   "nbconvert_exporter": "python",
   "pygments_lexer": "ipython3",
   "version": "3.10.1"
  }
 },
 "nbformat": 4,
 "nbformat_minor": 2
}
