{
 "cells": [
  {
   "cell_type": "code",
   "execution_count": 22,
   "metadata": {},
   "outputs": [
    {
     "name": "stdout",
     "output_type": "stream",
     "text": [
      "WARNING:paperscraper.load_dumps: No dump found for biorxiv. Skipping entry.\n",
      "WARNING:paperscraper.load_dumps: No dump found for chemrxiv. Skipping entry.\n",
      "WARNING:paperscraper.load_dumps: No dump found for medrxiv. Skipping entry.\n",
      "WARNING:paperscraper.load_dumps: No dumps found for either biorxiv or medrxiv. Consider using paperscraper.get_dumps.* to fetch the dumps.\n"
     ]
    }
   ],
   "source": [
    "import get_doi_from_pubmed as gd\n",
    "\n",
    "fields = [\"title\", \"authors\", \"date\", \"abstract\", \"journal\", \"doi\"]\n",
    "data = gd.pubmed_papers_and_pt(txt=False, jsonl=False, csv=True)"
   ]
  },
  {
   "cell_type": "code",
   "execution_count": 24,
   "metadata": {},
   "outputs": [
    {
     "ename": "ImportError",
     "evalue": "cannot import name 'filter_pdb_id' from 'scrape_support' (/Users/jessemurray/Desktop/Main/ADB/auto-db-pipeline/combine/scrape_support.py)",
     "output_type": "error",
     "traceback": [
      "\u001b[0;31m---------------------------------------------------------------------------\u001b[0m",
      "\u001b[0;31mImportError\u001b[0m                               Traceback (most recent call last)",
      "\u001b[0;32m/var/folders/rd/64lt4yfn7y3ch2mm0wl6g3vw0000gn/T/ipykernel_67449/1066215278.py\u001b[0m in \u001b[0;36m<module>\u001b[0;34m\u001b[0m\n\u001b[0;32m----> 1\u001b[0;31m \u001b[0;32mfrom\u001b[0m \u001b[0mscrape\u001b[0m \u001b[0;32mimport\u001b[0m \u001b[0mPaper\u001b[0m\u001b[0;34m\u001b[0m\u001b[0;34m\u001b[0m\u001b[0m\n\u001b[0m\u001b[1;32m      2\u001b[0m \u001b[0mpaper\u001b[0m \u001b[0;34m=\u001b[0m \u001b[0mPaper\u001b[0m\u001b[0;34m(\u001b[0m\u001b[0mdata\u001b[0m\u001b[0;34m[\u001b[0m\u001b[0;36m0\u001b[0m\u001b[0;34m]\u001b[0m\u001b[0;34m)\u001b[0m\u001b[0;34m\u001b[0m\u001b[0;34m\u001b[0m\u001b[0m\n",
      "\u001b[0;32m~/Desktop/Main/ADB/auto-db-pipeline/combine/scrape.py\u001b[0m in \u001b[0;36m<module>\u001b[0;34m\u001b[0m\n\u001b[1;32m      7\u001b[0m \u001b[0;32mfrom\u001b[0m \u001b[0mmetapub\u001b[0m \u001b[0;32mimport\u001b[0m \u001b[0mPubMedFetcher\u001b[0m\u001b[0;34m\u001b[0m\u001b[0;34m\u001b[0m\u001b[0m\n\u001b[1;32m      8\u001b[0m \u001b[0;32mfrom\u001b[0m \u001b[0mpdb_checker\u001b[0m \u001b[0;32mimport\u001b[0m \u001b[0mPDBChecker\u001b[0m\u001b[0;34m\u001b[0m\u001b[0;34m\u001b[0m\u001b[0m\n\u001b[0;32m----> 9\u001b[0;31m \u001b[0;32mfrom\u001b[0m \u001b[0mscrape_support\u001b[0m \u001b[0;32mimport\u001b[0m \u001b[0mfilter_pdb_id\u001b[0m\u001b[0;34m,\u001b[0m \u001b[0mfilter_genbank_protein_id\u001b[0m\u001b[0;34m\u001b[0m\u001b[0;34m\u001b[0m\u001b[0m\n\u001b[0m\u001b[1;32m     10\u001b[0m \u001b[0;32mfrom\u001b[0m \u001b[0mscrape_support\u001b[0m \u001b[0;32mimport\u001b[0m \u001b[0mget_soup\u001b[0m\u001b[0;34m,\u001b[0m \u001b[0mget_html\u001b[0m\u001b[0;34m,\u001b[0m \u001b[0mget_text\u001b[0m\u001b[0;34m,\u001b[0m \u001b[0mpdb_check\u001b[0m\u001b[0;34m,\u001b[0m \u001b[0mgenbank_check\u001b[0m\u001b[0;34m\u001b[0m\u001b[0;34m\u001b[0m\u001b[0m\n\u001b[1;32m     11\u001b[0m \u001b[0;34m\u001b[0m\u001b[0m\n",
      "\u001b[0;31mImportError\u001b[0m: cannot import name 'filter_pdb_id' from 'scrape_support' (/Users/jessemurray/Desktop/Main/ADB/auto-db-pipeline/combine/scrape_support.py)"
     ]
    }
   ],
   "source": [
    "from scrape import Paper\n",
    "paper = Paper(data[0])"
   ]
  },
  {
   "cell_type": "code",
   "execution_count": 33,
   "metadata": {},
   "outputs": [],
   "source": [
    "from support import filter_pdb_id"
   ]
  },
  {
   "cell_type": "code",
   "execution_count": 34,
   "metadata": {},
   "outputs": [
    {
     "data": {
      "text/plain": [
       "[]"
      ]
     },
     "execution_count": 34,
     "metadata": {},
     "output_type": "execute_result"
    }
   ],
   "source": [
    "filter_pdb_id('hi')"
   ]
  },
  {
   "cell_type": "code",
   "execution_count": null,
   "metadata": {},
   "outputs": [],
   "source": [
    "# class PaperData:\n",
    "#     from pdb_checker import get_pdb_hash\n",
    "\n",
    "#     get_pdb_hash.cache_clear()"
   ]
  },
  {
   "cell_type": "code",
   "execution_count": null,
   "metadata": {},
   "outputs": [],
   "source": [
    "# checker = PDBChecker()\n",
    "# data[0]\n",
    "# paper = Paper(data[0])\n",
    "# data[498]\n",
    "# checker = PDBChecker()\n",
    "# checker.get_top_authors(\"7KUU\")\n",
    "# paper.url_pmid\n"
   ]
  },
  {
   "cell_type": "code",
   "execution_count": null,
   "metadata": {},
   "outputs": [],
   "source": [
    "\n",
    "\n",
    "\n",
    "\n",
    "# df = pd.read_csv(\"pubmed_results.csv\")\n",
    "# print(\"Number of entries with this field empty\")\n",
    "# print(dict(filter(lambda elem: elem[1] > 0, {field: sum([paper_data[field] is None if field in paper_data else False for paper_data in data]) for field in fields}.items())))\n",
    "# print(len(data))\n",
    "# n=80\n",
    "# df.loc[df.doi.isnull()].journal.tolist()[n:n+20]\n",
    "\n",
    "# # ## Testing out the pubmed library \n",
    "\n",
    "# # paper_data = data[400]\n",
    "\n",
    "# # doi = data[5]['doi']\n",
    "# # \"https://www.ncbi.nlm.nih.gov/pmc/articles/doi/10.14744/nci.2021.99075\"\n",
    "# # \"https://www.ncbi.nlm.nih.gov/pmc/articles/doi/10.14744/nci.2021.99075\"\n",
    "# # # Another way to get PMID\n",
    "# # \"https://pubmed.ncbi.nlm.nih.gov/?term=\" + doi\n",
    "# # # Then query the html. \n",
    "\n",
    "# # doi = \"10.1515/cclm-2021-1287\"\n",
    "# # fetch = PubMedFetcher()\n",
    "\n",
    "# # doi2pmc = \"https://www.ncbi.nlm.nih.gov/pmc/articles/doi/\" + doi\n",
    "# # article = fetch.article_by_doi(doi)\n",
    "# # print(article.doi)\n",
    "# # print(article.pmid)\n",
    "# # print(article.pmc)\n",
    "\n",
    "# checker = PDBChecker()\n",
    "# checker.get_top_authors(\"7KUU\")\n",
    "# len(data)\n"
   ]
  }
 ],
 "metadata": {
  "interpreter": {
   "hash": "949777d72b0d2535278d3dc13498b2535136f6dfe0678499012e853ee9abcab1"
  },
  "kernelspec": {
   "display_name": "Python 3.10.1 64-bit",
   "language": "python",
   "name": "python3"
  },
  "language_info": {
   "codemirror_mode": {
    "name": "ipython",
    "version": 3
   },
   "file_extension": ".py",
   "mimetype": "text/x-python",
   "name": "python",
   "nbconvert_exporter": "python",
   "pygments_lexer": "ipython3",
   "version": "3.10.1"
  },
  "orig_nbformat": 4
 },
 "nbformat": 4,
 "nbformat_minor": 2
}
