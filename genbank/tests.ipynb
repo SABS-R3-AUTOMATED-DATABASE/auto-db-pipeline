{
 "cells": [
  {
   "cell_type": "code",
   "execution_count": 5,
   "metadata": {},
   "outputs": [],
   "source": [
    "from anarci import number"
   ]
  },
  {
   "cell_type": "code",
   "execution_count": 12,
   "metadata": {},
   "outputs": [],
   "source": [
    "seq = 'mfvflvllplvssqcvnlrtrtqlppaytnsftrgvyypdkvfrssvlhstqdlflpffsnvtwfhaihvsgtngtkrfdnpvlpfndgvyfasteksniirgwifgttldsktqsllivnnatnvvikvcefqfcndpfldvyyhknnkswmesgvyssannctfeyvsqpflmdlegkqgnfknlrefvfknidgyfkiyskhtpinlvrdlpqgfsaleplvdlpiginitrfqtllalhrsyltpgdsssgwtagaaayyvgylqprtfllkynengtitdavdcaldplsetkctlksftvekgiyqtsnfrvqptesivrfpnitnlcpfgevfnatrfasvyawnrkrisncvadysvlynsasfstfkcygvsptklndlcftnvyadsfvirgdevrqiapgqtgkiadynyklpddftgcviawnsnnldskvggnynyryrlfrksnlkpferdisteiyqagskpcngvegfncyfplqsygfqptngvgyqpyrvvvlsfellhapatvcgpkkstnlvknkcvnfnfngltgtgvltesnkkflpfqqfgrdiadttdavrdpqtleilditpcsfggvsvitpgtntsnqvavlyqgvnctevpvaihadqltptwrvystgsnvfqtragcligaehvnnsyecdipigagicasyqtqtnsrgsassvasqsiiaytmslgaensvaysnnsiaiptnftisvtteilpvsmtktsvdctmyicgdstecsnlllqygsfctqlnraltgiaveqdkntqevfaqvkqiyktppikdfggfnfsqilpdpskpskrsfiedllfnkvtladagfikqygdclgdiaardlicaqkfngltvlpplltdemiaqytsallagtitsgwtfgagaalqipfamqmayrfngigvtqnvlyenqklianqfnsaigkiqdslsstasalgklqnvvnqnaqalntlvkqlssnfgaissvlndilsrldkveaevqidrlitgrlqslqtyvtqqliraaeirasanlaatkmsecvlgqskrvdfcgkgyhlmsfpqsaphgvvflhvtyvpaqeknfttapaichdgkahfpregvfvsngthwfvtqrnfyepqiittdntfvsgncdvvigivnntvydplqpeldsfkeeldkyfknhtspdvdlgdisginasvvniqkeidrlnevaknlneslidlqelgkyeqgsgyipeaprdgqayvrkdgewvllstflgrslevlfqgpghhhhhhhhsawshpqfekgggsggggsggsawshpqfek'"
   ]
  },
  {
   "cell_type": "code",
   "execution_count": 14,
   "metadata": {},
   "outputs": [],
   "source": []
  },
  {
   "cell_type": "code",
   "execution_count": null,
   "metadata": {},
   "outputs": [],
   "source": []
  },
  {
   "cell_type": "code",
   "execution_count": 7,
   "metadata": {},
   "outputs": [
    {
     "ename": "TypeError",
     "evalue": "'int' object is not iterable",
     "output_type": "error",
     "traceback": [
      "\u001b[0;31m---------------------------------------------------------------------------\u001b[0m",
      "\u001b[0;31mTypeError\u001b[0m                                 Traceback (most recent call last)",
      "\u001b[0;32m/var/folders/8x/40q8fgwd2wg9ptnzw_b8cl480000gn/T/ipykernel_14626/898207163.py\u001b[0m in \u001b[0;36m<module>\u001b[0;34m\u001b[0m\n\u001b[1;32m      1\u001b[0m \u001b[0md\u001b[0m \u001b[0;34m=\u001b[0m \u001b[0;34m{\u001b[0m\u001b[0;34m'a'\u001b[0m\u001b[0;34m:\u001b[0m \u001b[0;36m1\u001b[0m\u001b[0;34m,\u001b[0m \u001b[0;34m'a'\u001b[0m\u001b[0;34m:\u001b[0m \u001b[0;36m5\u001b[0m\u001b[0;34m}\u001b[0m\u001b[0;34m\u001b[0m\u001b[0;34m\u001b[0m\u001b[0m\n\u001b[0;32m----> 2\u001b[0;31m \u001b[0;32mfor\u001b[0m \u001b[0mx\u001b[0m \u001b[0;32min\u001b[0m \u001b[0md\u001b[0m\u001b[0;34m[\u001b[0m\u001b[0;34m'a'\u001b[0m\u001b[0;34m]\u001b[0m\u001b[0;34m:\u001b[0m\u001b[0;34m\u001b[0m\u001b[0;34m\u001b[0m\u001b[0m\n\u001b[0m\u001b[1;32m      3\u001b[0m     \u001b[0mprint\u001b[0m\u001b[0;34m(\u001b[0m\u001b[0mx\u001b[0m\u001b[0;34m)\u001b[0m\u001b[0;34m\u001b[0m\u001b[0;34m\u001b[0m\u001b[0m\n",
      "\u001b[0;31mTypeError\u001b[0m: 'int' object is not iterable"
     ]
    }
   ],
   "source": [
    "d = {'a': 1, 'a': 5}\n",
    "for x in d['a']:\n",
    "    print(x)"
   ]
  },
  {
   "cell_type": "code",
   "execution_count": 8,
   "metadata": {},
   "outputs": [],
   "source": [
    "d = {'GBSeq_locus': 'NP_001371922', 'GBSeq_length': '766', 'GBSeq_moltype': 'AA', 'GBSeq_topology': 'linear', 'GBSeq_division': 'PRI', 'GBSeq_update-date': '13-FEB-2022', 'GBSeq_create-date': '02-JUL-2020', 'GBSeq_definition': 'signal transducer and activator of transcription 3 isoform 14 [Homo sapiens]', 'GBSeq_primary-accession': 'NP_001371922', 'GBSeq_accession-version': 'NP_001371922.1', 'GBSeq_other-seqids': ['ref|NP_001371922.1|', 'gi|1864355957'], 'GBSeq_keywords': ['RefSeq'], 'GBSeq_source': 'Homo sapiens (human)', 'GBSeq_organism': 'Homo sapiens', 'GBSeq_taxonomy': 'Eukaryota; Metazoa; Chordata; Craniata; Vertebrata; Euteleostomi; Mammalia; Eutheria; Euarchontoglires; Primates; Haplorrhini; Catarrhini; Hominidae; Homo', 'GBSeq_references': [{'GBReference_reference': '1', 'GBReference_position': '1..766', 'GBReference_authors': ['Liu Z', 'Wen J', 'Hu F', 'Wang J', 'Hu C', 'Zhang W'], 'GBReference_title': 'Thrombospondin-1 induced programmed death-ligand 1-mediated immunosuppression by activating the STAT3 pathway in osteosarcoma', 'GBReference_journal': 'Cancer Sci 113 (2), 432-445 (2022)', 'GBReference_xref': [{'GBXref_dbname': 'doi', 'GBXref_id': '10.1111/cas.15237'}], 'GBReference_pubmed': '34927311', 'GBReference_remark': 'GeneRIF: Thrombospondin-1 induced programmed death-ligand 1-mediated immunosuppression by activating the STAT3 pathway in osteosarcoma.'}, {'GBReference_reference': '2', 'GBReference_position': '1..766', 'GBReference_authors': ['Ling HY', 'Yang Z', 'Wang PJ', 'Sun Y', 'Ju SG', 'Li J', 'Fu JX'], 'GBReference_title': 'Diffuse large B-cell lymphoma-derived exosomes push macrophage polarization toward M2 phenotype via GP130/STAT3 signaling pathway', 'GBReference_journal': 'Chem Biol Interact 352, 109779 (2022)', 'GBReference_xref': [{'GBXref_dbname': 'doi', 'GBXref_id': '10.1016/j.cbi.2021.109779'}], 'GBReference_pubmed': '34922904', 'GBReference_remark': 'GeneRIF: Diffuse large B-cell lymphoma-derived exosomes push macrophage polarization toward M2 phenotype via GP130/STAT3 signaling pathway.'}, {'GBReference_reference': '3', 'GBReference_position': '1..766', 'GBReference_authors': ['Wang Y', 'Li N', 'Zheng Y', 'Wang A', 'Yu C', 'Song Z', 'Wang S', 'Sun Y', 'Zheng L', 'Wang G', 'Liu L', 'Yi J', 'Huang Y', 'Zhang M', 'Bao Y', 'Sun L'], 'GBReference_title': 'KIAA1217 Promotes Epithelial-Mesenchymal Transition and Hepatocellular Carcinoma Metastasis by Interacting with and Activating STAT3', 'GBReference_journal': 'Int J Mol Sci 23 (1), 104 (2021)', 'GBReference_xref': [{'GBXref_dbname': 'doi', 'GBXref_id': '10.3390/ijms23010104'}], 'GBReference_pubmed': '35008530', 'GBReference_remark': 'GeneRIF: KIAA1217 Promotes Epithelial-Mesenchymal Transition and Hepatocellular Carcinoma Metastasis by Interacting with and Activating STAT3.; Publication Status: Online-Only'}, {'GBReference_reference': '4', 'GBReference_position': '1..766', 'GBReference_authors': ['Cykowiak M', 'Kleszcz R', 'Kucinska M', 'Paluszczak J', 'Szaefer H', 'Plewinski A', 'Piotrowska-Kempisty H', 'Murias M', 'Krajka-Kuzniak V'], 'GBReference_title': 'Attenuation of Pancreatic Cancer In Vitro and In Vivo via Modulation of Nrf2 and NF-kappaB Signaling Pathways by Natural Compounds', 'GBReference_journal': 'Cells 10 (12), 3556 (2021)', 'GBReference_xref': [{'GBXref_dbname': 'doi', 'GBXref_id': '10.3390/cells10123556'}], 'GBReference_pubmed': '34944062', 'GBReference_remark': 'GeneRIF: Attenuation of Pancreatic Cancer In Vitro and In Vivo via Modulation of Nrf2 and NF-kappaB Signaling Pathways by Natural Compounds.; Publication Status: Online-Only'}, {'GBReference_reference': '5', 'GBReference_position': '1..766', 'GBReference_authors': ['Caldenhoven E', 'van Dijk TB', 'Solari R', 'Armstrong J', 'Raaijmakers JA', 'Lammers JW', 'Koenderman L', 'de Groot RP'], 'GBReference_title': 'STAT3beta, a splice variant of transcription factor STAT3, is a dominant negative regulator of transcription', 'GBReference_journal': 'J Biol Chem 271 (22), 13221-13227 (1996)', 'GBReference_xref': [{'GBXref_dbname': 'doi', 'GBXref_id': '10.1074/jbc.271.22.13221'}], 'GBReference_pubmed': '8675499'}, {'GBReference_reference': '6', 'GBReference_position': '1..766', 'GBReference_authors': ['Boulton TG', 'Zhong Z', 'Wen Z', 'Darnell JE Jr', 'Stahl N', 'Yancopoulos GD'], 'GBReference_title': 'STAT3 activation by cytokines utilizing gp130 and related transducers involves a secondary modification requiring an H7-sensitive kinase', 'GBReference_journal': 'Proc Natl Acad Sci U S A 92 (15), 6915-6919 (1995)', 'GBReference_xref': [{'GBXref_dbname': 'doi', 'GBXref_id': '10.1073/pnas.92.15.6915'}], 'GBReference_pubmed': '7624343'}, {'GBReference_reference': '7', 'GBReference_position': '1..766', 'GBReference_authors': ['Akira S', 'Nishio Y', 'Inoue M', 'Wang XJ', 'Wei S', 'Matsusaka T', 'Yoshida K', 'Sudo T', 'Naruto M', 'Kishimoto T'], 'GBReference_title': 'Molecular cloning of APRF, a novel IFN-stimulated gene factor 3 p91-related transcription factor involved in the gp130-mediated signaling pathway', 'GBReference_journal': 'Cell 77 (1), 63-71 (1994)', 'GBReference_xref': [{'GBXref_dbname': 'doi', 'GBXref_id': '10.1016/0092-8674(94)90235-6'}], 'GBReference_pubmed': '7512451'}, {'GBReference_reference': '8', 'GBReference_position': '1..766', 'GBReference_authors': ['Shuai K', 'Horvath CM', 'Huang LH', 'Qureshi SA', 'Cowburn D', 'Darnell JE Jr'], 'GBReference_title': 'Interferon activation of the transcription factor Stat91 involves dimerization through SH2-phosphotyrosyl peptide interactions', 'GBReference_journal': 'Cell 76 (5), 821-828 (1994)', 'GBReference_xref': [{'GBXref_dbname': 'doi', 'GBXref_id': '10.1016/0092-8674(94)90357-3'}], 'GBReference_pubmed': '7510216'}, {'GBReference_reference': '9', 'GBReference_position': '1..766', 'GBReference_authors': ['Hsu,A.P.', 'Davis,J.', 'Puck,J.M.', 'Holland,S.M.', 'Freeman,A.F.'], 'GBReference_title': 'STAT3 Hyper IgE Syndrome', 'GBReference_journal': '(in) Adam MP, Ardinger HH, Pagon RA, Wallace SE, Bean LJH, Gripp KW, Mirzaa GM and Amemiya A (Eds.); GENEREVIEWS((R)); (1993)', 'GBReference_pubmed': '20301786'}, {'GBReference_reference': '10', 'GBReference_position': '1..766', 'GBReference_authors': ['DuBridge,R.B.', 'Tang,P.', 'Hsia,H.C.', 'Leong,P.M.', 'Miller,J.H.', 'Calos,M.P.'], 'GBReference_title': 'Analysis of mutation in human cells by using an Epstein-Barr virus shuttle system', 'GBReference_journal': 'Mol Cell Biol 7 (1), 379-387 (1987)', 'GBReference_xref': [{'GBXref_dbname': 'doi', 'GBXref_id': '10.1128/mcb.7.1.379-387.1987'}], 'GBReference_pubmed': '3031469'}], 'GBSeq_comment': 'REVIEWED REFSEQ: This record has been curated by NCBI staff. The reference sequence was derived from AC107993.9 and AC087691.9.; ~Summary: The protein encoded by this gene is a member of the STAT protein family. In response to cytokines and growth factors, STAT family members are phosphorylated by the receptor associated kinases, and then form homo- or heterodimers that translocate to the cell nucleus where they act as transcription activators. This protein is activated through phosphorylation in response to various cytokines and growth factors including IFNs, EGF, IL5, IL6, HGF, LIF and BMP2. This protein mediates the expression of a variety of genes in response to cell stimuli, and thus plays a key role in many cellular processes such as cell growth and apoptosis. The small GTPase Rac1 has been shown to bind and regulate the activity of this protein. PIAS3 protein is a specific inhibitor of this protein. This gene also plays a role in regulating host response to viral and bacterial infections. Mutations in this gene are associated with infantile-onset multisystem autoimmune disease and hyper-immunoglobulin E syndrome. [provided by RefSeq, Aug 2020].; ~Publication Note: This RefSeq record includes a subset of the publications that are available for this gene. Please see the Gene record to access additional publications.; ; ##RefSeq-Attributes-START## ; coronavirus related :: involved in immune response or antiviral activity ; ##RefSeq-Attributes-END##', 'GBSeq_source-db': 'REFSEQ: accession NM_001384993.1', 'GBSeq_feature-table': [{'GBFeature_key': 'source', 'GBFeature_location': '1..766', 'GBFeature_intervals': [{'GBInterval_from': '1', 'GBInterval_to': '766', 'GBInterval_accession': 'NP_001371922.1'}], 'GBFeature_quals': [{'GBQualifier_name': 'organism', 'GBQualifier_value': 'Homo sapiens'}, {'GBQualifier_name': 'db_xref', 'GBQualifier_value': 'taxon:9606'}, {'GBQualifier_name': 'chromosome', 'GBQualifier_value': '17'}, {'GBQualifier_name': 'map', 'GBQualifier_value': '17q21.2'}]}, {'GBFeature_key': 'Protein', 'GBFeature_location': '1..766', 'GBFeature_intervals': [{'GBInterval_from': '1', 'GBInterval_to': '766', 'GBInterval_accession': 'NP_001371922.1'}], 'GBFeature_quals': [{'GBQualifier_name': 'product', 'GBQualifier_value': 'signal transducer and activator of transcription 3 isoform 14'}, {'GBQualifier_name': 'note', 'GBQualifier_value': 'acute-phase response factor; DNA-binding protein APRF'}, {'GBQualifier_name': 'calculated_mol_wt', 'GBQualifier_value': '87545'}]}, {'GBFeature_key': 'Region', 'GBFeature_location': '2..120', 'GBFeature_intervals': [{'GBInterval_from': '2', 'GBInterval_to': '120', 'GBInterval_accession': 'NP_001371922.1'}], 'GBFeature_quals': [{'GBQualifier_name': 'region_name', 'GBQualifier_value': 'STAT_int'}, {'GBQualifier_name': 'note', 'GBQualifier_value': 'STAT protein, protein interaction domain; smart00964'}, {'GBQualifier_name': 'db_xref', 'GBQualifier_value': 'CDD:214942'}]}, {'GBFeature_key': 'Site', 'GBFeature_location': '2', 'GBFeature_intervals': [{'GBInterval_point': '2', 'GBInterval_accession': 'NP_001371922.1'}], 'GBFeature_quals': [{'GBQualifier_name': 'site_type', 'GBQualifier_value': 'acetylation'}, {'GBQualifier_name': 'note', 'GBQualifier_value': 'N-acetylalanine. /evidence=ECO:0007744|PubMed:22223895; propagated from UniProtKB/Swiss-Prot (P40763.2)'}]}, \n",
    "{'GBFeature_key': 'Region', 'GBFeature_location': '139..318', 'GBFeature_intervals': [{'GBInterval_from': '139', 'GBInterval_to': '318', 'GBInterval_accession': 'NP_001371922.1'}], 'GBFeature_quals': [{'GBQualifier_name': 'region_name', 'GBQualifier_value': 'STAT3_CCD'}, {'GBQualifier_name': 'note', 'GBQualifier_value': 'Coiled-coil domain of Signal Transducer and Activator of Transcription 3 (STAT3); cd16853'}, {'GBQualifier_name': 'db_xref', 'GBQualifier_value': 'CDD:341078'}]}, {'GBFeature_key': 'Site', 'GBFeature_location': 'order(142..165,213..239,263..284)', 'GBFeature_intervals': [{'GBInterval_from': '142', 'GBInterval_to': '165', 'GBInterval_accession': 'NP_001371922.1'}, {'GBInterval_from': '213', 'GBInterval_to': '239', 'GBInterval_accession': 'NP_001371922.1'}, {'GBInterval_from': '263', 'GBInterval_to': '284', 'GBInterval_accession': 'NP_001371922.1'}], 'GBFeature_operator': 'order', 'GBFeature_quals': [{'GBQualifier_name': 'site_type', 'GBQualifier_value': 'other'}, {'GBQualifier_name': 'note', 'GBQualifier_value': 'coiled-coil motif'}, {'GBQualifier_name': 'db_xref', 'GBQualifier_value': 'CDD:341078'}]}, {'GBFeature_key': 'Region', 'GBFeature_location': '150..162', 'GBFeature_intervals': [{'GBInterval_from': '150', 'GBInterval_to': '162', 'GBInterval_accession': 'NP_001371922.1'}], 'GBFeature_quals': [{'GBQualifier_name': 'region_name', 'GBQualifier_value': 'Essential for nuclear import'}, {'GBQualifier_name': 'note', 'GBQualifier_value': 'propagated from UniProtKB/Swiss-Prot (P40763.2)'}]}, {'GBFeature_key': 'Region', 'GBFeature_location': '321..484', 'GBFeature_intervals': [{'GBInterval_from': '321', 'GBInterval_to': '484', 'GBInterval_accession': 'NP_001371922.1'}], 'GBFeature_quals': [{'GBQualifier_name': 'region_name', 'GBQualifier_value': 'STAT3_DBD'}, {'GBQualifier_name': 'note', 'GBQualifier_value': 'DNA-binding domain of Signal Transducer and Activator of Transcription 3 (STAT3); cd16847'}, {'GBQualifier_name': 'db_xref', 'GBQualifier_value': 'CDD:341085'}]}, {'GBFeature_key': 'Region', 'GBFeature_location': '554..715', 'GBFeature_intervals': [{'GBInterval_from': '554', 'GBInterval_to': '715', 'GBInterval_accession': 'NP_001371922.1'}], 'GBFeature_quals': [{'GBQualifier_name': 'region_name', 'GBQualifier_value': 'SH2_STAT3'}, {'GBQualifier_name': 'note', 'GBQualifier_value': 'Src homology 2 (SH2) domain found in signal transducer and activator of transcription (STAT) 3 proteins; cd10374'}, {'GBQualifier_name': 'db_xref', 'GBQualifier_value': 'CDD:198237'}]}, {'GBFeature_key': 'Site', 'GBFeature_location': 'order(591,609,636,638)', 'GBFeature_intervals': [{'GBInterval_point': '591', 'GBInterval_accession': 'NP_001371922.1'}, {'GBInterval_point': '609', 'GBInterval_accession': 'NP_001371922.1'}, {'GBInterval_point': '636', 'GBInterval_accession': 'NP_001371922.1'}, {'GBInterval_point': '638', 'GBInterval_accession': 'NP_001371922.1'}], 'GBFeature_operator': 'order', 'GBFeature_quals': [{'GBQualifier_name': 'site_type', 'GBQualifier_value': 'other'}, {'GBQualifier_name': 'note', 'GBQualifier_value': 'phosphotyrosine binding pocket [polypeptide binding]'}, {'GBQualifier_name': 'db_xref', 'GBQualifier_value': 'CDD:198237'}]}, {'GBFeature_key': 'Site', 'GBFeature_location': '601', 'GBFeature_intervals': [{'GBInterval_point': '601', 'GBInterval_accession': 'NP_001371922.1'}], 'GBFeature_quals': [{'GBQualifier_name': 'site_type', 'GBQualifier_value': 'acetylation'}, {'GBQualifier_name': 'note', 'GBQualifier_value': 'N6-acetyllysine, alternate. /evidence=ECO:0000269|PubMed:28065600; propagated from UniProtKB/Swiss-Prot (P40763.2)'}]}, {'GBFeature_key': 'Site', 'GBFeature_location': '615', 'GBFeature_intervals': [{'GBInterval_point': '615', 'GBInterval_accession': 'NP_001371922.1'}], 'GBFeature_quals': [{'GBQualifier_name': 'site_type', 'GBQualifier_value': 'acetylation'}, {'GBQualifier_name': 'note', 'GBQualifier_value': 'N6-acetyllysine, alternate. /evidence=ECO:0000269|PubMed:28065600; propagated from UniProtKB/Swiss-Prot (P40763.2)'}]}, {'GBFeature_key': 'Site', 'GBFeature_location': '631', 'GBFeature_intervals': [{'GBInterval_point': '631', 'GBInterval_accession': 'NP_001371922.1'}], 'GBFeature_quals': [{'GBQualifier_name': 'site_type', 'GBQualifier_value': 'acetylation'}, {'GBQualifier_name': 'note', 'GBQualifier_value': 'N6-acetyllysine, alternate. /evidence=ECO:0000269|PubMed:28065600; propagated from UniProtKB/Swiss-Prot (P40763.2)'}]}, {'GBFeature_key': 'Site', 'GBFeature_location': 'order(637,653)', 'GBFeature_intervals': [{'GBInterval_point': '637', 'GBInterval_accession': 'NP_001371922.1'}, {'GBInterval_point': '653', 'GBInterval_accession': 'NP_001371922.1'}], 'GBFeature_operator': 'order', 'GBFeature_quals': [{'GBQualifier_name': 'site_type', 'GBQualifier_value': 'other'}, {'GBQualifier_name': 'note', 'GBQualifier_value': 'hydrophobic binding pocket [polypeptide binding]'}, {'GBQualifier_name': 'db_xref', 'GBQualifier_value': 'CDD:198237'}]}, {'GBFeature_key': 'Site', 'GBFeature_location': '685', 'GBFeature_intervals': [{'GBInterval_point': '685', 'GBInterval_accession': 'NP_001371922.1'}], 'GBFeature_quals': [{'GBQualifier_name': 'site_type', 'GBQualifier_value': 'acetylation'}, {'GBQualifier_name': 'note', 'GBQualifier_value': 'N6-acetyllysine, alternate. /evidence=ECO:0000269|PubMed:28065600; propagated from UniProtKB/Swiss-Prot (P40763.2)'}]}, {'GBFeature_key': 'Site', 'GBFeature_location': '704', 'GBFeature_intervals': [{'GBInterval_point': '704', 'GBInterval_accession': 'NP_001371922.1'}], 'GBFeature_quals': [{'GBQualifier_name': 'site_type', 'GBQualifier_value': 'phosphorylation'}, {'GBQualifier_name': 'note', 'GBQualifier_value': 'Phosphotyrosine. /evidence=ECO:0007744|PubMed:15592455, ECO:0007744|PubMed:24275569; propagated from UniProtKB/Swiss-Prot (P40763.2)'}]}, {'GBFeature_key': 'Site', 'GBFeature_location': '705', 'GBFeature_intervals': [{'GBInterval_point': '705', 'GBInterval_accession': 'NP_001371922.1'}], 'GBFeature_quals': [{'GBQualifier_name': 'site_type', 'GBQualifier_value': 'phosphorylation'}, {'GBQualifier_name': 'note', 'GBQualifier_value': 'Phosphotyrosine, by FER and PTK6. /evidence=ECO:0000269|PubMed:12763138, ECO:0000269|PubMed:16568091, ECO:0000269|PubMed:21135090, ECO:0000269|PubMed:26293184, ECO:0000269|PubMed:31899195, ECO:0007744|PubMed:15592455, ECO:0007744|PubMed:24275569; propagated from UniProtKB/Swiss-Prot (P40763.2)'}]}, {'GBFeature_key': 'Site', 'GBFeature_location': '707', 'GBFeature_intervals': [{'GBInterval_point': '707', 'GBInterval_accession': 'NP_001371922.1'}], 'GBFeature_quals': [{'GBQualifier_name': 'site_type', 'GBQualifier_value': 'acetylation'}, {'GBQualifier_name': 'note', 'GBQualifier_value': 'N6-acetyllysine. /evidence=ECO:0000269|PubMed:28065600; propagated from UniProtKB/Swiss-Prot (P40763.2)'}]}, {'GBFeature_key': 'Site', 'GBFeature_location': '714', 'GBFeature_intervals': [{'GBInterval_point': '714', 'GBInterval_accession': 'NP_001371922.1'}], 'GBFeature_quals': [{'GBQualifier_name': 'site_type', 'GBQualifier_value': 'phosphorylation'}, {'GBQualifier_name': 'note', 'GBQualifier_value': 'Phosphothreonine. /evidence=ECO:0007744|PubMed:24275569; propagated from UniProtKB/Swiss-Prot (P40763.2)'}]}, {'GBFeature_key': 'Site', 'GBFeature_location': '723', 'GBFeature_intervals': [{'GBInterval_point': '723', 'GBInterval_accession': 'NP_001371922.1'}], 'GBFeature_quals': [{'GBQualifier_name': 'site_type', 'GBQualifier_value': 'phosphorylation'}, {'GBQualifier_name': 'note', 'GBQualifier_value': 'Phosphoserine, by DYRK2, NLK, NEK6, IRAK1, RPS6KA5, ZIPK/DAPK3 and PKC/PRKCE. /evidence=ECO:0000269|PubMed:12763138, ECO:0000269|PubMed:15465816, ECO:0000269|PubMed:16219639, ECO:0000269|PubMed:17875724, ECO:0000269|PubMed:18599021, ECO:0000269|PubMed:21135090, ECO:0000269|PubMed:26293184, ECO:0000269|PubMed:31899195, ECO:0007744|PubMed:18669648, ECO:0007744|PubMed:18691976, ECO:0007744|PubMed:20068231, ECO:0007744|PubMed:23186163, ECO:0007744|PubMed:24275569; propagated from UniProtKB/Swiss-Prot (P40763.2)'}]}, {'GBFeature_key': 'CDS', 'GBFeature_location': '1..766', 'GBFeature_intervals': [{'GBInterval_from': '1', 'GBInterval_to': '766', 'GBInterval_accession': 'NP_001371922.1'}], 'GBFeature_quals': [{'GBQualifier_name': 'gene', 'GBQualifier_value': 'STAT3'}, {'GBQualifier_name': 'gene_synonym', 'GBQualifier_value': 'ADMIO; ADMIO1; APRF; HIES'}, {'GBQualifier_name': 'coded_by', 'GBQualifier_value': 'NM_001384993.1:188..2488'}, {'GBQualifier_name': 'note', 'GBQualifier_value': 'isoform 14 is encoded by transcript variant 21'}, {'GBQualifier_name': 'transl_table', 'GBQualifier_value': '1'}, {'GBQualifier_name': 'db_xref', 'GBQualifier_value': 'GeneID:6774'}, {'GBQualifier_name': 'db_xref', 'GBQualifier_value': 'HGNC:HGNC:11364'}, {'GBQualifier_name': 'db_xref', 'GBQualifier_value': 'MIM:102582'}]}], 'GBSeq_sequence': 'maqwnqlqqldtryleqlhqlysdsfpmelrqflapwiesqdwayaaskeshatlvfhnllgeidqqysrflqesnvlyqhnlrrikqflqsrylekpmeiarivarclweesrllqtaataaqqggqanhptaavvtekqqmleqhlqdvrkrvqdleqkmkvvenlqddfdfnyktlksqgdmqdlngnnqsvtrqkmqqleqmltaldqmrrsivselagllsameyvqktltdeeladwkrrqqiaciggppnicldrlenwitslaesqlqtrqqikkleelqqkvsykgdpivqhrpmleerivelfrnlmksafvverqpcmpmhpdrplviktgvqfttkvrllvkfpelnyqlkikvcidkdsgdvaalrgsrkfnilgtntkvmnmeesnngslsaefkhltlreqrcgnggrancdaslivteelhlitfetevyhqglkidlethslpvvvisnicqmpnawasilwynmltnnpknvnfftkppigtwdqvaevlswqfssttkrglsieqlttlaekllgpgvnysgcqitwakfckenmagkgfsfwvwldniidlvkkyilalwnegyimgfiskererailstkppgtfllrfsesskeggvtftwvekdisgktqiqsvepytkqqlnnmsfaeiimgykimdatnilvsplvylypdipkeeafgkycrpesqehpeadpgsaapylktkficvtpntidlpmsprtldslmqfgnngegaepsaggqfesltfdmeltsecatspm'}"
   ]
  },
  {
   "cell_type": "code",
   "execution_count": 27,
   "metadata": {},
   "outputs": [
    {
     "data": {
      "text/plain": [
       "{'GBSeq_locus': 'NP_001371922',\n",
       " 'GBSeq_moltype': 'AA',\n",
       " 'GBSeq_update-date': '13-FEB-2022',\n",
       " 'GBSeq_create-date': '02-JUL-2020',\n",
       " 'GBSeq_definition': 'signal transducer and activator of transcription 3 isoform 14 [Homo sapiens]',\n",
       " 'GBSeq_accession-version': 'NP_001371922.1',\n",
       " 'GBSeq_source': 'Homo sapiens (human)',\n",
       " 'GBSeq_sequence': 'maqwnqlqqldtryleqlhqlysdsfpmelrqflapwiesqdwayaaskeshatlvfhnllgeidqqysrflqesnvlyqhnlrrikqflqsrylekpmeiarivarclweesrllqtaataaqqggqanhptaavvtekqqmleqhlqdvrkrvqdleqkmkvvenlqddfdfnyktlksqgdmqdlngnnqsvtrqkmqqleqmltaldqmrrsivselagllsameyvqktltdeeladwkrrqqiaciggppnicldrlenwitslaesqlqtrqqikkleelqqkvsykgdpivqhrpmleerivelfrnlmksafvverqpcmpmhpdrplviktgvqfttkvrllvkfpelnyqlkikvcidkdsgdvaalrgsrkfnilgtntkvmnmeesnngslsaefkhltlreqrcgnggrancdaslivteelhlitfetevyhqglkidlethslpvvvisnicqmpnawasilwynmltnnpknvnfftkppigtwdqvaevlswqfssttkrglsieqlttlaekllgpgvnysgcqitwakfckenmagkgfsfwvwldniidlvkkyilalwnegyimgfiskererailstkppgtfllrfsesskeggvtftwvekdisgktqiqsvepytkqqlnnmsfaeiimgykimdatnilvsplvylypdipkeeafgkycrpesqehpeadpgsaapylktkficvtpntidlpmsprtldslmqfgnngegaepsaggqfesltfdmeltsecatspm',\n",
       " 'GBSeq_references': [{'GBReference_authors': ['Liu Z',\n",
       "    'Wen J',\n",
       "    'Hu F',\n",
       "    'Wang J',\n",
       "    'Hu C',\n",
       "    'Zhang W'],\n",
       "   'GBReference_title': 'Thrombospondin-1 induced programmed death-ligand 1-mediated immunosuppression by activating the STAT3 pathway in osteosarcoma',\n",
       "   'GBReference_journal': 'Cancer Sci 113 (2), 432-445 (2022)',\n",
       "   'GBReference_xref': [{'GBXref_dbname': 'doi',\n",
       "     'GBXref_id': '10.1111/cas.15237'}]}]}"
      ]
     },
     "execution_count": 27,
     "metadata": {},
     "output_type": "execute_result"
    }
   ],
   "source": [
    "to_keep_entry = ['GBSeq_locus', 'GBSeq_moltype', 'GBSeq_update-date',\n",
    "'GBSeq_create-date', 'GBSeq_definition', \n",
    "'GBSeq_accession-version','GBSeq_source', 'GBSeq_sequence']\n",
    "to_keep_ref = ['GBReference_authors', 'GBReference_title', 'GBReference_journal',\n",
    "'GBReference_xref']\n",
    "\n",
    "a = { key: d[key] for key in to_keep}\n",
    "\n",
    "reference = d['GBSeq_references'][0]\n",
    "\n",
    "ref_elim = { key: reference[key] for key in to_keep_ref}\n",
    "\n",
    "a['GBSeq_references'] = [ref_elim]\n",
    "a"
   ]
  },
  {
   "cell_type": "code",
   "execution_count": 29,
   "metadata": {},
   "outputs": [
    {
     "data": {
      "text/plain": [
       "[{'GBReference_reference': '1',\n",
       "  'GBReference_position': '1..766',\n",
       "  'GBReference_authors': ['Liu Z',\n",
       "   'Wen J',\n",
       "   'Hu F',\n",
       "   'Wang J',\n",
       "   'Hu C',\n",
       "   'Zhang W'],\n",
       "  'GBReference_title': 'Thrombospondin-1 induced programmed death-ligand 1-mediated immunosuppression by activating the STAT3 pathway in osteosarcoma',\n",
       "  'GBReference_journal': 'Cancer Sci 113 (2), 432-445 (2022)',\n",
       "  'GBReference_xref': [{'GBXref_dbname': 'doi',\n",
       "    'GBXref_id': '10.1111/cas.15237'}],\n",
       "  'GBReference_pubmed': '34927311',\n",
       "  'GBReference_remark': 'GeneRIF: Thrombospondin-1 induced programmed death-ligand 1-mediated immunosuppression by activating the STAT3 pathway in osteosarcoma.'},\n",
       " {'GBReference_reference': '2',\n",
       "  'GBReference_position': '1..766',\n",
       "  'GBReference_authors': ['Ling HY',\n",
       "   'Yang Z',\n",
       "   'Wang PJ',\n",
       "   'Sun Y',\n",
       "   'Ju SG',\n",
       "   'Li J',\n",
       "   'Fu JX'],\n",
       "  'GBReference_title': 'Diffuse large B-cell lymphoma-derived exosomes push macrophage polarization toward M2 phenotype via GP130/STAT3 signaling pathway',\n",
       "  'GBReference_journal': 'Chem Biol Interact 352, 109779 (2022)',\n",
       "  'GBReference_xref': [{'GBXref_dbname': 'doi',\n",
       "    'GBXref_id': '10.1016/j.cbi.2021.109779'}],\n",
       "  'GBReference_pubmed': '34922904',\n",
       "  'GBReference_remark': 'GeneRIF: Diffuse large B-cell lymphoma-derived exosomes push macrophage polarization toward M2 phenotype via GP130/STAT3 signaling pathway.'},\n",
       " {'GBReference_reference': '3',\n",
       "  'GBReference_position': '1..766',\n",
       "  'GBReference_authors': ['Wang Y',\n",
       "   'Li N',\n",
       "   'Zheng Y',\n",
       "   'Wang A',\n",
       "   'Yu C',\n",
       "   'Song Z',\n",
       "   'Wang S',\n",
       "   'Sun Y',\n",
       "   'Zheng L',\n",
       "   'Wang G',\n",
       "   'Liu L',\n",
       "   'Yi J',\n",
       "   'Huang Y',\n",
       "   'Zhang M',\n",
       "   'Bao Y',\n",
       "   'Sun L'],\n",
       "  'GBReference_title': 'KIAA1217 Promotes Epithelial-Mesenchymal Transition and Hepatocellular Carcinoma Metastasis by Interacting with and Activating STAT3',\n",
       "  'GBReference_journal': 'Int J Mol Sci 23 (1), 104 (2021)',\n",
       "  'GBReference_xref': [{'GBXref_dbname': 'doi',\n",
       "    'GBXref_id': '10.3390/ijms23010104'}],\n",
       "  'GBReference_pubmed': '35008530',\n",
       "  'GBReference_remark': 'GeneRIF: KIAA1217 Promotes Epithelial-Mesenchymal Transition and Hepatocellular Carcinoma Metastasis by Interacting with and Activating STAT3.; Publication Status: Online-Only'},\n",
       " {'GBReference_reference': '4',\n",
       "  'GBReference_position': '1..766',\n",
       "  'GBReference_authors': ['Cykowiak M',\n",
       "   'Kleszcz R',\n",
       "   'Kucinska M',\n",
       "   'Paluszczak J',\n",
       "   'Szaefer H',\n",
       "   'Plewinski A',\n",
       "   'Piotrowska-Kempisty H',\n",
       "   'Murias M',\n",
       "   'Krajka-Kuzniak V'],\n",
       "  'GBReference_title': 'Attenuation of Pancreatic Cancer In Vitro and In Vivo via Modulation of Nrf2 and NF-kappaB Signaling Pathways by Natural Compounds',\n",
       "  'GBReference_journal': 'Cells 10 (12), 3556 (2021)',\n",
       "  'GBReference_xref': [{'GBXref_dbname': 'doi',\n",
       "    'GBXref_id': '10.3390/cells10123556'}],\n",
       "  'GBReference_pubmed': '34944062',\n",
       "  'GBReference_remark': 'GeneRIF: Attenuation of Pancreatic Cancer In Vitro and In Vivo via Modulation of Nrf2 and NF-kappaB Signaling Pathways by Natural Compounds.; Publication Status: Online-Only'},\n",
       " {'GBReference_reference': '5',\n",
       "  'GBReference_position': '1..766',\n",
       "  'GBReference_authors': ['Caldenhoven E',\n",
       "   'van Dijk TB',\n",
       "   'Solari R',\n",
       "   'Armstrong J',\n",
       "   'Raaijmakers JA',\n",
       "   'Lammers JW',\n",
       "   'Koenderman L',\n",
       "   'de Groot RP'],\n",
       "  'GBReference_title': 'STAT3beta, a splice variant of transcription factor STAT3, is a dominant negative regulator of transcription',\n",
       "  'GBReference_journal': 'J Biol Chem 271 (22), 13221-13227 (1996)',\n",
       "  'GBReference_xref': [{'GBXref_dbname': 'doi',\n",
       "    'GBXref_id': '10.1074/jbc.271.22.13221'}],\n",
       "  'GBReference_pubmed': '8675499'},\n",
       " {'GBReference_reference': '6',\n",
       "  'GBReference_position': '1..766',\n",
       "  'GBReference_authors': ['Boulton TG',\n",
       "   'Zhong Z',\n",
       "   'Wen Z',\n",
       "   'Darnell JE Jr',\n",
       "   'Stahl N',\n",
       "   'Yancopoulos GD'],\n",
       "  'GBReference_title': 'STAT3 activation by cytokines utilizing gp130 and related transducers involves a secondary modification requiring an H7-sensitive kinase',\n",
       "  'GBReference_journal': 'Proc Natl Acad Sci U S A 92 (15), 6915-6919 (1995)',\n",
       "  'GBReference_xref': [{'GBXref_dbname': 'doi',\n",
       "    'GBXref_id': '10.1073/pnas.92.15.6915'}],\n",
       "  'GBReference_pubmed': '7624343'},\n",
       " {'GBReference_reference': '7',\n",
       "  'GBReference_position': '1..766',\n",
       "  'GBReference_authors': ['Akira S',\n",
       "   'Nishio Y',\n",
       "   'Inoue M',\n",
       "   'Wang XJ',\n",
       "   'Wei S',\n",
       "   'Matsusaka T',\n",
       "   'Yoshida K',\n",
       "   'Sudo T',\n",
       "   'Naruto M',\n",
       "   'Kishimoto T'],\n",
       "  'GBReference_title': 'Molecular cloning of APRF, a novel IFN-stimulated gene factor 3 p91-related transcription factor involved in the gp130-mediated signaling pathway',\n",
       "  'GBReference_journal': 'Cell 77 (1), 63-71 (1994)',\n",
       "  'GBReference_xref': [{'GBXref_dbname': 'doi',\n",
       "    'GBXref_id': '10.1016/0092-8674(94)90235-6'}],\n",
       "  'GBReference_pubmed': '7512451'},\n",
       " {'GBReference_reference': '8',\n",
       "  'GBReference_position': '1..766',\n",
       "  'GBReference_authors': ['Shuai K',\n",
       "   'Horvath CM',\n",
       "   'Huang LH',\n",
       "   'Qureshi SA',\n",
       "   'Cowburn D',\n",
       "   'Darnell JE Jr'],\n",
       "  'GBReference_title': 'Interferon activation of the transcription factor Stat91 involves dimerization through SH2-phosphotyrosyl peptide interactions',\n",
       "  'GBReference_journal': 'Cell 76 (5), 821-828 (1994)',\n",
       "  'GBReference_xref': [{'GBXref_dbname': 'doi',\n",
       "    'GBXref_id': '10.1016/0092-8674(94)90357-3'}],\n",
       "  'GBReference_pubmed': '7510216'},\n",
       " {'GBReference_reference': '9',\n",
       "  'GBReference_position': '1..766',\n",
       "  'GBReference_authors': ['Hsu,A.P.',\n",
       "   'Davis,J.',\n",
       "   'Puck,J.M.',\n",
       "   'Holland,S.M.',\n",
       "   'Freeman,A.F.'],\n",
       "  'GBReference_title': 'STAT3 Hyper IgE Syndrome',\n",
       "  'GBReference_journal': '(in) Adam MP, Ardinger HH, Pagon RA, Wallace SE, Bean LJH, Gripp KW, Mirzaa GM and Amemiya A (Eds.); GENEREVIEWS((R)); (1993)',\n",
       "  'GBReference_pubmed': '20301786'},\n",
       " {'GBReference_reference': '10',\n",
       "  'GBReference_position': '1..766',\n",
       "  'GBReference_authors': ['DuBridge,R.B.',\n",
       "   'Tang,P.',\n",
       "   'Hsia,H.C.',\n",
       "   'Leong,P.M.',\n",
       "   'Miller,J.H.',\n",
       "   'Calos,M.P.'],\n",
       "  'GBReference_title': 'Analysis of mutation in human cells by using an Epstein-Barr virus shuttle system',\n",
       "  'GBReference_journal': 'Mol Cell Biol 7 (1), 379-387 (1987)',\n",
       "  'GBReference_xref': [{'GBXref_dbname': 'doi',\n",
       "    'GBXref_id': '10.1128/mcb.7.1.379-387.1987'}],\n",
       "  'GBReference_pubmed': '3031469'}]"
      ]
     },
     "execution_count": 29,
     "metadata": {},
     "output_type": "execute_result"
    }
   ],
   "source": [
    "d['GBSeq_references']"
   ]
  },
  {
   "cell_type": "code",
   "execution_count": 23,
   "metadata": {},
   "outputs": [
    {
     "data": {
      "text/plain": [
       "{'GBReference_authors': ['Liu Z',\n",
       "  'Wen J',\n",
       "  'Hu F',\n",
       "  'Wang J',\n",
       "  'Hu C',\n",
       "  'Zhang W'],\n",
       " 'GBReference_title': 'Thrombospondin-1 induced programmed death-ligand 1-mediated immunosuppression by activating the STAT3 pathway in osteosarcoma',\n",
       " 'GBReference_journal': 'Cancer Sci 113 (2), 432-445 (2022)',\n",
       " 'GBReference_xref': [{'GBXref_dbname': 'doi',\n",
       "   'GBXref_id': '10.1111/cas.15237'}]}"
      ]
     },
     "execution_count": 23,
     "metadata": {},
     "output_type": "execute_result"
    }
   ],
   "source": []
  },
  {
   "cell_type": "code",
   "execution_count": null,
   "metadata": {},
   "outputs": [],
   "source": []
  }
 ],
 "metadata": {
  "interpreter": {
   "hash": "f5cb82b301b87eef88325f480de257324ba8b611cc1a51609875e0120daba8a9"
  },
  "kernelspec": {
   "display_name": "Python 3.9.7 ('auto-db-pipeline')",
   "language": "python",
   "name": "python3"
  },
  "language_info": {
   "codemirror_mode": {
    "name": "ipython",
    "version": 3
   },
   "file_extension": ".py",
   "mimetype": "text/x-python",
   "name": "python",
   "nbconvert_exporter": "python",
   "pygments_lexer": "ipython3",
   "version": "3.9.7"
  },
  "orig_nbformat": 4
 },
 "nbformat": 4,
 "nbformat_minor": 2
}
