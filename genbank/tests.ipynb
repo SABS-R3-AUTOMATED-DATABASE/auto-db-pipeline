{
 "cells": [
  {
   "cell_type": "code",
   "execution_count": 5,
   "metadata": {},
   "outputs": [],
   "source": [
    "from anarci import number"
   ]
  },
  {
   "cell_type": "code",
   "execution_count": 12,
   "metadata": {},
   "outputs": [],
   "source": [
    "seq = 'mfvflvllplvssqcvnlrtrtqlppaytnsftrgvyypdkvfrssvlhstqdlflpffsnvtwfhaihvsgtngtkrfdnpvlpfndgvyfasteksniirgwifgttldsktqsllivnnatnvvikvcefqfcndpfldvyyhknnkswmesgvyssannctfeyvsqpflmdlegkqgnfknlrefvfknidgyfkiyskhtpinlvrdlpqgfsaleplvdlpiginitrfqtllalhrsyltpgdsssgwtagaaayyvgylqprtfllkynengtitdavdcaldplsetkctlksftvekgiyqtsnfrvqptesivrfpnitnlcpfgevfnatrfasvyawnrkrisncvadysvlynsasfstfkcygvsptklndlcftnvyadsfvirgdevrqiapgqtgkiadynyklpddftgcviawnsnnldskvggnynyryrlfrksnlkpferdisteiyqagskpcngvegfncyfplqsygfqptngvgyqpyrvvvlsfellhapatvcgpkkstnlvknkcvnfnfngltgtgvltesnkkflpfqqfgrdiadttdavrdpqtleilditpcsfggvsvitpgtntsnqvavlyqgvnctevpvaihadqltptwrvystgsnvfqtragcligaehvnnsyecdipigagicasyqtqtnsrgsassvasqsiiaytmslgaensvaysnnsiaiptnftisvtteilpvsmtktsvdctmyicgdstecsnlllqygsfctqlnraltgiaveqdkntqevfaqvkqiyktppikdfggfnfsqilpdpskpskrsfiedllfnkvtladagfikqygdclgdiaardlicaqkfngltvlpplltdemiaqytsallagtitsgwtfgagaalqipfamqmayrfngigvtqnvlyenqklianqfnsaigkiqdslsstasalgklqnvvnqnaqalntlvkqlssnfgaissvlndilsrldkveaevqidrlitgrlqslqtyvtqqliraaeirasanlaatkmsecvlgqskrvdfcgkgyhlmsfpqsaphgvvflhvtyvpaqeknfttapaichdgkahfpregvfvsngthwfvtqrnfyepqiittdntfvsgncdvvigivnntvydplqpeldsfkeeldkyfknhtspdvdlgdisginasvvniqkeidrlnevaknlneslidlqelgkyeqgsgyipeaprdgqayvrkdgewvllstflgrslevlfqgpghhhhhhhhsawshpqfekgggsggggsggsawshpqfek'"
   ]
  },
  {
   "cell_type": "code",
   "execution_count": 14,
   "metadata": {},
   "outputs": [],
   "source": [
    "# returns chain type, or false when its not an antibody\n",
    "numbering, chain_type = number(seq, allow=['H', 'K', 'L'])\n",
    "# K = kappa, l = lambda, replace k with l to have one label for all ligh chains\n",
    "if chain_type:\n",
    "    chain_type = chain_type.repalce('K', 'L')"
   ]
  },
  {
   "cell_type": "code",
   "execution_count": null,
   "metadata": {},
   "outputs": [],
   "source": []
  }
 ],
 "metadata": {
  "interpreter": {
   "hash": "f5cb82b301b87eef88325f480de257324ba8b611cc1a51609875e0120daba8a9"
  },
  "kernelspec": {
   "display_name": "Python 3.9.7 ('auto-db-pipeline')",
   "language": "python",
   "name": "python3"
  },
  "language_info": {
   "codemirror_mode": {
    "name": "ipython",
    "version": 3
   },
   "file_extension": ".py",
   "mimetype": "text/x-python",
   "name": "python",
   "nbconvert_exporter": "python",
   "pygments_lexer": "ipython3",
   "version": "3.9.7"
  },
  "orig_nbformat": 4
 },
 "nbformat": 4,
 "nbformat_minor": 2
}
