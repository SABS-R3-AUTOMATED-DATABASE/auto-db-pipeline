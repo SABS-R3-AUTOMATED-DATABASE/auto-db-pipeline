{
 "cells": [
  {
   "cell_type": "code",
   "execution_count": 173,
   "metadata": {},
   "outputs": [],
   "source": [
    "from Bio import Entrez\n",
    "from Bio import SeqIO\n",
    "import pandas as pd\n",
    "import copy\n",
    "import numpy as np\n",
    "import json\n",
    "import pickle\n",
    "import random\n",
    "\n",
    "Entrez.email = \"fabian.spoendlin@exeter.ox.ac.uk\"\n"
   ]
  },
  {
   "cell_type": "code",
   "execution_count": null,
   "metadata": {},
   "outputs": [],
   "source": [
    "with open('CoV-AbDab_181021.csv', 'r') as f:\n",
    "    CovAbDab = pd.read_csv(f)   \n",
    "\n",
    "CovAbDab['VH or VHH'].replace(to_replace='ND', value='no sequence available', inplace=True)\n",
    "CovAbDab['VL'].replace(to_replace='ND', value='no sequence available', inplace=True)"
   ]
  },
  {
   "cell_type": "code",
   "execution_count": 2,
   "metadata": {},
   "outputs": [],
   "source": [
    "handle = Entrez.efetch(db='pubmed', id='32571838')\n",
    "record = handle.read()\n"
   ]
  },
  {
   "cell_type": "code",
   "execution_count": 3,
   "metadata": {},
   "outputs": [
    {
     "name": "stdout",
     "output_type": "stream",
     "text": [
      "protein pubmed_protein 9\n"
     ]
    }
   ],
   "source": [
    "related = Entrez.read(Entrez.elink(db='protein',dbfrom='pubmed', id='32571838'))\n",
    "for linksetdb in related[0][\"LinkSetDb\"]:\n",
    "    print(linksetdb[\"DbTo\"], linksetdb[\"LinkName\"], len(linksetdb[\"Link\"]))\n"
   ]
  },
  {
   "cell_type": "code",
   "execution_count": 4,
   "metadata": {},
   "outputs": [
    {
     "data": {
      "text/plain": [
       "{'ERROR': [], 'LinkSetDb': [], 'LinkSetDbHistory': [], 'DbFrom': 'pubmed', 'IdList': ['32571838']}"
      ]
     },
     "execution_count": 4,
     "metadata": {},
     "output_type": "execute_result"
    }
   ],
   "source": [
    "related = Entrez.read(Entrez.elink(db='nucleotide',dbfrom='pubmed', id='32571838'))\n",
    "for linksetdb in related[0][\"LinkSetDb\"]:\n",
    "    print(linksetdb[\"DbTo\"], linksetdb[\"LinkName\"], len(linksetdb[\"Link\"]))\n",
    "related[0]"
   ]
  },
  {
   "cell_type": "code",
   "execution_count": null,
   "metadata": {},
   "outputs": [],
   "source": []
  },
  {
   "cell_type": "code",
   "execution_count": null,
   "metadata": {},
   "outputs": [],
   "source": []
  },
  {
   "cell_type": "code",
   "execution_count": null,
   "metadata": {},
   "outputs": [],
   "source": []
  },
  {
   "cell_type": "code",
   "execution_count": null,
   "metadata": {},
   "outputs": [],
   "source": []
  },
  {
   "cell_type": "code",
   "execution_count": null,
   "metadata": {},
   "outputs": [],
   "source": []
  },
  {
   "cell_type": "code",
   "execution_count": null,
   "metadata": {},
   "outputs": [],
   "source": [
    "\n",
    "\n"
   ]
  },
  {
   "cell_type": "code",
   "execution_count": 5,
   "metadata": {},
   "outputs": [],
   "source": [
    "#search nucleotides and check how many of the sequences are in Covab Dab\n",
    "handle = Entrez.esearch(db='nucleotide', term='anti-sars-cov-2[All Fields] AND immunoglobulin[All Fields]', retmax='50')\n",
    "record = Entrez.read(handle)\n",
    "\n",
    "nucleotides = []\n",
    "\n",
    "for ID in record['IdList']:\n",
    "    nucelotide = Entrez.efetch(db=\"nucleotide\", id=ID, rettype=\"gb\", retmode=\"text\")\n",
    "    nucelotide_formated = SeqIO.read(nucelotide,'genbank')\n",
    "    nucleotides.append(nucelotide_formated)\n"
   ]
  },
  {
   "cell_type": "code",
   "execution_count": 6,
   "metadata": {},
   "outputs": [
    {
     "name": "stdout",
     "output_type": "stream",
     "text": [
      "17 50\n"
     ]
    }
   ],
   "source": [
    "summary_n = []\n",
    "\n",
    "for entry in nucleotides:\n",
    "\n",
    "    lenght_sequence = len(entry.seq)\n",
    "    remove_bases = lenght_sequence % 3\n",
    "    if remove_bases == 0:\n",
    "        aa_seq = str(entry.seq.translate()) # problems if nucleotide sequence is not in correct frame\n",
    "    else:\n",
    "        aa_seq = str(entry.seq[:-remove_bases].translate())\n",
    "\n",
    "    containes = []\n",
    "    for VH in CovAbDab['VH or VHH']:\n",
    "        if VH in aa_seq:\n",
    "            containes.append('heavy chain')\n",
    "    for VL in CovAbDab['VL']:\n",
    "        if str(VL) in aa_seq: # nan in VL that is formated as float\n",
    "            containes.append('light chain')\n",
    "    \n",
    "    if 'heavy chain' in containes:\n",
    "        summary_n.append('heavy chain')\n",
    "        \n",
    "    elif 'light chain' in containes:\n",
    "        summary_n.append('light chain') \n",
    "\n",
    "    else:\n",
    "        summary_n.append('not in covab-dab')\n",
    "        \n",
    "print(summary_n.count('not in covab-dab'),len(summary_n))\n"
   ]
  },
  {
   "cell_type": "code",
   "execution_count": 62,
   "metadata": {},
   "outputs": [
    {
     "name": "stderr",
     "output_type": "stream",
     "text": [
      "/Users/fabian/miniconda3/envs/auto-db-pipeline/lib/python3.9/site-packages/Bio/GenBank/__init__.py:1143: BiopythonParserWarning: Dropping bond qualifier in feature location\n",
      "  warnings.warn(\n"
     ]
    }
   ],
   "source": [
    "#search proteins and check how many of the sequences are in Covab Dab\n",
    "handle = Entrez.esearch(db='protein', term='anti-sars-cov-2[All Fields] AND immunoglobulin[All Fields]', retmax='50')\n",
    "record = Entrez.read(handle)\n",
    "\n",
    "proteins = []\n",
    "\n",
    "for ID in record['IdList']:\n",
    "    protein = Entrez.efetch(db=\"protein\", id=ID, rettype=\"gb\", retmode=\"text\")\n",
    "    protein_formated = SeqIO.read(protein,'genbank')\n",
    "    proteins.append(protein_formated)"
   ]
  },
  {
   "cell_type": "code",
   "execution_count": 66,
   "metadata": {},
   "outputs": [
    {
     "name": "stdout",
     "output_type": "stream",
     "text": [
      "13 50\n"
     ]
    }
   ],
   "source": [
    "summary_p = []\n",
    "\n",
    "for entry in proteins:\n",
    "\n",
    "    aa_seq = str(entry.seq)\n",
    "\n",
    "    containes = []\n",
    "    for VH in CovAbDab['VH or VHH']:\n",
    "        if VH in aa_seq:\n",
    "            containes.append('heavy chain')\n",
    "    for VL in CovAbDab['VL']:\n",
    "        if str(VL) in aa_seq: # nan in VL that is formated as float\n",
    "            containes.append('light chain')\n",
    "    \n",
    "    if 'heavy chain' in containes:\n",
    "        summary_p.append('heavy chain')\n",
    "        \n",
    "    elif 'light chain' in containes:\n",
    "        summary_p.append('light chain') \n",
    "\n",
    "    else:\n",
    "        summary_p.append('not in covab-dab')\n",
    "\n",
    "print(summary_p.count('not in covab-dab'),len(summary_p))"
   ]
  },
  {
   "cell_type": "code",
   "execution_count": 67,
   "metadata": {},
   "outputs": [
    {
     "name": "stdout",
     "output_type": "stream",
     "text": [
      "50 50\n",
      "50 50\n"
     ]
    },
    {
     "name": "stderr",
     "output_type": "stream",
     "text": [
      "/Users/fabian/miniconda3/envs/auto-db-pipeline/lib/python3.9/site-packages/Bio/Seq.py:2979: BiopythonWarning: Partial codon, len(sequence) not a multiple of three. Explicitly trim the sequence or add trailing N before translation. This may become an error in future.\n",
      "  warnings.warn(\n"
     ]
    }
   ],
   "source": [
    "#nucelotide and protein database contains sequence of whole chain not just VL and VH, thus this comparison does not work\n",
    "summary_2_n = []\n",
    "\n",
    "for entry in nucleotides:\n",
    "\n",
    "    aa_seq = str(entry.seq.translate())\n",
    "   \n",
    "    if aa_seq in CovAbDab['VH or VHH']:\n",
    "        summary_2_n.append('heavy chain')\n",
    "\n",
    "    elif aa_seq in str(CovAbDab['VL']):\n",
    "        summary_2_n.append('light chain') \n",
    "\n",
    "    else:\n",
    "        summary_2_n.append('not in covab-dab')\n",
    "\n",
    "print(summary_2_n.count('not in covab-dab'),len(summary_2_n))\n",
    "\n",
    "\n",
    "summary_2_p = []\n",
    "\n",
    "for entry in proteins:\n",
    "\n",
    "    aa_seq = str(entry.seq)\n",
    "   \n",
    "    if aa_seq in CovAbDab['VH or VHH']:\n",
    "        summary_2_p.append('heavy chain')\n",
    "\n",
    "    elif aa_seq in str(CovAbDab['VL']):\n",
    "        summary_2_p.append('light chain') \n",
    "\n",
    "    else:\n",
    "        summary_2_p.append('not in covab-dab')\n",
    "\n",
    "print(summary_2_p.count('not in covab-dab'),len(summary_2_p))"
   ]
  },
  {
   "cell_type": "markdown",
   "metadata": {},
   "source": [
    "## Search genbank protein database with certain keywords and evaluate suitability of keywords by comparing the found sequences with covab dab"
   ]
  },
  {
   "cell_type": "code",
   "execution_count": 143,
   "metadata": {},
   "outputs": [
    {
     "name": "stdout",
     "output_type": "stream",
     "text": [
      "number of entries: 2685\n"
     ]
    }
   ],
   "source": [
    "# specify the terms used for the search\n",
    "search = 'anti-sars-cov-2[All Fields] AND immunoglobulin[All Fields]'\n",
    "\n",
    "# search protein data base with keywords and find out how many entries are found\n",
    "handle = Entrez.esearch(db='protein', term='anti-sars-cov-2[All Fields] AND immunoglobulin[All Fields]', retmax='2')\n",
    "record = Entrez.read(handle)\n",
    "number_of_entries = int(record['Count'])\n",
    "print('number of entries:', number_of_entries)"
   ]
  },
  {
   "cell_type": "code",
   "execution_count": 160,
   "metadata": {},
   "outputs": [],
   "source": [
    "#Entrez.api_key = \"MyAPIkey\"\n",
    "\n",
    "# access ids of all entries obtained for a search\n",
    "handle = Entrez.esearch(db='protein', term=search, retmax=number_of_entries)\n",
    "record = Entrez.read(handle)\n",
    "\n",
    "# approximately 1 entry fetched per second\n",
    "# randomly sample the entries to reduce time needed for program to run\n",
    "number_of_samples = 200\n",
    "sampled_ids = random.sample(record['IdList'], number_of_samples)\n",
    "\n",
    "# fetch the randomly selected entries and save in list\n",
    "proteins = []\n",
    "count = 0\n",
    "\n",
    "for ID in sampled_ids:\n",
    "    protein = Entrez.efetch(db=\"protein\", id=ID, rettype=\"gb\", retmode=\"text\")\n",
    "    protein_formated = SeqIO.read(protein,'genbank')\n",
    "    proteins.append(protein_formated)\n",
    "\n",
    "    count += 1\n",
    "\n",
    "    if count % 10 == 0:\n",
    "        print('number of entires fetched:', count)\n",
    "\n",
    "protein_handle =  Entrez.efetch(db=\"protein\", id=sampled_ids, rettype=\"gb\", retmode=\"xml\")\n",
    "#proteins = SeqIO.read(protein_handle,'genbank')\n",
    "#or\n",
    "#proteins = SeqIO.parse(protein_handle,'gb')\n",
    "proteins = Entrez.read(protein_handle) # ---> this is much quicker"
   ]
  },
  {
   "cell_type": "code",
   "execution_count": 122,
   "metadata": {},
   "outputs": [],
   "source": [
    "# copy covabdab dataframe to add stats\n",
    "CovAbDab_stats = copy.deepcopy(CovAbDab)\n",
    "\n",
    "# add columns to count how many times a certain VH or VL was found in the genbank\n",
    "CovAbDab_stats['VH_found'] = 0\n",
    "CovAbDab_stats['VL_found'] = 0\n",
    "\n",
    "sequences_not_in_covabdab = 0\n",
    "iteration_count = 0\n",
    "\n",
    "# loop throught the feched proteins\n",
    "for entry in proteins:\n",
    "\n",
    "    iteration_count += 1\n",
    "\n",
    "    #s eq to string\n",
    "    aa_seq = str(entry.seq)\n",
    "\n",
    "    sequence_found = False\n",
    "\n",
    "    # loop throught covab dab entries\n",
    "    for i in range(len(CovAbDab_stats)):\n",
    "        \n",
    "        # in case VH is in covab dab increase the VH count of this entry by 1\n",
    "        if CovAbDab_stats.iloc[i,8] in aa_seq:\n",
    "            CovAbDab_stats.iloc[i,-2] = CovAbDab_stats.iloc[i,-2] + 1\n",
    "            sequence_found = True\n",
    "\n",
    "        # in case VL is in covab dab increase the VL count of this entry by 1\n",
    "        if str(CovAbDab_stats.iloc[i,9]) in aa_seq:\n",
    "            CovAbDab_stats.iloc[i,-1] = CovAbDab_stats.iloc[i,-1] + 1\n",
    "            sequence_found = True\n",
    "\n",
    "    # sequence that has no match with vh or vl is counted as a not found sequence\n",
    "    if not sequence_found:\n",
    "        sequences_not_in_covabdab += 1\n",
    "\n",
    "sequences_in_covabdab = iteration_count - sequences_not_in_covabdab\n"
   ]
  },
  {
   "cell_type": "code",
   "execution_count": 124,
   "metadata": {},
   "outputs": [
    {
     "name": "stdout",
     "output_type": "stream",
     "text": [
      "total sequences assessed: 2685\n",
      "number of genbank sequences not in covab dab: 409\n",
      "number of genbank sequences found in covab dab: 2276\n",
      "match rate: 0.8476722532588454\n",
      "number of genebank sequences that have multiple matches in covab dab: 636\n",
      "number of genebank entries with non unique match in covab dab: 13\n",
      "-------------\n",
      "total sequences in covab dab: 4198\n",
      "number of Covab Dab VH sequences found: 1110\n",
      "number of Covab Dab VL sequences found: 1153\n",
      "number of Covab Dab VH VL pairings found: 1059\n",
      "number of Covab Dab entires where either VH or VL was found: 1204\n",
      "-------------\n",
      "percentage of covab dab entries with pairing found: 25.226298237255833\n",
      "percentage of covab dab entries with either VL or VH found: 28.680323963792283\n"
     ]
    }
   ],
   "source": [
    "#print summary statistics\n",
    "multiplicator = number_of_entries / number_of_samples # factor to adjust statistics by the fraction of sampled entires\n",
    "\n",
    "if True:\n",
    "    print('total sequences assessed:', iteration_count * multiplicator)\n",
    "    print('number of genbank sequences not in covab dab:', sequences_not_in_covabdab * multiplicator)\n",
    "    print('number of genbank sequences found in covab dab:', sequences_in_covabdab * multiplicator)\n",
    "    print('match rate:', sequences_in_covabdab / iteration_count)\n",
    "    # if the total number of counts in VH and VL columns is higher than the genbank sequences that have a match in covab dab\n",
    "    # then a genbank sequence must have several matches in covab dab\n",
    "    print('number of genebank sequences that have multiple matches in covab dab:', (sum(CovAbDab_stats['VH_found'])+sum(CovAbDab_stats['VL_found'])-sequences_in_covabdab) * multiplicator)\n",
    "    # if the number of genbank sequences with a match in covab dab is higher than the number of covab dab VH and VLs that were found\n",
    "    # then a number of genbank sequences must have matched to the same covab dab sequenc\n",
    "    print('number of genebank entries with non unique match in covab dab:', (sequences_in_covabdab - (len(CovAbDab_stats.loc[(CovAbDab_stats['VH_found'] > 0)]) + len(CovAbDab_stats.loc[(CovAbDab_stats['VL_found'] > 0)]))) * multiplicator)\n",
    "    print('-------------')\n",
    "    print('total sequences in covab dab:', len(CovAbDab_stats))\n",
    "    print('number of Covab Dab VH sequences found:', len(CovAbDab_stats.loc[(CovAbDab_stats['VH_found'] > 0)]) * multiplicator)\n",
    "    print('number of Covab Dab VL sequences found:', len(CovAbDab_stats.loc[(CovAbDab_stats['VL_found'] > 0)]) * multiplicator)\n",
    "    VH_VL_pairings = len(CovAbDab_stats.loc[(CovAbDab_stats['VH_found'] > 0) & (CovAbDab_stats['VL_found'] > 0)]) * multiplicator\n",
    "    print('number of Covab Dab VH VL pairings found:', VH_VL_pairings)\n",
    "    VH_or_VL = len(CovAbDab_stats.loc[(CovAbDab_stats['VH_found'] > 0) | (CovAbDab_stats['VL_found'] > 0)]) * multiplicator\n",
    "    print('number of Covab Dab entires where either VH or VL was found:', VH_or_VL)\n",
    "    print('-------------')\n",
    "    print('percentage of covab dab entries with pairing found:', VH_VL_pairings / len(CovAbDab_stats) * 100 )\n",
    "    print('percentage of covab dab entries with either VL or VH found:', VH_or_VL / len(CovAbDab_stats) * 100)"
   ]
  },
  {
   "cell_type": "code",
   "execution_count": 131,
   "metadata": {},
   "outputs": [],
   "source": [
    "# save stats of search perfomed\n",
    "with open('data/search_stats.csv', 'r+') as fo:\n",
    "    fo.read()\n",
    "    fo.write(f'''{search} - samples: {number_of_samples}, \n",
    "                {iteration_count * multiplicator}, \n",
    "                {sequences_not_in_covabdab * multiplicator}, \n",
    "                {sequences_in_covabdab * multiplicator}, \n",
    "                {sequences_in_covabdab / iteration_count}, \n",
    "                {(sum(CovAbDab_stats[\"VH_found\"]) + sum(CovAbDab_stats[\"VL_found\"]) - sequences_in_covabdab) * multiplicator}, \n",
    "                {(sequences_in_covabdab - (len(CovAbDab_stats.loc[(CovAbDab_stats[\"VH_found\"] > 0)])) + len(CovAbDab_stats.loc[(CovAbDab_stats[\"VL_found\"] > 0)])) * multiplicator}, \n",
    "                {len(CovAbDab_stats)}, {len(CovAbDab_stats.loc[(CovAbDab_stats[\"VH_found\"] > 0)]) * multiplicator}, \n",
    "                {len(CovAbDab_stats.loc[(CovAbDab_stats[\"VL_found\"] > 0)]) * multiplicator}, \n",
    "                {len(CovAbDab_stats.loc[(CovAbDab_stats[\"VH_found\"] > 0) & (CovAbDab_stats[\"VL_found\"] > 0)]) * multiplicator}, \n",
    "                {len(CovAbDab_stats.loc[(CovAbDab_stats[\"VH_found\"] > 0) | (CovAbDab_stats[\"VL_found\"] > 0)]) * multiplicator}, \n",
    "                {VH_VL_pairings / len(CovAbDab_stats) * 100}, {VH_or_VL / len(CovAbDab_stats) * 100}''')"
   ]
  },
  {
   "cell_type": "code",
   "execution_count": 132,
   "metadata": {},
   "outputs": [
    {
     "data": {
      "text/html": [
       "<div>\n",
       "<style scoped>\n",
       "    .dataframe tbody tr th:only-of-type {\n",
       "        vertical-align: middle;\n",
       "    }\n",
       "\n",
       "    .dataframe tbody tr th {\n",
       "        vertical-align: top;\n",
       "    }\n",
       "\n",
       "    .dataframe thead th {\n",
       "        text-align: right;\n",
       "    }\n",
       "</style>\n",
       "<table border=\"1\" class=\"dataframe\">\n",
       "  <thead>\n",
       "    <tr style=\"text-align: right;\">\n",
       "      <th></th>\n",
       "      <th>search</th>\n",
       "      <th>total sequences assessed</th>\n",
       "      <th>number of genbank sequences not in covab dab</th>\n",
       "      <th>number of genbank sequences found in covab dab</th>\n",
       "      <th>match rate</th>\n",
       "      <th>number of genebank sequences that have multiple matches in covab dab</th>\n",
       "      <th>number of genebank entries with non unique match in covab dab</th>\n",
       "      <th>total sequences in covab dab</th>\n",
       "      <th>number of Covab Dab VH sequences found</th>\n",
       "      <th>number of Covab Dab VL sequences found</th>\n",
       "      <th>number of Covab Dab VH VL pairings found</th>\n",
       "      <th>number of Covab Dab entires where either VH or VL was found</th>\n",
       "      <th>percentage of covab dab entries with pairing found</th>\n",
       "      <th>percentage of covab dab entries with either VL or VH found</th>\n",
       "    </tr>\n",
       "  </thead>\n",
       "  <tbody>\n",
       "    <tr>\n",
       "      <th>0</th>\n",
       "      <td>anti-sars-cov-2[All Fields] AND immunoglobulin...</td>\n",
       "      <td>2685</td>\n",
       "      <td>409</td>\n",
       "      <td>2276</td>\n",
       "      <td>0.847672</td>\n",
       "      <td>636</td>\n",
       "      <td>2319</td>\n",
       "      <td>4198</td>\n",
       "      <td>1110</td>\n",
       "      <td>1153</td>\n",
       "      <td>1059</td>\n",
       "      <td>1204</td>\n",
       "      <td>25.226298</td>\n",
       "      <td>28.680324</td>\n",
       "    </tr>\n",
       "  </tbody>\n",
       "</table>\n",
       "</div>"
      ],
      "text/plain": [
       "                                              search  \\\n",
       "0  anti-sars-cov-2[All Fields] AND immunoglobulin...   \n",
       "\n",
       "    total sequences assessed   number of genbank sequences not in covab dab  \\\n",
       "0                       2685                                            409   \n",
       "\n",
       "    number of genbank sequences found in covab dab   match rate  \\\n",
       "0                                             2276     0.847672   \n",
       "\n",
       "    number of genebank sequences that have multiple matches in covab dab  \\\n",
       "0                                                636                       \n",
       "\n",
       "    number of genebank entries with non unique match in covab dab  \\\n",
       "0                                               2319                \n",
       "\n",
       "    total sequences in covab dab   number of Covab Dab VH sequences found  \\\n",
       "0                           4198                                     1110   \n",
       "\n",
       "    number of Covab Dab VL sequences found  \\\n",
       "0                                     1153   \n",
       "\n",
       "    number of Covab Dab VH VL pairings found  \\\n",
       "0                                       1059   \n",
       "\n",
       "    number of Covab Dab entires where either VH or VL was found  \\\n",
       "0                                               1204              \n",
       "\n",
       "    percentage of covab dab entries with pairing found  \\\n",
       "0                                          25.226298     \n",
       "\n",
       "    percentage of covab dab entries with either VL or VH found  \n",
       "0                                          28.680324            "
      ]
     },
     "execution_count": 132,
     "metadata": {},
     "output_type": "execute_result"
    }
   ],
   "source": [
    "with open('data/search_stats.csv', 'r+') as fo:\n",
    "    df = pd.read_csv('data/search_stats.csv')\n",
    "\n",
    "df.head()"
   ]
  },
  {
   "cell_type": "code",
   "execution_count": null,
   "metadata": {},
   "outputs": [],
   "source": [
    "# save fetched gene bank entries into pickle file\n",
    "out_file_name = #change this f'data/{search}-{number_of_samples}.obj'\n",
    "out_file = open(out_file_name, 'wb')\n",
    "pickle.dump(proteins, out_file)\n",
    "out_file.close()"
   ]
  },
  {
   "cell_type": "code",
   "execution_count": 116,
   "metadata": {},
   "outputs": [
    {
     "data": {
      "text/plain": [
       "'/Users/fabian/Desktop/SABS/Antibody project/code/auto-db-pipeline/genbank'"
      ]
     },
     "execution_count": 116,
     "metadata": {},
     "output_type": "execute_result"
    }
   ],
   "source": [
    "# load results from previous search\n",
    "in_file = open('data/anti-sars-cov-2_immunoglobulin.obj', 'wb')\n",
    "proteins = pickle.load(in_file)\n",
    "in_file.close()"
   ]
  },
  {
   "cell_type": "code",
   "execution_count": null,
   "metadata": {},
   "outputs": [],
   "source": []
  },
  {
   "cell_type": "code",
   "execution_count": null,
   "metadata": {},
   "outputs": [],
   "source": []
  },
  {
   "cell_type": "markdown",
   "metadata": {},
   "source": [
    "## Same function but faster"
   ]
  },
  {
   "cell_type": "code",
   "execution_count": 176,
   "metadata": {},
   "outputs": [
    {
     "name": "stdout",
     "output_type": "stream",
     "text": [
      "number of entries: 2685\n"
     ]
    }
   ],
   "source": [
    "# specify the terms used for the search\n",
    "search = 'anti-sars-cov-2[All Fields] AND immunoglobulin[All Fields]'\n",
    "\n",
    "# search protein data base with keywords and find out how many entries are found\n",
    "handle = Entrez.esearch(db='protein', term='anti-sars-cov-2[All Fields] AND immunoglobulin[All Fields]', retmax='2')\n",
    "record = Entrez.read(handle)\n",
    "number_of_entries = int(record['Count'])\n",
    "print('number of entries:', number_of_entries)"
   ]
  },
  {
   "cell_type": "code",
   "execution_count": 177,
   "metadata": {},
   "outputs": [],
   "source": [
    "# access ids of all entries obtained for a search\n",
    "handle = Entrez.esearch(db='protein', term=search, retmax=number_of_entries)\n",
    "record = Entrez.read(handle)\n",
    "\n",
    "# 25 searches per second\n",
    "protein_handle =  Entrez.efetch(db=\"protein\", id=record['IdList'], rettype=\"gb\", retmode=\"xml\")\n",
    "proteins = Entrez.read(protein_handle)"
   ]
  },
  {
   "cell_type": "code",
   "execution_count": 178,
   "metadata": {},
   "outputs": [],
   "source": [
    "# this runs slow, look at possible use of multiprocessing\n",
    "\n",
    "# copy covabdab dataframe to add stats\n",
    "CovAbDab_stats = copy.deepcopy(CovAbDab)\n",
    "\n",
    "# add columns to count how many times a certain VH or VL was found in the genbank\n",
    "CovAbDab_stats['VH_found'] = 0\n",
    "CovAbDab_stats['VL_found'] = 0\n",
    "\n",
    "sequences_not_in_covabdab = 0\n",
    "iteration_count = 0\n",
    "\n",
    "# loop throught the feched proteins\n",
    "for entry in proteins:\n",
    "\n",
    "    iteration_count += 1\n",
    "\n",
    "    # seq to string\n",
    "    aa_seq = str.upper(entry['GBSeq_sequence'])\n",
    "\n",
    "    sequence_found = False\n",
    "\n",
    "    # loop throught covab dab entries\n",
    "    for i in range(len(CovAbDab_stats)):\n",
    "        \n",
    "        # in case VH is in covab dab increase the VH count of this entry by 1\n",
    "        if CovAbDab_stats.iloc[i,8] in aa_seq:\n",
    "            CovAbDab_stats.iloc[i,-2] = CovAbDab_stats.iloc[i,-2] + 1\n",
    "            sequence_found = True\n",
    "\n",
    "        # in case VL is in covab dab increase the VL count of this entry by 1\n",
    "        if str(CovAbDab_stats.iloc[i,9]) in aa_seq:\n",
    "            CovAbDab_stats.iloc[i,-1] = CovAbDab_stats.iloc[i,-1] + 1\n",
    "            sequence_found = True\n",
    "\n",
    "    # sequence that has no match with vh or vl is counted as a not found sequence\n",
    "    if not sequence_found:\n",
    "        sequences_not_in_covabdab += 1\n",
    "\n",
    "sequences_in_covabdab = iteration_count - sequences_not_in_covabdab"
   ]
  },
  {
   "cell_type": "code",
   "execution_count": 179,
   "metadata": {},
   "outputs": [
    {
     "name": "stdout",
     "output_type": "stream",
     "text": [
      "total sequences assessed: 2685\n",
      "number of genbank sequences not in covab dab: 409\n",
      "number of genbank sequences found in covab dab: 2276\n",
      "match rate: 0.8476722532588454\n",
      "number of genebank sequences that have multiple matches in covab dab: 636\n",
      "number of genebank entries with non unique match in covab dab: 13\n",
      "-------------\n",
      "total sequences in covab dab: 4198\n",
      "number of Covab Dab VH sequences found: 1110\n",
      "number of Covab Dab VL sequences found: 1153\n",
      "number of Covab Dab VH VL pairings found: 1059\n",
      "number of Covab Dab entires where either VH or VL was found: 1204\n",
      "-------------\n",
      "percentage of covab dab entries with pairing found: 25.226298237255833\n",
      "percentage of covab dab entries with either VL or VH found: 28.680323963792283\n"
     ]
    }
   ],
   "source": [
    "#print summary statistics\n",
    "if True:\n",
    "    print('total sequences assessed:', iteration_count)\n",
    "    print('number of genbank sequences not in covab dab:', sequences_not_in_covabdab)\n",
    "    print('number of genbank sequences found in covab dab:', sequences_in_covabdab)\n",
    "    print('match rate:', sequences_in_covabdab / iteration_count)\n",
    "    # if the total number of counts in VH and VL columns is higher than the genbank sequences that have a match in covab dab\n",
    "    # then a genbank sequence must have several matches in covab dab\n",
    "    print('number of genebank sequences that have multiple matches in covab dab:', (sum(CovAbDab_stats['VH_found'])+sum(CovAbDab_stats['VL_found'])-sequences_in_covabdab))\n",
    "    # if the number of genbank sequences with a match in covab dab is higher than the number of covab dab VH and VLs that were found\n",
    "    # then a number of genbank sequences must have matched to the same covab dab sequenc\n",
    "    print('number of genebank entries with non unique match in covab dab:', (sequences_in_covabdab - (len(CovAbDab_stats.loc[(CovAbDab_stats['VH_found'] > 0)]) + len(CovAbDab_stats.loc[(CovAbDab_stats['VL_found'] > 0)]))))\n",
    "    print('-------------')\n",
    "    print('total sequences in covab dab:', len(CovAbDab_stats))\n",
    "    print('number of Covab Dab VH sequences found:', len(CovAbDab_stats.loc[(CovAbDab_stats['VH_found'] > 0)]))\n",
    "    print('number of Covab Dab VL sequences found:', len(CovAbDab_stats.loc[(CovAbDab_stats['VL_found'] > 0)]))\n",
    "    VH_VL_pairings = len(CovAbDab_stats.loc[(CovAbDab_stats['VH_found'] > 0) & (CovAbDab_stats['VL_found'] > 0)])\n",
    "    print('number of Covab Dab VH VL pairings found:', VH_VL_pairings)\n",
    "    VH_or_VL = len(CovAbDab_stats.loc[(CovAbDab_stats['VH_found'] > 0) | (CovAbDab_stats['VL_found'] > 0)])\n",
    "    print('number of Covab Dab entires where either VH or VL was found:', VH_or_VL)\n",
    "    print('-------------')\n",
    "    print('percentage of covab dab entries with pairing found:', VH_VL_pairings / len(CovAbDab_stats) * 100 )\n",
    "    print('percentage of covab dab entries with either VL or VH found:', VH_or_VL / len(CovAbDab_stats) * 100)"
   ]
  },
  {
   "cell_type": "code",
   "execution_count": null,
   "metadata": {},
   "outputs": [],
   "source": [
    "# save stats of search perfomed\n",
    "with open('data/search_stats.csv', 'r+') as fo:\n",
    "    fo.read()\n",
    "    fo.write(f'''{search} - samples: {number_of_samples}, \n",
    "                {iteration_count * multiplicator}, \n",
    "                {sequences_not_in_covabdab * multiplicator}, \n",
    "                {sequences_in_covabdab * multiplicator}, \n",
    "                {sequences_in_covabdab / iteration_count}, \n",
    "                {(sum(CovAbDab_stats[\"VH_found\"]) + sum(CovAbDab_stats[\"VL_found\"]) - sequences_in_covabdab) * multiplicator}, \n",
    "                {(sequences_in_covabdab - (len(CovAbDab_stats.loc[(CovAbDab_stats[\"VH_found\"] > 0)])) + len(CovAbDab_stats.loc[(CovAbDab_stats[\"VL_found\"] > 0)])) * multiplicator}, \n",
    "                {len(CovAbDab_stats)}, {len(CovAbDab_stats.loc[(CovAbDab_stats[\"VH_found\"] > 0)]) * multiplicator}, \n",
    "                {len(CovAbDab_stats.loc[(CovAbDab_stats[\"VL_found\"] > 0)]) * multiplicator}, \n",
    "                {len(CovAbDab_stats.loc[(CovAbDab_stats[\"VH_found\"] > 0) & (CovAbDab_stats[\"VL_found\"] > 0)]) * multiplicator}, \n",
    "                {len(CovAbDab_stats.loc[(CovAbDab_stats[\"VH_found\"] > 0) | (CovAbDab_stats[\"VL_found\"] > 0)]) * multiplicator}, \n",
    "                {VH_VL_pairings / len(CovAbDab_stats) * 100}, {VH_or_VL / len(CovAbDab_stats) * 100}''')"
   ]
  },
  {
   "cell_type": "code",
   "execution_count": null,
   "metadata": {},
   "outputs": [],
   "source": []
  },
  {
   "cell_type": "markdown",
   "metadata": {},
   "source": [
    "## Next tasks\n",
    "1. optimise keywords to find more sequences\n",
    "2. search nucleotide genbank and see if this has more papers\n",
    "3. look at proteins found in genbank that are not in covab dab, are these false positives or relevant antibodies missing from covab dab"
   ]
  },
  {
   "cell_type": "code",
   "execution_count": 17,
   "metadata": {},
   "outputs": [
    {
     "name": "stdout",
     "output_type": "stream",
     "text": [
      "LOCUS       MZ751050                 321 bp    mRNA    linear   ROD 17-AUG-2021\n",
      "DEFINITION  Mus musculus clone 15G9/10D2 anti-SARS-CoV-2 spike protein\n",
      "            immunoglobulin light chain variable region mRNA, partial cds.\n",
      "ACCESSION   MZ751050\n",
      "VERSION     MZ751050.1\n",
      "KEYWORDS    .\n",
      "SOURCE      Mus musculus (house mouse)\n",
      "  ORGANISM  Mus musculus\n",
      "            Eukaryota; Metazoa; Chordata; Craniata; Vertebrata; Euteleostomi;\n",
      "            Mammalia; Eutheria; Euarchontoglires; Glires; Rodentia; Myomorpha;\n",
      "            Muroidea; Muridae; Murinae; Mus; Mus.\n",
      "REFERENCE   1  (bases 1 to 321)\n",
      "  AUTHORS   Zhang,G., Wang,A. and Jiang,M.\n",
      "  TITLE     Epitope profiling reveals the critical antigenic determinants in\n",
      "            SARSCoV-2 RBD-based antigen\n",
      "  JOURNAL   Unpublished\n",
      "REFERENCE   2  (bases 1 to 321)\n",
      "  AUTHORS   Zhang,G., Wang,A. and Jiang,M.\n",
      "  TITLE     Direct Submission\n",
      "  JOURNAL   Submitted (09-AUG-2021) College of Animal Science and Veterinary\n",
      "            Medicine, Henan Agricultural University, No. 63, Zhengzhou\n",
      "            Agricultural Road, Zhengzhou, Henan 450002, China\n",
      "COMMENT     ##Assembly-Data-START##\n",
      "            Sequencing Technology :: Sanger dideoxy sequencing\n",
      "            ##Assembly-Data-END##\n",
      "FEATURES             Location/Qualifiers\n",
      "     source          1..321\n",
      "                     /organism=\"Mus musculus\"\n",
      "                     /mol_type=\"mRNA\"\n",
      "                     /db_xref=\"taxon:10090\"\n",
      "                     /clone=\"15G9/10D2\"\n",
      "                     /cell_line=\"SP2/0-derived hybridoma 15G9/10D2\"\n",
      "                     /cell_type=\"hybridoma\"\n",
      "     CDS             <1..>321\n",
      "                     /codon_start=1\n",
      "                     /product=\"anti-SARS-CoV-2 spike protein immunoglobulin\n",
      "                     light chain variable region\"\n",
      "                     /protein_id=\"QYU59157.1\"\n",
      "                     /translation=\"DIVLTQSPASLAVSLGQRATISYRASKSVSTSGYSYMHWNQQKP\n",
      "                     GQPPRLLIYLVSNLESGVPARFSGSGSGTDFTLNIHPVEEEDAATYYCQHIRELTRSE\n",
      "                     GGPSW\"\n",
      "ORIGIN      \n",
      "        1 gacattgtgc tgacacagtc tcctgcttcc ttagctgtat ctctggggca gagggccacc\n",
      "       61 atctcataca gggccagcaa aagtgtcagt acatctggct atagttatat gcactggaac\n",
      "      121 caacagaaac caggacagcc acccagactc ctcatctatc ttgtatccaa cctagaatct\n",
      "      181 ggggtccctg ccaggttcag tggcagtggg tctgggacag acttcaccct caacatccat\n",
      "      241 cctgtggagg aggaggatgc tgcaacctat tactgtcagc acattaggga gcttacacgt\n",
      "      301 tcggaggggg gaccaagctg g\n",
      "//\n",
      "\n",
      "\n"
     ]
    }
   ],
   "source": [
    "#get more infomrtion for each entry\n",
    "handle = Entrez.esearch(db='nucleotide', term='anti-sars-cov-2[All Fields] AND immunoglobulin[All Fields]', retmax='10')\n",
    "record = Entrez.read(handle)\n",
    "\n",
    "genbank_entries_2 = []\n",
    "\n",
    "for ID in record['IdList']:\n",
    "    genbank_entries_2.append(Entrez.efetch(db=\"nucleotide\", id=ID, rettype=\"gb\", retmode=\"text\").read())\n",
    "\n",
    "print(genbank_entries_2[0])"
   ]
  },
  {
   "cell_type": "code",
   "execution_count": null,
   "metadata": {},
   "outputs": [],
   "source": [
    "\n"
   ]
  },
  {
   "cell_type": "code",
   "execution_count": null,
   "metadata": {},
   "outputs": [],
   "source": [
    " "
   ]
  },
  {
   "cell_type": "code",
   "execution_count": null,
   "metadata": {},
   "outputs": [],
   "source": []
  },
  {
   "cell_type": "code",
   "execution_count": null,
   "metadata": {},
   "outputs": [],
   "source": []
  }
 ],
 "metadata": {
  "interpreter": {
   "hash": "f5cb82b301b87eef88325f480de257324ba8b611cc1a51609875e0120daba8a9"
  },
  "kernelspec": {
   "display_name": "Python 3.9.7 64-bit ('auto-db-pipeline': conda)",
   "language": "python",
   "name": "python3"
  },
  "language_info": {
   "codemirror_mode": {
    "name": "ipython",
    "version": 3
   },
   "file_extension": ".py",
   "mimetype": "text/x-python",
   "name": "python",
   "nbconvert_exporter": "python",
   "pygments_lexer": "ipython3",
   "version": "3.9.7"
  },
  "orig_nbformat": 4
 },
 "nbformat": 4,
 "nbformat_minor": 2
}
