{
 "cells": [
  {
   "cell_type": "code",
   "execution_count": 137,
   "metadata": {},
   "outputs": [],
   "source": [
    "from Bio import Entrez\n",
    "from Bio import SeqIO\n",
    "import pandas as pd\n",
    "import copy\n",
    "\n",
    "Entrez.email = \"fabian.spoendlin@exeter.ox.ac.uk\"\n",
    "\n",
    "with open('CoV-AbDab_181021.csv', 'r') as f:\n",
    "    CovAbDab = pd.read_csv(f)   "
   ]
  },
  {
   "cell_type": "code",
   "execution_count": null,
   "metadata": {},
   "outputs": [],
   "source": [
    "handle = Entrez.efetch(db='pubmed', id='32571838')\n",
    "record = handle.read()\n"
   ]
  },
  {
   "cell_type": "code",
   "execution_count": null,
   "metadata": {},
   "outputs": [],
   "source": [
    "related = Entrez.read(Entrez.elink(db='protein',dbfrom='pubmed', id='32571838'))\n",
    "for linksetdb in related[0][\"LinkSetDb\"]:\n",
    "    print(linksetdb[\"DbTo\"], linksetdb[\"LinkName\"], len(linksetdb[\"Link\"]))\n"
   ]
  },
  {
   "cell_type": "code",
   "execution_count": null,
   "metadata": {},
   "outputs": [],
   "source": [
    "related = Entrez.read(Entrez.elink(db='nucleotide',dbfrom='pubmed', id='32571838'))\n",
    "for linksetdb in related[0][\"LinkSetDb\"]:\n",
    "    print(linksetdb[\"DbTo\"], linksetdb[\"LinkName\"], len(linksetdb[\"Link\"]))\n",
    "related[0]"
   ]
  },
  {
   "cell_type": "code",
   "execution_count": null,
   "metadata": {},
   "outputs": [],
   "source": []
  },
  {
   "cell_type": "code",
   "execution_count": null,
   "metadata": {},
   "outputs": [],
   "source": []
  },
  {
   "cell_type": "code",
   "execution_count": null,
   "metadata": {},
   "outputs": [],
   "source": []
  },
  {
   "cell_type": "code",
   "execution_count": null,
   "metadata": {},
   "outputs": [],
   "source": []
  },
  {
   "cell_type": "code",
   "execution_count": null,
   "metadata": {},
   "outputs": [],
   "source": []
  },
  {
   "cell_type": "code",
   "execution_count": 44,
   "metadata": {},
   "outputs": [],
   "source": [
    "\n",
    "\n"
   ]
  },
  {
   "cell_type": "code",
   "execution_count": 134,
   "metadata": {},
   "outputs": [],
   "source": [
    "#search nucleotides and check how many of the sequences are in Covab Dab\n",
    "handle = Entrez.esearch(db='nucleotide', term='anti-sars-cov-2[All Fields] AND immunoglobulin[All Fields]', retmax='50')\n",
    "record = Entrez.read(handle)\n",
    "\n",
    "nucleotides = []\n",
    "\n",
    "for ID in record['IdList']:\n",
    "    nucelotide = Entrez.efetch(db=\"nucleotide\", id=ID, rettype=\"gb\", retmode=\"text\")\n",
    "    nucelotide_formated = SeqIO.read(nucelotide,'genbank')\n",
    "    nucleotides.append(nucelotide_formated)\n"
   ]
  },
  {
   "cell_type": "code",
   "execution_count": 135,
   "metadata": {},
   "outputs": [
    {
     "name": "stdout",
     "output_type": "stream",
     "text": [
      "17 50\n"
     ]
    }
   ],
   "source": [
    "summary_n = []\n",
    "\n",
    "for entry in nucleotides:\n",
    "\n",
    "    lenght_sequence = len(entry.seq)\n",
    "    remove_bases = lenght_sequence % 3\n",
    "    if remove_bases == 0:\n",
    "        aa_seq = str(entry.seq.translate()) # problems if nucleotide sequence is not in correct frame\n",
    "    else:\n",
    "        aa_seq = str(entry.seq[:-remove_bases].translate())\n",
    "\n",
    "    containes = []\n",
    "    for VH in CovAbDab['VH or VHH']:\n",
    "        if VH in aa_seq:\n",
    "            containes.append('heavy chain')\n",
    "    for VL in CovAbDab['VL']:\n",
    "        if str(VL) in aa_seq: # nan in VL that is formated as float\n",
    "            containes.append('light chain')\n",
    "    \n",
    "    if 'heavy chain' in containes:\n",
    "        summary_n.append('heavy chain')\n",
    "        \n",
    "    elif 'light chain' in containes:\n",
    "        summary_n.append('light chain') \n",
    "\n",
    "    else:\n",
    "        summary_n.append('not in covab-dab')\n",
    "        \n",
    "print(summary_n.count('not in covab-dab'),len(summary_n))\n"
   ]
  },
  {
   "cell_type": "code",
   "execution_count": 119,
   "metadata": {},
   "outputs": [
    {
     "name": "stderr",
     "output_type": "stream",
     "text": [
      "/Users/fabian/miniconda3/envs/auto-db-pipeline/lib/python3.9/site-packages/Bio/GenBank/__init__.py:1143: BiopythonParserWarning: Dropping bond qualifier in feature location\n",
      "  warnings.warn(\n"
     ]
    }
   ],
   "source": [
    "#search proteins and check how many of the sequences are in Covab Dab\n",
    "handle = Entrez.esearch(db='protein', term='anti-sars-cov-2[All Fields] AND immunoglobulin[All Fields]', retmax='50')\n",
    "record = Entrez.read(handle)\n",
    "\n",
    "proteins = []\n",
    "\n",
    "for ID in record['IdList']:\n",
    "    protein = Entrez.efetch(db=\"protein\", id=ID, rettype=\"gb\", retmode=\"text\")\n",
    "    protein_formated = SeqIO.read(protein,'genbank')\n",
    "    proteins.append(protein_formated)"
   ]
  },
  {
   "cell_type": "code",
   "execution_count": 131,
   "metadata": {},
   "outputs": [
    {
     "name": "stdout",
     "output_type": "stream",
     "text": [
      "8 50\n"
     ]
    }
   ],
   "source": [
    "summary_p = []\n",
    "\n",
    "for entry in proteins:\n",
    "\n",
    "    aa_seq = str(entry.seq)\n",
    "\n",
    "    containes = []\n",
    "    for VH in CovAbDab['VH or VHH']:\n",
    "        if VH in aa_seq:\n",
    "            containes.append('heavy chain')\n",
    "    for VL in CovAbDab['VL']:\n",
    "        if str(VL) in aa_seq: # nan in VL that is formated as float\n",
    "            containes.append('light chain')\n",
    "    \n",
    "    if 'heavy chain' in containes:\n",
    "        summary_p.append('heavy chain')\n",
    "        \n",
    "    elif 'light chain' in containes:\n",
    "        summary_p.append('light chain') \n",
    "\n",
    "    else:\n",
    "        summary_p.append('not in covab-dab')\n",
    "\n",
    "print(summary_p.count('not in covab-dab'),len(summary_p))"
   ]
  },
  {
   "cell_type": "code",
   "execution_count": 136,
   "metadata": {},
   "outputs": [
    {
     "name": "stdout",
     "output_type": "stream",
     "text": [
      "50 50\n",
      "50 50\n"
     ]
    },
    {
     "name": "stderr",
     "output_type": "stream",
     "text": [
      "/Users/fabian/miniconda3/envs/auto-db-pipeline/lib/python3.9/site-packages/Bio/Seq.py:2979: BiopythonWarning: Partial codon, len(sequence) not a multiple of three. Explicitly trim the sequence or add trailing N before translation. This may become an error in future.\n",
      "  warnings.warn(\n"
     ]
    }
   ],
   "source": [
    "#nucelotide and protein database contains sequence of whole chain not just VL and VH, thus this comparison does not work\n",
    "summary_2_n = []\n",
    "\n",
    "for entry in nucleotides:\n",
    "\n",
    "    aa_seq = str(entry.seq.translate())\n",
    "   \n",
    "    if aa_seq in CovAbDab['VH or VHH']:\n",
    "        summary_2_n.append('heavy chain')\n",
    "\n",
    "    elif aa_seq in str(CovAbDab['VL']):\n",
    "        summary_2_n.append('light chain') \n",
    "\n",
    "    else:\n",
    "        summary_2_n.append('not in covab-dab')\n",
    "\n",
    "print(summary_2_n.count('not in covab-dab'),len(summary_2_n))\n",
    "\n",
    "\n",
    "summary_2_p = []\n",
    "\n",
    "for entry in proteins:\n",
    "\n",
    "    aa_seq = str(entry.seq)\n",
    "   \n",
    "    if aa_seq in CovAbDab['VH or VHH']:\n",
    "        summary_2_p.append('heavy chain')\n",
    "\n",
    "    elif aa_seq in str(CovAbDab['VL']):\n",
    "        summary_2_p.append('light chain') \n",
    "\n",
    "    else:\n",
    "        summary_2_p.append('not in covab-dab')\n",
    "\n",
    "print(summary_2_p.count('not in covab-dab'),len(summary_2_p))"
   ]
  },
  {
   "cell_type": "code",
   "execution_count": 173,
   "metadata": {},
   "outputs": [],
   "source": [
    "CovAbDab_stats = copy.deepcopy(CovAbDab)\n",
    "CovAbDab_stats['VH_found'] = 0\n",
    "CovAbDab_stats['VL_found'] = 0"
   ]
  },
  {
   "cell_type": "code",
   "execution_count": 170,
   "metadata": {},
   "outputs": [
    {
     "name": "stderr",
     "output_type": "stream",
     "text": [
      "/Users/fabian/miniconda3/envs/auto-db-pipeline/lib/python3.9/site-packages/Bio/GenBank/__init__.py:1143: BiopythonParserWarning: Dropping bond qualifier in feature location\n",
      "  warnings.warn(\n"
     ]
    }
   ],
   "source": [
    "#search proteins and check how many of the sequences are in Covab Dab\n",
    "handle = Entrez.esearch(db='protein', term='anti-sars-cov-2[All Fields] AND immunoglobulin[All Fields]', retmax='50')\n",
    "record = Entrez.read(handle)\n",
    "\n",
    "proteins = []\n",
    "\n",
    "for ID in record['IdList']:\n",
    "    protein = Entrez.efetch(db=\"protein\", id=ID, rettype=\"gb\", retmode=\"text\")\n",
    "    protein_formated = SeqIO.read(protein,'genbank')\n",
    "    proteins.append(protein_formated)"
   ]
  },
  {
   "cell_type": "code",
   "execution_count": 239,
   "metadata": {},
   "outputs": [],
   "source": [
    "sequences_not_in_covabdab = 0\n",
    "\n",
    "# loop throught covab dab entries\n",
    "for i in range(len(CovAbDab_stats)):\n",
    "\n",
    "    # for each covab dab entry loop throught the proteins\n",
    "    for entry in proteins:\n",
    "        \n",
    "        #seq to string\n",
    "        aa_seq = str(entry.seq)\n",
    "    \n",
    "        # is VH of covab dab entry in seq\n",
    "        if CovAbDab_stats.iloc[i,8] in aa_seq:\n",
    "            CovAbDab_stats.iloc[i,-2] = CovAbDab_stats.iloc[i,-2] + 1\n",
    "\n",
    "        # is VL of covab dab entry in seq\n",
    "        if str(CovAbDab_stats.iloc[i,9]) in aa_seq:\n",
    "            CovAbDab_stats.iloc[i,-1] = CovAbDab_stats.iloc[i,-1] + 1\n"
   ]
  },
  {
   "cell_type": "code",
   "execution_count": 240,
   "metadata": {},
   "outputs": [],
   "source": [
    "#CovAbDab_stats.loc[(CovAbDab_stats['VH_found'] > 9)]"
   ]
  },
  {
   "cell_type": "code",
   "execution_count": 184,
   "metadata": {},
   "outputs": [
    {
     "name": "stdout",
     "output_type": "stream",
     "text": [
      "2396\n",
      "487\n"
     ]
    }
   ],
   "source": [
    "print(sum(CovAbDab_stats['VH_found']))\n",
    "print(len(CovAbDab_stats.loc[(CovAbDab_stats['VH_found'] > 0)]))"
   ]
  },
  {
   "cell_type": "code",
   "execution_count": 227,
   "metadata": {},
   "outputs": [
    {
     "name": "stdout",
     "output_type": "stream",
     "text": [
      "119\n",
      "127\n"
     ]
    }
   ],
   "source": [
    "print(len(proteins[17].seq))\n",
    "print(len(CovAbDab_stats.iloc[2345,8]))"
   ]
  },
  {
   "cell_type": "code",
   "execution_count": null,
   "metadata": {},
   "outputs": [],
   "source": [
    "# issue: there are two many hits for when sequences from protein are compared with covab dab\n",
    "# this is likely because light and heavy chains are compared individually\n",
    "# light and heavy chains might occur several times in covab dab but the combinations are unique\n",
    "# --> try to figure out a way how the corresponding Vh and VL sequences from genbank can be identified and combined\n",
    "# then do the same comparison again"
   ]
  },
  {
   "cell_type": "code",
   "execution_count": null,
   "metadata": {},
   "outputs": [],
   "source": []
  },
  {
   "cell_type": "code",
   "execution_count": null,
   "metadata": {},
   "outputs": [],
   "source": []
  },
  {
   "cell_type": "code",
   "execution_count": null,
   "metadata": {},
   "outputs": [],
   "source": []
  },
  {
   "cell_type": "code",
   "execution_count": 228,
   "metadata": {},
   "outputs": [
    {
     "name": "stdout",
     "output_type": "stream",
     "text": [
      "LOCUS       MZ751050                 321 bp    mRNA    linear   ROD 17-AUG-2021\n",
      "DEFINITION  Mus musculus clone 15G9/10D2 anti-SARS-CoV-2 spike protein\n",
      "            immunoglobulin light chain variable region mRNA, partial cds.\n",
      "ACCESSION   MZ751050\n",
      "VERSION     MZ751050.1\n",
      "KEYWORDS    .\n",
      "SOURCE      Mus musculus (house mouse)\n",
      "  ORGANISM  Mus musculus\n",
      "            Eukaryota; Metazoa; Chordata; Craniata; Vertebrata; Euteleostomi;\n",
      "            Mammalia; Eutheria; Euarchontoglires; Glires; Rodentia; Myomorpha;\n",
      "            Muroidea; Muridae; Murinae; Mus; Mus.\n",
      "REFERENCE   1  (bases 1 to 321)\n",
      "  AUTHORS   Zhang,G., Wang,A. and Jiang,M.\n",
      "  TITLE     Epitope profiling reveals the critical antigenic determinants in\n",
      "            SARSCoV-2 RBD-based antigen\n",
      "  JOURNAL   Unpublished\n",
      "REFERENCE   2  (bases 1 to 321)\n",
      "  AUTHORS   Zhang,G., Wang,A. and Jiang,M.\n",
      "  TITLE     Direct Submission\n",
      "  JOURNAL   Submitted (09-AUG-2021) College of Animal Science and Veterinary\n",
      "            Medicine, Henan Agricultural University, No. 63, Zhengzhou\n",
      "            Agricultural Road, Zhengzhou, Henan 450002, China\n",
      "COMMENT     ##Assembly-Data-START##\n",
      "            Sequencing Technology :: Sanger dideoxy sequencing\n",
      "            ##Assembly-Data-END##\n",
      "FEATURES             Location/Qualifiers\n",
      "     source          1..321\n",
      "                     /organism=\"Mus musculus\"\n",
      "                     /mol_type=\"mRNA\"\n",
      "                     /db_xref=\"taxon:10090\"\n",
      "                     /clone=\"15G9/10D2\"\n",
      "                     /cell_line=\"SP2/0-derived hybridoma 15G9/10D2\"\n",
      "                     /cell_type=\"hybridoma\"\n",
      "     CDS             <1..>321\n",
      "                     /codon_start=1\n",
      "                     /product=\"anti-SARS-CoV-2 spike protein immunoglobulin\n",
      "                     light chain variable region\"\n",
      "                     /protein_id=\"QYU59157.1\"\n",
      "                     /translation=\"DIVLTQSPASLAVSLGQRATISYRASKSVSTSGYSYMHWNQQKP\n",
      "                     GQPPRLLIYLVSNLESGVPARFSGSGSGTDFTLNIHPVEEEDAATYYCQHIRELTRSE\n",
      "                     GGPSW\"\n",
      "ORIGIN      \n",
      "        1 gacattgtgc tgacacagtc tcctgcttcc ttagctgtat ctctggggca gagggccacc\n",
      "       61 atctcataca gggccagcaa aagtgtcagt acatctggct atagttatat gcactggaac\n",
      "      121 caacagaaac caggacagcc acccagactc ctcatctatc ttgtatccaa cctagaatct\n",
      "      181 ggggtccctg ccaggttcag tggcagtggg tctgggacag acttcaccct caacatccat\n",
      "      241 cctgtggagg aggaggatgc tgcaacctat tactgtcagc acattaggga gcttacacgt\n",
      "      301 tcggaggggg gaccaagctg g\n",
      "//\n",
      "\n",
      "\n"
     ]
    }
   ],
   "source": [
    "#get more infomrtion for each entry\n",
    "handle = Entrez.esearch(db='nucleotide', term='anti-sars-cov-2[All Fields] AND immunoglobulin[All Fields]', retmax='10')\n",
    "record = Entrez.read(handle)\n",
    "\n",
    "genbank_entries_2 = []\n",
    "\n",
    "for ID in record['IdList']:\n",
    "    genbank_entries_2.append(Entrez.efetch(db=\"nucleotide\", id=ID, rettype=\"gb\", retmode=\"text\").read())\n",
    "\n",
    "print(genbank_entries_2[0])"
   ]
  },
  {
   "cell_type": "code",
   "execution_count": null,
   "metadata": {},
   "outputs": [],
   "source": [
    "\n"
   ]
  },
  {
   "cell_type": "code",
   "execution_count": null,
   "metadata": {},
   "outputs": [],
   "source": [
    " "
   ]
  },
  {
   "cell_type": "code",
   "execution_count": null,
   "metadata": {},
   "outputs": [],
   "source": []
  },
  {
   "cell_type": "code",
   "execution_count": null,
   "metadata": {},
   "outputs": [],
   "source": []
  }
 ],
 "metadata": {
  "interpreter": {
   "hash": "f5cb82b301b87eef88325f480de257324ba8b611cc1a51609875e0120daba8a9"
  },
  "kernelspec": {
   "display_name": "Python 3.9.7 64-bit ('auto-db-pipeline': conda)",
   "language": "python",
   "name": "python3"
  },
  "language_info": {
   "codemirror_mode": {
    "name": "ipython",
    "version": 3
   },
   "file_extension": ".py",
   "mimetype": "text/x-python",
   "name": "python",
   "nbconvert_exporter": "python",
   "pygments_lexer": "ipython3",
   "version": "3.9.7"
  },
  "orig_nbformat": 4
 },
 "nbformat": 4,
 "nbformat_minor": 2
}
