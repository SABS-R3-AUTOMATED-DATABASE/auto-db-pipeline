{
 "cells": [
  {
   "cell_type": "code",
   "execution_count": 1,
   "metadata": {},
   "outputs": [
    {
     "name": "stderr",
     "output_type": "stream",
     "text": [
      "/Users/fabian/miniconda3/envs/auto-db-pipeline/lib/python3.9/site-packages/Bio/SubsMat/__init__.py:126: BiopythonDeprecationWarning: Bio.SubsMat has been deprecated, and we intend to remove it in a future release of Biopython. As an alternative, please consider using Bio.Align.substitution_matrices as a replacement, and contact the Biopython developers if you still need the Bio.SubsMat module.\n",
      "  warnings.warn(\n"
     ]
    }
   ],
   "source": [
    "from ABDB import database as db\n",
    "import json\n",
    "import re"
   ]
  },
  {
   "cell_type": "code",
   "execution_count": 40,
   "metadata": {},
   "outputs": [],
   "source": [
    "def get_paired_sequences_from_sabdab(pdb):\n",
    "    seqs = dict()\n",
    "    p = db.fetch(pdb)\n",
    "    if p is not None:\n",
    "        for fab in p.fabs:\n",
    "            numb = fab.get_numbering()\n",
    "            seqs[pdb + \"_\" + \"\".join(numb.keys())] = {x:\"\".join(numb[x].values()) for x in numb}\n",
    "        return seqs\n",
    "    return None"
   ]
  },
  {
   "cell_type": "code",
   "execution_count": 2,
   "metadata": {},
   "outputs": [],
   "source": [
    "a = False\n",
    "b = False\n",
    "\n",
    "c = True\n",
    "\n",
    "if (a or b) and c:\n",
    "    print('hi')"
   ]
  },
  {
   "cell_type": "code",
   "execution_count": null,
   "metadata": {},
   "outputs": [],
   "source": []
  },
  {
   "cell_type": "code",
   "execution_count": null,
   "metadata": {},
   "outputs": [],
   "source": []
  },
  {
   "cell_type": "code",
   "execution_count": null,
   "metadata": {},
   "outputs": [],
   "source": []
  },
  {
   "cell_type": "code",
   "execution_count": 55,
   "metadata": {},
   "outputs": [],
   "source": [
    "def get_paired_sequences_from_sabdab(pdb):\n",
    "    seqs = dict()\n",
    "    n = 1\n",
    "    p = db.fetch(pdb)\n",
    "    if p is not None:\n",
    "        for fab in p.fabs:\n",
    "            numb = fab.get_numbering()\n",
    "            seqs['H'+str(n)] = \"\".join(numb['H'].values())\n",
    "            try:\n",
    "                seqs['L'+str(n)] = \"\".join(numb['L'].values())\n",
    "            except KeyError:\n",
    "                return None\n",
    "            n+=1\n",
    "        return seqs\n",
    "    return None"
   ]
  },
  {
   "cell_type": "code",
   "execution_count": 70,
   "metadata": {},
   "outputs": [],
   "source": []
  },
  {
   "cell_type": "code",
   "execution_count": 7,
   "metadata": {},
   "outputs": [],
   "source": [
    "with open('data/AB_unpaired.json', 'r') as infile:\n",
    "    protein_entries = json.load(infile)"
   ]
  },
  {
   "cell_type": "code",
   "execution_count": 107,
   "metadata": {},
   "outputs": [],
   "source": [
    "pdb_id_regex =  r\"\"\"\n",
    "                (\n",
    "                    [1-9]  # first character of PDB is 1-9\n",
    "                    [A-Z0-9]{3}  # remaining 3 characters of PDB are alphanumeric\n",
    "                )\n",
    "                [^A-Z0-9]  # no alphanumeric character after, but possibly _ for chain\n",
    "                \"\"\"\n",
    "\n",
    "pattern = re.compile(pdb_id_regex, flags=re.IGNORECASE | re.VERBOSE)\n",
    "\n",
    "def get_chains_from_sabdab(entry):\n",
    "\n",
    "    seq = entry['GBSeq_sequence']\n",
    "    chain = entry['chain']\n",
    "    id = entry['GBSeq_locus']\n",
    "\n",
    "    if pattern.match(id):\n",
    "\n",
    "        pdb_id = id.split('_')[0]\n",
    "        p = db.fetch(pdb_id)\n",
    "\n",
    "        if p is not None:\n",
    "        \n",
    "            if chain == 'H':\n",
    "                for fab in p.fabs:\n",
    "                    numb = fab.get_numbering()\n",
    "                    if \"\".join(numb['H'].values()) in seq.upper():\n",
    "\n",
    "                        try:\n",
    "                            H = \"\".join(numb['H'].values())\n",
    "                            L = \"\".join(numb['L'].values())\n",
    "                            return (H, L)\n",
    "                        except KeyError:\n",
    "                            return None\n",
    "\n",
    "\n",
    "            if chain == 'L':\n",
    "                for fab in p.fabs:\n",
    "                    numb = fab.get_numbering()\n",
    "                    if \"\".join(numb['L'].values()) in seq.upper():\n",
    "\n",
    "                        try:\n",
    "                            H = \"\".join(numb['H'].values())\n",
    "                            L = \"\".join(numb['L'].values())\n",
    "                            return (H, L)\n",
    "                        except KeyError:\n",
    "                            return None\n",
    "\n",
    "        else:\n",
    "            return None\n",
    "    else:\n",
    "        return None\n",
    "\n",
    "def get_paired_sequences_from_sabdab():\n",
    "    pdb_pairings = []\n",
    "    unparied = []\n",
    "    \n",
    "    for group in protein_entries:\n",
    "        unparied_g = []\n",
    "        for entry in group:\n",
    "            result = get_chains_from_sabdab(entry)\n",
    "            if result is not None:\n",
    "                entry['pdb_hc'] = result[0]\n",
    "                entry['pdb_lc'] = result[1]\n",
    "                pdb_pairings.append(entry)\n",
    "    \n",
    "            else:\n",
    "                unparied_g.append(entry)\n",
    "    \n",
    "        if unparied_g:\n",
    "            unparied.append(unparied_g)\n",
    "\n",
    "def pair_vh_vl_pdb():\n",
    "    heavy_chains = []\n",
    "    light_chains = []\n",
    "    for pairing in pdb_pairings:\n",
    "        if pairing['chain'] == 'H':\n",
    "            heavy_chains.append(pairing)\n",
    "        elif pairing['chain'] == 'L':\n",
    "            light_chains.append(pairing)\n",
    "    \n",
    "    paired_list = []\n",
    "    unpaired_hcs = []\n",
    "\n",
    "\n",
    "    for hc in heavy_chains:\n",
    "        paired = False\n",
    "                    \n",
    "        target_lc = hc['pdb_lc']\n",
    "    \n",
    "    \n",
    "        for lc in light_chains:                   \n",
    "            target_hc = lc['pdb_hc']\n",
    "    \n",
    "            if (target_lc in lc['GBSeq_sequence'].upper() and\n",
    "                    target_hc in hc['GBSeq_sequence'].upper()):\n",
    "                \n",
    "                paired_list.append({'heavy_chain': hc,\n",
    "                               'light_chain': lc})\n",
    "    \n",
    "                paired = True                    \n",
    "                light_chains.remove(lc)           \n",
    "                break\n",
    "            \n",
    "            \n",
    "        if not paired:\n",
    "            unpaired_hcs.append(hc)    \n",
    "\n",
    "    for unpaired_hc in unpaired_hcs:\n",
    "        paired_list.append({'heavy_chain': unpaired_hc,\n",
    "                            'light_chain': {'GBSeq_sequence': unpaired_hc['pdb_lc']}})\n",
    "\n",
    "    for unpaired_lc in light_chains:\n",
    "        paired_list.append({'heavy_chain': {'GBSeq_sequence': unpaired_lc['pdb_hc']},\n",
    "                            'light_chain': unpaired_lc})\n",
    "\n",
    "            \n"
   ]
  },
  {
   "cell_type": "code",
   "execution_count": null,
   "metadata": {},
   "outputs": [],
   "source": []
  },
  {
   "cell_type": "code",
   "execution_count": 147,
   "metadata": {},
   "outputs": [],
   "source": [
    "\n",
    "    \n"
   ]
  },
  {
   "cell_type": "code",
   "execution_count": 148,
   "metadata": {},
   "outputs": [
    {
     "data": {
      "text/plain": [
       "14"
      ]
     },
     "execution_count": 148,
     "metadata": {},
     "output_type": "execute_result"
    }
   ],
   "source": []
  },
  {
   "cell_type": "code",
   "execution_count": 149,
   "metadata": {},
   "outputs": [],
   "source": [
    "\n",
    "\n",
    "\n"
   ]
  },
  {
   "cell_type": "code",
   "execution_count": 150,
   "metadata": {},
   "outputs": [
    {
     "data": {
      "text/plain": [
       "12"
      ]
     },
     "execution_count": 150,
     "metadata": {},
     "output_type": "execute_result"
    }
   ],
   "source": [
    "len(paired_list)"
   ]
  },
  {
   "cell_type": "code",
   "execution_count": 151,
   "metadata": {},
   "outputs": [
    {
     "data": {
      "text/plain": [
       "2"
      ]
     },
     "execution_count": 151,
     "metadata": {},
     "output_type": "execute_result"
    }
   ],
   "source": [
    "len(unpaired_hcs)"
   ]
  },
  {
   "cell_type": "code",
   "execution_count": 152,
   "metadata": {},
   "outputs": [
    {
     "data": {
      "text/plain": [
       "0"
      ]
     },
     "execution_count": 152,
     "metadata": {},
     "output_type": "execute_result"
    }
   ],
   "source": [
    "len(light_chains)"
   ]
  },
  {
   "cell_type": "code",
   "execution_count": 153,
   "metadata": {},
   "outputs": [],
   "source": []
  },
  {
   "cell_type": "code",
   "execution_count": 154,
   "metadata": {},
   "outputs": [
    {
     "data": {
      "text/plain": [
       "14"
      ]
     },
     "execution_count": 154,
     "metadata": {},
     "output_type": "execute_result"
    }
   ],
   "source": [
    "len(paired_list)"
   ]
  },
  {
   "cell_type": "code",
   "execution_count": 156,
   "metadata": {},
   "outputs": [
    {
     "data": {
      "text/plain": [
       "{'heavy_chain': {'GBSeq_locus': '2GHW_B',\n",
       "  'GBSeq_moltype': 'AA',\n",
       "  'GBSeq_update-date': '01-DEC-2020',\n",
       "  'GBSeq_create-date': '25-OCT-2006',\n",
       "  'GBSeq_definition': 'Chain B, anti-sars scFv antibody, 80R',\n",
       "  'GBSeq_accession-version': '2GHW_B',\n",
       "  'GBSeq_source': 'Homo sapiens (human)',\n",
       "  'GBSeq_sequence': 'maevqlvqsgggvvqpgkslrlscaasgfafssyamhwvrqapgkglewvavisydgsnkyyadsvkgrftisrdnskntlylqmnslraedtavyycardrsyyldywgqgtlvtvssggggsggggsggggsettltqspatlslspgeratlscrasqsvrsnlawyqqkpgqaprpliydastratgipdrfsgsgsgtdftltisrlepedfavyycqqrsnwpptfgqgtkvevksglvpr',\n",
       "  'GBSeq_references': [{'GBReference_authors': ['Hwang,W.C.',\n",
       "     'Lin,Y.',\n",
       "     'Santelli,E.',\n",
       "     'Sui,J.',\n",
       "     'Jaroszewski,L.',\n",
       "     'Stec,B.',\n",
       "     'Farzan,M.',\n",
       "     'Marasco,W.A.',\n",
       "     'Liddington,R.C.'],\n",
       "    'GBReference_title': 'Structural basis of neutralization by a human anti-severe acute respiratory syndrome spike protein antibody, 80R',\n",
       "    'GBReference_journal': 'J. Biol. Chem. 281 (45), 34610-34616 (2006)',\n",
       "    'GBReference_xref': [{'GBXref_dbname': 'doi',\n",
       "      'GBXref_id': '10.1074/jbc.M603275200'}]}],\n",
       "  'chain': 'H',\n",
       "  'antigen': 'SARS-CoV',\n",
       "  'fragment_id': 'ANTI-SARS',\n",
       "  'antibody_type': 'antibody',\n",
       "  'pdb_hc': 'EVQLVQSGGGVVQPGKSLRLSCAASGFAFSSYAMHWVRQAPGKGLEWVAVISYDGSNKYYADSVKGRFTISRDNSKNTLYLQMNSLRAEDTAVYYCARDRSYYLDYWGQGTLVTVSS',\n",
       "  'pdb_lc': 'TTLTQSPATLSLSPGERATLSCRASQSVRSNLAWYQQKPGQAPRPLIYDASTRATGIPDRFSGSGSGTDFTLTISRLEPEDFAVYYCQQRSNWPPTFGQGTKVEVK'},\n",
       " 'light_chain': {'GBSeq_sequence': 'TTLTQSPATLSLSPGERATLSCRASQSVRSNLAWYQQKPGQAPRPLIYDASTRATGIPDRFSGSGSGTDFTLTISRLEPEDFAVYYCQQRSNWPPTFGQGTKVEVK'}}"
      ]
     },
     "execution_count": 156,
     "metadata": {},
     "output_type": "execute_result"
    }
   ],
   "source": [
    "paired_list[-1]"
   ]
  },
  {
   "cell_type": "code",
   "execution_count": null,
   "metadata": {},
   "outputs": [],
   "source": []
  },
  {
   "cell_type": "code",
   "execution_count": null,
   "metadata": {},
   "outputs": [],
   "source": []
  },
  {
   "cell_type": "code",
   "execution_count": null,
   "metadata": {},
   "outputs": [],
   "source": []
  },
  {
   "cell_type": "code",
   "execution_count": 45,
   "metadata": {},
   "outputs": [
    {
     "data": {
      "text/plain": [
       "False"
      ]
     },
     "execution_count": 45,
     "metadata": {},
     "output_type": "execute_result"
    }
   ],
   "source": [
    "\n",
    "\n",
    "\n",
    "bool(pattern.match(string))"
   ]
  },
  {
   "cell_type": "code",
   "execution_count": null,
   "metadata": {},
   "outputs": [],
   "source": []
  }
 ],
 "metadata": {
  "interpreter": {
   "hash": "f5cb82b301b87eef88325f480de257324ba8b611cc1a51609875e0120daba8a9"
  },
  "kernelspec": {
   "display_name": "Python 3.9.7 ('auto-db-pipeline')",
   "language": "python",
   "name": "python3"
  },
  "language_info": {
   "codemirror_mode": {
    "name": "ipython",
    "version": 3
   },
   "file_extension": ".py",
   "mimetype": "text/x-python",
   "name": "python",
   "nbconvert_exporter": "python",
   "pygments_lexer": "ipython3",
   "version": "3.9.7"
  },
  "orig_nbformat": 4
 },
 "nbformat": 4,
 "nbformat_minor": 2
}
