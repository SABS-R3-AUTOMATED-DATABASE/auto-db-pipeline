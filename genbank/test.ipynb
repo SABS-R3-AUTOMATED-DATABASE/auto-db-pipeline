{
 "cells": [
  {
   "cell_type": "code",
   "execution_count": 5,
   "metadata": {},
   "outputs": [],
   "source": [
    "import pandas as pd\n",
    "import random\n",
    "from Bio import Entrez\n",
    "import json\n",
    "from http.client import HTTPResponse\n",
    "import http.client\n",
    "http.client.HTTPConnection._http_vsn = 10\n",
    "http.client.HTTPConnection._http_vsn_str = 'HTTP/1.0'\n",
    "import io"
   ]
  },
  {
   "cell_type": "code",
   "execution_count": 20,
   "metadata": {},
   "outputs": [],
   "source": [
    "db = pd.read_csv('data/ab_database2.csv')\n",
    "cov = pd.read_csv('data/CoV-AbDab_090322.csv')\n",
    "cov.fillna('NaN', inplace=True)\n",
    "db.fillna('NaN', inplace=True)"
   ]
  },
  {
   "cell_type": "code",
   "execution_count": 21,
   "metadata": {},
   "outputs": [
    {
     "name": "stdout",
     "output_type": "stream",
     "text": [
      "Sequence pairs found with genbank scraping: 427\n"
     ]
    }
   ],
   "source": [
    "print('Sequence pairs found with genbank scraping:', len(db))"
   ]
  },
  {
   "cell_type": "code",
   "execution_count": 22,
   "metadata": {},
   "outputs": [],
   "source": [
    "# compare sequences in ab_database.csv to covabdab\n",
    "VH_ids_not_found = []\n",
    "VL_ids_not_found = []\n",
    "VH_ids_found = []\n",
    "VL_ids_found = []\n",
    "\n",
    "for i in range(len(db)):\n",
    "    db_entry = db.iloc[i]\n",
    "    VH = db_entry.VH.upper()\n",
    "    VL = db_entry.VL.upper()\n",
    "    VH_id = db_entry.Genbank_protein_id_vh\n",
    "    VL_id = db_entry.Genbank_protein_id_vl\n",
    "\n",
    "    pairing_found = False\n",
    "\n",
    "    for i in range(len(cov)):\n",
    "        cov_entry = cov.iloc[i]\n",
    "        VH_cov = cov_entry.loc['VH or VHH'].upper()\n",
    "        VL_cov = cov_entry.loc['VL'].upper()\n",
    "\n",
    "        if (VH in VH_cov and VL in VL_cov) or (VH_cov in VH and VL_cov in VL) or (VL == 'NaN' and VH_cov in VH) or (VL == 'NaN' and VH_cov == VH):\n",
    "            pairing_found = True\n",
    "            VH_ids_found.append(VH_id)\n",
    "            VL_ids_found.append(VL_id)\n",
    "            break\n",
    "\n",
    "    if not pairing_found:\n",
    "        VH_ids_not_found.append(VH_id)\n",
    "        VL_ids_not_found.append(VL_id)"
   ]
  },
  {
   "cell_type": "code",
   "execution_count": 23,
   "metadata": {},
   "outputs": [
    {
     "name": "stdout",
     "output_type": "stream",
     "text": [
      "Number of sequence pairs in covabdab\n"
     ]
    },
    {
     "data": {
      "text/plain": [
       "356"
      ]
     },
     "execution_count": 23,
     "metadata": {},
     "output_type": "execute_result"
    }
   ],
   "source": [
    "print('Number of sequence pairs in covabdab')\n",
    "len(VL_ids_found)"
   ]
  },
  {
   "cell_type": "code",
   "execution_count": 24,
   "metadata": {},
   "outputs": [
    {
     "name": "stdout",
     "output_type": "stream",
     "text": [
      "Number of sequence pairs not in covabdab\n"
     ]
    },
    {
     "data": {
      "text/plain": [
       "71"
      ]
     },
     "execution_count": 24,
     "metadata": {},
     "output_type": "execute_result"
    }
   ],
   "source": [
    "print('Number of sequence pairs not in covabdab')\n",
    "len(VH_ids_not_found)"
   ]
  },
  {
   "cell_type": "code",
   "execution_count": 25,
   "metadata": {},
   "outputs": [
    {
     "name": "stdout",
     "output_type": "stream",
     "text": [
      "['7E3L_D', '7O7F_H', '6NB4_H', '7W9E_D', '7KKK_F', '6W7Y_A', '7TLY_A', '7M3I_H', '7LKA_E', '7DZY_O', '7LU9_q', '7TN0_M']\n"
     ]
    }
   ],
   "source": [
    "rand_ids_VH = random.sample(VH_ids_not_found, 12)\n",
    "print(rand_ids_VH)"
   ]
  },
  {
   "cell_type": "code",
   "execution_count": 27,
   "metadata": {},
   "outputs": [
    {
     "name": "stdout",
     "output_type": "stream",
     "text": [
      "Chain D, 58G6 heavy chain\n",
      "Potent SARS-CoV-2 neutralizing antibodies with protective efficacy against newly emerged mutational variants\n",
      "Chain H, Fab antibody fragment heavy chain\n",
      "Structural basis of the activation of the CC chemokine receptor 5 by a chemokine agonist\n",
      "Chain H, LCA60 heavy chain\n",
      "Unexpected Receptor Functional Mimicry Elucidates Activation of Coronavirus Fusion\n",
      "Chain D, Anti-H5N1 hemagglutinin monoclonal anitbody H5M9 heavy chain\n",
      "Structural basis for SARS-CoV-2 Delta variant recognition of ACE2 receptor and broadly neutralizing antibodies\n",
      "Chain F, Synthetic nanobody Nb6\n",
      "An ultrapotent synthetic nanobody neutralizes SARS-CoV-2 by stabilizing inactive Spike\n",
      "Chain A, CR3022 Heavy chain\n",
      "Structure and Antigenicity of the SARS-CoV-2 Receptor Binding Domain\n",
      "Chain A, S309 Fab heavy chain\n",
      "Structural basis of SARS-CoV-2 Omicron immune evasion and receptor engagement\n",
      "Chain H, CV2-75 Fab Heavy chain\n",
      "Isolation and characterization of cross-neutralizing coronavirus antibodies from COVID-19+ subjects\n",
      "Chain E, COV107-23 heavy chain\n",
      "Sequence signatures of two IGHV3-53/3-66 public clonotypes to SARS-CoV-2 receptor binding domain\n",
      "Chain O, Fab Heavy chain of enhancing antibody 2490\n",
      "An infectivity-enhancing site on the SARS-CoV-2 spike protein targeted by antibodies\n",
      "Chain q, DH851.3 heavy chain\n",
      "Fab-dimerized glycan-reactive antibodies neutralize HIV and are prevalent in humans and rhesus macaques\n",
      "Chain M, S304 Fab heavy chain\n",
      "Structural basis of SARS-CoV-2 Omicron immune evasion and receptor engagement\n"
     ]
    }
   ],
   "source": [
    "# select 12 random heavy chains that are not in covabdab and print their definition an title\n",
    "Entrez.email = 'fabian.spoendlin@exeter.ox.ac.uk'\n",
    "entries_handle = Entrez.efetch(db='protein', id=rand_ids_VH, rettype=\"gb\", retmode=\"xml\")\n",
    "rand_VH = Entrez.read(entries_handle)\n",
    "\n",
    "for e in rand_VH:\n",
    "    print(e['GBSeq_definition'])\n",
    "    print(e['GBSeq_references'][0]['GBReference_title'])\n",
    "    "
   ]
  },
  {
   "cell_type": "code",
   "execution_count": 28,
   "metadata": {},
   "outputs": [
    {
     "name": "stdout",
     "output_type": "stream",
     "text": [
      "['7N4M_L', '7R8N_P', 'NaN', '7R6X_L', '7S4S_L', '7E8F_E', '7MMO_E', 'NaN', '7KFW_L', '6XCA_L']\n"
     ]
    }
   ],
   "source": [
    "# select 8 random heavy chains that are not in covabdab and print their definition an title\n",
    "rand_ids_VL = random.sample(VL_ids_not_found, 10)\n",
    "print(rand_ids_VL)"
   ]
  },
  {
   "cell_type": "code",
   "execution_count": 29,
   "metadata": {},
   "outputs": [
    {
     "name": "stdout",
     "output_type": "stream",
     "text": [
      "7N4M_L\n",
      "Chain L, WRAIR-2151 antibody Fab light chain\n",
      "Low-dose in vivo protection and neutralization across SARS-CoV-2 variants by monoclonal antibody combinations\n",
      "7R8N_P\n",
      "Chain P, C051 Fab Light Chain\n",
      "Development of potency, breadth and resilience to viral escape mutations in SARS-CoV-2 neutralizing antibodies\n",
      "7R6X_L\n",
      "Chain L, Monoclonal antibody S304 Fab light chain\n",
      "SARS-CoV-2 RBD antibodies that maximize breadth and resistance to escape\n",
      "7S4S_L\n",
      "Chain L, CoV11 light chain\n",
      "Crystal Structure of SARS-CoV-2 S receptor-binding domain (RBD) in complex CoV11 Fab\n",
      "7E8F_E\n",
      "Chain E, L\n",
      "Humoral immune response to circulating SARS-CoV-2 variants elicited by inactivated and RBD-subunit vaccines\n",
      "7MMO_E\n",
      "Chain E, LY-CoV1404 Fab light chain\n",
      "LY-CoV1404 (bebtelovimab) potently neutralizes SARS-CoV-2 variants\n",
      "7KFW_L\n",
      "Chain L, light chain of antibody C1A-B3 Fab\n",
      "Molecular basis for a germline-biased neutralizing antibody response to SARS-CoV-2\n",
      "6XCA_L\n",
      "Chain L, C105 Light Chain\n",
      "Structures of Human Antibodies Bound to SARS-CoV-2 Spike Reveal Common Epitopes and Recurrent Features of Antibodies\n"
     ]
    }
   ],
   "source": [
    "entries_handle = Entrez.efetch(db='protein', id=rand_ids_VL, rettype=\"gb\", retmode=\"xml\")\n",
    "rand_VL = Entrez.read(entries_handle)\n",
    "\n",
    "\n",
    "for e in rand_VL:\n",
    "    print(e['GBSeq_locus'])\n",
    "    print(e['GBSeq_definition'])\n",
    "    print(e['GBSeq_references'][0]['GBReference_title'])"
   ]
  },
  {
   "cell_type": "code",
   "execution_count": null,
   "metadata": {},
   "outputs": [],
   "source": []
  },
  {
   "cell_type": "code",
   "execution_count": 10,
   "metadata": {},
   "outputs": [
    {
     "data": {
      "text/plain": [
       "30488"
      ]
     },
     "execution_count": 10,
     "metadata": {},
     "output_type": "execute_result"
    }
   ],
   "source": [
    "with open('data/protein_handles_30488.json', 'r') as f:\n",
    "    batch1 = json.load(f)\n",
    "\n",
    "len(batch1)"
   ]
  },
  {
   "cell_type": "code",
   "execution_count": 19,
   "metadata": {},
   "outputs": [
    {
     "data": {
      "text/plain": [
       "'mdlfmriftigtvtlkqgeikdatpsdfvratatipiqaslpfgwlivgvallavfqsaskiitlkkrwqlalskgvhfvcnllllfvtvyshlllvaagleapflylyalvyflqsinfvriimrlwlcwkcrsknpllydanyflcwhtncydycipynsvtssivitsgdgttspisehdyqiggytekwesgvkdcvvlhsyftsdyyqlystqlstdtgvehvtffiynkivdepeehvqihtidgssgvvnpvmepiydepttttsvpl'"
      ]
     },
     "execution_count": 19,
     "metadata": {},
     "output_type": "execute_result"
    }
   ],
   "source": [
    "batch1[22304]['GBSeq_sequence']"
   ]
  },
  {
   "cell_type": "code",
   "execution_count": 12,
   "metadata": {},
   "outputs": [
    {
     "data": {
      "text/plain": [
       "1851"
      ]
     },
     "execution_count": 12,
     "metadata": {},
     "output_type": "execute_result"
    }
   ],
   "source": [
    "with open('data/protein_handles2_rest.json', 'r') as f:\n",
    "    batch2 = json.load(f)\n",
    "\n",
    "len(batch2)"
   ]
  },
  {
   "cell_type": "code",
   "execution_count": 13,
   "metadata": {},
   "outputs": [
    {
     "data": {
      "text/plain": [
       "32339"
      ]
     },
     "execution_count": 13,
     "metadata": {},
     "output_type": "execute_result"
    }
   ],
   "source": [
    "comb = batch1 + batch2\n",
    "len(comb)"
   ]
  },
  {
   "cell_type": "code",
   "execution_count": 36,
   "metadata": {},
   "outputs": [
    {
     "data": {
      "text/plain": [
       "779"
      ]
     },
     "execution_count": 36,
     "metadata": {},
     "output_type": "execute_result"
    }
   ],
   "source": [
    "with open('data/protein_handles_from_papers.json', 'r') as f:\n",
    "    prot = json.load(f)\n",
    "\n",
    "len(prot)"
   ]
  },
  {
   "cell_type": "code",
   "execution_count": 38,
   "metadata": {},
   "outputs": [
    {
     "data": {
      "text/plain": [
       "2335"
      ]
     },
     "execution_count": 38,
     "metadata": {},
     "output_type": "execute_result"
    }
   ],
   "source": [
    "with open('data/nucleotide_handles_from_papers.json', 'r') as f:\n",
    "    nt = json.load(f)\n",
    "\n",
    "len(nt)"
   ]
  },
  {
   "cell_type": "code",
   "execution_count": null,
   "metadata": {},
   "outputs": [],
   "source": []
  }
 ],
 "metadata": {
  "interpreter": {
   "hash": "f5cb82b301b87eef88325f480de257324ba8b611cc1a51609875e0120daba8a9"
  },
  "kernelspec": {
   "display_name": "Python 3.9.7 ('auto-db-pipeline')",
   "language": "python",
   "name": "python3"
  },
  "language_info": {
   "codemirror_mode": {
    "name": "ipython",
    "version": 3
   },
   "file_extension": ".py",
   "mimetype": "text/x-python",
   "name": "python",
   "nbconvert_exporter": "python",
   "pygments_lexer": "ipython3",
   "version": "3.9.7"
  },
  "orig_nbformat": 4
 },
 "nbformat": 4,
 "nbformat_minor": 2
}
