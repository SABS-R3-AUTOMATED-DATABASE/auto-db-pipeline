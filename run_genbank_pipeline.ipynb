{
 "cells": [
  {
   "cell_type": "code",
   "execution_count": 2,
   "metadata": {},
   "outputs": [
    {
     "name": "stderr",
     "output_type": "stream",
     "text": [
      "/Users/fabian/miniconda3/envs/auto-db-pipeline/lib/python3.9/site-packages/Bio/SubsMat/__init__.py:126: BiopythonDeprecationWarning: Bio.SubsMat has been deprecated, and we intend to remove it in a future release of Biopython. As an alternative, please consider using Bio.Align.substitution_matrices as a replacement, and contact the Biopython developers if you still need the Bio.SubsMat module.\n",
      "  warnings.warn(\n"
     ]
    }
   ],
   "source": [
    "import time\n",
    "import json\n",
    "import http.client\n",
    "http.client.HTTPConnection._http_vsn = 10\n",
    "http.client.HTTPConnection._http_vsn_str = 'HTTP/1.0'\n",
    "\n",
    "from auto_db_pipeline.genbank.keywords2ids import GenbankSearch\n",
    "from auto_db_pipeline.genbank.json_combination import Combination\n",
    "from auto_db_pipeline.genbank.ids2protein import ProteinRetrieval\n",
    "from auto_db_pipeline.genbank.proteins2info import InfoRetrieval\n",
    "from auto_db_pipeline.genbank.info2csv import PopulateDatabase\n",
    "from auto_db_pipeline.genbank.evaluate_genbank_search import EvaluateGenbankSearch"
   ]
  },
  {
   "cell_type": "markdown",
   "metadata": {},
   "source": [
    "# Genbank pipeline\n",
    "The code in this notebook provides an example how to create an antibody database with information from Genbank"
   ]
  },
  {
   "cell_type": "code",
   "execution_count": 2,
   "metadata": {},
   "outputs": [],
   "source": [
    "# Define keywords for genbank search\n",
    "keywords1 = '((Immunoglobulin[All Fields] OR antibody[All Fields] ' +\\\n",
    "               'OR antibodies[All Fields] OR nanobody[All Fields] ' +\\\n",
    "               'OR nanobodies[All Fields]) AND (COVID-19[All Fields] ' +\\\n",
    "               'OR coronavirus[All Fields] OR Sars-Cov[All Fields] ' +\\\n",
    "               'OR Mers-Cov[All Fields] OR SARS[All Fields] ' +\\\n",
    "               'OR Sars-CoV-2[All Fields]) AND (neutralizing[All Fields] ' +\\\n",
    "               'OR neutralize[All Fields] OR neutralisation[All Fields] ' +\\\n",
    "               'OR bind[All Fields] OR inhibit[All Fields] ' +\\\n",
    "               'OR anti-Sars-Cov-2[All Fields]))'"
   ]
  },
  {
   "cell_type": "code",
   "execution_count": 3,
   "metadata": {},
   "outputs": [],
   "source": [
    "# saved in files with ...2.json\n",
    "keywords2 = '((Immunoglobulin[All Fields] OR antibody[All Fields] ' +\\\n",
    "               'OR antibodies[All Fields] OR nanobody[All Fields] ' +\\\n",
    "               'OR nanobodies[All Fields] OR MAb[All Fields]) AND (COVID-19[All Fields] ' +\\\n",
    "               'OR coronavirus[All Fields] OR Sars-Cov[All Fields] ' +\\\n",
    "               'OR Mers-Cov[All Fields] OR SARS[All Fields] ' +\\\n",
    "               'OR Sars-CoV-2[All Fields]) AND (neutralizing[All Fields] ' +\\\n",
    "               'OR neutralize[All Fields] OR neutralization[All Fields] ' +\\\n",
    "               'OR bind[All Fields] OR inhibit[All Fields] or targeting[All Fields] or binding[All Fields]) ' +\\\n",
    "               'AND (heavy chain[All Fields] or complementary determining region[All Fields] or gene[All Fields] ' +\\\n",
    "               'or epitope[All Fields] or receptor-binding domain[All Fields] or rbd[All Fields] or spike protein[All Fields] ' +\\\n",
    "               'or VHH[All Fields]))'"
   ]
  },
  {
   "cell_type": "code",
   "execution_count": 4,
   "metadata": {},
   "outputs": [
    {
     "name": "stdout",
     "output_type": "stream",
     "text": [
      "number of entries found: 10086\n",
      "----------\n",
      "number of IDs retrieved: 10086\n",
      "--- 2 seconds ---\n"
     ]
    }
   ],
   "source": [
    "# Search genbank with keywords and get ids of all entries\n",
    "start_time = time.time()\n",
    "\n",
    "genbanksearch = GenbankSearch(keywords1)\n",
    "genbanksearch(out_file_path='genbank/data/id_list.json')\n",
    "\n",
    "print(\"--- %s seconds ---\" % int((time.time() - start_time)))"
   ]
  },
  {
   "cell_type": "code",
   "execution_count": 5,
   "metadata": {},
   "outputs": [
    {
     "name": "stdout",
     "output_type": "stream",
     "text": [
      "Number of ids from keyword search: 32339\n",
      "Number of ids from paper scraping: 1953\n",
      "----------\n",
      "Number of unique ids from paper scraping: 1953\n",
      "Total ids after comination: 34292\n",
      "--- 1 seconds ---\n"
     ]
    }
   ],
   "source": [
    "#Combine protein ids from the genbank search with protein ids from paper scraping\n",
    "start_time = time.time()\n",
    "\n",
    "idscombination = Combination('genbank/data/id_list.json', 'genbank/data/id_list_protein_from_papers.json')\n",
    "idscombination(ids_out_file_path='genbank/data/id_list_combined.json')\n",
    "\n",
    "print(\"--- %s seconds ---\" % int((time.time() - start_time)))"
   ]
  },
  {
   "cell_type": "code",
   "execution_count": 21,
   "metadata": {},
   "outputs": [
    {
     "name": "stdout",
     "output_type": "stream",
     "text": [
      "[============================================================] 100.0%, 5220/5220\n",
      " number of protein handles retrieved: 856\n",
      "----------\n",
      "--- 4182 seconds ---\n"
     ]
    }
   ],
   "source": [
    "# Download the protein handles of all found ids\n",
    "start_time = time.time()\n",
    "\n",
    "proteinretrival = ProteinRetrieval(ids_file_path='genbank/data/protein_accessions_papers2.json')\n",
    "proteinretrival(db='protein', out_file_path='genbank/data/protein_handles_accession_new_papers.json')\n",
    "\n",
    "print(\"--- %s seconds ---\" % int((time.time() - start_time)))"
   ]
  },
  {
   "cell_type": "code",
   "execution_count": 2,
   "metadata": {},
   "outputs": [
    {
     "name": "stderr",
     "output_type": "stream",
     "text": [
      "/Users/fabian/miniconda3/envs/auto-db-pipeline/lib/python3.9/site-packages/Bio/Seq.py:2979: BiopythonWarning: Partial codon, len(sequence) not a multiple of three. Explicitly trim the sequence or add trailing N before translation. This may become an error in future.\n",
      "  warnings.warn(\n"
     ]
    },
    {
     "name": "stdout",
     "output_type": "stream",
     "text": [
      "Number of entires removed by antibody filter: 4327\n",
      "Number of entires after antibody filter: 385\n",
      "----------\n",
      "Number of entries where antigen was determined: 348\n",
      "Number of entries where antigen was not determined: 37\n",
      "----------\n",
      "Number of entries where fragement name was determined: 373\n",
      "Number of entries where fragment name was not determined: 12\n",
      "----------\n",
      "Number of nanobodies: 12\n",
      "Number of antibodies: 373\n",
      "----------\n",
      "Number of sequence pairs: 119\n",
      "Number of sequences that could not be paired in attempt 1: 135\n",
      "----------\n",
      "Number of entries attempted to pair with SAbDab: 0\n",
      "Number of entries not pairable with SAbDab: 135\n",
      "----------\n",
      "Number of pairs found with SAbDab: 0\n",
      "Number of sequences not paired but sequence from PDB added: 0\n",
      "--- 88 seconds ---\n"
     ]
    }
   ],
   "source": [
    "# Extract the relevant information from protein handles\n",
    "start_time = time.time()\n",
    "\n",
    "inforetreival = InfoRetrieval(proteins_file_path='genbank/data/nucleotide_handles_from_papers.json')\n",
    "inforetreival(db='nucleotide', classification_method='anarci',\n",
    "                paired_out_file_path='genbank/data/AB_paired_nucleotides_from_papers.json',\n",
    "                unpaired_out_file_path='genbank/data/AB_unpaired_nucleotides_from_papers.json',\n",
    "                nanobod_out_file_path='genbank/data/nanobody_nucleotides_from_papers.json')\n",
    "\n",
    "print(\"--- %s seconds ---\" % int((time.time() - start_time)))"
   ]
  },
  {
   "cell_type": "code",
   "execution_count": 4,
   "metadata": {},
   "outputs": [
    {
     "name": "stdout",
     "output_type": "stream",
     "text": [
      "Elements in file 1: 848\n",
      "Elements in file 2: 119\n",
      "----------\n",
      "Number of unique elements in file 2 119\n",
      "Total elements after comination: 967\n",
      "Elements in file 1: 61\n",
      "Elements in file 2: 47\n",
      "----------\n",
      "Number of unique elements in file 2 47\n",
      "Total elements after comination: 108\n",
      "Elements in file 1: 155\n",
      "Elements in file 2: 12\n",
      "----------\n",
      "Number of unique elements in file 2 12\n",
      "Total elements after comination: 167\n"
     ]
    }
   ],
   "source": [
    "# combine information from nucleotide and protein ids\n",
    "\n",
    "combination = Combination('genbank/data/AB_paired_combined.json', 'genbank/data/AB_paired_nucleotides_from_papers.json')\n",
    "combination('genbank/data/AB_paired_combined_papers_prot_nt.json')\n",
    "\n",
    "combination = Combination('genbank/data/AB_unpaired_combined.json', 'genbank/data/AB_unpaired_nucleotides_from_papers.json')\n",
    "combination('genbank/data/AB_unpaired_combined_papers_prot_nt.json')\n",
    "\n",
    "combination = Combination('genbank/data/nanobody_combined.json', 'genbank/data/nanobody_nucleotides_from_papers.json')\n",
    "combination('genbank/data/nanobody_combined_papers_prot_nt.json')"
   ]
  },
  {
   "cell_type": "code",
   "execution_count": 3,
   "metadata": {},
   "outputs": [
    {
     "name": "stdout",
     "output_type": "stream",
     "text": [
      "Number of paired database entires: 1134\n",
      "----------\n",
      "Number of paired database entires after duplicate removal: 549\n",
      "Number of duplicates removed: 585\n",
      "----------\n",
      "Number of unpaired database entires: 4611\n",
      "----------\n",
      "--- 90 seconds ---\n"
     ]
    }
   ],
   "source": [
    "# Populate a csv file with information\n",
    "start_time = time.time()\n",
    "\n",
    "populatedb = PopulateDatabase(paired_path='genbank/data/AB_paired_combined_papers_prot_nt.json',\n",
    "                 unpaired_path='genbank/data/AB_unpaired_combined_papers_prot_nt.json',\n",
    "                 nanobod_path='genbank/data/nanobody_combined_papers_prot_nt.json')\n",
    "populatedb(out_file_paired='genbank/data/ab_database_combined_papers_prot_nt.csv',\n",
    "                 out_file_unpaired='genbank/data/ab_database_unpaired_combined_papers_prot_nt.csv')\n",
    "print(\"--- %s seconds ---\" % int((time.time() - start_time)))"
   ]
  },
  {
   "cell_type": "code",
   "execution_count": 5,
   "metadata": {},
   "outputs": [
    {
     "name": "stderr",
     "output_type": "stream",
     "text": [
      "/Users/fabian/Desktop/SABS/Antibody project/code/auto-db-pipeline/genbank/evaluate_genbank_search.py:68: NumbaWarning: \n",
      "Compilation is falling back to object mode WITH looplifting enabled because Function \"search_in_covabdab\" failed type inference due to: non-precise type pyobject\n",
      "During: typing of argument at /Users/fabian/Desktop/SABS/Antibody project/code/auto-db-pipeline/genbank/evaluate_genbank_search.py (76)\n",
      "\n",
      "File \"genbank/evaluate_genbank_search.py\", line 76:\n",
      "    def search_in_covabdab(self):\n",
      "        <source elided>\n",
      "        # loop throught aa seqs\n",
      "        for aa_seq in self.aa_seqs:\n",
      "        ^\n",
      "\n",
      "  @jit  # (nopython=True)\n",
      "/Users/fabian/Desktop/SABS/Antibody project/code/auto-db-pipeline/genbank/evaluate_genbank_search.py:68: NumbaWarning: \n",
      "Compilation is falling back to object mode WITHOUT looplifting enabled because Function \"search_in_covabdab\" failed type inference due to: Cannot determine Numba type of <class 'numba.core.dispatcher.LiftedLoop'>\n",
      "\n",
      "File \"genbank/evaluate_genbank_search.py\", line 76:\n",
      "    def search_in_covabdab(self):\n",
      "        <source elided>\n",
      "        # loop throught aa seqs\n",
      "        for aa_seq in self.aa_seqs:\n",
      "        ^\n",
      "\n",
      "  @jit  # (nopython=True)\n",
      "/Users/fabian/miniconda3/envs/auto-db-pipeline/lib/python3.9/site-packages/numba/core/object_mode_passes.py:151: NumbaWarning: Function \"search_in_covabdab\" was compiled in object mode without forceobj=True, but has lifted loops.\n",
      "\n",
      "File \"genbank/evaluate_genbank_search.py\", line 76:\n",
      "    def search_in_covabdab(self):\n",
      "        <source elided>\n",
      "        # loop throught aa seqs\n",
      "        for aa_seq in self.aa_seqs:\n",
      "        ^\n",
      "\n",
      "  warnings.warn(errors.NumbaWarning(warn_msg,\n",
      "/Users/fabian/miniconda3/envs/auto-db-pipeline/lib/python3.9/site-packages/numba/core/object_mode_passes.py:161: NumbaDeprecationWarning: \n",
      "Fall-back from the nopython compilation path to the object mode compilation path has been detected, this is deprecated behaviour.\n",
      "\n",
      "For more information visit https://numba.pydata.org/numba-doc/latest/reference/deprecation.html#deprecation-of-object-mode-fall-back-behaviour-when-using-jit\n",
      "\n",
      "File \"genbank/evaluate_genbank_search.py\", line 76:\n",
      "    def search_in_covabdab(self):\n",
      "        <source elided>\n",
      "        # loop throught aa seqs\n",
      "        for aa_seq in self.aa_seqs:\n",
      "        ^\n",
      "\n",
      "  warnings.warn(errors.NumbaDeprecationWarning(msg,\n",
      "/Users/fabian/Desktop/SABS/Antibody project/code/auto-db-pipeline/genbank/evaluate_genbank_search.py:68: NumbaWarning: \n",
      "Compilation is falling back to object mode WITHOUT looplifting enabled because Function \"search_in_covabdab\" failed type inference due to: non-precise type pyobject\n",
      "During: typing of argument at /Users/fabian/Desktop/SABS/Antibody project/code/auto-db-pipeline/genbank/evaluate_genbank_search.py (76)\n",
      "\n",
      "File \"genbank/evaluate_genbank_search.py\", line 76:\n",
      "    def search_in_covabdab(self):\n",
      "        <source elided>\n",
      "        # loop throught aa seqs\n",
      "        for aa_seq in self.aa_seqs:\n",
      "        ^\n",
      "\n",
      "  @jit  # (nopython=True)\n",
      "/Users/fabian/miniconda3/envs/auto-db-pipeline/lib/python3.9/site-packages/numba/core/object_mode_passes.py:151: NumbaWarning: Function \"search_in_covabdab\" was compiled in object mode without forceobj=True.\n",
      "\n",
      "File \"genbank/evaluate_genbank_search.py\", line 76:\n",
      "    def search_in_covabdab(self):\n",
      "        <source elided>\n",
      "        # loop throught aa seqs\n",
      "        for aa_seq in self.aa_seqs:\n",
      "        ^\n",
      "\n",
      "  warnings.warn(errors.NumbaWarning(warn_msg,\n",
      "/Users/fabian/miniconda3/envs/auto-db-pipeline/lib/python3.9/site-packages/numba/core/object_mode_passes.py:161: NumbaDeprecationWarning: \n",
      "Fall-back from the nopython compilation path to the object mode compilation path has been detected, this is deprecated behaviour.\n",
      "\n",
      "For more information visit https://numba.pydata.org/numba-doc/latest/reference/deprecation.html#deprecation-of-object-mode-fall-back-behaviour-when-using-jit\n",
      "\n",
      "File \"genbank/evaluate_genbank_search.py\", line 76:\n",
      "    def search_in_covabdab(self):\n",
      "        <source elided>\n",
      "        # loop throught aa seqs\n",
      "        for aa_seq in self.aa_seqs:\n",
      "        ^\n",
      "\n",
      "  warnings.warn(errors.NumbaDeprecationWarning(msg,\n"
     ]
    },
    {
     "name": "stdout",
     "output_type": "stream",
     "text": [
      "total sequences assessed: 32339)\n",
      "        number of genbank sequences not in covab dab:\n",
      "        28622\n",
      "        number of genbank sequences found in covab dab:\n",
      "        3717\n",
      "        match rate: 0.11493861900491667\n",
      "        number of genebank sequences that have multiple matches in covab dab:\n",
      "        952.0\n",
      "        number of genebank entries with non unique match in covab dab:\n",
      "        1148\n",
      "        -------------\n",
      "        total sequences in covab dab: 5210\n",
      "        number of Covab Dab VH sequences found: 1641\n",
      "        number of Covab Dab VL sequences found: 928\n",
      "        number of Covab Dab VH VL pairings found: 856\n",
      "        number of Covab Dab entires where either VH or VL was found:\n",
      "        1713\n",
      "        -------------\n",
      "        percentage of covab dab entries with pairing found:\n",
      "        16.429942418426105\n",
      "        percentage of covab dab entries with either VL or VH found:\n",
      "        32.87907869481766\n",
      "        \n",
      "--- 553 seconds ---\n"
     ]
    }
   ],
   "source": [
    "# Compare found genbank entries to Covabdab\n",
    "start_time = time.time()\n",
    "\n",
    "with open('genbank/data/protein_handles2.json', 'r') as infile:\n",
    "    protein_entries = json.load(infile)\n",
    "\n",
    "evaluation = EvaluateGenbankSearch('genbank/data/CoV-AbDab_090322.csv', protein_entries, keywords2)\n",
    "evaluation(outpath='genbank/data/protein_search_stats.csv', print_metrics=True, save_metrics=True)\n",
    "\n",
    "print(\"--- %s seconds ---\" % int((time.time() - start_time)))"
   ]
  },
  {
   "cell_type": "code",
   "execution_count": null,
   "metadata": {},
   "outputs": [],
   "source": []
  }
 ],
 "metadata": {
  "interpreter": {
   "hash": "f5cb82b301b87eef88325f480de257324ba8b611cc1a51609875e0120daba8a9"
  },
  "kernelspec": {
   "display_name": "Python 3.9.7 ('auto-db-pipeline')",
   "language": "python",
   "name": "python3"
  },
  "language_info": {
   "codemirror_mode": {
    "name": "ipython",
    "version": 3
   },
   "file_extension": ".py",
   "mimetype": "text/x-python",
   "name": "python",
   "nbconvert_exporter": "python",
   "pygments_lexer": "ipython3",
   "version": "3.9.7"
  },
  "orig_nbformat": 4
 },
 "nbformat": 4,
 "nbformat_minor": 2
}
