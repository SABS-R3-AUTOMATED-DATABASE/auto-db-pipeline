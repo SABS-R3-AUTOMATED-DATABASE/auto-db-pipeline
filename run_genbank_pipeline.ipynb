{
 "cells": [
  {
   "cell_type": "code",
   "execution_count": 1,
   "metadata": {},
   "outputs": [
    {
     "name": "stderr",
     "output_type": "stream",
     "text": [
      "/Users/fabian/miniconda3/envs/auto-db-pipeline/lib/python3.9/site-packages/Bio/SubsMat/__init__.py:126: BiopythonDeprecationWarning: Bio.SubsMat has been deprecated, and we intend to remove it in a future release of Biopython. As an alternative, please consider using Bio.Align.substitution_matrices as a replacement, and contact the Biopython developers if you still need the Bio.SubsMat module.\n",
      "  warnings.warn(\n"
     ]
    }
   ],
   "source": [
    "import time\n",
    "import json\n",
    "\n",
    "from genbank.keywords2ids import GenbankSearch\n",
    "from genbank.ids2protein import ProteinRetrieval\n",
    "from genbank.proteins2info import InfoRetrieval\n",
    "from genbank.info2csv import PopulateDatabase\n",
    "from genbank.evaluate_genbank_search import EvaluateGenbankSearch"
   ]
  },
  {
   "cell_type": "markdown",
   "metadata": {},
   "source": [
    "# Genbank pipeline\n",
    "The code in this notebook provides an example how to create an antibody database with information from Genbank"
   ]
  },
  {
   "cell_type": "code",
   "execution_count": 2,
   "metadata": {},
   "outputs": [],
   "source": [
    "# Define keywords for genbank search\n",
    "keywords = '((Immunoglobulin[All Fields] OR antibody[All Fields] ' +\\\n",
    "               'OR antibodies[All Fields] OR nanobody[All Fields] ' +\\\n",
    "               'OR nanobodies[All Fields]) AND (COVID-19[All Fields] ' +\\\n",
    "               'OR coronavirus[All Fields] OR Sars-Cov[All Fields] ' +\\\n",
    "               'OR Mers-Cov[All Fields] OR SARS[All Fields] ' +\\\n",
    "               'OR Sars-CoV-2[All Fields]) AND (neutralizing[All Fields] ' +\\\n",
    "               'OR neutralize[All Fields] OR neutralisation[All Fields] ' +\\\n",
    "               'OR bind[All Fields] OR inhibit[All Fields] ' +\\\n",
    "               'OR anti-Sars-Cov-2[All Fields]))'"
   ]
  },
  {
   "cell_type": "code",
   "execution_count": 3,
   "metadata": {},
   "outputs": [
    {
     "name": "stdout",
     "output_type": "stream",
     "text": [
      "number of entries found: 10049\n",
      "----------\n",
      "number of IDs retrieved: 10049\n",
      "--- 2 seconds ---\n"
     ]
    }
   ],
   "source": [
    "# Search genbank with keywords and get ids of all entries\n",
    "start_time = time.time()\n",
    "\n",
    "genbanksearch = GenbankSearch(keywords)\n",
    "genbanksearch()\n",
    "\n",
    "print(\"--- %s seconds ---\" % int((time.time() - start_time)))"
   ]
  },
  {
   "cell_type": "code",
   "execution_count": 4,
   "metadata": {},
   "outputs": [
    {
     "name": "stdout",
     "output_type": "stream",
     "text": [
      "number of protein handles retrieved: 10049\n",
      "----------\n",
      "--- 348 seconds ---\n"
     ]
    }
   ],
   "source": [
    "# Download the protein handles of all found ids\n",
    "start_time = time.time()\n",
    "\n",
    "proteinretrival = ProteinRetrieval()\n",
    "proteinretrival()\n",
    "\n",
    "print(\"--- %s seconds ---\" % int((time.time() - start_time)))"
   ]
  },
  {
   "cell_type": "code",
   "execution_count": 2,
   "metadata": {},
   "outputs": [
    {
     "name": "stdout",
     "output_type": "stream",
     "text": [
      "Number of entires removed by antibody filter: 3740\n",
      "Number of entires after antibody filter: 6309\n",
      "----------\n",
      "Number of entries where antigen was determined: 6209\n",
      "Number of entries where antigen was not determined: 100\n",
      "----------\n",
      "Number of entries where fragement name was determined: 1729\n",
      "Number of entries where fragment name was not determined: 4580\n",
      "----------\n",
      "Number of nanobodies: 155\n",
      "Number of antibodies: 6154\n",
      "----------\n",
      "Number of sequence pairs: 763\n",
      "Number of sequences that could not be paired in attempt 1: 4628\n",
      "----------\n",
      "Number of entries attempted to pair with SAbDab: 164\n",
      "Number of entries not pairable with SAbDab: 4464\n",
      "----------\n",
      "Number of pairs found with SAbDab: 82\n",
      "Number of sequences not paired but sequence from PDB added: 0\n",
      "--- 514 seconds ---\n"
     ]
    }
   ],
   "source": [
    "# Extract the relevant information from protein handles\n",
    "start_time = time.time()\n",
    "\n",
    "inforetreival = InfoRetrieval()\n",
    "inforetreival(classification_method='anarci')\n",
    "\n",
    "print(\"--- %s seconds ---\" % int((time.time() - start_time)))"
   ]
  },
  {
   "cell_type": "code",
   "execution_count": 3,
   "metadata": {},
   "outputs": [
    {
     "name": "stdout",
     "output_type": "stream",
     "text": [
      "Number of paired database entires: 1000\n",
      "----------\n",
      "Number of paired database entires after duplicate removal: 421\n",
      "Number of duplicates removed: 579\n",
      "----------\n",
      "Number of unpaired database entires: 4464\n",
      "----------\n",
      "--- 78 seconds ---\n"
     ]
    }
   ],
   "source": [
    "# Populate a csv file with information\n",
    "start_time = time.time()\n",
    "\n",
    "populatedb = PopulateDatabase()\n",
    "populatedb()\n",
    "\n",
    "print(\"--- %s seconds ---\" % int((time.time() - start_time)))"
   ]
  },
  {
   "cell_type": "code",
   "execution_count": 7,
   "metadata": {},
   "outputs": [
    {
     "name": "stderr",
     "output_type": "stream",
     "text": [
      "/Users/fabian/Desktop/SABS/Antibody project/code/auto-db-pipeline/genbank/evaluate_genbank_search.py:68: NumbaWarning: \n",
      "Compilation is falling back to object mode WITH looplifting enabled because Function \"search_in_covabdab\" failed type inference due to: non-precise type pyobject\n",
      "During: typing of argument at /Users/fabian/Desktop/SABS/Antibody project/code/auto-db-pipeline/genbank/evaluate_genbank_search.py (76)\n",
      "\n",
      "File \"genbank/evaluate_genbank_search.py\", line 76:\n",
      "    def search_in_covabdab(self):\n",
      "        <source elided>\n",
      "        # loop throught aa seqs\n",
      "        for aa_seq in self.aa_seqs:\n",
      "        ^\n",
      "\n",
      "  @jit  # (nopython=True)\n",
      "/Users/fabian/Desktop/SABS/Antibody project/code/auto-db-pipeline/genbank/evaluate_genbank_search.py:68: NumbaWarning: \n",
      "Compilation is falling back to object mode WITHOUT looplifting enabled because Function \"search_in_covabdab\" failed type inference due to: Cannot determine Numba type of <class 'numba.core.dispatcher.LiftedLoop'>\n",
      "\n",
      "File \"genbank/evaluate_genbank_search.py\", line 76:\n",
      "    def search_in_covabdab(self):\n",
      "        <source elided>\n",
      "        # loop throught aa seqs\n",
      "        for aa_seq in self.aa_seqs:\n",
      "        ^\n",
      "\n",
      "  @jit  # (nopython=True)\n",
      "/Users/fabian/miniconda3/envs/auto-db-pipeline/lib/python3.9/site-packages/numba/core/object_mode_passes.py:151: NumbaWarning: Function \"search_in_covabdab\" was compiled in object mode without forceobj=True, but has lifted loops.\n",
      "\n",
      "File \"genbank/evaluate_genbank_search.py\", line 76:\n",
      "    def search_in_covabdab(self):\n",
      "        <source elided>\n",
      "        # loop throught aa seqs\n",
      "        for aa_seq in self.aa_seqs:\n",
      "        ^\n",
      "\n",
      "  warnings.warn(errors.NumbaWarning(warn_msg,\n",
      "/Users/fabian/miniconda3/envs/auto-db-pipeline/lib/python3.9/site-packages/numba/core/object_mode_passes.py:161: NumbaDeprecationWarning: \n",
      "Fall-back from the nopython compilation path to the object mode compilation path has been detected, this is deprecated behaviour.\n",
      "\n",
      "For more information visit https://numba.pydata.org/numba-doc/latest/reference/deprecation.html#deprecation-of-object-mode-fall-back-behaviour-when-using-jit\n",
      "\n",
      "File \"genbank/evaluate_genbank_search.py\", line 76:\n",
      "    def search_in_covabdab(self):\n",
      "        <source elided>\n",
      "        # loop throught aa seqs\n",
      "        for aa_seq in self.aa_seqs:\n",
      "        ^\n",
      "\n",
      "  warnings.warn(errors.NumbaDeprecationWarning(msg,\n",
      "/Users/fabian/Desktop/SABS/Antibody project/code/auto-db-pipeline/genbank/evaluate_genbank_search.py:68: NumbaWarning: \n",
      "Compilation is falling back to object mode WITHOUT looplifting enabled because Function \"search_in_covabdab\" failed type inference due to: non-precise type pyobject\n",
      "During: typing of argument at /Users/fabian/Desktop/SABS/Antibody project/code/auto-db-pipeline/genbank/evaluate_genbank_search.py (76)\n",
      "\n",
      "File \"genbank/evaluate_genbank_search.py\", line 76:\n",
      "    def search_in_covabdab(self):\n",
      "        <source elided>\n",
      "        # loop throught aa seqs\n",
      "        for aa_seq in self.aa_seqs:\n",
      "        ^\n",
      "\n",
      "  @jit  # (nopython=True)\n",
      "/Users/fabian/miniconda3/envs/auto-db-pipeline/lib/python3.9/site-packages/numba/core/object_mode_passes.py:151: NumbaWarning: Function \"search_in_covabdab\" was compiled in object mode without forceobj=True.\n",
      "\n",
      "File \"genbank/evaluate_genbank_search.py\", line 76:\n",
      "    def search_in_covabdab(self):\n",
      "        <source elided>\n",
      "        # loop throught aa seqs\n",
      "        for aa_seq in self.aa_seqs:\n",
      "        ^\n",
      "\n",
      "  warnings.warn(errors.NumbaWarning(warn_msg,\n",
      "/Users/fabian/miniconda3/envs/auto-db-pipeline/lib/python3.9/site-packages/numba/core/object_mode_passes.py:161: NumbaDeprecationWarning: \n",
      "Fall-back from the nopython compilation path to the object mode compilation path has been detected, this is deprecated behaviour.\n",
      "\n",
      "For more information visit https://numba.pydata.org/numba-doc/latest/reference/deprecation.html#deprecation-of-object-mode-fall-back-behaviour-when-using-jit\n",
      "\n",
      "File \"genbank/evaluate_genbank_search.py\", line 76:\n",
      "    def search_in_covabdab(self):\n",
      "        <source elided>\n",
      "        # loop throught aa seqs\n",
      "        for aa_seq in self.aa_seqs:\n",
      "        ^\n",
      "\n",
      "  warnings.warn(errors.NumbaDeprecationWarning(msg,\n"
     ]
    },
    {
     "name": "stdout",
     "output_type": "stream",
     "text": [
      "total sequences assessed: 10027)\n",
      "        number of genbank sequences not in covab dab:\n",
      "        5316\n",
      "        number of genbank sequences found in covab dab:\n",
      "        4711\n",
      "        match rate: 0.46983145507130747\n",
      "        number of genebank sequences that have multiple matches in covab dab:\n",
      "        1081.0\n",
      "        number of genebank entries with non unique match in covab dab:\n",
      "        1633\n",
      "        -------------\n",
      "        total sequences in covab dab: 5033\n",
      "        number of Covab Dab VH sequences found: 1522\n",
      "        number of Covab Dab VL sequences found: 1556\n",
      "        number of Covab Dab VH VL pairings found: 1423\n",
      "        number of Covab Dab entires where either VH or VL was found:\n",
      "        1655\n",
      "        -------------\n",
      "        percentage of covab dab entries with pairing found:\n",
      "        28.27339558911186\n",
      "        percentage of covab dab entries with either VL or VH found:\n",
      "        32.88297238227697\n",
      "        \n",
      "--- 52 seconds ---\n"
     ]
    }
   ],
   "source": [
    "# Compare found genbank entries to Covabdab\n",
    "start_time = time.time()\n",
    "\n",
    "with open('genbank/data/protein_handles', 'r') as infile:\n",
    "    protein_entries = json.load(infile)\n",
    "\n",
    "evaluation = EvaluateGenbankSearch('genbank/data/CoV-AbDab_010322.csv', protein_entries, keywords)\n",
    "evaluation(outpath='genbank/data/protein_search_stats.csv', print_metrics=True, save_metrics=True)\n",
    "\n",
    "print(\"--- %s seconds ---\" % int((time.time() - start_time)))"
   ]
  },
  {
   "cell_type": "code",
   "execution_count": null,
   "metadata": {},
   "outputs": [],
   "source": []
  },
  {
   "cell_type": "code",
   "execution_count": null,
   "metadata": {},
   "outputs": [],
   "source": []
  },
  {
   "cell_type": "code",
   "execution_count": null,
   "metadata": {},
   "outputs": [],
   "source": []
  },
  {
   "cell_type": "code",
   "execution_count": null,
   "metadata": {},
   "outputs": [],
   "source": []
  }
 ],
 "metadata": {
  "interpreter": {
   "hash": "f5cb82b301b87eef88325f480de257324ba8b611cc1a51609875e0120daba8a9"
  },
  "kernelspec": {
   "display_name": "Python 3.9.7 ('auto-db-pipeline')",
   "language": "python",
   "name": "python3"
  },
  "language_info": {
   "codemirror_mode": {
    "name": "ipython",
    "version": 3
   },
   "file_extension": ".py",
   "mimetype": "text/x-python",
   "name": "python",
   "nbconvert_exporter": "python",
   "pygments_lexer": "ipython3",
   "version": "3.9.7"
  },
  "orig_nbformat": 4
 },
 "nbformat": 4,
 "nbformat_minor": 2
}
