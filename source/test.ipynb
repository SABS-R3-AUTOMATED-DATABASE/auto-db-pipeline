{
 "cells": [
  {
   "cell_type": "code",
   "execution_count": 1,
   "metadata": {},
   "outputs": [],
   "source": [
    "import numpy as np\n",
    "from Bio.PDB.PDBList import PDBList\n",
    "import get_poss_pdbs as gp"
   ]
  },
  {
   "cell_type": "code",
   "execution_count": 2,
   "metadata": {},
   "outputs": [
    {
     "name": "stdout",
     "output_type": "stream",
     "text": [
      "CPU times: user 194 ms, sys: 160 ms, total: 354 ms\n",
      "Wall time: 5.38 s\n"
     ]
    }
   ],
   "source": [
    "%%time \n",
    "\n",
    "# Store all the pdb IDs as a list \n",
    "# This has a length of 184,929 IDs as of 2021-12-8\n",
    "# Note that this takes about 3 seconds \n",
    "# For some reason this created an empty folder in the path called \"obsolete\", but this went away\n",
    "# when I set the obsolte_pdb argument to some random string, which I made \"None\".\n",
    "all_pdb = PDBList(verbose=False, obsolete_pdb=\"None\").get_all_entries()"
   ]
  },
  {
   "cell_type": "code",
   "execution_count": 3,
   "metadata": {},
   "outputs": [
    {
     "name": "stdout",
     "output_type": "stream",
     "text": [
      "CPU times: user 41.6 ms, sys: 8.6 ms, total: 50.2 ms\n",
      "Wall time: 49.1 ms\n"
     ]
    }
   ],
   "source": [
    "%%time \n",
    "\n",
    "all_pdb = {pdb_id: True for pdb_id in all_pdb}"
   ]
  },
  {
   "cell_type": "code",
   "execution_count": 4,
   "metadata": {},
   "outputs": [],
   "source": [
    "test_url = \"https://www.biorxiv.org/content/10.1101/2020.08.09.242867v1.full\""
   ]
  },
  {
   "cell_type": "code",
   "execution_count": 5,
   "metadata": {},
   "outputs": [
    {
     "name": "stdout",
     "output_type": "stream",
     "text": [
      "CPU times: user 302 ms, sys: 12.3 ms, total: 315 ms\n",
      "Wall time: 1.89 s\n"
     ]
    }
   ],
   "source": [
    "%%time \n",
    "\n",
    "# This can take about 2 seconds\n",
    "poss = gp.get_poss_pdbs(test_url)"
   ]
  },
  {
   "cell_type": "code",
   "execution_count": 6,
   "metadata": {},
   "outputs": [],
   "source": [
    "# Gets the actual PDB IDs among the possible ones\n",
    "actual = [pdb_id for pdb_id in poss if all_pdb.get(pdb_id, False)]"
   ]
  },
  {
   "cell_type": "code",
   "execution_count": 7,
   "metadata": {},
   "outputs": [
    {
     "data": {
      "text/plain": [
       "['1COL', '2BAN', '2BAT', '2BBY', '2BIN']"
      ]
     },
     "execution_count": 7,
     "metadata": {},
     "output_type": "execute_result"
    }
   ],
   "source": [
    "actual[:5]"
   ]
  },
  {
   "cell_type": "code",
   "execution_count": 8,
   "metadata": {},
   "outputs": [
    {
     "name": "stdout",
     "output_type": "stream",
     "text": [
      "14 out of 91 were actual PDB IDs\n"
     ]
    }
   ],
   "source": [
    "print(len(actual), 'out of', len(poss), 'were actual PDB IDs')"
   ]
  },
  {
   "cell_type": "code",
   "execution_count": 10,
   "metadata": {},
   "outputs": [],
   "source": [
    "pdb_id = actual[0]"
   ]
  },
  {
   "cell_type": "code",
   "execution_count": 11,
   "metadata": {},
   "outputs": [],
   "source": [
    "pdbl = PDBList(verbose=False, obsolete_pdb=\"None\")"
   ]
  },
  {
   "cell_type": "code",
   "execution_count": 12,
   "metadata": {},
   "outputs": [
    {
     "data": {
      "text/plain": [
       "['1COL',\n",
       " '2BAN',\n",
       " '2BAT',\n",
       " '2BBY',\n",
       " '2BIN',\n",
       " '2BIS',\n",
       " '2BLI',\n",
       " '2BMA',\n",
       " '2BOF',\n",
       " '2COL',\n",
       " '2F08',\n",
       " '2F10',\n",
       " '3BN9',\n",
       " '6VXX']"
      ]
     },
     "execution_count": 12,
     "metadata": {},
     "output_type": "execute_result"
    }
   ],
   "source": [
    "actual"
   ]
  },
  {
   "cell_type": "markdown",
   "metadata": {},
   "source": [
    "I went through each of these 'actual' PDB IDs and found that they were each html gobble except the last two of them. We may need to refine our beautiful soup to avoid things like links and div ids, which is where this gobble came up. The last two were easily found because they were the only ones that had PDB immediately before them (e.g. \"PDB 6VXX\"). \n",
    "\n",
    "I did this by going to: \n",
    "view-source:https://www.biorxiv.org/content/10.1101/2020.08.09.242867v1.full\n",
    "on Google Chrome."
   ]
  },
  {
   "cell_type": "code",
   "execution_count": null,
   "metadata": {},
   "outputs": [],
   "source": []
  },
  {
   "cell_type": "code",
   "execution_count": null,
   "metadata": {},
   "outputs": [],
   "source": []
  },
  {
   "cell_type": "markdown",
   "metadata": {},
   "source": []
  }
 ],
 "metadata": {
  "interpreter": {
   "hash": "aee8b7b246df8f9039afb4144a1f6fd8d2ca17a180786b69acc140d282b71a49"
  },
  "kernelspec": {
   "display_name": "Python 3.8.3 64-bit",
   "language": "python",
   "name": "python3"
  },
  "language_info": {
   "codemirror_mode": {
    "name": "ipython",
    "version": 3
   },
   "file_extension": ".py",
   "mimetype": "text/x-python",
   "name": "python",
   "nbconvert_exporter": "python",
   "pygments_lexer": "ipython3",
   "version": "3.8.3"
  },
  "orig_nbformat": 4
 },
 "nbformat": 4,
 "nbformat_minor": 2
}
